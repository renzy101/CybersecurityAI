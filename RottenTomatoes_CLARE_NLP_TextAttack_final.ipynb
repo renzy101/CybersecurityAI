{
  "nbformat": 4,
  "nbformat_minor": 0,
  "metadata": {
    "colab": {
      "provenance": [],
      "machine_shape": "hm",
      "gpuType": "T4"
    },
    "kernelspec": {
      "name": "python3",
      "display_name": "Python 3"
    },
    "language_info": {
      "name": "python"
    },
    "accelerator": "GPU",
    "widgets": {
      "application/vnd.jupyter.widget-state+json": {
        "6f0f948957754a48a74a7e4f70ceb7a7": {
          "model_module": "@jupyter-widgets/controls",
          "model_name": "HBoxModel",
          "model_module_version": "1.5.0",
          "state": {
            "_dom_classes": [],
            "_model_module": "@jupyter-widgets/controls",
            "_model_module_version": "1.5.0",
            "_model_name": "HBoxModel",
            "_view_count": null,
            "_view_module": "@jupyter-widgets/controls",
            "_view_module_version": "1.5.0",
            "_view_name": "HBoxView",
            "box_style": "",
            "children": [
              "IPY_MODEL_57d5d5cdb2cf459089a3bc56bdfbe214",
              "IPY_MODEL_1a9274a982144f55912491ba675be9c4",
              "IPY_MODEL_ac73058ca6784d24840732053f36a200"
            ],
            "layout": "IPY_MODEL_201a2e1bee004124a33db6c4dd32fed1"
          }
        },
        "57d5d5cdb2cf459089a3bc56bdfbe214": {
          "model_module": "@jupyter-widgets/controls",
          "model_name": "HTMLModel",
          "model_module_version": "1.5.0",
          "state": {
            "_dom_classes": [],
            "_model_module": "@jupyter-widgets/controls",
            "_model_module_version": "1.5.0",
            "_model_name": "HTMLModel",
            "_view_count": null,
            "_view_module": "@jupyter-widgets/controls",
            "_view_module_version": "1.5.0",
            "_view_name": "HTMLView",
            "description": "",
            "description_tooltip": null,
            "layout": "IPY_MODEL_694fea2ab6ad4146b538822a8a7275ba",
            "placeholder": "​",
            "style": "IPY_MODEL_c4a8d60e0f1f44aeac430e174b10eca2",
            "value": "Downloading https://raw.githubusercontent.com/stanfordnlp/stanza-resources/main/resources_1.7.0.json: "
          }
        },
        "1a9274a982144f55912491ba675be9c4": {
          "model_module": "@jupyter-widgets/controls",
          "model_name": "FloatProgressModel",
          "model_module_version": "1.5.0",
          "state": {
            "_dom_classes": [],
            "_model_module": "@jupyter-widgets/controls",
            "_model_module_version": "1.5.0",
            "_model_name": "FloatProgressModel",
            "_view_count": null,
            "_view_module": "@jupyter-widgets/controls",
            "_view_module_version": "1.5.0",
            "_view_name": "ProgressView",
            "bar_style": "success",
            "description": "",
            "description_tooltip": null,
            "layout": "IPY_MODEL_f00fd5a1a0874059887d61279d5d1a21",
            "max": 46172,
            "min": 0,
            "orientation": "horizontal",
            "style": "IPY_MODEL_715baebec8394ff4b27e3d95c7f87d26",
            "value": 46172
          }
        },
        "ac73058ca6784d24840732053f36a200": {
          "model_module": "@jupyter-widgets/controls",
          "model_name": "HTMLModel",
          "model_module_version": "1.5.0",
          "state": {
            "_dom_classes": [],
            "_model_module": "@jupyter-widgets/controls",
            "_model_module_version": "1.5.0",
            "_model_name": "HTMLModel",
            "_view_count": null,
            "_view_module": "@jupyter-widgets/controls",
            "_view_module_version": "1.5.0",
            "_view_name": "HTMLView",
            "description": "",
            "description_tooltip": null,
            "layout": "IPY_MODEL_2559b927384f4c01918e4821da79a63d",
            "placeholder": "​",
            "style": "IPY_MODEL_757abd00d46a46f8bc4768fe2b9e1720",
            "value": " 370k/? [00:00&lt;00:00, 8.37MB/s]"
          }
        },
        "201a2e1bee004124a33db6c4dd32fed1": {
          "model_module": "@jupyter-widgets/base",
          "model_name": "LayoutModel",
          "model_module_version": "1.2.0",
          "state": {
            "_model_module": "@jupyter-widgets/base",
            "_model_module_version": "1.2.0",
            "_model_name": "LayoutModel",
            "_view_count": null,
            "_view_module": "@jupyter-widgets/base",
            "_view_module_version": "1.2.0",
            "_view_name": "LayoutView",
            "align_content": null,
            "align_items": null,
            "align_self": null,
            "border": null,
            "bottom": null,
            "display": null,
            "flex": null,
            "flex_flow": null,
            "grid_area": null,
            "grid_auto_columns": null,
            "grid_auto_flow": null,
            "grid_auto_rows": null,
            "grid_column": null,
            "grid_gap": null,
            "grid_row": null,
            "grid_template_areas": null,
            "grid_template_columns": null,
            "grid_template_rows": null,
            "height": null,
            "justify_content": null,
            "justify_items": null,
            "left": null,
            "margin": null,
            "max_height": null,
            "max_width": null,
            "min_height": null,
            "min_width": null,
            "object_fit": null,
            "object_position": null,
            "order": null,
            "overflow": null,
            "overflow_x": null,
            "overflow_y": null,
            "padding": null,
            "right": null,
            "top": null,
            "visibility": null,
            "width": null
          }
        },
        "694fea2ab6ad4146b538822a8a7275ba": {
          "model_module": "@jupyter-widgets/base",
          "model_name": "LayoutModel",
          "model_module_version": "1.2.0",
          "state": {
            "_model_module": "@jupyter-widgets/base",
            "_model_module_version": "1.2.0",
            "_model_name": "LayoutModel",
            "_view_count": null,
            "_view_module": "@jupyter-widgets/base",
            "_view_module_version": "1.2.0",
            "_view_name": "LayoutView",
            "align_content": null,
            "align_items": null,
            "align_self": null,
            "border": null,
            "bottom": null,
            "display": null,
            "flex": null,
            "flex_flow": null,
            "grid_area": null,
            "grid_auto_columns": null,
            "grid_auto_flow": null,
            "grid_auto_rows": null,
            "grid_column": null,
            "grid_gap": null,
            "grid_row": null,
            "grid_template_areas": null,
            "grid_template_columns": null,
            "grid_template_rows": null,
            "height": null,
            "justify_content": null,
            "justify_items": null,
            "left": null,
            "margin": null,
            "max_height": null,
            "max_width": null,
            "min_height": null,
            "min_width": null,
            "object_fit": null,
            "object_position": null,
            "order": null,
            "overflow": null,
            "overflow_x": null,
            "overflow_y": null,
            "padding": null,
            "right": null,
            "top": null,
            "visibility": null,
            "width": null
          }
        },
        "c4a8d60e0f1f44aeac430e174b10eca2": {
          "model_module": "@jupyter-widgets/controls",
          "model_name": "DescriptionStyleModel",
          "model_module_version": "1.5.0",
          "state": {
            "_model_module": "@jupyter-widgets/controls",
            "_model_module_version": "1.5.0",
            "_model_name": "DescriptionStyleModel",
            "_view_count": null,
            "_view_module": "@jupyter-widgets/base",
            "_view_module_version": "1.2.0",
            "_view_name": "StyleView",
            "description_width": ""
          }
        },
        "f00fd5a1a0874059887d61279d5d1a21": {
          "model_module": "@jupyter-widgets/base",
          "model_name": "LayoutModel",
          "model_module_version": "1.2.0",
          "state": {
            "_model_module": "@jupyter-widgets/base",
            "_model_module_version": "1.2.0",
            "_model_name": "LayoutModel",
            "_view_count": null,
            "_view_module": "@jupyter-widgets/base",
            "_view_module_version": "1.2.0",
            "_view_name": "LayoutView",
            "align_content": null,
            "align_items": null,
            "align_self": null,
            "border": null,
            "bottom": null,
            "display": null,
            "flex": null,
            "flex_flow": null,
            "grid_area": null,
            "grid_auto_columns": null,
            "grid_auto_flow": null,
            "grid_auto_rows": null,
            "grid_column": null,
            "grid_gap": null,
            "grid_row": null,
            "grid_template_areas": null,
            "grid_template_columns": null,
            "grid_template_rows": null,
            "height": null,
            "justify_content": null,
            "justify_items": null,
            "left": null,
            "margin": null,
            "max_height": null,
            "max_width": null,
            "min_height": null,
            "min_width": null,
            "object_fit": null,
            "object_position": null,
            "order": null,
            "overflow": null,
            "overflow_x": null,
            "overflow_y": null,
            "padding": null,
            "right": null,
            "top": null,
            "visibility": null,
            "width": null
          }
        },
        "715baebec8394ff4b27e3d95c7f87d26": {
          "model_module": "@jupyter-widgets/controls",
          "model_name": "ProgressStyleModel",
          "model_module_version": "1.5.0",
          "state": {
            "_model_module": "@jupyter-widgets/controls",
            "_model_module_version": "1.5.0",
            "_model_name": "ProgressStyleModel",
            "_view_count": null,
            "_view_module": "@jupyter-widgets/base",
            "_view_module_version": "1.2.0",
            "_view_name": "StyleView",
            "bar_color": null,
            "description_width": ""
          }
        },
        "2559b927384f4c01918e4821da79a63d": {
          "model_module": "@jupyter-widgets/base",
          "model_name": "LayoutModel",
          "model_module_version": "1.2.0",
          "state": {
            "_model_module": "@jupyter-widgets/base",
            "_model_module_version": "1.2.0",
            "_model_name": "LayoutModel",
            "_view_count": null,
            "_view_module": "@jupyter-widgets/base",
            "_view_module_version": "1.2.0",
            "_view_name": "LayoutView",
            "align_content": null,
            "align_items": null,
            "align_self": null,
            "border": null,
            "bottom": null,
            "display": null,
            "flex": null,
            "flex_flow": null,
            "grid_area": null,
            "grid_auto_columns": null,
            "grid_auto_flow": null,
            "grid_auto_rows": null,
            "grid_column": null,
            "grid_gap": null,
            "grid_row": null,
            "grid_template_areas": null,
            "grid_template_columns": null,
            "grid_template_rows": null,
            "height": null,
            "justify_content": null,
            "justify_items": null,
            "left": null,
            "margin": null,
            "max_height": null,
            "max_width": null,
            "min_height": null,
            "min_width": null,
            "object_fit": null,
            "object_position": null,
            "order": null,
            "overflow": null,
            "overflow_x": null,
            "overflow_y": null,
            "padding": null,
            "right": null,
            "top": null,
            "visibility": null,
            "width": null
          }
        },
        "757abd00d46a46f8bc4768fe2b9e1720": {
          "model_module": "@jupyter-widgets/controls",
          "model_name": "DescriptionStyleModel",
          "model_module_version": "1.5.0",
          "state": {
            "_model_module": "@jupyter-widgets/controls",
            "_model_module_version": "1.5.0",
            "_model_name": "DescriptionStyleModel",
            "_view_count": null,
            "_view_module": "@jupyter-widgets/base",
            "_view_module_version": "1.2.0",
            "_view_name": "StyleView",
            "description_width": ""
          }
        },
        "95eac441fcc84083a68cfcb6f31ddabc": {
          "model_module": "@jupyter-widgets/controls",
          "model_name": "HBoxModel",
          "model_module_version": "1.5.0",
          "state": {
            "_dom_classes": [],
            "_model_module": "@jupyter-widgets/controls",
            "_model_module_version": "1.5.0",
            "_model_name": "HBoxModel",
            "_view_count": null,
            "_view_module": "@jupyter-widgets/controls",
            "_view_module_version": "1.5.0",
            "_view_name": "HBoxView",
            "box_style": "",
            "children": [
              "IPY_MODEL_b3fbf7ff41824f64975a71c85386ca7d",
              "IPY_MODEL_378067572c6d43c1a707fa29dbfd33b4",
              "IPY_MODEL_4e5d09f9da324553b4aa6d2f69abd24b"
            ],
            "layout": "IPY_MODEL_129813294d91462189ae6158d2c56278"
          }
        },
        "b3fbf7ff41824f64975a71c85386ca7d": {
          "model_module": "@jupyter-widgets/controls",
          "model_name": "HTMLModel",
          "model_module_version": "1.5.0",
          "state": {
            "_dom_classes": [],
            "_model_module": "@jupyter-widgets/controls",
            "_model_module_version": "1.5.0",
            "_model_name": "HTMLModel",
            "_view_count": null,
            "_view_module": "@jupyter-widgets/controls",
            "_view_module_version": "1.5.0",
            "_view_name": "HTMLView",
            "description": "",
            "description_tooltip": null,
            "layout": "IPY_MODEL_742fc9592181446fbd65b6a403e1fc24",
            "placeholder": "​",
            "style": "IPY_MODEL_82cabd3fb1f942ee9f44d8ed9735c29d",
            "value": "Downloading https://huggingface.co/stanfordnlp/stanza-en/resolve/v1.7.0/models/default.zip: 100%"
          }
        },
        "378067572c6d43c1a707fa29dbfd33b4": {
          "model_module": "@jupyter-widgets/controls",
          "model_name": "FloatProgressModel",
          "model_module_version": "1.5.0",
          "state": {
            "_dom_classes": [],
            "_model_module": "@jupyter-widgets/controls",
            "_model_module_version": "1.5.0",
            "_model_name": "FloatProgressModel",
            "_view_count": null,
            "_view_module": "@jupyter-widgets/controls",
            "_view_module_version": "1.5.0",
            "_view_name": "ProgressView",
            "bar_style": "success",
            "description": "",
            "description_tooltip": null,
            "layout": "IPY_MODEL_591b26761eb0479db451e4adc5f1560c",
            "max": 526687011,
            "min": 0,
            "orientation": "horizontal",
            "style": "IPY_MODEL_d77909f58ba64bc1b57acd9a462050ad",
            "value": 526687011
          }
        },
        "4e5d09f9da324553b4aa6d2f69abd24b": {
          "model_module": "@jupyter-widgets/controls",
          "model_name": "HTMLModel",
          "model_module_version": "1.5.0",
          "state": {
            "_dom_classes": [],
            "_model_module": "@jupyter-widgets/controls",
            "_model_module_version": "1.5.0",
            "_model_name": "HTMLModel",
            "_view_count": null,
            "_view_module": "@jupyter-widgets/controls",
            "_view_module_version": "1.5.0",
            "_view_name": "HTMLView",
            "description": "",
            "description_tooltip": null,
            "layout": "IPY_MODEL_4171ab850cbf481582bedc7ce7073b6a",
            "placeholder": "​",
            "style": "IPY_MODEL_5c63b0c19779494bac4dc27b75ed69fb",
            "value": " 527M/527M [00:10&lt;00:00, 53.9MB/s]"
          }
        },
        "129813294d91462189ae6158d2c56278": {
          "model_module": "@jupyter-widgets/base",
          "model_name": "LayoutModel",
          "model_module_version": "1.2.0",
          "state": {
            "_model_module": "@jupyter-widgets/base",
            "_model_module_version": "1.2.0",
            "_model_name": "LayoutModel",
            "_view_count": null,
            "_view_module": "@jupyter-widgets/base",
            "_view_module_version": "1.2.0",
            "_view_name": "LayoutView",
            "align_content": null,
            "align_items": null,
            "align_self": null,
            "border": null,
            "bottom": null,
            "display": null,
            "flex": null,
            "flex_flow": null,
            "grid_area": null,
            "grid_auto_columns": null,
            "grid_auto_flow": null,
            "grid_auto_rows": null,
            "grid_column": null,
            "grid_gap": null,
            "grid_row": null,
            "grid_template_areas": null,
            "grid_template_columns": null,
            "grid_template_rows": null,
            "height": null,
            "justify_content": null,
            "justify_items": null,
            "left": null,
            "margin": null,
            "max_height": null,
            "max_width": null,
            "min_height": null,
            "min_width": null,
            "object_fit": null,
            "object_position": null,
            "order": null,
            "overflow": null,
            "overflow_x": null,
            "overflow_y": null,
            "padding": null,
            "right": null,
            "top": null,
            "visibility": null,
            "width": null
          }
        },
        "742fc9592181446fbd65b6a403e1fc24": {
          "model_module": "@jupyter-widgets/base",
          "model_name": "LayoutModel",
          "model_module_version": "1.2.0",
          "state": {
            "_model_module": "@jupyter-widgets/base",
            "_model_module_version": "1.2.0",
            "_model_name": "LayoutModel",
            "_view_count": null,
            "_view_module": "@jupyter-widgets/base",
            "_view_module_version": "1.2.0",
            "_view_name": "LayoutView",
            "align_content": null,
            "align_items": null,
            "align_self": null,
            "border": null,
            "bottom": null,
            "display": null,
            "flex": null,
            "flex_flow": null,
            "grid_area": null,
            "grid_auto_columns": null,
            "grid_auto_flow": null,
            "grid_auto_rows": null,
            "grid_column": null,
            "grid_gap": null,
            "grid_row": null,
            "grid_template_areas": null,
            "grid_template_columns": null,
            "grid_template_rows": null,
            "height": null,
            "justify_content": null,
            "justify_items": null,
            "left": null,
            "margin": null,
            "max_height": null,
            "max_width": null,
            "min_height": null,
            "min_width": null,
            "object_fit": null,
            "object_position": null,
            "order": null,
            "overflow": null,
            "overflow_x": null,
            "overflow_y": null,
            "padding": null,
            "right": null,
            "top": null,
            "visibility": null,
            "width": null
          }
        },
        "82cabd3fb1f942ee9f44d8ed9735c29d": {
          "model_module": "@jupyter-widgets/controls",
          "model_name": "DescriptionStyleModel",
          "model_module_version": "1.5.0",
          "state": {
            "_model_module": "@jupyter-widgets/controls",
            "_model_module_version": "1.5.0",
            "_model_name": "DescriptionStyleModel",
            "_view_count": null,
            "_view_module": "@jupyter-widgets/base",
            "_view_module_version": "1.2.0",
            "_view_name": "StyleView",
            "description_width": ""
          }
        },
        "591b26761eb0479db451e4adc5f1560c": {
          "model_module": "@jupyter-widgets/base",
          "model_name": "LayoutModel",
          "model_module_version": "1.2.0",
          "state": {
            "_model_module": "@jupyter-widgets/base",
            "_model_module_version": "1.2.0",
            "_model_name": "LayoutModel",
            "_view_count": null,
            "_view_module": "@jupyter-widgets/base",
            "_view_module_version": "1.2.0",
            "_view_name": "LayoutView",
            "align_content": null,
            "align_items": null,
            "align_self": null,
            "border": null,
            "bottom": null,
            "display": null,
            "flex": null,
            "flex_flow": null,
            "grid_area": null,
            "grid_auto_columns": null,
            "grid_auto_flow": null,
            "grid_auto_rows": null,
            "grid_column": null,
            "grid_gap": null,
            "grid_row": null,
            "grid_template_areas": null,
            "grid_template_columns": null,
            "grid_template_rows": null,
            "height": null,
            "justify_content": null,
            "justify_items": null,
            "left": null,
            "margin": null,
            "max_height": null,
            "max_width": null,
            "min_height": null,
            "min_width": null,
            "object_fit": null,
            "object_position": null,
            "order": null,
            "overflow": null,
            "overflow_x": null,
            "overflow_y": null,
            "padding": null,
            "right": null,
            "top": null,
            "visibility": null,
            "width": null
          }
        },
        "d77909f58ba64bc1b57acd9a462050ad": {
          "model_module": "@jupyter-widgets/controls",
          "model_name": "ProgressStyleModel",
          "model_module_version": "1.5.0",
          "state": {
            "_model_module": "@jupyter-widgets/controls",
            "_model_module_version": "1.5.0",
            "_model_name": "ProgressStyleModel",
            "_view_count": null,
            "_view_module": "@jupyter-widgets/base",
            "_view_module_version": "1.2.0",
            "_view_name": "StyleView",
            "bar_color": null,
            "description_width": ""
          }
        },
        "4171ab850cbf481582bedc7ce7073b6a": {
          "model_module": "@jupyter-widgets/base",
          "model_name": "LayoutModel",
          "model_module_version": "1.2.0",
          "state": {
            "_model_module": "@jupyter-widgets/base",
            "_model_module_version": "1.2.0",
            "_model_name": "LayoutModel",
            "_view_count": null,
            "_view_module": "@jupyter-widgets/base",
            "_view_module_version": "1.2.0",
            "_view_name": "LayoutView",
            "align_content": null,
            "align_items": null,
            "align_self": null,
            "border": null,
            "bottom": null,
            "display": null,
            "flex": null,
            "flex_flow": null,
            "grid_area": null,
            "grid_auto_columns": null,
            "grid_auto_flow": null,
            "grid_auto_rows": null,
            "grid_column": null,
            "grid_gap": null,
            "grid_row": null,
            "grid_template_areas": null,
            "grid_template_columns": null,
            "grid_template_rows": null,
            "height": null,
            "justify_content": null,
            "justify_items": null,
            "left": null,
            "margin": null,
            "max_height": null,
            "max_width": null,
            "min_height": null,
            "min_width": null,
            "object_fit": null,
            "object_position": null,
            "order": null,
            "overflow": null,
            "overflow_x": null,
            "overflow_y": null,
            "padding": null,
            "right": null,
            "top": null,
            "visibility": null,
            "width": null
          }
        },
        "5c63b0c19779494bac4dc27b75ed69fb": {
          "model_module": "@jupyter-widgets/controls",
          "model_name": "DescriptionStyleModel",
          "model_module_version": "1.5.0",
          "state": {
            "_model_module": "@jupyter-widgets/controls",
            "_model_module_version": "1.5.0",
            "_model_name": "DescriptionStyleModel",
            "_view_count": null,
            "_view_module": "@jupyter-widgets/base",
            "_view_module_version": "1.2.0",
            "_view_name": "StyleView",
            "description_width": ""
          }
        },
        "5c381ed626e840628fbf3d94f74b70f9": {
          "model_module": "@jupyter-widgets/controls",
          "model_name": "HBoxModel",
          "model_module_version": "1.5.0",
          "state": {
            "_dom_classes": [],
            "_model_module": "@jupyter-widgets/controls",
            "_model_module_version": "1.5.0",
            "_model_name": "HBoxModel",
            "_view_count": null,
            "_view_module": "@jupyter-widgets/controls",
            "_view_module_version": "1.5.0",
            "_view_name": "HBoxView",
            "box_style": "",
            "children": [
              "IPY_MODEL_d3bd569694a24735a92e48e3fe45a09d",
              "IPY_MODEL_86591fecf4984dfeb68b49f72941908d",
              "IPY_MODEL_a1364804c74247fbbadd6544e09e4b74"
            ],
            "layout": "IPY_MODEL_5c2e75fad98f4d73876fc3a346a29997"
          }
        },
        "d3bd569694a24735a92e48e3fe45a09d": {
          "model_module": "@jupyter-widgets/controls",
          "model_name": "HTMLModel",
          "model_module_version": "1.5.0",
          "state": {
            "_dom_classes": [],
            "_model_module": "@jupyter-widgets/controls",
            "_model_module_version": "1.5.0",
            "_model_name": "HTMLModel",
            "_view_count": null,
            "_view_module": "@jupyter-widgets/controls",
            "_view_module_version": "1.5.0",
            "_view_name": "HTMLView",
            "description": "",
            "description_tooltip": null,
            "layout": "IPY_MODEL_ce11aa1cf8b548d4851f37e3721481c8",
            "placeholder": "​",
            "style": "IPY_MODEL_cb1badc57ccc411ea10e1caaece9b2fa",
            "value": "config.json: 100%"
          }
        },
        "86591fecf4984dfeb68b49f72941908d": {
          "model_module": "@jupyter-widgets/controls",
          "model_name": "FloatProgressModel",
          "model_module_version": "1.5.0",
          "state": {
            "_dom_classes": [],
            "_model_module": "@jupyter-widgets/controls",
            "_model_module_version": "1.5.0",
            "_model_name": "FloatProgressModel",
            "_view_count": null,
            "_view_module": "@jupyter-widgets/controls",
            "_view_module_version": "1.5.0",
            "_view_name": "ProgressView",
            "bar_style": "success",
            "description": "",
            "description_tooltip": null,
            "layout": "IPY_MODEL_c39d91a7e4724251a6b74f4bf533a065",
            "max": 738,
            "min": 0,
            "orientation": "horizontal",
            "style": "IPY_MODEL_3ed27e3fd1db4c68a42bd23bbe2bc752",
            "value": 738
          }
        },
        "a1364804c74247fbbadd6544e09e4b74": {
          "model_module": "@jupyter-widgets/controls",
          "model_name": "HTMLModel",
          "model_module_version": "1.5.0",
          "state": {
            "_dom_classes": [],
            "_model_module": "@jupyter-widgets/controls",
            "_model_module_version": "1.5.0",
            "_model_name": "HTMLModel",
            "_view_count": null,
            "_view_module": "@jupyter-widgets/controls",
            "_view_module_version": "1.5.0",
            "_view_name": "HTMLView",
            "description": "",
            "description_tooltip": null,
            "layout": "IPY_MODEL_1948b982d54446a38828f970e1df2574",
            "placeholder": "​",
            "style": "IPY_MODEL_e42bfc7307d544bb89e2b18878e62fce",
            "value": " 738/738 [00:00&lt;00:00, 59.5kB/s]"
          }
        },
        "5c2e75fad98f4d73876fc3a346a29997": {
          "model_module": "@jupyter-widgets/base",
          "model_name": "LayoutModel",
          "model_module_version": "1.2.0",
          "state": {
            "_model_module": "@jupyter-widgets/base",
            "_model_module_version": "1.2.0",
            "_model_name": "LayoutModel",
            "_view_count": null,
            "_view_module": "@jupyter-widgets/base",
            "_view_module_version": "1.2.0",
            "_view_name": "LayoutView",
            "align_content": null,
            "align_items": null,
            "align_self": null,
            "border": null,
            "bottom": null,
            "display": null,
            "flex": null,
            "flex_flow": null,
            "grid_area": null,
            "grid_auto_columns": null,
            "grid_auto_flow": null,
            "grid_auto_rows": null,
            "grid_column": null,
            "grid_gap": null,
            "grid_row": null,
            "grid_template_areas": null,
            "grid_template_columns": null,
            "grid_template_rows": null,
            "height": null,
            "justify_content": null,
            "justify_items": null,
            "left": null,
            "margin": null,
            "max_height": null,
            "max_width": null,
            "min_height": null,
            "min_width": null,
            "object_fit": null,
            "object_position": null,
            "order": null,
            "overflow": null,
            "overflow_x": null,
            "overflow_y": null,
            "padding": null,
            "right": null,
            "top": null,
            "visibility": null,
            "width": null
          }
        },
        "ce11aa1cf8b548d4851f37e3721481c8": {
          "model_module": "@jupyter-widgets/base",
          "model_name": "LayoutModel",
          "model_module_version": "1.2.0",
          "state": {
            "_model_module": "@jupyter-widgets/base",
            "_model_module_version": "1.2.0",
            "_model_name": "LayoutModel",
            "_view_count": null,
            "_view_module": "@jupyter-widgets/base",
            "_view_module_version": "1.2.0",
            "_view_name": "LayoutView",
            "align_content": null,
            "align_items": null,
            "align_self": null,
            "border": null,
            "bottom": null,
            "display": null,
            "flex": null,
            "flex_flow": null,
            "grid_area": null,
            "grid_auto_columns": null,
            "grid_auto_flow": null,
            "grid_auto_rows": null,
            "grid_column": null,
            "grid_gap": null,
            "grid_row": null,
            "grid_template_areas": null,
            "grid_template_columns": null,
            "grid_template_rows": null,
            "height": null,
            "justify_content": null,
            "justify_items": null,
            "left": null,
            "margin": null,
            "max_height": null,
            "max_width": null,
            "min_height": null,
            "min_width": null,
            "object_fit": null,
            "object_position": null,
            "order": null,
            "overflow": null,
            "overflow_x": null,
            "overflow_y": null,
            "padding": null,
            "right": null,
            "top": null,
            "visibility": null,
            "width": null
          }
        },
        "cb1badc57ccc411ea10e1caaece9b2fa": {
          "model_module": "@jupyter-widgets/controls",
          "model_name": "DescriptionStyleModel",
          "model_module_version": "1.5.0",
          "state": {
            "_model_module": "@jupyter-widgets/controls",
            "_model_module_version": "1.5.0",
            "_model_name": "DescriptionStyleModel",
            "_view_count": null,
            "_view_module": "@jupyter-widgets/base",
            "_view_module_version": "1.2.0",
            "_view_name": "StyleView",
            "description_width": ""
          }
        },
        "c39d91a7e4724251a6b74f4bf533a065": {
          "model_module": "@jupyter-widgets/base",
          "model_name": "LayoutModel",
          "model_module_version": "1.2.0",
          "state": {
            "_model_module": "@jupyter-widgets/base",
            "_model_module_version": "1.2.0",
            "_model_name": "LayoutModel",
            "_view_count": null,
            "_view_module": "@jupyter-widgets/base",
            "_view_module_version": "1.2.0",
            "_view_name": "LayoutView",
            "align_content": null,
            "align_items": null,
            "align_self": null,
            "border": null,
            "bottom": null,
            "display": null,
            "flex": null,
            "flex_flow": null,
            "grid_area": null,
            "grid_auto_columns": null,
            "grid_auto_flow": null,
            "grid_auto_rows": null,
            "grid_column": null,
            "grid_gap": null,
            "grid_row": null,
            "grid_template_areas": null,
            "grid_template_columns": null,
            "grid_template_rows": null,
            "height": null,
            "justify_content": null,
            "justify_items": null,
            "left": null,
            "margin": null,
            "max_height": null,
            "max_width": null,
            "min_height": null,
            "min_width": null,
            "object_fit": null,
            "object_position": null,
            "order": null,
            "overflow": null,
            "overflow_x": null,
            "overflow_y": null,
            "padding": null,
            "right": null,
            "top": null,
            "visibility": null,
            "width": null
          }
        },
        "3ed27e3fd1db4c68a42bd23bbe2bc752": {
          "model_module": "@jupyter-widgets/controls",
          "model_name": "ProgressStyleModel",
          "model_module_version": "1.5.0",
          "state": {
            "_model_module": "@jupyter-widgets/controls",
            "_model_module_version": "1.5.0",
            "_model_name": "ProgressStyleModel",
            "_view_count": null,
            "_view_module": "@jupyter-widgets/base",
            "_view_module_version": "1.2.0",
            "_view_name": "StyleView",
            "bar_color": null,
            "description_width": ""
          }
        },
        "1948b982d54446a38828f970e1df2574": {
          "model_module": "@jupyter-widgets/base",
          "model_name": "LayoutModel",
          "model_module_version": "1.2.0",
          "state": {
            "_model_module": "@jupyter-widgets/base",
            "_model_module_version": "1.2.0",
            "_model_name": "LayoutModel",
            "_view_count": null,
            "_view_module": "@jupyter-widgets/base",
            "_view_module_version": "1.2.0",
            "_view_name": "LayoutView",
            "align_content": null,
            "align_items": null,
            "align_self": null,
            "border": null,
            "bottom": null,
            "display": null,
            "flex": null,
            "flex_flow": null,
            "grid_area": null,
            "grid_auto_columns": null,
            "grid_auto_flow": null,
            "grid_auto_rows": null,
            "grid_column": null,
            "grid_gap": null,
            "grid_row": null,
            "grid_template_areas": null,
            "grid_template_columns": null,
            "grid_template_rows": null,
            "height": null,
            "justify_content": null,
            "justify_items": null,
            "left": null,
            "margin": null,
            "max_height": null,
            "max_width": null,
            "min_height": null,
            "min_width": null,
            "object_fit": null,
            "object_position": null,
            "order": null,
            "overflow": null,
            "overflow_x": null,
            "overflow_y": null,
            "padding": null,
            "right": null,
            "top": null,
            "visibility": null,
            "width": null
          }
        },
        "e42bfc7307d544bb89e2b18878e62fce": {
          "model_module": "@jupyter-widgets/controls",
          "model_name": "DescriptionStyleModel",
          "model_module_version": "1.5.0",
          "state": {
            "_model_module": "@jupyter-widgets/controls",
            "_model_module_version": "1.5.0",
            "_model_name": "DescriptionStyleModel",
            "_view_count": null,
            "_view_module": "@jupyter-widgets/base",
            "_view_module_version": "1.2.0",
            "_view_name": "StyleView",
            "description_width": ""
          }
        },
        "8e25c3d5d32f45f9bbc918e32ce1f1f4": {
          "model_module": "@jupyter-widgets/controls",
          "model_name": "HBoxModel",
          "model_module_version": "1.5.0",
          "state": {
            "_dom_classes": [],
            "_model_module": "@jupyter-widgets/controls",
            "_model_module_version": "1.5.0",
            "_model_name": "HBoxModel",
            "_view_count": null,
            "_view_module": "@jupyter-widgets/controls",
            "_view_module_version": "1.5.0",
            "_view_name": "HBoxView",
            "box_style": "",
            "children": [
              "IPY_MODEL_a44cddd2aa884a8db1a20eed9b4f863f",
              "IPY_MODEL_300dacb212ea4a82aea83889a04c9e7a",
              "IPY_MODEL_998c124f62154de2bb4ef2d6c05d6e50"
            ],
            "layout": "IPY_MODEL_8fc6dc81251c46c78e06e8bd740d358d"
          }
        },
        "a44cddd2aa884a8db1a20eed9b4f863f": {
          "model_module": "@jupyter-widgets/controls",
          "model_name": "HTMLModel",
          "model_module_version": "1.5.0",
          "state": {
            "_dom_classes": [],
            "_model_module": "@jupyter-widgets/controls",
            "_model_module_version": "1.5.0",
            "_model_name": "HTMLModel",
            "_view_count": null,
            "_view_module": "@jupyter-widgets/controls",
            "_view_module_version": "1.5.0",
            "_view_name": "HTMLView",
            "description": "",
            "description_tooltip": null,
            "layout": "IPY_MODEL_66b53d9753ff4706987eba7343478381",
            "placeholder": "​",
            "style": "IPY_MODEL_e605508916b74f9ca555409f9a60cb89",
            "value": "pytorch_model.bin: 100%"
          }
        },
        "300dacb212ea4a82aea83889a04c9e7a": {
          "model_module": "@jupyter-widgets/controls",
          "model_name": "FloatProgressModel",
          "model_module_version": "1.5.0",
          "state": {
            "_dom_classes": [],
            "_model_module": "@jupyter-widgets/controls",
            "_model_module_version": "1.5.0",
            "_model_name": "FloatProgressModel",
            "_view_count": null,
            "_view_module": "@jupyter-widgets/controls",
            "_view_module_version": "1.5.0",
            "_view_name": "ProgressView",
            "bar_style": "success",
            "description": "",
            "description_tooltip": null,
            "layout": "IPY_MODEL_d48f9338fe5646968755ae93d999d9f6",
            "max": 46747112,
            "min": 0,
            "orientation": "horizontal",
            "style": "IPY_MODEL_9b209b4ea8334c949ec3b6572d69f973",
            "value": 46747112
          }
        },
        "998c124f62154de2bb4ef2d6c05d6e50": {
          "model_module": "@jupyter-widgets/controls",
          "model_name": "HTMLModel",
          "model_module_version": "1.5.0",
          "state": {
            "_dom_classes": [],
            "_model_module": "@jupyter-widgets/controls",
            "_model_module_version": "1.5.0",
            "_model_name": "HTMLModel",
            "_view_count": null,
            "_view_module": "@jupyter-widgets/controls",
            "_view_module_version": "1.5.0",
            "_view_name": "HTMLView",
            "description": "",
            "description_tooltip": null,
            "layout": "IPY_MODEL_901c90f286224c1caf4dc1cff55dedee",
            "placeholder": "​",
            "style": "IPY_MODEL_35134c88fccd4e2c878e956efee09848",
            "value": " 46.7M/46.7M [00:04&lt;00:00, 12.7MB/s]"
          }
        },
        "8fc6dc81251c46c78e06e8bd740d358d": {
          "model_module": "@jupyter-widgets/base",
          "model_name": "LayoutModel",
          "model_module_version": "1.2.0",
          "state": {
            "_model_module": "@jupyter-widgets/base",
            "_model_module_version": "1.2.0",
            "_model_name": "LayoutModel",
            "_view_count": null,
            "_view_module": "@jupyter-widgets/base",
            "_view_module_version": "1.2.0",
            "_view_name": "LayoutView",
            "align_content": null,
            "align_items": null,
            "align_self": null,
            "border": null,
            "bottom": null,
            "display": null,
            "flex": null,
            "flex_flow": null,
            "grid_area": null,
            "grid_auto_columns": null,
            "grid_auto_flow": null,
            "grid_auto_rows": null,
            "grid_column": null,
            "grid_gap": null,
            "grid_row": null,
            "grid_template_areas": null,
            "grid_template_columns": null,
            "grid_template_rows": null,
            "height": null,
            "justify_content": null,
            "justify_items": null,
            "left": null,
            "margin": null,
            "max_height": null,
            "max_width": null,
            "min_height": null,
            "min_width": null,
            "object_fit": null,
            "object_position": null,
            "order": null,
            "overflow": null,
            "overflow_x": null,
            "overflow_y": null,
            "padding": null,
            "right": null,
            "top": null,
            "visibility": null,
            "width": null
          }
        },
        "66b53d9753ff4706987eba7343478381": {
          "model_module": "@jupyter-widgets/base",
          "model_name": "LayoutModel",
          "model_module_version": "1.2.0",
          "state": {
            "_model_module": "@jupyter-widgets/base",
            "_model_module_version": "1.2.0",
            "_model_name": "LayoutModel",
            "_view_count": null,
            "_view_module": "@jupyter-widgets/base",
            "_view_module_version": "1.2.0",
            "_view_name": "LayoutView",
            "align_content": null,
            "align_items": null,
            "align_self": null,
            "border": null,
            "bottom": null,
            "display": null,
            "flex": null,
            "flex_flow": null,
            "grid_area": null,
            "grid_auto_columns": null,
            "grid_auto_flow": null,
            "grid_auto_rows": null,
            "grid_column": null,
            "grid_gap": null,
            "grid_row": null,
            "grid_template_areas": null,
            "grid_template_columns": null,
            "grid_template_rows": null,
            "height": null,
            "justify_content": null,
            "justify_items": null,
            "left": null,
            "margin": null,
            "max_height": null,
            "max_width": null,
            "min_height": null,
            "min_width": null,
            "object_fit": null,
            "object_position": null,
            "order": null,
            "overflow": null,
            "overflow_x": null,
            "overflow_y": null,
            "padding": null,
            "right": null,
            "top": null,
            "visibility": null,
            "width": null
          }
        },
        "e605508916b74f9ca555409f9a60cb89": {
          "model_module": "@jupyter-widgets/controls",
          "model_name": "DescriptionStyleModel",
          "model_module_version": "1.5.0",
          "state": {
            "_model_module": "@jupyter-widgets/controls",
            "_model_module_version": "1.5.0",
            "_model_name": "DescriptionStyleModel",
            "_view_count": null,
            "_view_module": "@jupyter-widgets/base",
            "_view_module_version": "1.2.0",
            "_view_name": "StyleView",
            "description_width": ""
          }
        },
        "d48f9338fe5646968755ae93d999d9f6": {
          "model_module": "@jupyter-widgets/base",
          "model_name": "LayoutModel",
          "model_module_version": "1.2.0",
          "state": {
            "_model_module": "@jupyter-widgets/base",
            "_model_module_version": "1.2.0",
            "_model_name": "LayoutModel",
            "_view_count": null,
            "_view_module": "@jupyter-widgets/base",
            "_view_module_version": "1.2.0",
            "_view_name": "LayoutView",
            "align_content": null,
            "align_items": null,
            "align_self": null,
            "border": null,
            "bottom": null,
            "display": null,
            "flex": null,
            "flex_flow": null,
            "grid_area": null,
            "grid_auto_columns": null,
            "grid_auto_flow": null,
            "grid_auto_rows": null,
            "grid_column": null,
            "grid_gap": null,
            "grid_row": null,
            "grid_template_areas": null,
            "grid_template_columns": null,
            "grid_template_rows": null,
            "height": null,
            "justify_content": null,
            "justify_items": null,
            "left": null,
            "margin": null,
            "max_height": null,
            "max_width": null,
            "min_height": null,
            "min_width": null,
            "object_fit": null,
            "object_position": null,
            "order": null,
            "overflow": null,
            "overflow_x": null,
            "overflow_y": null,
            "padding": null,
            "right": null,
            "top": null,
            "visibility": null,
            "width": null
          }
        },
        "9b209b4ea8334c949ec3b6572d69f973": {
          "model_module": "@jupyter-widgets/controls",
          "model_name": "ProgressStyleModel",
          "model_module_version": "1.5.0",
          "state": {
            "_model_module": "@jupyter-widgets/controls",
            "_model_module_version": "1.5.0",
            "_model_name": "ProgressStyleModel",
            "_view_count": null,
            "_view_module": "@jupyter-widgets/base",
            "_view_module_version": "1.2.0",
            "_view_name": "StyleView",
            "bar_color": null,
            "description_width": ""
          }
        },
        "901c90f286224c1caf4dc1cff55dedee": {
          "model_module": "@jupyter-widgets/base",
          "model_name": "LayoutModel",
          "model_module_version": "1.2.0",
          "state": {
            "_model_module": "@jupyter-widgets/base",
            "_model_module_version": "1.2.0",
            "_model_name": "LayoutModel",
            "_view_count": null,
            "_view_module": "@jupyter-widgets/base",
            "_view_module_version": "1.2.0",
            "_view_name": "LayoutView",
            "align_content": null,
            "align_items": null,
            "align_self": null,
            "border": null,
            "bottom": null,
            "display": null,
            "flex": null,
            "flex_flow": null,
            "grid_area": null,
            "grid_auto_columns": null,
            "grid_auto_flow": null,
            "grid_auto_rows": null,
            "grid_column": null,
            "grid_gap": null,
            "grid_row": null,
            "grid_template_areas": null,
            "grid_template_columns": null,
            "grid_template_rows": null,
            "height": null,
            "justify_content": null,
            "justify_items": null,
            "left": null,
            "margin": null,
            "max_height": null,
            "max_width": null,
            "min_height": null,
            "min_width": null,
            "object_fit": null,
            "object_position": null,
            "order": null,
            "overflow": null,
            "overflow_x": null,
            "overflow_y": null,
            "padding": null,
            "right": null,
            "top": null,
            "visibility": null,
            "width": null
          }
        },
        "35134c88fccd4e2c878e956efee09848": {
          "model_module": "@jupyter-widgets/controls",
          "model_name": "DescriptionStyleModel",
          "model_module_version": "1.5.0",
          "state": {
            "_model_module": "@jupyter-widgets/controls",
            "_model_module_version": "1.5.0",
            "_model_name": "DescriptionStyleModel",
            "_view_count": null,
            "_view_module": "@jupyter-widgets/base",
            "_view_module_version": "1.2.0",
            "_view_name": "StyleView",
            "description_width": ""
          }
        },
        "e5b21a4ba3aa42b3bd6110c5e8f179de": {
          "model_module": "@jupyter-widgets/controls",
          "model_name": "HBoxModel",
          "model_module_version": "1.5.0",
          "state": {
            "_dom_classes": [],
            "_model_module": "@jupyter-widgets/controls",
            "_model_module_version": "1.5.0",
            "_model_name": "HBoxModel",
            "_view_count": null,
            "_view_module": "@jupyter-widgets/controls",
            "_view_module_version": "1.5.0",
            "_view_name": "HBoxView",
            "box_style": "",
            "children": [
              "IPY_MODEL_7506f4e987ea43168dd3aad6a00f8a95",
              "IPY_MODEL_9514ced39785442dad0dc98a87966ba2",
              "IPY_MODEL_ec092234bb3646019dda399cba6e0d19"
            ],
            "layout": "IPY_MODEL_9c2c2a59e2984466a55f27fad54b5e7c"
          }
        },
        "7506f4e987ea43168dd3aad6a00f8a95": {
          "model_module": "@jupyter-widgets/controls",
          "model_name": "HTMLModel",
          "model_module_version": "1.5.0",
          "state": {
            "_dom_classes": [],
            "_model_module": "@jupyter-widgets/controls",
            "_model_module_version": "1.5.0",
            "_model_name": "HTMLModel",
            "_view_count": null,
            "_view_module": "@jupyter-widgets/controls",
            "_view_module_version": "1.5.0",
            "_view_name": "HTMLView",
            "description": "",
            "description_tooltip": null,
            "layout": "IPY_MODEL_a71923e587b14cb4bb5a5e37fb738500",
            "placeholder": "​",
            "style": "IPY_MODEL_a63310f55ee544bfa06af30b17100547",
            "value": "tokenizer_config.json: 100%"
          }
        },
        "9514ced39785442dad0dc98a87966ba2": {
          "model_module": "@jupyter-widgets/controls",
          "model_name": "FloatProgressModel",
          "model_module_version": "1.5.0",
          "state": {
            "_dom_classes": [],
            "_model_module": "@jupyter-widgets/controls",
            "_model_module_version": "1.5.0",
            "_model_name": "FloatProgressModel",
            "_view_count": null,
            "_view_module": "@jupyter-widgets/controls",
            "_view_module_version": "1.5.0",
            "_view_name": "ProgressView",
            "bar_style": "success",
            "description": "",
            "description_tooltip": null,
            "layout": "IPY_MODEL_c82a8568c06a42c8839d53243a69f24c",
            "max": 25,
            "min": 0,
            "orientation": "horizontal",
            "style": "IPY_MODEL_53faaad3c333497f894338568d8cb600",
            "value": 25
          }
        },
        "ec092234bb3646019dda399cba6e0d19": {
          "model_module": "@jupyter-widgets/controls",
          "model_name": "HTMLModel",
          "model_module_version": "1.5.0",
          "state": {
            "_dom_classes": [],
            "_model_module": "@jupyter-widgets/controls",
            "_model_module_version": "1.5.0",
            "_model_name": "HTMLModel",
            "_view_count": null,
            "_view_module": "@jupyter-widgets/controls",
            "_view_module_version": "1.5.0",
            "_view_name": "HTMLView",
            "description": "",
            "description_tooltip": null,
            "layout": "IPY_MODEL_5644cdac783d4091b80b9e8186cd6b3c",
            "placeholder": "​",
            "style": "IPY_MODEL_6e9c0ebdb4e3469a96a37728daf09262",
            "value": " 25.0/25.0 [00:00&lt;00:00, 1.39kB/s]"
          }
        },
        "9c2c2a59e2984466a55f27fad54b5e7c": {
          "model_module": "@jupyter-widgets/base",
          "model_name": "LayoutModel",
          "model_module_version": "1.2.0",
          "state": {
            "_model_module": "@jupyter-widgets/base",
            "_model_module_version": "1.2.0",
            "_model_name": "LayoutModel",
            "_view_count": null,
            "_view_module": "@jupyter-widgets/base",
            "_view_module_version": "1.2.0",
            "_view_name": "LayoutView",
            "align_content": null,
            "align_items": null,
            "align_self": null,
            "border": null,
            "bottom": null,
            "display": null,
            "flex": null,
            "flex_flow": null,
            "grid_area": null,
            "grid_auto_columns": null,
            "grid_auto_flow": null,
            "grid_auto_rows": null,
            "grid_column": null,
            "grid_gap": null,
            "grid_row": null,
            "grid_template_areas": null,
            "grid_template_columns": null,
            "grid_template_rows": null,
            "height": null,
            "justify_content": null,
            "justify_items": null,
            "left": null,
            "margin": null,
            "max_height": null,
            "max_width": null,
            "min_height": null,
            "min_width": null,
            "object_fit": null,
            "object_position": null,
            "order": null,
            "overflow": null,
            "overflow_x": null,
            "overflow_y": null,
            "padding": null,
            "right": null,
            "top": null,
            "visibility": null,
            "width": null
          }
        },
        "a71923e587b14cb4bb5a5e37fb738500": {
          "model_module": "@jupyter-widgets/base",
          "model_name": "LayoutModel",
          "model_module_version": "1.2.0",
          "state": {
            "_model_module": "@jupyter-widgets/base",
            "_model_module_version": "1.2.0",
            "_model_name": "LayoutModel",
            "_view_count": null,
            "_view_module": "@jupyter-widgets/base",
            "_view_module_version": "1.2.0",
            "_view_name": "LayoutView",
            "align_content": null,
            "align_items": null,
            "align_self": null,
            "border": null,
            "bottom": null,
            "display": null,
            "flex": null,
            "flex_flow": null,
            "grid_area": null,
            "grid_auto_columns": null,
            "grid_auto_flow": null,
            "grid_auto_rows": null,
            "grid_column": null,
            "grid_gap": null,
            "grid_row": null,
            "grid_template_areas": null,
            "grid_template_columns": null,
            "grid_template_rows": null,
            "height": null,
            "justify_content": null,
            "justify_items": null,
            "left": null,
            "margin": null,
            "max_height": null,
            "max_width": null,
            "min_height": null,
            "min_width": null,
            "object_fit": null,
            "object_position": null,
            "order": null,
            "overflow": null,
            "overflow_x": null,
            "overflow_y": null,
            "padding": null,
            "right": null,
            "top": null,
            "visibility": null,
            "width": null
          }
        },
        "a63310f55ee544bfa06af30b17100547": {
          "model_module": "@jupyter-widgets/controls",
          "model_name": "DescriptionStyleModel",
          "model_module_version": "1.5.0",
          "state": {
            "_model_module": "@jupyter-widgets/controls",
            "_model_module_version": "1.5.0",
            "_model_name": "DescriptionStyleModel",
            "_view_count": null,
            "_view_module": "@jupyter-widgets/base",
            "_view_module_version": "1.2.0",
            "_view_name": "StyleView",
            "description_width": ""
          }
        },
        "c82a8568c06a42c8839d53243a69f24c": {
          "model_module": "@jupyter-widgets/base",
          "model_name": "LayoutModel",
          "model_module_version": "1.2.0",
          "state": {
            "_model_module": "@jupyter-widgets/base",
            "_model_module_version": "1.2.0",
            "_model_name": "LayoutModel",
            "_view_count": null,
            "_view_module": "@jupyter-widgets/base",
            "_view_module_version": "1.2.0",
            "_view_name": "LayoutView",
            "align_content": null,
            "align_items": null,
            "align_self": null,
            "border": null,
            "bottom": null,
            "display": null,
            "flex": null,
            "flex_flow": null,
            "grid_area": null,
            "grid_auto_columns": null,
            "grid_auto_flow": null,
            "grid_auto_rows": null,
            "grid_column": null,
            "grid_gap": null,
            "grid_row": null,
            "grid_template_areas": null,
            "grid_template_columns": null,
            "grid_template_rows": null,
            "height": null,
            "justify_content": null,
            "justify_items": null,
            "left": null,
            "margin": null,
            "max_height": null,
            "max_width": null,
            "min_height": null,
            "min_width": null,
            "object_fit": null,
            "object_position": null,
            "order": null,
            "overflow": null,
            "overflow_x": null,
            "overflow_y": null,
            "padding": null,
            "right": null,
            "top": null,
            "visibility": null,
            "width": null
          }
        },
        "53faaad3c333497f894338568d8cb600": {
          "model_module": "@jupyter-widgets/controls",
          "model_name": "ProgressStyleModel",
          "model_module_version": "1.5.0",
          "state": {
            "_model_module": "@jupyter-widgets/controls",
            "_model_module_version": "1.5.0",
            "_model_name": "ProgressStyleModel",
            "_view_count": null,
            "_view_module": "@jupyter-widgets/base",
            "_view_module_version": "1.2.0",
            "_view_name": "StyleView",
            "bar_color": null,
            "description_width": ""
          }
        },
        "5644cdac783d4091b80b9e8186cd6b3c": {
          "model_module": "@jupyter-widgets/base",
          "model_name": "LayoutModel",
          "model_module_version": "1.2.0",
          "state": {
            "_model_module": "@jupyter-widgets/base",
            "_model_module_version": "1.2.0",
            "_model_name": "LayoutModel",
            "_view_count": null,
            "_view_module": "@jupyter-widgets/base",
            "_view_module_version": "1.2.0",
            "_view_name": "LayoutView",
            "align_content": null,
            "align_items": null,
            "align_self": null,
            "border": null,
            "bottom": null,
            "display": null,
            "flex": null,
            "flex_flow": null,
            "grid_area": null,
            "grid_auto_columns": null,
            "grid_auto_flow": null,
            "grid_auto_rows": null,
            "grid_column": null,
            "grid_gap": null,
            "grid_row": null,
            "grid_template_areas": null,
            "grid_template_columns": null,
            "grid_template_rows": null,
            "height": null,
            "justify_content": null,
            "justify_items": null,
            "left": null,
            "margin": null,
            "max_height": null,
            "max_width": null,
            "min_height": null,
            "min_width": null,
            "object_fit": null,
            "object_position": null,
            "order": null,
            "overflow": null,
            "overflow_x": null,
            "overflow_y": null,
            "padding": null,
            "right": null,
            "top": null,
            "visibility": null,
            "width": null
          }
        },
        "6e9c0ebdb4e3469a96a37728daf09262": {
          "model_module": "@jupyter-widgets/controls",
          "model_name": "DescriptionStyleModel",
          "model_module_version": "1.5.0",
          "state": {
            "_model_module": "@jupyter-widgets/controls",
            "_model_module_version": "1.5.0",
            "_model_name": "DescriptionStyleModel",
            "_view_count": null,
            "_view_module": "@jupyter-widgets/base",
            "_view_module_version": "1.2.0",
            "_view_name": "StyleView",
            "description_width": ""
          }
        },
        "211e3f1977e848a2b5c9fd7377adf113": {
          "model_module": "@jupyter-widgets/controls",
          "model_name": "HBoxModel",
          "model_module_version": "1.5.0",
          "state": {
            "_dom_classes": [],
            "_model_module": "@jupyter-widgets/controls",
            "_model_module_version": "1.5.0",
            "_model_name": "HBoxModel",
            "_view_count": null,
            "_view_module": "@jupyter-widgets/controls",
            "_view_module_version": "1.5.0",
            "_view_name": "HBoxView",
            "box_style": "",
            "children": [
              "IPY_MODEL_ed8acad21cbb4b66a908f3fa81820914",
              "IPY_MODEL_abce490793ac45f2a44cf15ee674800f",
              "IPY_MODEL_3039300bc5e84bdbba97f24c4d3597ea"
            ],
            "layout": "IPY_MODEL_9aca32d7074c44bf8374156f6c87610e"
          }
        },
        "ed8acad21cbb4b66a908f3fa81820914": {
          "model_module": "@jupyter-widgets/controls",
          "model_name": "HTMLModel",
          "model_module_version": "1.5.0",
          "state": {
            "_dom_classes": [],
            "_model_module": "@jupyter-widgets/controls",
            "_model_module_version": "1.5.0",
            "_model_name": "HTMLModel",
            "_view_count": null,
            "_view_module": "@jupyter-widgets/controls",
            "_view_module_version": "1.5.0",
            "_view_name": "HTMLView",
            "description": "",
            "description_tooltip": null,
            "layout": "IPY_MODEL_254d37db65814ac9b932da9ee0c9b9de",
            "placeholder": "​",
            "style": "IPY_MODEL_a329adf7b1904b83a8b294613bf615e8",
            "value": "spiece.model: 100%"
          }
        },
        "abce490793ac45f2a44cf15ee674800f": {
          "model_module": "@jupyter-widgets/controls",
          "model_name": "FloatProgressModel",
          "model_module_version": "1.5.0",
          "state": {
            "_dom_classes": [],
            "_model_module": "@jupyter-widgets/controls",
            "_model_module_version": "1.5.0",
            "_model_name": "FloatProgressModel",
            "_view_count": null,
            "_view_module": "@jupyter-widgets/controls",
            "_view_module_version": "1.5.0",
            "_view_name": "ProgressView",
            "bar_style": "success",
            "description": "",
            "description_tooltip": null,
            "layout": "IPY_MODEL_974d1667f064480eaae99a8f67c457d6",
            "max": 760289,
            "min": 0,
            "orientation": "horizontal",
            "style": "IPY_MODEL_dd291a6747e5482e9db0e7300adb828e",
            "value": 760289
          }
        },
        "3039300bc5e84bdbba97f24c4d3597ea": {
          "model_module": "@jupyter-widgets/controls",
          "model_name": "HTMLModel",
          "model_module_version": "1.5.0",
          "state": {
            "_dom_classes": [],
            "_model_module": "@jupyter-widgets/controls",
            "_model_module_version": "1.5.0",
            "_model_name": "HTMLModel",
            "_view_count": null,
            "_view_module": "@jupyter-widgets/controls",
            "_view_module_version": "1.5.0",
            "_view_name": "HTMLView",
            "description": "",
            "description_tooltip": null,
            "layout": "IPY_MODEL_5638a8eccca04117b1f977ada374baed",
            "placeholder": "​",
            "style": "IPY_MODEL_be43b7d28c7048bfa1ad154a9c6a3a37",
            "value": " 760k/760k [00:00&lt;00:00, 933kB/s]"
          }
        },
        "9aca32d7074c44bf8374156f6c87610e": {
          "model_module": "@jupyter-widgets/base",
          "model_name": "LayoutModel",
          "model_module_version": "1.2.0",
          "state": {
            "_model_module": "@jupyter-widgets/base",
            "_model_module_version": "1.2.0",
            "_model_name": "LayoutModel",
            "_view_count": null,
            "_view_module": "@jupyter-widgets/base",
            "_view_module_version": "1.2.0",
            "_view_name": "LayoutView",
            "align_content": null,
            "align_items": null,
            "align_self": null,
            "border": null,
            "bottom": null,
            "display": null,
            "flex": null,
            "flex_flow": null,
            "grid_area": null,
            "grid_auto_columns": null,
            "grid_auto_flow": null,
            "grid_auto_rows": null,
            "grid_column": null,
            "grid_gap": null,
            "grid_row": null,
            "grid_template_areas": null,
            "grid_template_columns": null,
            "grid_template_rows": null,
            "height": null,
            "justify_content": null,
            "justify_items": null,
            "left": null,
            "margin": null,
            "max_height": null,
            "max_width": null,
            "min_height": null,
            "min_width": null,
            "object_fit": null,
            "object_position": null,
            "order": null,
            "overflow": null,
            "overflow_x": null,
            "overflow_y": null,
            "padding": null,
            "right": null,
            "top": null,
            "visibility": null,
            "width": null
          }
        },
        "254d37db65814ac9b932da9ee0c9b9de": {
          "model_module": "@jupyter-widgets/base",
          "model_name": "LayoutModel",
          "model_module_version": "1.2.0",
          "state": {
            "_model_module": "@jupyter-widgets/base",
            "_model_module_version": "1.2.0",
            "_model_name": "LayoutModel",
            "_view_count": null,
            "_view_module": "@jupyter-widgets/base",
            "_view_module_version": "1.2.0",
            "_view_name": "LayoutView",
            "align_content": null,
            "align_items": null,
            "align_self": null,
            "border": null,
            "bottom": null,
            "display": null,
            "flex": null,
            "flex_flow": null,
            "grid_area": null,
            "grid_auto_columns": null,
            "grid_auto_flow": null,
            "grid_auto_rows": null,
            "grid_column": null,
            "grid_gap": null,
            "grid_row": null,
            "grid_template_areas": null,
            "grid_template_columns": null,
            "grid_template_rows": null,
            "height": null,
            "justify_content": null,
            "justify_items": null,
            "left": null,
            "margin": null,
            "max_height": null,
            "max_width": null,
            "min_height": null,
            "min_width": null,
            "object_fit": null,
            "object_position": null,
            "order": null,
            "overflow": null,
            "overflow_x": null,
            "overflow_y": null,
            "padding": null,
            "right": null,
            "top": null,
            "visibility": null,
            "width": null
          }
        },
        "a329adf7b1904b83a8b294613bf615e8": {
          "model_module": "@jupyter-widgets/controls",
          "model_name": "DescriptionStyleModel",
          "model_module_version": "1.5.0",
          "state": {
            "_model_module": "@jupyter-widgets/controls",
            "_model_module_version": "1.5.0",
            "_model_name": "DescriptionStyleModel",
            "_view_count": null,
            "_view_module": "@jupyter-widgets/base",
            "_view_module_version": "1.2.0",
            "_view_name": "StyleView",
            "description_width": ""
          }
        },
        "974d1667f064480eaae99a8f67c457d6": {
          "model_module": "@jupyter-widgets/base",
          "model_name": "LayoutModel",
          "model_module_version": "1.2.0",
          "state": {
            "_model_module": "@jupyter-widgets/base",
            "_model_module_version": "1.2.0",
            "_model_name": "LayoutModel",
            "_view_count": null,
            "_view_module": "@jupyter-widgets/base",
            "_view_module_version": "1.2.0",
            "_view_name": "LayoutView",
            "align_content": null,
            "align_items": null,
            "align_self": null,
            "border": null,
            "bottom": null,
            "display": null,
            "flex": null,
            "flex_flow": null,
            "grid_area": null,
            "grid_auto_columns": null,
            "grid_auto_flow": null,
            "grid_auto_rows": null,
            "grid_column": null,
            "grid_gap": null,
            "grid_row": null,
            "grid_template_areas": null,
            "grid_template_columns": null,
            "grid_template_rows": null,
            "height": null,
            "justify_content": null,
            "justify_items": null,
            "left": null,
            "margin": null,
            "max_height": null,
            "max_width": null,
            "min_height": null,
            "min_width": null,
            "object_fit": null,
            "object_position": null,
            "order": null,
            "overflow": null,
            "overflow_x": null,
            "overflow_y": null,
            "padding": null,
            "right": null,
            "top": null,
            "visibility": null,
            "width": null
          }
        },
        "dd291a6747e5482e9db0e7300adb828e": {
          "model_module": "@jupyter-widgets/controls",
          "model_name": "ProgressStyleModel",
          "model_module_version": "1.5.0",
          "state": {
            "_model_module": "@jupyter-widgets/controls",
            "_model_module_version": "1.5.0",
            "_model_name": "ProgressStyleModel",
            "_view_count": null,
            "_view_module": "@jupyter-widgets/base",
            "_view_module_version": "1.2.0",
            "_view_name": "StyleView",
            "bar_color": null,
            "description_width": ""
          }
        },
        "5638a8eccca04117b1f977ada374baed": {
          "model_module": "@jupyter-widgets/base",
          "model_name": "LayoutModel",
          "model_module_version": "1.2.0",
          "state": {
            "_model_module": "@jupyter-widgets/base",
            "_model_module_version": "1.2.0",
            "_model_name": "LayoutModel",
            "_view_count": null,
            "_view_module": "@jupyter-widgets/base",
            "_view_module_version": "1.2.0",
            "_view_name": "LayoutView",
            "align_content": null,
            "align_items": null,
            "align_self": null,
            "border": null,
            "bottom": null,
            "display": null,
            "flex": null,
            "flex_flow": null,
            "grid_area": null,
            "grid_auto_columns": null,
            "grid_auto_flow": null,
            "grid_auto_rows": null,
            "grid_column": null,
            "grid_gap": null,
            "grid_row": null,
            "grid_template_areas": null,
            "grid_template_columns": null,
            "grid_template_rows": null,
            "height": null,
            "justify_content": null,
            "justify_items": null,
            "left": null,
            "margin": null,
            "max_height": null,
            "max_width": null,
            "min_height": null,
            "min_width": null,
            "object_fit": null,
            "object_position": null,
            "order": null,
            "overflow": null,
            "overflow_x": null,
            "overflow_y": null,
            "padding": null,
            "right": null,
            "top": null,
            "visibility": null,
            "width": null
          }
        },
        "be43b7d28c7048bfa1ad154a9c6a3a37": {
          "model_module": "@jupyter-widgets/controls",
          "model_name": "DescriptionStyleModel",
          "model_module_version": "1.5.0",
          "state": {
            "_model_module": "@jupyter-widgets/controls",
            "_model_module_version": "1.5.0",
            "_model_name": "DescriptionStyleModel",
            "_view_count": null,
            "_view_module": "@jupyter-widgets/base",
            "_view_module_version": "1.2.0",
            "_view_name": "StyleView",
            "description_width": ""
          }
        },
        "5cdd5e89ac08465c8a135fd68e979892": {
          "model_module": "@jupyter-widgets/controls",
          "model_name": "HBoxModel",
          "model_module_version": "1.5.0",
          "state": {
            "_dom_classes": [],
            "_model_module": "@jupyter-widgets/controls",
            "_model_module_version": "1.5.0",
            "_model_name": "HBoxModel",
            "_view_count": null,
            "_view_module": "@jupyter-widgets/controls",
            "_view_module_version": "1.5.0",
            "_view_name": "HBoxView",
            "box_style": "",
            "children": [
              "IPY_MODEL_8567b19e240c4d8d8af0561d7439f270",
              "IPY_MODEL_8c15a14db871441f8cac51cc69988712",
              "IPY_MODEL_c940adfc2d934fea8dd29a7282b5a8e7"
            ],
            "layout": "IPY_MODEL_3098ececfbfb433eae464c6a1d83e835"
          }
        },
        "8567b19e240c4d8d8af0561d7439f270": {
          "model_module": "@jupyter-widgets/controls",
          "model_name": "HTMLModel",
          "model_module_version": "1.5.0",
          "state": {
            "_dom_classes": [],
            "_model_module": "@jupyter-widgets/controls",
            "_model_module_version": "1.5.0",
            "_model_name": "HTMLModel",
            "_view_count": null,
            "_view_module": "@jupyter-widgets/controls",
            "_view_module_version": "1.5.0",
            "_view_name": "HTMLView",
            "description": "",
            "description_tooltip": null,
            "layout": "IPY_MODEL_1eaeacee4cf84f0fbd7b8e82003cdc3a",
            "placeholder": "​",
            "style": "IPY_MODEL_a2167564326644d58b6fd4244684a960",
            "value": "special_tokens_map.json: 100%"
          }
        },
        "8c15a14db871441f8cac51cc69988712": {
          "model_module": "@jupyter-widgets/controls",
          "model_name": "FloatProgressModel",
          "model_module_version": "1.5.0",
          "state": {
            "_dom_classes": [],
            "_model_module": "@jupyter-widgets/controls",
            "_model_module_version": "1.5.0",
            "_model_name": "FloatProgressModel",
            "_view_count": null,
            "_view_module": "@jupyter-widgets/controls",
            "_view_module_version": "1.5.0",
            "_view_name": "ProgressView",
            "bar_style": "success",
            "description": "",
            "description_tooltip": null,
            "layout": "IPY_MODEL_df893e9559c349c49e2cd779fdc40500",
            "max": 156,
            "min": 0,
            "orientation": "horizontal",
            "style": "IPY_MODEL_0c4802dee5894281b549f0318bdaf61d",
            "value": 156
          }
        },
        "c940adfc2d934fea8dd29a7282b5a8e7": {
          "model_module": "@jupyter-widgets/controls",
          "model_name": "HTMLModel",
          "model_module_version": "1.5.0",
          "state": {
            "_dom_classes": [],
            "_model_module": "@jupyter-widgets/controls",
            "_model_module_version": "1.5.0",
            "_model_name": "HTMLModel",
            "_view_count": null,
            "_view_module": "@jupyter-widgets/controls",
            "_view_module_version": "1.5.0",
            "_view_name": "HTMLView",
            "description": "",
            "description_tooltip": null,
            "layout": "IPY_MODEL_160f875d58ac48ffa04d4d7e4c43d660",
            "placeholder": "​",
            "style": "IPY_MODEL_45a2cdf89e3e488fb99872dbaf64abb0",
            "value": " 156/156 [00:00&lt;00:00, 13.3kB/s]"
          }
        },
        "3098ececfbfb433eae464c6a1d83e835": {
          "model_module": "@jupyter-widgets/base",
          "model_name": "LayoutModel",
          "model_module_version": "1.2.0",
          "state": {
            "_model_module": "@jupyter-widgets/base",
            "_model_module_version": "1.2.0",
            "_model_name": "LayoutModel",
            "_view_count": null,
            "_view_module": "@jupyter-widgets/base",
            "_view_module_version": "1.2.0",
            "_view_name": "LayoutView",
            "align_content": null,
            "align_items": null,
            "align_self": null,
            "border": null,
            "bottom": null,
            "display": null,
            "flex": null,
            "flex_flow": null,
            "grid_area": null,
            "grid_auto_columns": null,
            "grid_auto_flow": null,
            "grid_auto_rows": null,
            "grid_column": null,
            "grid_gap": null,
            "grid_row": null,
            "grid_template_areas": null,
            "grid_template_columns": null,
            "grid_template_rows": null,
            "height": null,
            "justify_content": null,
            "justify_items": null,
            "left": null,
            "margin": null,
            "max_height": null,
            "max_width": null,
            "min_height": null,
            "min_width": null,
            "object_fit": null,
            "object_position": null,
            "order": null,
            "overflow": null,
            "overflow_x": null,
            "overflow_y": null,
            "padding": null,
            "right": null,
            "top": null,
            "visibility": null,
            "width": null
          }
        },
        "1eaeacee4cf84f0fbd7b8e82003cdc3a": {
          "model_module": "@jupyter-widgets/base",
          "model_name": "LayoutModel",
          "model_module_version": "1.2.0",
          "state": {
            "_model_module": "@jupyter-widgets/base",
            "_model_module_version": "1.2.0",
            "_model_name": "LayoutModel",
            "_view_count": null,
            "_view_module": "@jupyter-widgets/base",
            "_view_module_version": "1.2.0",
            "_view_name": "LayoutView",
            "align_content": null,
            "align_items": null,
            "align_self": null,
            "border": null,
            "bottom": null,
            "display": null,
            "flex": null,
            "flex_flow": null,
            "grid_area": null,
            "grid_auto_columns": null,
            "grid_auto_flow": null,
            "grid_auto_rows": null,
            "grid_column": null,
            "grid_gap": null,
            "grid_row": null,
            "grid_template_areas": null,
            "grid_template_columns": null,
            "grid_template_rows": null,
            "height": null,
            "justify_content": null,
            "justify_items": null,
            "left": null,
            "margin": null,
            "max_height": null,
            "max_width": null,
            "min_height": null,
            "min_width": null,
            "object_fit": null,
            "object_position": null,
            "order": null,
            "overflow": null,
            "overflow_x": null,
            "overflow_y": null,
            "padding": null,
            "right": null,
            "top": null,
            "visibility": null,
            "width": null
          }
        },
        "a2167564326644d58b6fd4244684a960": {
          "model_module": "@jupyter-widgets/controls",
          "model_name": "DescriptionStyleModel",
          "model_module_version": "1.5.0",
          "state": {
            "_model_module": "@jupyter-widgets/controls",
            "_model_module_version": "1.5.0",
            "_model_name": "DescriptionStyleModel",
            "_view_count": null,
            "_view_module": "@jupyter-widgets/base",
            "_view_module_version": "1.2.0",
            "_view_name": "StyleView",
            "description_width": ""
          }
        },
        "df893e9559c349c49e2cd779fdc40500": {
          "model_module": "@jupyter-widgets/base",
          "model_name": "LayoutModel",
          "model_module_version": "1.2.0",
          "state": {
            "_model_module": "@jupyter-widgets/base",
            "_model_module_version": "1.2.0",
            "_model_name": "LayoutModel",
            "_view_count": null,
            "_view_module": "@jupyter-widgets/base",
            "_view_module_version": "1.2.0",
            "_view_name": "LayoutView",
            "align_content": null,
            "align_items": null,
            "align_self": null,
            "border": null,
            "bottom": null,
            "display": null,
            "flex": null,
            "flex_flow": null,
            "grid_area": null,
            "grid_auto_columns": null,
            "grid_auto_flow": null,
            "grid_auto_rows": null,
            "grid_column": null,
            "grid_gap": null,
            "grid_row": null,
            "grid_template_areas": null,
            "grid_template_columns": null,
            "grid_template_rows": null,
            "height": null,
            "justify_content": null,
            "justify_items": null,
            "left": null,
            "margin": null,
            "max_height": null,
            "max_width": null,
            "min_height": null,
            "min_width": null,
            "object_fit": null,
            "object_position": null,
            "order": null,
            "overflow": null,
            "overflow_x": null,
            "overflow_y": null,
            "padding": null,
            "right": null,
            "top": null,
            "visibility": null,
            "width": null
          }
        },
        "0c4802dee5894281b549f0318bdaf61d": {
          "model_module": "@jupyter-widgets/controls",
          "model_name": "ProgressStyleModel",
          "model_module_version": "1.5.0",
          "state": {
            "_model_module": "@jupyter-widgets/controls",
            "_model_module_version": "1.5.0",
            "_model_name": "ProgressStyleModel",
            "_view_count": null,
            "_view_module": "@jupyter-widgets/base",
            "_view_module_version": "1.2.0",
            "_view_name": "StyleView",
            "bar_color": null,
            "description_width": ""
          }
        },
        "160f875d58ac48ffa04d4d7e4c43d660": {
          "model_module": "@jupyter-widgets/base",
          "model_name": "LayoutModel",
          "model_module_version": "1.2.0",
          "state": {
            "_model_module": "@jupyter-widgets/base",
            "_model_module_version": "1.2.0",
            "_model_name": "LayoutModel",
            "_view_count": null,
            "_view_module": "@jupyter-widgets/base",
            "_view_module_version": "1.2.0",
            "_view_name": "LayoutView",
            "align_content": null,
            "align_items": null,
            "align_self": null,
            "border": null,
            "bottom": null,
            "display": null,
            "flex": null,
            "flex_flow": null,
            "grid_area": null,
            "grid_auto_columns": null,
            "grid_auto_flow": null,
            "grid_auto_rows": null,
            "grid_column": null,
            "grid_gap": null,
            "grid_row": null,
            "grid_template_areas": null,
            "grid_template_columns": null,
            "grid_template_rows": null,
            "height": null,
            "justify_content": null,
            "justify_items": null,
            "left": null,
            "margin": null,
            "max_height": null,
            "max_width": null,
            "min_height": null,
            "min_width": null,
            "object_fit": null,
            "object_position": null,
            "order": null,
            "overflow": null,
            "overflow_x": null,
            "overflow_y": null,
            "padding": null,
            "right": null,
            "top": null,
            "visibility": null,
            "width": null
          }
        },
        "45a2cdf89e3e488fb99872dbaf64abb0": {
          "model_module": "@jupyter-widgets/controls",
          "model_name": "DescriptionStyleModel",
          "model_module_version": "1.5.0",
          "state": {
            "_model_module": "@jupyter-widgets/controls",
            "_model_module_version": "1.5.0",
            "_model_name": "DescriptionStyleModel",
            "_view_count": null,
            "_view_module": "@jupyter-widgets/base",
            "_view_module_version": "1.2.0",
            "_view_name": "StyleView",
            "description_width": ""
          }
        },
        "2334065fdc824f56882ae1539cf24f29": {
          "model_module": "@jupyter-widgets/controls",
          "model_name": "HBoxModel",
          "model_module_version": "1.5.0",
          "state": {
            "_dom_classes": [],
            "_model_module": "@jupyter-widgets/controls",
            "_model_module_version": "1.5.0",
            "_model_name": "HBoxModel",
            "_view_count": null,
            "_view_module": "@jupyter-widgets/controls",
            "_view_module_version": "1.5.0",
            "_view_name": "HBoxView",
            "box_style": "",
            "children": [
              "IPY_MODEL_0d19effb2179440aaaa13e6eb7b48c9c",
              "IPY_MODEL_6721527746274b43bd3f527da80a585b",
              "IPY_MODEL_fba7b0c43ba4407f9192c57161fdafb4"
            ],
            "layout": "IPY_MODEL_0ecf516efac4476281a380061614ca57"
          }
        },
        "0d19effb2179440aaaa13e6eb7b48c9c": {
          "model_module": "@jupyter-widgets/controls",
          "model_name": "HTMLModel",
          "model_module_version": "1.5.0",
          "state": {
            "_dom_classes": [],
            "_model_module": "@jupyter-widgets/controls",
            "_model_module_version": "1.5.0",
            "_model_name": "HTMLModel",
            "_view_count": null,
            "_view_module": "@jupyter-widgets/controls",
            "_view_module_version": "1.5.0",
            "_view_name": "HTMLView",
            "description": "",
            "description_tooltip": null,
            "layout": "IPY_MODEL_58f6aad22e6b4111ad122510cfca42e7",
            "placeholder": "​",
            "style": "IPY_MODEL_7a8bed515df3451b8bbdb6469852f62a",
            "value": "Downloading builder script: 100%"
          }
        },
        "6721527746274b43bd3f527da80a585b": {
          "model_module": "@jupyter-widgets/controls",
          "model_name": "FloatProgressModel",
          "model_module_version": "1.5.0",
          "state": {
            "_dom_classes": [],
            "_model_module": "@jupyter-widgets/controls",
            "_model_module_version": "1.5.0",
            "_model_name": "FloatProgressModel",
            "_view_count": null,
            "_view_module": "@jupyter-widgets/controls",
            "_view_module_version": "1.5.0",
            "_view_name": "ProgressView",
            "bar_style": "success",
            "description": "",
            "description_tooltip": null,
            "layout": "IPY_MODEL_eb29390629154355b2aab268eae730b8",
            "max": 5025,
            "min": 0,
            "orientation": "horizontal",
            "style": "IPY_MODEL_c5af4fb971ed482086fe095b2635c071",
            "value": 5025
          }
        },
        "fba7b0c43ba4407f9192c57161fdafb4": {
          "model_module": "@jupyter-widgets/controls",
          "model_name": "HTMLModel",
          "model_module_version": "1.5.0",
          "state": {
            "_dom_classes": [],
            "_model_module": "@jupyter-widgets/controls",
            "_model_module_version": "1.5.0",
            "_model_name": "HTMLModel",
            "_view_count": null,
            "_view_module": "@jupyter-widgets/controls",
            "_view_module_version": "1.5.0",
            "_view_name": "HTMLView",
            "description": "",
            "description_tooltip": null,
            "layout": "IPY_MODEL_61d48d7bd5334988b521133442c63494",
            "placeholder": "​",
            "style": "IPY_MODEL_4b4202dc93c541e581a6a7774e841988",
            "value": " 5.03k/5.03k [00:00&lt;00:00, 378kB/s]"
          }
        },
        "0ecf516efac4476281a380061614ca57": {
          "model_module": "@jupyter-widgets/base",
          "model_name": "LayoutModel",
          "model_module_version": "1.2.0",
          "state": {
            "_model_module": "@jupyter-widgets/base",
            "_model_module_version": "1.2.0",
            "_model_name": "LayoutModel",
            "_view_count": null,
            "_view_module": "@jupyter-widgets/base",
            "_view_module_version": "1.2.0",
            "_view_name": "LayoutView",
            "align_content": null,
            "align_items": null,
            "align_self": null,
            "border": null,
            "bottom": null,
            "display": null,
            "flex": null,
            "flex_flow": null,
            "grid_area": null,
            "grid_auto_columns": null,
            "grid_auto_flow": null,
            "grid_auto_rows": null,
            "grid_column": null,
            "grid_gap": null,
            "grid_row": null,
            "grid_template_areas": null,
            "grid_template_columns": null,
            "grid_template_rows": null,
            "height": null,
            "justify_content": null,
            "justify_items": null,
            "left": null,
            "margin": null,
            "max_height": null,
            "max_width": null,
            "min_height": null,
            "min_width": null,
            "object_fit": null,
            "object_position": null,
            "order": null,
            "overflow": null,
            "overflow_x": null,
            "overflow_y": null,
            "padding": null,
            "right": null,
            "top": null,
            "visibility": null,
            "width": null
          }
        },
        "58f6aad22e6b4111ad122510cfca42e7": {
          "model_module": "@jupyter-widgets/base",
          "model_name": "LayoutModel",
          "model_module_version": "1.2.0",
          "state": {
            "_model_module": "@jupyter-widgets/base",
            "_model_module_version": "1.2.0",
            "_model_name": "LayoutModel",
            "_view_count": null,
            "_view_module": "@jupyter-widgets/base",
            "_view_module_version": "1.2.0",
            "_view_name": "LayoutView",
            "align_content": null,
            "align_items": null,
            "align_self": null,
            "border": null,
            "bottom": null,
            "display": null,
            "flex": null,
            "flex_flow": null,
            "grid_area": null,
            "grid_auto_columns": null,
            "grid_auto_flow": null,
            "grid_auto_rows": null,
            "grid_column": null,
            "grid_gap": null,
            "grid_row": null,
            "grid_template_areas": null,
            "grid_template_columns": null,
            "grid_template_rows": null,
            "height": null,
            "justify_content": null,
            "justify_items": null,
            "left": null,
            "margin": null,
            "max_height": null,
            "max_width": null,
            "min_height": null,
            "min_width": null,
            "object_fit": null,
            "object_position": null,
            "order": null,
            "overflow": null,
            "overflow_x": null,
            "overflow_y": null,
            "padding": null,
            "right": null,
            "top": null,
            "visibility": null,
            "width": null
          }
        },
        "7a8bed515df3451b8bbdb6469852f62a": {
          "model_module": "@jupyter-widgets/controls",
          "model_name": "DescriptionStyleModel",
          "model_module_version": "1.5.0",
          "state": {
            "_model_module": "@jupyter-widgets/controls",
            "_model_module_version": "1.5.0",
            "_model_name": "DescriptionStyleModel",
            "_view_count": null,
            "_view_module": "@jupyter-widgets/base",
            "_view_module_version": "1.2.0",
            "_view_name": "StyleView",
            "description_width": ""
          }
        },
        "eb29390629154355b2aab268eae730b8": {
          "model_module": "@jupyter-widgets/base",
          "model_name": "LayoutModel",
          "model_module_version": "1.2.0",
          "state": {
            "_model_module": "@jupyter-widgets/base",
            "_model_module_version": "1.2.0",
            "_model_name": "LayoutModel",
            "_view_count": null,
            "_view_module": "@jupyter-widgets/base",
            "_view_module_version": "1.2.0",
            "_view_name": "LayoutView",
            "align_content": null,
            "align_items": null,
            "align_self": null,
            "border": null,
            "bottom": null,
            "display": null,
            "flex": null,
            "flex_flow": null,
            "grid_area": null,
            "grid_auto_columns": null,
            "grid_auto_flow": null,
            "grid_auto_rows": null,
            "grid_column": null,
            "grid_gap": null,
            "grid_row": null,
            "grid_template_areas": null,
            "grid_template_columns": null,
            "grid_template_rows": null,
            "height": null,
            "justify_content": null,
            "justify_items": null,
            "left": null,
            "margin": null,
            "max_height": null,
            "max_width": null,
            "min_height": null,
            "min_width": null,
            "object_fit": null,
            "object_position": null,
            "order": null,
            "overflow": null,
            "overflow_x": null,
            "overflow_y": null,
            "padding": null,
            "right": null,
            "top": null,
            "visibility": null,
            "width": null
          }
        },
        "c5af4fb971ed482086fe095b2635c071": {
          "model_module": "@jupyter-widgets/controls",
          "model_name": "ProgressStyleModel",
          "model_module_version": "1.5.0",
          "state": {
            "_model_module": "@jupyter-widgets/controls",
            "_model_module_version": "1.5.0",
            "_model_name": "ProgressStyleModel",
            "_view_count": null,
            "_view_module": "@jupyter-widgets/base",
            "_view_module_version": "1.2.0",
            "_view_name": "StyleView",
            "bar_color": null,
            "description_width": ""
          }
        },
        "61d48d7bd5334988b521133442c63494": {
          "model_module": "@jupyter-widgets/base",
          "model_name": "LayoutModel",
          "model_module_version": "1.2.0",
          "state": {
            "_model_module": "@jupyter-widgets/base",
            "_model_module_version": "1.2.0",
            "_model_name": "LayoutModel",
            "_view_count": null,
            "_view_module": "@jupyter-widgets/base",
            "_view_module_version": "1.2.0",
            "_view_name": "LayoutView",
            "align_content": null,
            "align_items": null,
            "align_self": null,
            "border": null,
            "bottom": null,
            "display": null,
            "flex": null,
            "flex_flow": null,
            "grid_area": null,
            "grid_auto_columns": null,
            "grid_auto_flow": null,
            "grid_auto_rows": null,
            "grid_column": null,
            "grid_gap": null,
            "grid_row": null,
            "grid_template_areas": null,
            "grid_template_columns": null,
            "grid_template_rows": null,
            "height": null,
            "justify_content": null,
            "justify_items": null,
            "left": null,
            "margin": null,
            "max_height": null,
            "max_width": null,
            "min_height": null,
            "min_width": null,
            "object_fit": null,
            "object_position": null,
            "order": null,
            "overflow": null,
            "overflow_x": null,
            "overflow_y": null,
            "padding": null,
            "right": null,
            "top": null,
            "visibility": null,
            "width": null
          }
        },
        "4b4202dc93c541e581a6a7774e841988": {
          "model_module": "@jupyter-widgets/controls",
          "model_name": "DescriptionStyleModel",
          "model_module_version": "1.5.0",
          "state": {
            "_model_module": "@jupyter-widgets/controls",
            "_model_module_version": "1.5.0",
            "_model_name": "DescriptionStyleModel",
            "_view_count": null,
            "_view_module": "@jupyter-widgets/base",
            "_view_module_version": "1.2.0",
            "_view_name": "StyleView",
            "description_width": ""
          }
        },
        "62c5ad65db544e32aafc8b317de8cbeb": {
          "model_module": "@jupyter-widgets/controls",
          "model_name": "HBoxModel",
          "model_module_version": "1.5.0",
          "state": {
            "_dom_classes": [],
            "_model_module": "@jupyter-widgets/controls",
            "_model_module_version": "1.5.0",
            "_model_name": "HBoxModel",
            "_view_count": null,
            "_view_module": "@jupyter-widgets/controls",
            "_view_module_version": "1.5.0",
            "_view_name": "HBoxView",
            "box_style": "",
            "children": [
              "IPY_MODEL_de993aac5776439c845f57339c24f615",
              "IPY_MODEL_7bccdc7f9f53469196849d5bd4f186aa",
              "IPY_MODEL_f18f35de450f473aa04f06034597ef82"
            ],
            "layout": "IPY_MODEL_b18477493b62491f9b93a456fe3bf01b"
          }
        },
        "de993aac5776439c845f57339c24f615": {
          "model_module": "@jupyter-widgets/controls",
          "model_name": "HTMLModel",
          "model_module_version": "1.5.0",
          "state": {
            "_dom_classes": [],
            "_model_module": "@jupyter-widgets/controls",
            "_model_module_version": "1.5.0",
            "_model_name": "HTMLModel",
            "_view_count": null,
            "_view_module": "@jupyter-widgets/controls",
            "_view_module_version": "1.5.0",
            "_view_name": "HTMLView",
            "description": "",
            "description_tooltip": null,
            "layout": "IPY_MODEL_a998508179ed47829fb3b2ff7d8f7e74",
            "placeholder": "​",
            "style": "IPY_MODEL_6544152aa02f49a69ae58d8d4d65304c",
            "value": "Downloading metadata: 100%"
          }
        },
        "7bccdc7f9f53469196849d5bd4f186aa": {
          "model_module": "@jupyter-widgets/controls",
          "model_name": "FloatProgressModel",
          "model_module_version": "1.5.0",
          "state": {
            "_dom_classes": [],
            "_model_module": "@jupyter-widgets/controls",
            "_model_module_version": "1.5.0",
            "_model_name": "FloatProgressModel",
            "_view_count": null,
            "_view_module": "@jupyter-widgets/controls",
            "_view_module_version": "1.5.0",
            "_view_name": "ProgressView",
            "bar_style": "success",
            "description": "",
            "description_tooltip": null,
            "layout": "IPY_MODEL_d5ac2aa0568748269113dda5f11d97a9",
            "max": 2021,
            "min": 0,
            "orientation": "horizontal",
            "style": "IPY_MODEL_836781df8a14480b919cb78db8b079b1",
            "value": 2021
          }
        },
        "f18f35de450f473aa04f06034597ef82": {
          "model_module": "@jupyter-widgets/controls",
          "model_name": "HTMLModel",
          "model_module_version": "1.5.0",
          "state": {
            "_dom_classes": [],
            "_model_module": "@jupyter-widgets/controls",
            "_model_module_version": "1.5.0",
            "_model_name": "HTMLModel",
            "_view_count": null,
            "_view_module": "@jupyter-widgets/controls",
            "_view_module_version": "1.5.0",
            "_view_name": "HTMLView",
            "description": "",
            "description_tooltip": null,
            "layout": "IPY_MODEL_f7105905d8474308b09fb17714b7199f",
            "placeholder": "​",
            "style": "IPY_MODEL_48234489a2634db8995da8b3a2380545",
            "value": " 2.02k/2.02k [00:00&lt;00:00, 161kB/s]"
          }
        },
        "b18477493b62491f9b93a456fe3bf01b": {
          "model_module": "@jupyter-widgets/base",
          "model_name": "LayoutModel",
          "model_module_version": "1.2.0",
          "state": {
            "_model_module": "@jupyter-widgets/base",
            "_model_module_version": "1.2.0",
            "_model_name": "LayoutModel",
            "_view_count": null,
            "_view_module": "@jupyter-widgets/base",
            "_view_module_version": "1.2.0",
            "_view_name": "LayoutView",
            "align_content": null,
            "align_items": null,
            "align_self": null,
            "border": null,
            "bottom": null,
            "display": null,
            "flex": null,
            "flex_flow": null,
            "grid_area": null,
            "grid_auto_columns": null,
            "grid_auto_flow": null,
            "grid_auto_rows": null,
            "grid_column": null,
            "grid_gap": null,
            "grid_row": null,
            "grid_template_areas": null,
            "grid_template_columns": null,
            "grid_template_rows": null,
            "height": null,
            "justify_content": null,
            "justify_items": null,
            "left": null,
            "margin": null,
            "max_height": null,
            "max_width": null,
            "min_height": null,
            "min_width": null,
            "object_fit": null,
            "object_position": null,
            "order": null,
            "overflow": null,
            "overflow_x": null,
            "overflow_y": null,
            "padding": null,
            "right": null,
            "top": null,
            "visibility": null,
            "width": null
          }
        },
        "a998508179ed47829fb3b2ff7d8f7e74": {
          "model_module": "@jupyter-widgets/base",
          "model_name": "LayoutModel",
          "model_module_version": "1.2.0",
          "state": {
            "_model_module": "@jupyter-widgets/base",
            "_model_module_version": "1.2.0",
            "_model_name": "LayoutModel",
            "_view_count": null,
            "_view_module": "@jupyter-widgets/base",
            "_view_module_version": "1.2.0",
            "_view_name": "LayoutView",
            "align_content": null,
            "align_items": null,
            "align_self": null,
            "border": null,
            "bottom": null,
            "display": null,
            "flex": null,
            "flex_flow": null,
            "grid_area": null,
            "grid_auto_columns": null,
            "grid_auto_flow": null,
            "grid_auto_rows": null,
            "grid_column": null,
            "grid_gap": null,
            "grid_row": null,
            "grid_template_areas": null,
            "grid_template_columns": null,
            "grid_template_rows": null,
            "height": null,
            "justify_content": null,
            "justify_items": null,
            "left": null,
            "margin": null,
            "max_height": null,
            "max_width": null,
            "min_height": null,
            "min_width": null,
            "object_fit": null,
            "object_position": null,
            "order": null,
            "overflow": null,
            "overflow_x": null,
            "overflow_y": null,
            "padding": null,
            "right": null,
            "top": null,
            "visibility": null,
            "width": null
          }
        },
        "6544152aa02f49a69ae58d8d4d65304c": {
          "model_module": "@jupyter-widgets/controls",
          "model_name": "DescriptionStyleModel",
          "model_module_version": "1.5.0",
          "state": {
            "_model_module": "@jupyter-widgets/controls",
            "_model_module_version": "1.5.0",
            "_model_name": "DescriptionStyleModel",
            "_view_count": null,
            "_view_module": "@jupyter-widgets/base",
            "_view_module_version": "1.2.0",
            "_view_name": "StyleView",
            "description_width": ""
          }
        },
        "d5ac2aa0568748269113dda5f11d97a9": {
          "model_module": "@jupyter-widgets/base",
          "model_name": "LayoutModel",
          "model_module_version": "1.2.0",
          "state": {
            "_model_module": "@jupyter-widgets/base",
            "_model_module_version": "1.2.0",
            "_model_name": "LayoutModel",
            "_view_count": null,
            "_view_module": "@jupyter-widgets/base",
            "_view_module_version": "1.2.0",
            "_view_name": "LayoutView",
            "align_content": null,
            "align_items": null,
            "align_self": null,
            "border": null,
            "bottom": null,
            "display": null,
            "flex": null,
            "flex_flow": null,
            "grid_area": null,
            "grid_auto_columns": null,
            "grid_auto_flow": null,
            "grid_auto_rows": null,
            "grid_column": null,
            "grid_gap": null,
            "grid_row": null,
            "grid_template_areas": null,
            "grid_template_columns": null,
            "grid_template_rows": null,
            "height": null,
            "justify_content": null,
            "justify_items": null,
            "left": null,
            "margin": null,
            "max_height": null,
            "max_width": null,
            "min_height": null,
            "min_width": null,
            "object_fit": null,
            "object_position": null,
            "order": null,
            "overflow": null,
            "overflow_x": null,
            "overflow_y": null,
            "padding": null,
            "right": null,
            "top": null,
            "visibility": null,
            "width": null
          }
        },
        "836781df8a14480b919cb78db8b079b1": {
          "model_module": "@jupyter-widgets/controls",
          "model_name": "ProgressStyleModel",
          "model_module_version": "1.5.0",
          "state": {
            "_model_module": "@jupyter-widgets/controls",
            "_model_module_version": "1.5.0",
            "_model_name": "ProgressStyleModel",
            "_view_count": null,
            "_view_module": "@jupyter-widgets/base",
            "_view_module_version": "1.2.0",
            "_view_name": "StyleView",
            "bar_color": null,
            "description_width": ""
          }
        },
        "f7105905d8474308b09fb17714b7199f": {
          "model_module": "@jupyter-widgets/base",
          "model_name": "LayoutModel",
          "model_module_version": "1.2.0",
          "state": {
            "_model_module": "@jupyter-widgets/base",
            "_model_module_version": "1.2.0",
            "_model_name": "LayoutModel",
            "_view_count": null,
            "_view_module": "@jupyter-widgets/base",
            "_view_module_version": "1.2.0",
            "_view_name": "LayoutView",
            "align_content": null,
            "align_items": null,
            "align_self": null,
            "border": null,
            "bottom": null,
            "display": null,
            "flex": null,
            "flex_flow": null,
            "grid_area": null,
            "grid_auto_columns": null,
            "grid_auto_flow": null,
            "grid_auto_rows": null,
            "grid_column": null,
            "grid_gap": null,
            "grid_row": null,
            "grid_template_areas": null,
            "grid_template_columns": null,
            "grid_template_rows": null,
            "height": null,
            "justify_content": null,
            "justify_items": null,
            "left": null,
            "margin": null,
            "max_height": null,
            "max_width": null,
            "min_height": null,
            "min_width": null,
            "object_fit": null,
            "object_position": null,
            "order": null,
            "overflow": null,
            "overflow_x": null,
            "overflow_y": null,
            "padding": null,
            "right": null,
            "top": null,
            "visibility": null,
            "width": null
          }
        },
        "48234489a2634db8995da8b3a2380545": {
          "model_module": "@jupyter-widgets/controls",
          "model_name": "DescriptionStyleModel",
          "model_module_version": "1.5.0",
          "state": {
            "_model_module": "@jupyter-widgets/controls",
            "_model_module_version": "1.5.0",
            "_model_name": "DescriptionStyleModel",
            "_view_count": null,
            "_view_module": "@jupyter-widgets/base",
            "_view_module_version": "1.2.0",
            "_view_name": "StyleView",
            "description_width": ""
          }
        },
        "6575308a84864b87ab073fa1cb83e8e0": {
          "model_module": "@jupyter-widgets/controls",
          "model_name": "HBoxModel",
          "model_module_version": "1.5.0",
          "state": {
            "_dom_classes": [],
            "_model_module": "@jupyter-widgets/controls",
            "_model_module_version": "1.5.0",
            "_model_name": "HBoxModel",
            "_view_count": null,
            "_view_module": "@jupyter-widgets/controls",
            "_view_module_version": "1.5.0",
            "_view_name": "HBoxView",
            "box_style": "",
            "children": [
              "IPY_MODEL_6e8294ff1f8e410e93203b4d82e4d734",
              "IPY_MODEL_3661f0545a6a45c8805fca9f6efa6c2b",
              "IPY_MODEL_7b135fa9ee0f48388dfca7bb4c76ae9e"
            ],
            "layout": "IPY_MODEL_da7b2513e8f14d2bab419e6568c15632"
          }
        },
        "6e8294ff1f8e410e93203b4d82e4d734": {
          "model_module": "@jupyter-widgets/controls",
          "model_name": "HTMLModel",
          "model_module_version": "1.5.0",
          "state": {
            "_dom_classes": [],
            "_model_module": "@jupyter-widgets/controls",
            "_model_module_version": "1.5.0",
            "_model_name": "HTMLModel",
            "_view_count": null,
            "_view_module": "@jupyter-widgets/controls",
            "_view_module_version": "1.5.0",
            "_view_name": "HTMLView",
            "description": "",
            "description_tooltip": null,
            "layout": "IPY_MODEL_bedf0785684a472ea48d083877e391da",
            "placeholder": "​",
            "style": "IPY_MODEL_f9dba6764ba3407492c2052f5ab4c0d4",
            "value": "Downloading readme: 100%"
          }
        },
        "3661f0545a6a45c8805fca9f6efa6c2b": {
          "model_module": "@jupyter-widgets/controls",
          "model_name": "FloatProgressModel",
          "model_module_version": "1.5.0",
          "state": {
            "_dom_classes": [],
            "_model_module": "@jupyter-widgets/controls",
            "_model_module_version": "1.5.0",
            "_model_name": "FloatProgressModel",
            "_view_count": null,
            "_view_module": "@jupyter-widgets/controls",
            "_view_module_version": "1.5.0",
            "_view_name": "ProgressView",
            "bar_style": "success",
            "description": "",
            "description_tooltip": null,
            "layout": "IPY_MODEL_eecae47908db43dc83ebd807decf756d",
            "max": 7247,
            "min": 0,
            "orientation": "horizontal",
            "style": "IPY_MODEL_7d1029a278d74130b1c72f8cef6fb40d",
            "value": 7247
          }
        },
        "7b135fa9ee0f48388dfca7bb4c76ae9e": {
          "model_module": "@jupyter-widgets/controls",
          "model_name": "HTMLModel",
          "model_module_version": "1.5.0",
          "state": {
            "_dom_classes": [],
            "_model_module": "@jupyter-widgets/controls",
            "_model_module_version": "1.5.0",
            "_model_name": "HTMLModel",
            "_view_count": null,
            "_view_module": "@jupyter-widgets/controls",
            "_view_module_version": "1.5.0",
            "_view_name": "HTMLView",
            "description": "",
            "description_tooltip": null,
            "layout": "IPY_MODEL_c6d8fa2cf5fb4d1085bd983346f9230c",
            "placeholder": "​",
            "style": "IPY_MODEL_0a50d70114cf4f078a747fbb3c22c7e3",
            "value": " 7.25k/7.25k [00:00&lt;00:00, 472kB/s]"
          }
        },
        "da7b2513e8f14d2bab419e6568c15632": {
          "model_module": "@jupyter-widgets/base",
          "model_name": "LayoutModel",
          "model_module_version": "1.2.0",
          "state": {
            "_model_module": "@jupyter-widgets/base",
            "_model_module_version": "1.2.0",
            "_model_name": "LayoutModel",
            "_view_count": null,
            "_view_module": "@jupyter-widgets/base",
            "_view_module_version": "1.2.0",
            "_view_name": "LayoutView",
            "align_content": null,
            "align_items": null,
            "align_self": null,
            "border": null,
            "bottom": null,
            "display": null,
            "flex": null,
            "flex_flow": null,
            "grid_area": null,
            "grid_auto_columns": null,
            "grid_auto_flow": null,
            "grid_auto_rows": null,
            "grid_column": null,
            "grid_gap": null,
            "grid_row": null,
            "grid_template_areas": null,
            "grid_template_columns": null,
            "grid_template_rows": null,
            "height": null,
            "justify_content": null,
            "justify_items": null,
            "left": null,
            "margin": null,
            "max_height": null,
            "max_width": null,
            "min_height": null,
            "min_width": null,
            "object_fit": null,
            "object_position": null,
            "order": null,
            "overflow": null,
            "overflow_x": null,
            "overflow_y": null,
            "padding": null,
            "right": null,
            "top": null,
            "visibility": null,
            "width": null
          }
        },
        "bedf0785684a472ea48d083877e391da": {
          "model_module": "@jupyter-widgets/base",
          "model_name": "LayoutModel",
          "model_module_version": "1.2.0",
          "state": {
            "_model_module": "@jupyter-widgets/base",
            "_model_module_version": "1.2.0",
            "_model_name": "LayoutModel",
            "_view_count": null,
            "_view_module": "@jupyter-widgets/base",
            "_view_module_version": "1.2.0",
            "_view_name": "LayoutView",
            "align_content": null,
            "align_items": null,
            "align_self": null,
            "border": null,
            "bottom": null,
            "display": null,
            "flex": null,
            "flex_flow": null,
            "grid_area": null,
            "grid_auto_columns": null,
            "grid_auto_flow": null,
            "grid_auto_rows": null,
            "grid_column": null,
            "grid_gap": null,
            "grid_row": null,
            "grid_template_areas": null,
            "grid_template_columns": null,
            "grid_template_rows": null,
            "height": null,
            "justify_content": null,
            "justify_items": null,
            "left": null,
            "margin": null,
            "max_height": null,
            "max_width": null,
            "min_height": null,
            "min_width": null,
            "object_fit": null,
            "object_position": null,
            "order": null,
            "overflow": null,
            "overflow_x": null,
            "overflow_y": null,
            "padding": null,
            "right": null,
            "top": null,
            "visibility": null,
            "width": null
          }
        },
        "f9dba6764ba3407492c2052f5ab4c0d4": {
          "model_module": "@jupyter-widgets/controls",
          "model_name": "DescriptionStyleModel",
          "model_module_version": "1.5.0",
          "state": {
            "_model_module": "@jupyter-widgets/controls",
            "_model_module_version": "1.5.0",
            "_model_name": "DescriptionStyleModel",
            "_view_count": null,
            "_view_module": "@jupyter-widgets/base",
            "_view_module_version": "1.2.0",
            "_view_name": "StyleView",
            "description_width": ""
          }
        },
        "eecae47908db43dc83ebd807decf756d": {
          "model_module": "@jupyter-widgets/base",
          "model_name": "LayoutModel",
          "model_module_version": "1.2.0",
          "state": {
            "_model_module": "@jupyter-widgets/base",
            "_model_module_version": "1.2.0",
            "_model_name": "LayoutModel",
            "_view_count": null,
            "_view_module": "@jupyter-widgets/base",
            "_view_module_version": "1.2.0",
            "_view_name": "LayoutView",
            "align_content": null,
            "align_items": null,
            "align_self": null,
            "border": null,
            "bottom": null,
            "display": null,
            "flex": null,
            "flex_flow": null,
            "grid_area": null,
            "grid_auto_columns": null,
            "grid_auto_flow": null,
            "grid_auto_rows": null,
            "grid_column": null,
            "grid_gap": null,
            "grid_row": null,
            "grid_template_areas": null,
            "grid_template_columns": null,
            "grid_template_rows": null,
            "height": null,
            "justify_content": null,
            "justify_items": null,
            "left": null,
            "margin": null,
            "max_height": null,
            "max_width": null,
            "min_height": null,
            "min_width": null,
            "object_fit": null,
            "object_position": null,
            "order": null,
            "overflow": null,
            "overflow_x": null,
            "overflow_y": null,
            "padding": null,
            "right": null,
            "top": null,
            "visibility": null,
            "width": null
          }
        },
        "7d1029a278d74130b1c72f8cef6fb40d": {
          "model_module": "@jupyter-widgets/controls",
          "model_name": "ProgressStyleModel",
          "model_module_version": "1.5.0",
          "state": {
            "_model_module": "@jupyter-widgets/controls",
            "_model_module_version": "1.5.0",
            "_model_name": "ProgressStyleModel",
            "_view_count": null,
            "_view_module": "@jupyter-widgets/base",
            "_view_module_version": "1.2.0",
            "_view_name": "StyleView",
            "bar_color": null,
            "description_width": ""
          }
        },
        "c6d8fa2cf5fb4d1085bd983346f9230c": {
          "model_module": "@jupyter-widgets/base",
          "model_name": "LayoutModel",
          "model_module_version": "1.2.0",
          "state": {
            "_model_module": "@jupyter-widgets/base",
            "_model_module_version": "1.2.0",
            "_model_name": "LayoutModel",
            "_view_count": null,
            "_view_module": "@jupyter-widgets/base",
            "_view_module_version": "1.2.0",
            "_view_name": "LayoutView",
            "align_content": null,
            "align_items": null,
            "align_self": null,
            "border": null,
            "bottom": null,
            "display": null,
            "flex": null,
            "flex_flow": null,
            "grid_area": null,
            "grid_auto_columns": null,
            "grid_auto_flow": null,
            "grid_auto_rows": null,
            "grid_column": null,
            "grid_gap": null,
            "grid_row": null,
            "grid_template_areas": null,
            "grid_template_columns": null,
            "grid_template_rows": null,
            "height": null,
            "justify_content": null,
            "justify_items": null,
            "left": null,
            "margin": null,
            "max_height": null,
            "max_width": null,
            "min_height": null,
            "min_width": null,
            "object_fit": null,
            "object_position": null,
            "order": null,
            "overflow": null,
            "overflow_x": null,
            "overflow_y": null,
            "padding": null,
            "right": null,
            "top": null,
            "visibility": null,
            "width": null
          }
        },
        "0a50d70114cf4f078a747fbb3c22c7e3": {
          "model_module": "@jupyter-widgets/controls",
          "model_name": "DescriptionStyleModel",
          "model_module_version": "1.5.0",
          "state": {
            "_model_module": "@jupyter-widgets/controls",
            "_model_module_version": "1.5.0",
            "_model_name": "DescriptionStyleModel",
            "_view_count": null,
            "_view_module": "@jupyter-widgets/base",
            "_view_module_version": "1.2.0",
            "_view_name": "StyleView",
            "description_width": ""
          }
        },
        "d4d68ced6cf342a298096342a71d663d": {
          "model_module": "@jupyter-widgets/controls",
          "model_name": "HBoxModel",
          "model_module_version": "1.5.0",
          "state": {
            "_dom_classes": [],
            "_model_module": "@jupyter-widgets/controls",
            "_model_module_version": "1.5.0",
            "_model_name": "HBoxModel",
            "_view_count": null,
            "_view_module": "@jupyter-widgets/controls",
            "_view_module_version": "1.5.0",
            "_view_name": "HBoxView",
            "box_style": "",
            "children": [
              "IPY_MODEL_52fa79e487fa40fd8f9fbad1bb242179",
              "IPY_MODEL_d97c82853f2d43f79e640ac8c16de78a",
              "IPY_MODEL_1fcfa9fbab714acbba8e0cacdfe0ee4f"
            ],
            "layout": "IPY_MODEL_ae583b4070464b65b5da3a034d31de3a"
          }
        },
        "52fa79e487fa40fd8f9fbad1bb242179": {
          "model_module": "@jupyter-widgets/controls",
          "model_name": "HTMLModel",
          "model_module_version": "1.5.0",
          "state": {
            "_dom_classes": [],
            "_model_module": "@jupyter-widgets/controls",
            "_model_module_version": "1.5.0",
            "_model_name": "HTMLModel",
            "_view_count": null,
            "_view_module": "@jupyter-widgets/controls",
            "_view_module_version": "1.5.0",
            "_view_name": "HTMLView",
            "description": "",
            "description_tooltip": null,
            "layout": "IPY_MODEL_3903dd136cd2413c81acb1758061d27f",
            "placeholder": "​",
            "style": "IPY_MODEL_44c39aaae01f4c8f96c16c9f5b360b35",
            "value": "Downloading data: 100%"
          }
        },
        "d97c82853f2d43f79e640ac8c16de78a": {
          "model_module": "@jupyter-widgets/controls",
          "model_name": "FloatProgressModel",
          "model_module_version": "1.5.0",
          "state": {
            "_dom_classes": [],
            "_model_module": "@jupyter-widgets/controls",
            "_model_module_version": "1.5.0",
            "_model_name": "FloatProgressModel",
            "_view_count": null,
            "_view_module": "@jupyter-widgets/controls",
            "_view_module_version": "1.5.0",
            "_view_name": "ProgressView",
            "bar_style": "success",
            "description": "",
            "description_tooltip": null,
            "layout": "IPY_MODEL_eb3afde876a340ebbf0b4e8fc94727c7",
            "max": 487770,
            "min": 0,
            "orientation": "horizontal",
            "style": "IPY_MODEL_6c72a28650b84bd68069130b7dc4be11",
            "value": 487770
          }
        },
        "1fcfa9fbab714acbba8e0cacdfe0ee4f": {
          "model_module": "@jupyter-widgets/controls",
          "model_name": "HTMLModel",
          "model_module_version": "1.5.0",
          "state": {
            "_dom_classes": [],
            "_model_module": "@jupyter-widgets/controls",
            "_model_module_version": "1.5.0",
            "_model_name": "HTMLModel",
            "_view_count": null,
            "_view_module": "@jupyter-widgets/controls",
            "_view_module_version": "1.5.0",
            "_view_name": "HTMLView",
            "description": "",
            "description_tooltip": null,
            "layout": "IPY_MODEL_58708b15d15648c0992e102416c64e52",
            "placeholder": "​",
            "style": "IPY_MODEL_8dd6037a1a654fbbaffe3ffd7751428e",
            "value": " 488k/488k [00:01&lt;00:00, 532kB/s]"
          }
        },
        "ae583b4070464b65b5da3a034d31de3a": {
          "model_module": "@jupyter-widgets/base",
          "model_name": "LayoutModel",
          "model_module_version": "1.2.0",
          "state": {
            "_model_module": "@jupyter-widgets/base",
            "_model_module_version": "1.2.0",
            "_model_name": "LayoutModel",
            "_view_count": null,
            "_view_module": "@jupyter-widgets/base",
            "_view_module_version": "1.2.0",
            "_view_name": "LayoutView",
            "align_content": null,
            "align_items": null,
            "align_self": null,
            "border": null,
            "bottom": null,
            "display": null,
            "flex": null,
            "flex_flow": null,
            "grid_area": null,
            "grid_auto_columns": null,
            "grid_auto_flow": null,
            "grid_auto_rows": null,
            "grid_column": null,
            "grid_gap": null,
            "grid_row": null,
            "grid_template_areas": null,
            "grid_template_columns": null,
            "grid_template_rows": null,
            "height": null,
            "justify_content": null,
            "justify_items": null,
            "left": null,
            "margin": null,
            "max_height": null,
            "max_width": null,
            "min_height": null,
            "min_width": null,
            "object_fit": null,
            "object_position": null,
            "order": null,
            "overflow": null,
            "overflow_x": null,
            "overflow_y": null,
            "padding": null,
            "right": null,
            "top": null,
            "visibility": null,
            "width": null
          }
        },
        "3903dd136cd2413c81acb1758061d27f": {
          "model_module": "@jupyter-widgets/base",
          "model_name": "LayoutModel",
          "model_module_version": "1.2.0",
          "state": {
            "_model_module": "@jupyter-widgets/base",
            "_model_module_version": "1.2.0",
            "_model_name": "LayoutModel",
            "_view_count": null,
            "_view_module": "@jupyter-widgets/base",
            "_view_module_version": "1.2.0",
            "_view_name": "LayoutView",
            "align_content": null,
            "align_items": null,
            "align_self": null,
            "border": null,
            "bottom": null,
            "display": null,
            "flex": null,
            "flex_flow": null,
            "grid_area": null,
            "grid_auto_columns": null,
            "grid_auto_flow": null,
            "grid_auto_rows": null,
            "grid_column": null,
            "grid_gap": null,
            "grid_row": null,
            "grid_template_areas": null,
            "grid_template_columns": null,
            "grid_template_rows": null,
            "height": null,
            "justify_content": null,
            "justify_items": null,
            "left": null,
            "margin": null,
            "max_height": null,
            "max_width": null,
            "min_height": null,
            "min_width": null,
            "object_fit": null,
            "object_position": null,
            "order": null,
            "overflow": null,
            "overflow_x": null,
            "overflow_y": null,
            "padding": null,
            "right": null,
            "top": null,
            "visibility": null,
            "width": null
          }
        },
        "44c39aaae01f4c8f96c16c9f5b360b35": {
          "model_module": "@jupyter-widgets/controls",
          "model_name": "DescriptionStyleModel",
          "model_module_version": "1.5.0",
          "state": {
            "_model_module": "@jupyter-widgets/controls",
            "_model_module_version": "1.5.0",
            "_model_name": "DescriptionStyleModel",
            "_view_count": null,
            "_view_module": "@jupyter-widgets/base",
            "_view_module_version": "1.2.0",
            "_view_name": "StyleView",
            "description_width": ""
          }
        },
        "eb3afde876a340ebbf0b4e8fc94727c7": {
          "model_module": "@jupyter-widgets/base",
          "model_name": "LayoutModel",
          "model_module_version": "1.2.0",
          "state": {
            "_model_module": "@jupyter-widgets/base",
            "_model_module_version": "1.2.0",
            "_model_name": "LayoutModel",
            "_view_count": null,
            "_view_module": "@jupyter-widgets/base",
            "_view_module_version": "1.2.0",
            "_view_name": "LayoutView",
            "align_content": null,
            "align_items": null,
            "align_self": null,
            "border": null,
            "bottom": null,
            "display": null,
            "flex": null,
            "flex_flow": null,
            "grid_area": null,
            "grid_auto_columns": null,
            "grid_auto_flow": null,
            "grid_auto_rows": null,
            "grid_column": null,
            "grid_gap": null,
            "grid_row": null,
            "grid_template_areas": null,
            "grid_template_columns": null,
            "grid_template_rows": null,
            "height": null,
            "justify_content": null,
            "justify_items": null,
            "left": null,
            "margin": null,
            "max_height": null,
            "max_width": null,
            "min_height": null,
            "min_width": null,
            "object_fit": null,
            "object_position": null,
            "order": null,
            "overflow": null,
            "overflow_x": null,
            "overflow_y": null,
            "padding": null,
            "right": null,
            "top": null,
            "visibility": null,
            "width": null
          }
        },
        "6c72a28650b84bd68069130b7dc4be11": {
          "model_module": "@jupyter-widgets/controls",
          "model_name": "ProgressStyleModel",
          "model_module_version": "1.5.0",
          "state": {
            "_model_module": "@jupyter-widgets/controls",
            "_model_module_version": "1.5.0",
            "_model_name": "ProgressStyleModel",
            "_view_count": null,
            "_view_module": "@jupyter-widgets/base",
            "_view_module_version": "1.2.0",
            "_view_name": "StyleView",
            "bar_color": null,
            "description_width": ""
          }
        },
        "58708b15d15648c0992e102416c64e52": {
          "model_module": "@jupyter-widgets/base",
          "model_name": "LayoutModel",
          "model_module_version": "1.2.0",
          "state": {
            "_model_module": "@jupyter-widgets/base",
            "_model_module_version": "1.2.0",
            "_model_name": "LayoutModel",
            "_view_count": null,
            "_view_module": "@jupyter-widgets/base",
            "_view_module_version": "1.2.0",
            "_view_name": "LayoutView",
            "align_content": null,
            "align_items": null,
            "align_self": null,
            "border": null,
            "bottom": null,
            "display": null,
            "flex": null,
            "flex_flow": null,
            "grid_area": null,
            "grid_auto_columns": null,
            "grid_auto_flow": null,
            "grid_auto_rows": null,
            "grid_column": null,
            "grid_gap": null,
            "grid_row": null,
            "grid_template_areas": null,
            "grid_template_columns": null,
            "grid_template_rows": null,
            "height": null,
            "justify_content": null,
            "justify_items": null,
            "left": null,
            "margin": null,
            "max_height": null,
            "max_width": null,
            "min_height": null,
            "min_width": null,
            "object_fit": null,
            "object_position": null,
            "order": null,
            "overflow": null,
            "overflow_x": null,
            "overflow_y": null,
            "padding": null,
            "right": null,
            "top": null,
            "visibility": null,
            "width": null
          }
        },
        "8dd6037a1a654fbbaffe3ffd7751428e": {
          "model_module": "@jupyter-widgets/controls",
          "model_name": "DescriptionStyleModel",
          "model_module_version": "1.5.0",
          "state": {
            "_model_module": "@jupyter-widgets/controls",
            "_model_module_version": "1.5.0",
            "_model_name": "DescriptionStyleModel",
            "_view_count": null,
            "_view_module": "@jupyter-widgets/base",
            "_view_module_version": "1.2.0",
            "_view_name": "StyleView",
            "description_width": ""
          }
        },
        "a6ce73448b634e539622abcdc0337e99": {
          "model_module": "@jupyter-widgets/controls",
          "model_name": "HBoxModel",
          "model_module_version": "1.5.0",
          "state": {
            "_dom_classes": [],
            "_model_module": "@jupyter-widgets/controls",
            "_model_module_version": "1.5.0",
            "_model_name": "HBoxModel",
            "_view_count": null,
            "_view_module": "@jupyter-widgets/controls",
            "_view_module_version": "1.5.0",
            "_view_name": "HBoxView",
            "box_style": "",
            "children": [
              "IPY_MODEL_f7160ad615784142be55dc57ba2646a9",
              "IPY_MODEL_015a5af96e9d4734a61ca8741257f749",
              "IPY_MODEL_c43d3b6e5a654f3f85154604551bb53d"
            ],
            "layout": "IPY_MODEL_7f6b8b89eae44c1790f67427c638d4e8"
          }
        },
        "f7160ad615784142be55dc57ba2646a9": {
          "model_module": "@jupyter-widgets/controls",
          "model_name": "HTMLModel",
          "model_module_version": "1.5.0",
          "state": {
            "_dom_classes": [],
            "_model_module": "@jupyter-widgets/controls",
            "_model_module_version": "1.5.0",
            "_model_name": "HTMLModel",
            "_view_count": null,
            "_view_module": "@jupyter-widgets/controls",
            "_view_module_version": "1.5.0",
            "_view_name": "HTMLView",
            "description": "",
            "description_tooltip": null,
            "layout": "IPY_MODEL_2a2cf3f9c08d4a56932c98f89d22e6b1",
            "placeholder": "​",
            "style": "IPY_MODEL_fdcae0ed93974a8ab25c9d1b3120de0c",
            "value": "Generating train split: 100%"
          }
        },
        "015a5af96e9d4734a61ca8741257f749": {
          "model_module": "@jupyter-widgets/controls",
          "model_name": "FloatProgressModel",
          "model_module_version": "1.5.0",
          "state": {
            "_dom_classes": [],
            "_model_module": "@jupyter-widgets/controls",
            "_model_module_version": "1.5.0",
            "_model_name": "FloatProgressModel",
            "_view_count": null,
            "_view_module": "@jupyter-widgets/controls",
            "_view_module_version": "1.5.0",
            "_view_name": "ProgressView",
            "bar_style": "success",
            "description": "",
            "description_tooltip": null,
            "layout": "IPY_MODEL_e844b57943a1476da66411e991c1e253",
            "max": 8530,
            "min": 0,
            "orientation": "horizontal",
            "style": "IPY_MODEL_df6acb4039ca43018bfa7857df8d2ab4",
            "value": 8530
          }
        },
        "c43d3b6e5a654f3f85154604551bb53d": {
          "model_module": "@jupyter-widgets/controls",
          "model_name": "HTMLModel",
          "model_module_version": "1.5.0",
          "state": {
            "_dom_classes": [],
            "_model_module": "@jupyter-widgets/controls",
            "_model_module_version": "1.5.0",
            "_model_name": "HTMLModel",
            "_view_count": null,
            "_view_module": "@jupyter-widgets/controls",
            "_view_module_version": "1.5.0",
            "_view_name": "HTMLView",
            "description": "",
            "description_tooltip": null,
            "layout": "IPY_MODEL_8e35a6d268a04183a52fd0897147cf33",
            "placeholder": "​",
            "style": "IPY_MODEL_60a9ff5898c54697bf78cfcf41484622",
            "value": " 8530/8530 [00:00&lt;00:00, 26420.22 examples/s]"
          }
        },
        "7f6b8b89eae44c1790f67427c638d4e8": {
          "model_module": "@jupyter-widgets/base",
          "model_name": "LayoutModel",
          "model_module_version": "1.2.0",
          "state": {
            "_model_module": "@jupyter-widgets/base",
            "_model_module_version": "1.2.0",
            "_model_name": "LayoutModel",
            "_view_count": null,
            "_view_module": "@jupyter-widgets/base",
            "_view_module_version": "1.2.0",
            "_view_name": "LayoutView",
            "align_content": null,
            "align_items": null,
            "align_self": null,
            "border": null,
            "bottom": null,
            "display": null,
            "flex": null,
            "flex_flow": null,
            "grid_area": null,
            "grid_auto_columns": null,
            "grid_auto_flow": null,
            "grid_auto_rows": null,
            "grid_column": null,
            "grid_gap": null,
            "grid_row": null,
            "grid_template_areas": null,
            "grid_template_columns": null,
            "grid_template_rows": null,
            "height": null,
            "justify_content": null,
            "justify_items": null,
            "left": null,
            "margin": null,
            "max_height": null,
            "max_width": null,
            "min_height": null,
            "min_width": null,
            "object_fit": null,
            "object_position": null,
            "order": null,
            "overflow": null,
            "overflow_x": null,
            "overflow_y": null,
            "padding": null,
            "right": null,
            "top": null,
            "visibility": null,
            "width": null
          }
        },
        "2a2cf3f9c08d4a56932c98f89d22e6b1": {
          "model_module": "@jupyter-widgets/base",
          "model_name": "LayoutModel",
          "model_module_version": "1.2.0",
          "state": {
            "_model_module": "@jupyter-widgets/base",
            "_model_module_version": "1.2.0",
            "_model_name": "LayoutModel",
            "_view_count": null,
            "_view_module": "@jupyter-widgets/base",
            "_view_module_version": "1.2.0",
            "_view_name": "LayoutView",
            "align_content": null,
            "align_items": null,
            "align_self": null,
            "border": null,
            "bottom": null,
            "display": null,
            "flex": null,
            "flex_flow": null,
            "grid_area": null,
            "grid_auto_columns": null,
            "grid_auto_flow": null,
            "grid_auto_rows": null,
            "grid_column": null,
            "grid_gap": null,
            "grid_row": null,
            "grid_template_areas": null,
            "grid_template_columns": null,
            "grid_template_rows": null,
            "height": null,
            "justify_content": null,
            "justify_items": null,
            "left": null,
            "margin": null,
            "max_height": null,
            "max_width": null,
            "min_height": null,
            "min_width": null,
            "object_fit": null,
            "object_position": null,
            "order": null,
            "overflow": null,
            "overflow_x": null,
            "overflow_y": null,
            "padding": null,
            "right": null,
            "top": null,
            "visibility": null,
            "width": null
          }
        },
        "fdcae0ed93974a8ab25c9d1b3120de0c": {
          "model_module": "@jupyter-widgets/controls",
          "model_name": "DescriptionStyleModel",
          "model_module_version": "1.5.0",
          "state": {
            "_model_module": "@jupyter-widgets/controls",
            "_model_module_version": "1.5.0",
            "_model_name": "DescriptionStyleModel",
            "_view_count": null,
            "_view_module": "@jupyter-widgets/base",
            "_view_module_version": "1.2.0",
            "_view_name": "StyleView",
            "description_width": ""
          }
        },
        "e844b57943a1476da66411e991c1e253": {
          "model_module": "@jupyter-widgets/base",
          "model_name": "LayoutModel",
          "model_module_version": "1.2.0",
          "state": {
            "_model_module": "@jupyter-widgets/base",
            "_model_module_version": "1.2.0",
            "_model_name": "LayoutModel",
            "_view_count": null,
            "_view_module": "@jupyter-widgets/base",
            "_view_module_version": "1.2.0",
            "_view_name": "LayoutView",
            "align_content": null,
            "align_items": null,
            "align_self": null,
            "border": null,
            "bottom": null,
            "display": null,
            "flex": null,
            "flex_flow": null,
            "grid_area": null,
            "grid_auto_columns": null,
            "grid_auto_flow": null,
            "grid_auto_rows": null,
            "grid_column": null,
            "grid_gap": null,
            "grid_row": null,
            "grid_template_areas": null,
            "grid_template_columns": null,
            "grid_template_rows": null,
            "height": null,
            "justify_content": null,
            "justify_items": null,
            "left": null,
            "margin": null,
            "max_height": null,
            "max_width": null,
            "min_height": null,
            "min_width": null,
            "object_fit": null,
            "object_position": null,
            "order": null,
            "overflow": null,
            "overflow_x": null,
            "overflow_y": null,
            "padding": null,
            "right": null,
            "top": null,
            "visibility": null,
            "width": null
          }
        },
        "df6acb4039ca43018bfa7857df8d2ab4": {
          "model_module": "@jupyter-widgets/controls",
          "model_name": "ProgressStyleModel",
          "model_module_version": "1.5.0",
          "state": {
            "_model_module": "@jupyter-widgets/controls",
            "_model_module_version": "1.5.0",
            "_model_name": "ProgressStyleModel",
            "_view_count": null,
            "_view_module": "@jupyter-widgets/base",
            "_view_module_version": "1.2.0",
            "_view_name": "StyleView",
            "bar_color": null,
            "description_width": ""
          }
        },
        "8e35a6d268a04183a52fd0897147cf33": {
          "model_module": "@jupyter-widgets/base",
          "model_name": "LayoutModel",
          "model_module_version": "1.2.0",
          "state": {
            "_model_module": "@jupyter-widgets/base",
            "_model_module_version": "1.2.0",
            "_model_name": "LayoutModel",
            "_view_count": null,
            "_view_module": "@jupyter-widgets/base",
            "_view_module_version": "1.2.0",
            "_view_name": "LayoutView",
            "align_content": null,
            "align_items": null,
            "align_self": null,
            "border": null,
            "bottom": null,
            "display": null,
            "flex": null,
            "flex_flow": null,
            "grid_area": null,
            "grid_auto_columns": null,
            "grid_auto_flow": null,
            "grid_auto_rows": null,
            "grid_column": null,
            "grid_gap": null,
            "grid_row": null,
            "grid_template_areas": null,
            "grid_template_columns": null,
            "grid_template_rows": null,
            "height": null,
            "justify_content": null,
            "justify_items": null,
            "left": null,
            "margin": null,
            "max_height": null,
            "max_width": null,
            "min_height": null,
            "min_width": null,
            "object_fit": null,
            "object_position": null,
            "order": null,
            "overflow": null,
            "overflow_x": null,
            "overflow_y": null,
            "padding": null,
            "right": null,
            "top": null,
            "visibility": null,
            "width": null
          }
        },
        "60a9ff5898c54697bf78cfcf41484622": {
          "model_module": "@jupyter-widgets/controls",
          "model_name": "DescriptionStyleModel",
          "model_module_version": "1.5.0",
          "state": {
            "_model_module": "@jupyter-widgets/controls",
            "_model_module_version": "1.5.0",
            "_model_name": "DescriptionStyleModel",
            "_view_count": null,
            "_view_module": "@jupyter-widgets/base",
            "_view_module_version": "1.2.0",
            "_view_name": "StyleView",
            "description_width": ""
          }
        },
        "0acdfb5f5be440a4859059bd2cec300d": {
          "model_module": "@jupyter-widgets/controls",
          "model_name": "HBoxModel",
          "model_module_version": "1.5.0",
          "state": {
            "_dom_classes": [],
            "_model_module": "@jupyter-widgets/controls",
            "_model_module_version": "1.5.0",
            "_model_name": "HBoxModel",
            "_view_count": null,
            "_view_module": "@jupyter-widgets/controls",
            "_view_module_version": "1.5.0",
            "_view_name": "HBoxView",
            "box_style": "",
            "children": [
              "IPY_MODEL_3e6305ce783543a29216988a7251dd2c",
              "IPY_MODEL_0e0bb3599c584bc0be5c4160553b1c30",
              "IPY_MODEL_9df64614391c423d8d2362fc11cdce06"
            ],
            "layout": "IPY_MODEL_aba8085940ff42168ceee11ce0139233"
          }
        },
        "3e6305ce783543a29216988a7251dd2c": {
          "model_module": "@jupyter-widgets/controls",
          "model_name": "HTMLModel",
          "model_module_version": "1.5.0",
          "state": {
            "_dom_classes": [],
            "_model_module": "@jupyter-widgets/controls",
            "_model_module_version": "1.5.0",
            "_model_name": "HTMLModel",
            "_view_count": null,
            "_view_module": "@jupyter-widgets/controls",
            "_view_module_version": "1.5.0",
            "_view_name": "HTMLView",
            "description": "",
            "description_tooltip": null,
            "layout": "IPY_MODEL_2ce4d2071a4f486a8e7bbd6ddd10f401",
            "placeholder": "​",
            "style": "IPY_MODEL_095246f036a04462b2ba83ea3c835786",
            "value": "Generating validation split: 100%"
          }
        },
        "0e0bb3599c584bc0be5c4160553b1c30": {
          "model_module": "@jupyter-widgets/controls",
          "model_name": "FloatProgressModel",
          "model_module_version": "1.5.0",
          "state": {
            "_dom_classes": [],
            "_model_module": "@jupyter-widgets/controls",
            "_model_module_version": "1.5.0",
            "_model_name": "FloatProgressModel",
            "_view_count": null,
            "_view_module": "@jupyter-widgets/controls",
            "_view_module_version": "1.5.0",
            "_view_name": "ProgressView",
            "bar_style": "success",
            "description": "",
            "description_tooltip": null,
            "layout": "IPY_MODEL_8a8e5a0721fe4b3abbb5be3e63433a59",
            "max": 1066,
            "min": 0,
            "orientation": "horizontal",
            "style": "IPY_MODEL_8889e6200b0b4a6ab0942b8736fe42a8",
            "value": 1066
          }
        },
        "9df64614391c423d8d2362fc11cdce06": {
          "model_module": "@jupyter-widgets/controls",
          "model_name": "HTMLModel",
          "model_module_version": "1.5.0",
          "state": {
            "_dom_classes": [],
            "_model_module": "@jupyter-widgets/controls",
            "_model_module_version": "1.5.0",
            "_model_name": "HTMLModel",
            "_view_count": null,
            "_view_module": "@jupyter-widgets/controls",
            "_view_module_version": "1.5.0",
            "_view_name": "HTMLView",
            "description": "",
            "description_tooltip": null,
            "layout": "IPY_MODEL_20615c3f72614aeebe36f3e2d25ec683",
            "placeholder": "​",
            "style": "IPY_MODEL_6d819ef1b4cf43018e84eb4ccc83033b",
            "value": " 1066/1066 [00:00&lt;00:00, 17064.66 examples/s]"
          }
        },
        "aba8085940ff42168ceee11ce0139233": {
          "model_module": "@jupyter-widgets/base",
          "model_name": "LayoutModel",
          "model_module_version": "1.2.0",
          "state": {
            "_model_module": "@jupyter-widgets/base",
            "_model_module_version": "1.2.0",
            "_model_name": "LayoutModel",
            "_view_count": null,
            "_view_module": "@jupyter-widgets/base",
            "_view_module_version": "1.2.0",
            "_view_name": "LayoutView",
            "align_content": null,
            "align_items": null,
            "align_self": null,
            "border": null,
            "bottom": null,
            "display": null,
            "flex": null,
            "flex_flow": null,
            "grid_area": null,
            "grid_auto_columns": null,
            "grid_auto_flow": null,
            "grid_auto_rows": null,
            "grid_column": null,
            "grid_gap": null,
            "grid_row": null,
            "grid_template_areas": null,
            "grid_template_columns": null,
            "grid_template_rows": null,
            "height": null,
            "justify_content": null,
            "justify_items": null,
            "left": null,
            "margin": null,
            "max_height": null,
            "max_width": null,
            "min_height": null,
            "min_width": null,
            "object_fit": null,
            "object_position": null,
            "order": null,
            "overflow": null,
            "overflow_x": null,
            "overflow_y": null,
            "padding": null,
            "right": null,
            "top": null,
            "visibility": null,
            "width": null
          }
        },
        "2ce4d2071a4f486a8e7bbd6ddd10f401": {
          "model_module": "@jupyter-widgets/base",
          "model_name": "LayoutModel",
          "model_module_version": "1.2.0",
          "state": {
            "_model_module": "@jupyter-widgets/base",
            "_model_module_version": "1.2.0",
            "_model_name": "LayoutModel",
            "_view_count": null,
            "_view_module": "@jupyter-widgets/base",
            "_view_module_version": "1.2.0",
            "_view_name": "LayoutView",
            "align_content": null,
            "align_items": null,
            "align_self": null,
            "border": null,
            "bottom": null,
            "display": null,
            "flex": null,
            "flex_flow": null,
            "grid_area": null,
            "grid_auto_columns": null,
            "grid_auto_flow": null,
            "grid_auto_rows": null,
            "grid_column": null,
            "grid_gap": null,
            "grid_row": null,
            "grid_template_areas": null,
            "grid_template_columns": null,
            "grid_template_rows": null,
            "height": null,
            "justify_content": null,
            "justify_items": null,
            "left": null,
            "margin": null,
            "max_height": null,
            "max_width": null,
            "min_height": null,
            "min_width": null,
            "object_fit": null,
            "object_position": null,
            "order": null,
            "overflow": null,
            "overflow_x": null,
            "overflow_y": null,
            "padding": null,
            "right": null,
            "top": null,
            "visibility": null,
            "width": null
          }
        },
        "095246f036a04462b2ba83ea3c835786": {
          "model_module": "@jupyter-widgets/controls",
          "model_name": "DescriptionStyleModel",
          "model_module_version": "1.5.0",
          "state": {
            "_model_module": "@jupyter-widgets/controls",
            "_model_module_version": "1.5.0",
            "_model_name": "DescriptionStyleModel",
            "_view_count": null,
            "_view_module": "@jupyter-widgets/base",
            "_view_module_version": "1.2.0",
            "_view_name": "StyleView",
            "description_width": ""
          }
        },
        "8a8e5a0721fe4b3abbb5be3e63433a59": {
          "model_module": "@jupyter-widgets/base",
          "model_name": "LayoutModel",
          "model_module_version": "1.2.0",
          "state": {
            "_model_module": "@jupyter-widgets/base",
            "_model_module_version": "1.2.0",
            "_model_name": "LayoutModel",
            "_view_count": null,
            "_view_module": "@jupyter-widgets/base",
            "_view_module_version": "1.2.0",
            "_view_name": "LayoutView",
            "align_content": null,
            "align_items": null,
            "align_self": null,
            "border": null,
            "bottom": null,
            "display": null,
            "flex": null,
            "flex_flow": null,
            "grid_area": null,
            "grid_auto_columns": null,
            "grid_auto_flow": null,
            "grid_auto_rows": null,
            "grid_column": null,
            "grid_gap": null,
            "grid_row": null,
            "grid_template_areas": null,
            "grid_template_columns": null,
            "grid_template_rows": null,
            "height": null,
            "justify_content": null,
            "justify_items": null,
            "left": null,
            "margin": null,
            "max_height": null,
            "max_width": null,
            "min_height": null,
            "min_width": null,
            "object_fit": null,
            "object_position": null,
            "order": null,
            "overflow": null,
            "overflow_x": null,
            "overflow_y": null,
            "padding": null,
            "right": null,
            "top": null,
            "visibility": null,
            "width": null
          }
        },
        "8889e6200b0b4a6ab0942b8736fe42a8": {
          "model_module": "@jupyter-widgets/controls",
          "model_name": "ProgressStyleModel",
          "model_module_version": "1.5.0",
          "state": {
            "_model_module": "@jupyter-widgets/controls",
            "_model_module_version": "1.5.0",
            "_model_name": "ProgressStyleModel",
            "_view_count": null,
            "_view_module": "@jupyter-widgets/base",
            "_view_module_version": "1.2.0",
            "_view_name": "StyleView",
            "bar_color": null,
            "description_width": ""
          }
        },
        "20615c3f72614aeebe36f3e2d25ec683": {
          "model_module": "@jupyter-widgets/base",
          "model_name": "LayoutModel",
          "model_module_version": "1.2.0",
          "state": {
            "_model_module": "@jupyter-widgets/base",
            "_model_module_version": "1.2.0",
            "_model_name": "LayoutModel",
            "_view_count": null,
            "_view_module": "@jupyter-widgets/base",
            "_view_module_version": "1.2.0",
            "_view_name": "LayoutView",
            "align_content": null,
            "align_items": null,
            "align_self": null,
            "border": null,
            "bottom": null,
            "display": null,
            "flex": null,
            "flex_flow": null,
            "grid_area": null,
            "grid_auto_columns": null,
            "grid_auto_flow": null,
            "grid_auto_rows": null,
            "grid_column": null,
            "grid_gap": null,
            "grid_row": null,
            "grid_template_areas": null,
            "grid_template_columns": null,
            "grid_template_rows": null,
            "height": null,
            "justify_content": null,
            "justify_items": null,
            "left": null,
            "margin": null,
            "max_height": null,
            "max_width": null,
            "min_height": null,
            "min_width": null,
            "object_fit": null,
            "object_position": null,
            "order": null,
            "overflow": null,
            "overflow_x": null,
            "overflow_y": null,
            "padding": null,
            "right": null,
            "top": null,
            "visibility": null,
            "width": null
          }
        },
        "6d819ef1b4cf43018e84eb4ccc83033b": {
          "model_module": "@jupyter-widgets/controls",
          "model_name": "DescriptionStyleModel",
          "model_module_version": "1.5.0",
          "state": {
            "_model_module": "@jupyter-widgets/controls",
            "_model_module_version": "1.5.0",
            "_model_name": "DescriptionStyleModel",
            "_view_count": null,
            "_view_module": "@jupyter-widgets/base",
            "_view_module_version": "1.2.0",
            "_view_name": "StyleView",
            "description_width": ""
          }
        },
        "e865632170814f9b870586f1435fd309": {
          "model_module": "@jupyter-widgets/controls",
          "model_name": "HBoxModel",
          "model_module_version": "1.5.0",
          "state": {
            "_dom_classes": [],
            "_model_module": "@jupyter-widgets/controls",
            "_model_module_version": "1.5.0",
            "_model_name": "HBoxModel",
            "_view_count": null,
            "_view_module": "@jupyter-widgets/controls",
            "_view_module_version": "1.5.0",
            "_view_name": "HBoxView",
            "box_style": "",
            "children": [
              "IPY_MODEL_5d2cf431847c4674b9740b9c6bc703a7",
              "IPY_MODEL_dc49823f8a3e4e33b865e7342984b279",
              "IPY_MODEL_71b232c60e064009b3b0c8e89b6cbe8b"
            ],
            "layout": "IPY_MODEL_e960935f15b14299aa867b1776bf9be7"
          }
        },
        "5d2cf431847c4674b9740b9c6bc703a7": {
          "model_module": "@jupyter-widgets/controls",
          "model_name": "HTMLModel",
          "model_module_version": "1.5.0",
          "state": {
            "_dom_classes": [],
            "_model_module": "@jupyter-widgets/controls",
            "_model_module_version": "1.5.0",
            "_model_name": "HTMLModel",
            "_view_count": null,
            "_view_module": "@jupyter-widgets/controls",
            "_view_module_version": "1.5.0",
            "_view_name": "HTMLView",
            "description": "",
            "description_tooltip": null,
            "layout": "IPY_MODEL_a0f20c00f1424bee9ccf71ccf3442d60",
            "placeholder": "​",
            "style": "IPY_MODEL_c55df192ac8d49c0b68991c2d3b87c11",
            "value": "Generating test split: 100%"
          }
        },
        "dc49823f8a3e4e33b865e7342984b279": {
          "model_module": "@jupyter-widgets/controls",
          "model_name": "FloatProgressModel",
          "model_module_version": "1.5.0",
          "state": {
            "_dom_classes": [],
            "_model_module": "@jupyter-widgets/controls",
            "_model_module_version": "1.5.0",
            "_model_name": "FloatProgressModel",
            "_view_count": null,
            "_view_module": "@jupyter-widgets/controls",
            "_view_module_version": "1.5.0",
            "_view_name": "ProgressView",
            "bar_style": "success",
            "description": "",
            "description_tooltip": null,
            "layout": "IPY_MODEL_0e6b253d07f8460da5dcfffb26cd347d",
            "max": 1066,
            "min": 0,
            "orientation": "horizontal",
            "style": "IPY_MODEL_0ddc7d87bfdd447ab39aec5c68e1a624",
            "value": 1066
          }
        },
        "71b232c60e064009b3b0c8e89b6cbe8b": {
          "model_module": "@jupyter-widgets/controls",
          "model_name": "HTMLModel",
          "model_module_version": "1.5.0",
          "state": {
            "_dom_classes": [],
            "_model_module": "@jupyter-widgets/controls",
            "_model_module_version": "1.5.0",
            "_model_name": "HTMLModel",
            "_view_count": null,
            "_view_module": "@jupyter-widgets/controls",
            "_view_module_version": "1.5.0",
            "_view_name": "HTMLView",
            "description": "",
            "description_tooltip": null,
            "layout": "IPY_MODEL_ed642ff596674f1fa1e36b680d5d1427",
            "placeholder": "​",
            "style": "IPY_MODEL_e97be2d7b4ef47599ade601f742329a4",
            "value": " 1066/1066 [00:00&lt;00:00, 17866.36 examples/s]"
          }
        },
        "e960935f15b14299aa867b1776bf9be7": {
          "model_module": "@jupyter-widgets/base",
          "model_name": "LayoutModel",
          "model_module_version": "1.2.0",
          "state": {
            "_model_module": "@jupyter-widgets/base",
            "_model_module_version": "1.2.0",
            "_model_name": "LayoutModel",
            "_view_count": null,
            "_view_module": "@jupyter-widgets/base",
            "_view_module_version": "1.2.0",
            "_view_name": "LayoutView",
            "align_content": null,
            "align_items": null,
            "align_self": null,
            "border": null,
            "bottom": null,
            "display": null,
            "flex": null,
            "flex_flow": null,
            "grid_area": null,
            "grid_auto_columns": null,
            "grid_auto_flow": null,
            "grid_auto_rows": null,
            "grid_column": null,
            "grid_gap": null,
            "grid_row": null,
            "grid_template_areas": null,
            "grid_template_columns": null,
            "grid_template_rows": null,
            "height": null,
            "justify_content": null,
            "justify_items": null,
            "left": null,
            "margin": null,
            "max_height": null,
            "max_width": null,
            "min_height": null,
            "min_width": null,
            "object_fit": null,
            "object_position": null,
            "order": null,
            "overflow": null,
            "overflow_x": null,
            "overflow_y": null,
            "padding": null,
            "right": null,
            "top": null,
            "visibility": null,
            "width": null
          }
        },
        "a0f20c00f1424bee9ccf71ccf3442d60": {
          "model_module": "@jupyter-widgets/base",
          "model_name": "LayoutModel",
          "model_module_version": "1.2.0",
          "state": {
            "_model_module": "@jupyter-widgets/base",
            "_model_module_version": "1.2.0",
            "_model_name": "LayoutModel",
            "_view_count": null,
            "_view_module": "@jupyter-widgets/base",
            "_view_module_version": "1.2.0",
            "_view_name": "LayoutView",
            "align_content": null,
            "align_items": null,
            "align_self": null,
            "border": null,
            "bottom": null,
            "display": null,
            "flex": null,
            "flex_flow": null,
            "grid_area": null,
            "grid_auto_columns": null,
            "grid_auto_flow": null,
            "grid_auto_rows": null,
            "grid_column": null,
            "grid_gap": null,
            "grid_row": null,
            "grid_template_areas": null,
            "grid_template_columns": null,
            "grid_template_rows": null,
            "height": null,
            "justify_content": null,
            "justify_items": null,
            "left": null,
            "margin": null,
            "max_height": null,
            "max_width": null,
            "min_height": null,
            "min_width": null,
            "object_fit": null,
            "object_position": null,
            "order": null,
            "overflow": null,
            "overflow_x": null,
            "overflow_y": null,
            "padding": null,
            "right": null,
            "top": null,
            "visibility": null,
            "width": null
          }
        },
        "c55df192ac8d49c0b68991c2d3b87c11": {
          "model_module": "@jupyter-widgets/controls",
          "model_name": "DescriptionStyleModel",
          "model_module_version": "1.5.0",
          "state": {
            "_model_module": "@jupyter-widgets/controls",
            "_model_module_version": "1.5.0",
            "_model_name": "DescriptionStyleModel",
            "_view_count": null,
            "_view_module": "@jupyter-widgets/base",
            "_view_module_version": "1.2.0",
            "_view_name": "StyleView",
            "description_width": ""
          }
        },
        "0e6b253d07f8460da5dcfffb26cd347d": {
          "model_module": "@jupyter-widgets/base",
          "model_name": "LayoutModel",
          "model_module_version": "1.2.0",
          "state": {
            "_model_module": "@jupyter-widgets/base",
            "_model_module_version": "1.2.0",
            "_model_name": "LayoutModel",
            "_view_count": null,
            "_view_module": "@jupyter-widgets/base",
            "_view_module_version": "1.2.0",
            "_view_name": "LayoutView",
            "align_content": null,
            "align_items": null,
            "align_self": null,
            "border": null,
            "bottom": null,
            "display": null,
            "flex": null,
            "flex_flow": null,
            "grid_area": null,
            "grid_auto_columns": null,
            "grid_auto_flow": null,
            "grid_auto_rows": null,
            "grid_column": null,
            "grid_gap": null,
            "grid_row": null,
            "grid_template_areas": null,
            "grid_template_columns": null,
            "grid_template_rows": null,
            "height": null,
            "justify_content": null,
            "justify_items": null,
            "left": null,
            "margin": null,
            "max_height": null,
            "max_width": null,
            "min_height": null,
            "min_width": null,
            "object_fit": null,
            "object_position": null,
            "order": null,
            "overflow": null,
            "overflow_x": null,
            "overflow_y": null,
            "padding": null,
            "right": null,
            "top": null,
            "visibility": null,
            "width": null
          }
        },
        "0ddc7d87bfdd447ab39aec5c68e1a624": {
          "model_module": "@jupyter-widgets/controls",
          "model_name": "ProgressStyleModel",
          "model_module_version": "1.5.0",
          "state": {
            "_model_module": "@jupyter-widgets/controls",
            "_model_module_version": "1.5.0",
            "_model_name": "ProgressStyleModel",
            "_view_count": null,
            "_view_module": "@jupyter-widgets/base",
            "_view_module_version": "1.2.0",
            "_view_name": "StyleView",
            "bar_color": null,
            "description_width": ""
          }
        },
        "ed642ff596674f1fa1e36b680d5d1427": {
          "model_module": "@jupyter-widgets/base",
          "model_name": "LayoutModel",
          "model_module_version": "1.2.0",
          "state": {
            "_model_module": "@jupyter-widgets/base",
            "_model_module_version": "1.2.0",
            "_model_name": "LayoutModel",
            "_view_count": null,
            "_view_module": "@jupyter-widgets/base",
            "_view_module_version": "1.2.0",
            "_view_name": "LayoutView",
            "align_content": null,
            "align_items": null,
            "align_self": null,
            "border": null,
            "bottom": null,
            "display": null,
            "flex": null,
            "flex_flow": null,
            "grid_area": null,
            "grid_auto_columns": null,
            "grid_auto_flow": null,
            "grid_auto_rows": null,
            "grid_column": null,
            "grid_gap": null,
            "grid_row": null,
            "grid_template_areas": null,
            "grid_template_columns": null,
            "grid_template_rows": null,
            "height": null,
            "justify_content": null,
            "justify_items": null,
            "left": null,
            "margin": null,
            "max_height": null,
            "max_width": null,
            "min_height": null,
            "min_width": null,
            "object_fit": null,
            "object_position": null,
            "order": null,
            "overflow": null,
            "overflow_x": null,
            "overflow_y": null,
            "padding": null,
            "right": null,
            "top": null,
            "visibility": null,
            "width": null
          }
        },
        "e97be2d7b4ef47599ade601f742329a4": {
          "model_module": "@jupyter-widgets/controls",
          "model_name": "DescriptionStyleModel",
          "model_module_version": "1.5.0",
          "state": {
            "_model_module": "@jupyter-widgets/controls",
            "_model_module_version": "1.5.0",
            "_model_name": "DescriptionStyleModel",
            "_view_count": null,
            "_view_module": "@jupyter-widgets/base",
            "_view_module_version": "1.2.0",
            "_view_name": "StyleView",
            "description_width": ""
          }
        },
        "d4edc70f74af436a86696dd77dd66a78": {
          "model_module": "@jupyter-widgets/controls",
          "model_name": "HBoxModel",
          "model_module_version": "1.5.0",
          "state": {
            "_dom_classes": [],
            "_model_module": "@jupyter-widgets/controls",
            "_model_module_version": "1.5.0",
            "_model_name": "HBoxModel",
            "_view_count": null,
            "_view_module": "@jupyter-widgets/controls",
            "_view_module_version": "1.5.0",
            "_view_name": "HBoxView",
            "box_style": "",
            "children": [
              "IPY_MODEL_5bf8c23236e5413abdb7557227977888",
              "IPY_MODEL_576806c7a3684269aa974a032b5a06a4",
              "IPY_MODEL_60e3792b72c9473b9425140ee1c09cea"
            ],
            "layout": "IPY_MODEL_a7a782248e3144bbb6c565733c9145cf"
          }
        },
        "5bf8c23236e5413abdb7557227977888": {
          "model_module": "@jupyter-widgets/controls",
          "model_name": "HTMLModel",
          "model_module_version": "1.5.0",
          "state": {
            "_dom_classes": [],
            "_model_module": "@jupyter-widgets/controls",
            "_model_module_version": "1.5.0",
            "_model_name": "HTMLModel",
            "_view_count": null,
            "_view_module": "@jupyter-widgets/controls",
            "_view_module_version": "1.5.0",
            "_view_name": "HTMLView",
            "description": "",
            "description_tooltip": null,
            "layout": "IPY_MODEL_ceb7a08d328545e0ac2ecd5a720eb2fb",
            "placeholder": "​",
            "style": "IPY_MODEL_818c3f5329344c34af23fa5168c8932e",
            "value": "config.json: 100%"
          }
        },
        "576806c7a3684269aa974a032b5a06a4": {
          "model_module": "@jupyter-widgets/controls",
          "model_name": "FloatProgressModel",
          "model_module_version": "1.5.0",
          "state": {
            "_dom_classes": [],
            "_model_module": "@jupyter-widgets/controls",
            "_model_module_version": "1.5.0",
            "_model_name": "FloatProgressModel",
            "_view_count": null,
            "_view_module": "@jupyter-widgets/controls",
            "_view_module_version": "1.5.0",
            "_view_name": "ProgressView",
            "bar_style": "success",
            "description": "",
            "description_tooltip": null,
            "layout": "IPY_MODEL_2568de55b78142a4a326ea186f91469d",
            "max": 480,
            "min": 0,
            "orientation": "horizontal",
            "style": "IPY_MODEL_edd2654fcbe24b24a5f07c3dc659bd33",
            "value": 480
          }
        },
        "60e3792b72c9473b9425140ee1c09cea": {
          "model_module": "@jupyter-widgets/controls",
          "model_name": "HTMLModel",
          "model_module_version": "1.5.0",
          "state": {
            "_dom_classes": [],
            "_model_module": "@jupyter-widgets/controls",
            "_model_module_version": "1.5.0",
            "_model_name": "HTMLModel",
            "_view_count": null,
            "_view_module": "@jupyter-widgets/controls",
            "_view_module_version": "1.5.0",
            "_view_name": "HTMLView",
            "description": "",
            "description_tooltip": null,
            "layout": "IPY_MODEL_4253b381323141cba2b46be68bf9245d",
            "placeholder": "​",
            "style": "IPY_MODEL_c3a7d4ea0f6a4a8f8074306fe1b48c4a",
            "value": " 480/480 [00:00&lt;00:00, 35.7kB/s]"
          }
        },
        "a7a782248e3144bbb6c565733c9145cf": {
          "model_module": "@jupyter-widgets/base",
          "model_name": "LayoutModel",
          "model_module_version": "1.2.0",
          "state": {
            "_model_module": "@jupyter-widgets/base",
            "_model_module_version": "1.2.0",
            "_model_name": "LayoutModel",
            "_view_count": null,
            "_view_module": "@jupyter-widgets/base",
            "_view_module_version": "1.2.0",
            "_view_name": "LayoutView",
            "align_content": null,
            "align_items": null,
            "align_self": null,
            "border": null,
            "bottom": null,
            "display": null,
            "flex": null,
            "flex_flow": null,
            "grid_area": null,
            "grid_auto_columns": null,
            "grid_auto_flow": null,
            "grid_auto_rows": null,
            "grid_column": null,
            "grid_gap": null,
            "grid_row": null,
            "grid_template_areas": null,
            "grid_template_columns": null,
            "grid_template_rows": null,
            "height": null,
            "justify_content": null,
            "justify_items": null,
            "left": null,
            "margin": null,
            "max_height": null,
            "max_width": null,
            "min_height": null,
            "min_width": null,
            "object_fit": null,
            "object_position": null,
            "order": null,
            "overflow": null,
            "overflow_x": null,
            "overflow_y": null,
            "padding": null,
            "right": null,
            "top": null,
            "visibility": null,
            "width": null
          }
        },
        "ceb7a08d328545e0ac2ecd5a720eb2fb": {
          "model_module": "@jupyter-widgets/base",
          "model_name": "LayoutModel",
          "model_module_version": "1.2.0",
          "state": {
            "_model_module": "@jupyter-widgets/base",
            "_model_module_version": "1.2.0",
            "_model_name": "LayoutModel",
            "_view_count": null,
            "_view_module": "@jupyter-widgets/base",
            "_view_module_version": "1.2.0",
            "_view_name": "LayoutView",
            "align_content": null,
            "align_items": null,
            "align_self": null,
            "border": null,
            "bottom": null,
            "display": null,
            "flex": null,
            "flex_flow": null,
            "grid_area": null,
            "grid_auto_columns": null,
            "grid_auto_flow": null,
            "grid_auto_rows": null,
            "grid_column": null,
            "grid_gap": null,
            "grid_row": null,
            "grid_template_areas": null,
            "grid_template_columns": null,
            "grid_template_rows": null,
            "height": null,
            "justify_content": null,
            "justify_items": null,
            "left": null,
            "margin": null,
            "max_height": null,
            "max_width": null,
            "min_height": null,
            "min_width": null,
            "object_fit": null,
            "object_position": null,
            "order": null,
            "overflow": null,
            "overflow_x": null,
            "overflow_y": null,
            "padding": null,
            "right": null,
            "top": null,
            "visibility": null,
            "width": null
          }
        },
        "818c3f5329344c34af23fa5168c8932e": {
          "model_module": "@jupyter-widgets/controls",
          "model_name": "DescriptionStyleModel",
          "model_module_version": "1.5.0",
          "state": {
            "_model_module": "@jupyter-widgets/controls",
            "_model_module_version": "1.5.0",
            "_model_name": "DescriptionStyleModel",
            "_view_count": null,
            "_view_module": "@jupyter-widgets/base",
            "_view_module_version": "1.2.0",
            "_view_name": "StyleView",
            "description_width": ""
          }
        },
        "2568de55b78142a4a326ea186f91469d": {
          "model_module": "@jupyter-widgets/base",
          "model_name": "LayoutModel",
          "model_module_version": "1.2.0",
          "state": {
            "_model_module": "@jupyter-widgets/base",
            "_model_module_version": "1.2.0",
            "_model_name": "LayoutModel",
            "_view_count": null,
            "_view_module": "@jupyter-widgets/base",
            "_view_module_version": "1.2.0",
            "_view_name": "LayoutView",
            "align_content": null,
            "align_items": null,
            "align_self": null,
            "border": null,
            "bottom": null,
            "display": null,
            "flex": null,
            "flex_flow": null,
            "grid_area": null,
            "grid_auto_columns": null,
            "grid_auto_flow": null,
            "grid_auto_rows": null,
            "grid_column": null,
            "grid_gap": null,
            "grid_row": null,
            "grid_template_areas": null,
            "grid_template_columns": null,
            "grid_template_rows": null,
            "height": null,
            "justify_content": null,
            "justify_items": null,
            "left": null,
            "margin": null,
            "max_height": null,
            "max_width": null,
            "min_height": null,
            "min_width": null,
            "object_fit": null,
            "object_position": null,
            "order": null,
            "overflow": null,
            "overflow_x": null,
            "overflow_y": null,
            "padding": null,
            "right": null,
            "top": null,
            "visibility": null,
            "width": null
          }
        },
        "edd2654fcbe24b24a5f07c3dc659bd33": {
          "model_module": "@jupyter-widgets/controls",
          "model_name": "ProgressStyleModel",
          "model_module_version": "1.5.0",
          "state": {
            "_model_module": "@jupyter-widgets/controls",
            "_model_module_version": "1.5.0",
            "_model_name": "ProgressStyleModel",
            "_view_count": null,
            "_view_module": "@jupyter-widgets/base",
            "_view_module_version": "1.2.0",
            "_view_name": "StyleView",
            "bar_color": null,
            "description_width": ""
          }
        },
        "4253b381323141cba2b46be68bf9245d": {
          "model_module": "@jupyter-widgets/base",
          "model_name": "LayoutModel",
          "model_module_version": "1.2.0",
          "state": {
            "_model_module": "@jupyter-widgets/base",
            "_model_module_version": "1.2.0",
            "_model_name": "LayoutModel",
            "_view_count": null,
            "_view_module": "@jupyter-widgets/base",
            "_view_module_version": "1.2.0",
            "_view_name": "LayoutView",
            "align_content": null,
            "align_items": null,
            "align_self": null,
            "border": null,
            "bottom": null,
            "display": null,
            "flex": null,
            "flex_flow": null,
            "grid_area": null,
            "grid_auto_columns": null,
            "grid_auto_flow": null,
            "grid_auto_rows": null,
            "grid_column": null,
            "grid_gap": null,
            "grid_row": null,
            "grid_template_areas": null,
            "grid_template_columns": null,
            "grid_template_rows": null,
            "height": null,
            "justify_content": null,
            "justify_items": null,
            "left": null,
            "margin": null,
            "max_height": null,
            "max_width": null,
            "min_height": null,
            "min_width": null,
            "object_fit": null,
            "object_position": null,
            "order": null,
            "overflow": null,
            "overflow_x": null,
            "overflow_y": null,
            "padding": null,
            "right": null,
            "top": null,
            "visibility": null,
            "width": null
          }
        },
        "c3a7d4ea0f6a4a8f8074306fe1b48c4a": {
          "model_module": "@jupyter-widgets/controls",
          "model_name": "DescriptionStyleModel",
          "model_module_version": "1.5.0",
          "state": {
            "_model_module": "@jupyter-widgets/controls",
            "_model_module_version": "1.5.0",
            "_model_name": "DescriptionStyleModel",
            "_view_count": null,
            "_view_module": "@jupyter-widgets/base",
            "_view_module_version": "1.2.0",
            "_view_name": "StyleView",
            "description_width": ""
          }
        },
        "f155fa47dc2844f7b314deb394738a9b": {
          "model_module": "@jupyter-widgets/controls",
          "model_name": "HBoxModel",
          "model_module_version": "1.5.0",
          "state": {
            "_dom_classes": [],
            "_model_module": "@jupyter-widgets/controls",
            "_model_module_version": "1.5.0",
            "_model_name": "HBoxModel",
            "_view_count": null,
            "_view_module": "@jupyter-widgets/controls",
            "_view_module_version": "1.5.0",
            "_view_name": "HBoxView",
            "box_style": "",
            "children": [
              "IPY_MODEL_a590585692374c74bf4a1d2f9cf343b2",
              "IPY_MODEL_8ca051b2b4874e219c0bf2690750d2f8",
              "IPY_MODEL_2b6d73d11f9a47229ac53a655cb59aad"
            ],
            "layout": "IPY_MODEL_32cede6ba2314809b5c18e825de40661"
          }
        },
        "a590585692374c74bf4a1d2f9cf343b2": {
          "model_module": "@jupyter-widgets/controls",
          "model_name": "HTMLModel",
          "model_module_version": "1.5.0",
          "state": {
            "_dom_classes": [],
            "_model_module": "@jupyter-widgets/controls",
            "_model_module_version": "1.5.0",
            "_model_name": "HTMLModel",
            "_view_count": null,
            "_view_module": "@jupyter-widgets/controls",
            "_view_module_version": "1.5.0",
            "_view_name": "HTMLView",
            "description": "",
            "description_tooltip": null,
            "layout": "IPY_MODEL_d10902a3f99242128f924147544dd3ed",
            "placeholder": "​",
            "style": "IPY_MODEL_f4efa30fc9d242d99d812d8ea1facf53",
            "value": "model.safetensors: 100%"
          }
        },
        "8ca051b2b4874e219c0bf2690750d2f8": {
          "model_module": "@jupyter-widgets/controls",
          "model_name": "FloatProgressModel",
          "model_module_version": "1.5.0",
          "state": {
            "_dom_classes": [],
            "_model_module": "@jupyter-widgets/controls",
            "_model_module_version": "1.5.0",
            "_model_name": "FloatProgressModel",
            "_view_count": null,
            "_view_module": "@jupyter-widgets/controls",
            "_view_module_version": "1.5.0",
            "_view_name": "ProgressView",
            "bar_style": "success",
            "description": "",
            "description_tooltip": null,
            "layout": "IPY_MODEL_491889e69f344fdab49755d327ddb1ca",
            "max": 331055963,
            "min": 0,
            "orientation": "horizontal",
            "style": "IPY_MODEL_12945cf39e544433a3890f58c9370c4f",
            "value": 331055963
          }
        },
        "2b6d73d11f9a47229ac53a655cb59aad": {
          "model_module": "@jupyter-widgets/controls",
          "model_name": "HTMLModel",
          "model_module_version": "1.5.0",
          "state": {
            "_dom_classes": [],
            "_model_module": "@jupyter-widgets/controls",
            "_model_module_version": "1.5.0",
            "_model_name": "HTMLModel",
            "_view_count": null,
            "_view_module": "@jupyter-widgets/controls",
            "_view_module_version": "1.5.0",
            "_view_name": "HTMLView",
            "description": "",
            "description_tooltip": null,
            "layout": "IPY_MODEL_71440f7d841c4881982ed98d8fcdcfed",
            "placeholder": "​",
            "style": "IPY_MODEL_45f83f1689ce4317bda5b958e25f930f",
            "value": " 331M/331M [00:06&lt;00:00, 52.3MB/s]"
          }
        },
        "32cede6ba2314809b5c18e825de40661": {
          "model_module": "@jupyter-widgets/base",
          "model_name": "LayoutModel",
          "model_module_version": "1.2.0",
          "state": {
            "_model_module": "@jupyter-widgets/base",
            "_model_module_version": "1.2.0",
            "_model_name": "LayoutModel",
            "_view_count": null,
            "_view_module": "@jupyter-widgets/base",
            "_view_module_version": "1.2.0",
            "_view_name": "LayoutView",
            "align_content": null,
            "align_items": null,
            "align_self": null,
            "border": null,
            "bottom": null,
            "display": null,
            "flex": null,
            "flex_flow": null,
            "grid_area": null,
            "grid_auto_columns": null,
            "grid_auto_flow": null,
            "grid_auto_rows": null,
            "grid_column": null,
            "grid_gap": null,
            "grid_row": null,
            "grid_template_areas": null,
            "grid_template_columns": null,
            "grid_template_rows": null,
            "height": null,
            "justify_content": null,
            "justify_items": null,
            "left": null,
            "margin": null,
            "max_height": null,
            "max_width": null,
            "min_height": null,
            "min_width": null,
            "object_fit": null,
            "object_position": null,
            "order": null,
            "overflow": null,
            "overflow_x": null,
            "overflow_y": null,
            "padding": null,
            "right": null,
            "top": null,
            "visibility": null,
            "width": null
          }
        },
        "d10902a3f99242128f924147544dd3ed": {
          "model_module": "@jupyter-widgets/base",
          "model_name": "LayoutModel",
          "model_module_version": "1.2.0",
          "state": {
            "_model_module": "@jupyter-widgets/base",
            "_model_module_version": "1.2.0",
            "_model_name": "LayoutModel",
            "_view_count": null,
            "_view_module": "@jupyter-widgets/base",
            "_view_module_version": "1.2.0",
            "_view_name": "LayoutView",
            "align_content": null,
            "align_items": null,
            "align_self": null,
            "border": null,
            "bottom": null,
            "display": null,
            "flex": null,
            "flex_flow": null,
            "grid_area": null,
            "grid_auto_columns": null,
            "grid_auto_flow": null,
            "grid_auto_rows": null,
            "grid_column": null,
            "grid_gap": null,
            "grid_row": null,
            "grid_template_areas": null,
            "grid_template_columns": null,
            "grid_template_rows": null,
            "height": null,
            "justify_content": null,
            "justify_items": null,
            "left": null,
            "margin": null,
            "max_height": null,
            "max_width": null,
            "min_height": null,
            "min_width": null,
            "object_fit": null,
            "object_position": null,
            "order": null,
            "overflow": null,
            "overflow_x": null,
            "overflow_y": null,
            "padding": null,
            "right": null,
            "top": null,
            "visibility": null,
            "width": null
          }
        },
        "f4efa30fc9d242d99d812d8ea1facf53": {
          "model_module": "@jupyter-widgets/controls",
          "model_name": "DescriptionStyleModel",
          "model_module_version": "1.5.0",
          "state": {
            "_model_module": "@jupyter-widgets/controls",
            "_model_module_version": "1.5.0",
            "_model_name": "DescriptionStyleModel",
            "_view_count": null,
            "_view_module": "@jupyter-widgets/base",
            "_view_module_version": "1.2.0",
            "_view_name": "StyleView",
            "description_width": ""
          }
        },
        "491889e69f344fdab49755d327ddb1ca": {
          "model_module": "@jupyter-widgets/base",
          "model_name": "LayoutModel",
          "model_module_version": "1.2.0",
          "state": {
            "_model_module": "@jupyter-widgets/base",
            "_model_module_version": "1.2.0",
            "_model_name": "LayoutModel",
            "_view_count": null,
            "_view_module": "@jupyter-widgets/base",
            "_view_module_version": "1.2.0",
            "_view_name": "LayoutView",
            "align_content": null,
            "align_items": null,
            "align_self": null,
            "border": null,
            "bottom": null,
            "display": null,
            "flex": null,
            "flex_flow": null,
            "grid_area": null,
            "grid_auto_columns": null,
            "grid_auto_flow": null,
            "grid_auto_rows": null,
            "grid_column": null,
            "grid_gap": null,
            "grid_row": null,
            "grid_template_areas": null,
            "grid_template_columns": null,
            "grid_template_rows": null,
            "height": null,
            "justify_content": null,
            "justify_items": null,
            "left": null,
            "margin": null,
            "max_height": null,
            "max_width": null,
            "min_height": null,
            "min_width": null,
            "object_fit": null,
            "object_position": null,
            "order": null,
            "overflow": null,
            "overflow_x": null,
            "overflow_y": null,
            "padding": null,
            "right": null,
            "top": null,
            "visibility": null,
            "width": null
          }
        },
        "12945cf39e544433a3890f58c9370c4f": {
          "model_module": "@jupyter-widgets/controls",
          "model_name": "ProgressStyleModel",
          "model_module_version": "1.5.0",
          "state": {
            "_model_module": "@jupyter-widgets/controls",
            "_model_module_version": "1.5.0",
            "_model_name": "ProgressStyleModel",
            "_view_count": null,
            "_view_module": "@jupyter-widgets/base",
            "_view_module_version": "1.2.0",
            "_view_name": "StyleView",
            "bar_color": null,
            "description_width": ""
          }
        },
        "71440f7d841c4881982ed98d8fcdcfed": {
          "model_module": "@jupyter-widgets/base",
          "model_name": "LayoutModel",
          "model_module_version": "1.2.0",
          "state": {
            "_model_module": "@jupyter-widgets/base",
            "_model_module_version": "1.2.0",
            "_model_name": "LayoutModel",
            "_view_count": null,
            "_view_module": "@jupyter-widgets/base",
            "_view_module_version": "1.2.0",
            "_view_name": "LayoutView",
            "align_content": null,
            "align_items": null,
            "align_self": null,
            "border": null,
            "bottom": null,
            "display": null,
            "flex": null,
            "flex_flow": null,
            "grid_area": null,
            "grid_auto_columns": null,
            "grid_auto_flow": null,
            "grid_auto_rows": null,
            "grid_column": null,
            "grid_gap": null,
            "grid_row": null,
            "grid_template_areas": null,
            "grid_template_columns": null,
            "grid_template_rows": null,
            "height": null,
            "justify_content": null,
            "justify_items": null,
            "left": null,
            "margin": null,
            "max_height": null,
            "max_width": null,
            "min_height": null,
            "min_width": null,
            "object_fit": null,
            "object_position": null,
            "order": null,
            "overflow": null,
            "overflow_x": null,
            "overflow_y": null,
            "padding": null,
            "right": null,
            "top": null,
            "visibility": null,
            "width": null
          }
        },
        "45f83f1689ce4317bda5b958e25f930f": {
          "model_module": "@jupyter-widgets/controls",
          "model_name": "DescriptionStyleModel",
          "model_module_version": "1.5.0",
          "state": {
            "_model_module": "@jupyter-widgets/controls",
            "_model_module_version": "1.5.0",
            "_model_name": "DescriptionStyleModel",
            "_view_count": null,
            "_view_module": "@jupyter-widgets/base",
            "_view_module_version": "1.2.0",
            "_view_name": "StyleView",
            "description_width": ""
          }
        },
        "94a1c2d0fe4742aa8f6e6724a577b46d": {
          "model_module": "@jupyter-widgets/controls",
          "model_name": "HBoxModel",
          "model_module_version": "1.5.0",
          "state": {
            "_dom_classes": [],
            "_model_module": "@jupyter-widgets/controls",
            "_model_module_version": "1.5.0",
            "_model_name": "HBoxModel",
            "_view_count": null,
            "_view_module": "@jupyter-widgets/controls",
            "_view_module_version": "1.5.0",
            "_view_name": "HBoxView",
            "box_style": "",
            "children": [
              "IPY_MODEL_a98041e3423240c9a0f2e4f79fe47b5a",
              "IPY_MODEL_8d05682fee51410589435ed1ddbc4d97",
              "IPY_MODEL_7c7a14834fbf4a96ac947bbe0af3b2f6"
            ],
            "layout": "IPY_MODEL_411e71f901974915a3adeb4629da2ad7"
          }
        },
        "a98041e3423240c9a0f2e4f79fe47b5a": {
          "model_module": "@jupyter-widgets/controls",
          "model_name": "HTMLModel",
          "model_module_version": "1.5.0",
          "state": {
            "_dom_classes": [],
            "_model_module": "@jupyter-widgets/controls",
            "_model_module_version": "1.5.0",
            "_model_name": "HTMLModel",
            "_view_count": null,
            "_view_module": "@jupyter-widgets/controls",
            "_view_module_version": "1.5.0",
            "_view_name": "HTMLView",
            "description": "",
            "description_tooltip": null,
            "layout": "IPY_MODEL_04ce5699314140289e86785d38e98f22",
            "placeholder": "​",
            "style": "IPY_MODEL_b8808d07e41a46a2a824bc0b0bc53fa8",
            "value": "vocab.json: 100%"
          }
        },
        "8d05682fee51410589435ed1ddbc4d97": {
          "model_module": "@jupyter-widgets/controls",
          "model_name": "FloatProgressModel",
          "model_module_version": "1.5.0",
          "state": {
            "_dom_classes": [],
            "_model_module": "@jupyter-widgets/controls",
            "_model_module_version": "1.5.0",
            "_model_name": "FloatProgressModel",
            "_view_count": null,
            "_view_module": "@jupyter-widgets/controls",
            "_view_module_version": "1.5.0",
            "_view_name": "ProgressView",
            "bar_style": "success",
            "description": "",
            "description_tooltip": null,
            "layout": "IPY_MODEL_d77cfbef95da450ab5567aa8e422ef58",
            "max": 898823,
            "min": 0,
            "orientation": "horizontal",
            "style": "IPY_MODEL_5bc95c0a42d0475e9aa541b65d0628ec",
            "value": 898823
          }
        },
        "7c7a14834fbf4a96ac947bbe0af3b2f6": {
          "model_module": "@jupyter-widgets/controls",
          "model_name": "HTMLModel",
          "model_module_version": "1.5.0",
          "state": {
            "_dom_classes": [],
            "_model_module": "@jupyter-widgets/controls",
            "_model_module_version": "1.5.0",
            "_model_name": "HTMLModel",
            "_view_count": null,
            "_view_module": "@jupyter-widgets/controls",
            "_view_module_version": "1.5.0",
            "_view_name": "HTMLView",
            "description": "",
            "description_tooltip": null,
            "layout": "IPY_MODEL_9e19c635485a44af97224f8298a4d697",
            "placeholder": "​",
            "style": "IPY_MODEL_5e32c984ac2749e5a073467984c2e67a",
            "value": " 899k/899k [00:00&lt;00:00, 1.09MB/s]"
          }
        },
        "411e71f901974915a3adeb4629da2ad7": {
          "model_module": "@jupyter-widgets/base",
          "model_name": "LayoutModel",
          "model_module_version": "1.2.0",
          "state": {
            "_model_module": "@jupyter-widgets/base",
            "_model_module_version": "1.2.0",
            "_model_name": "LayoutModel",
            "_view_count": null,
            "_view_module": "@jupyter-widgets/base",
            "_view_module_version": "1.2.0",
            "_view_name": "LayoutView",
            "align_content": null,
            "align_items": null,
            "align_self": null,
            "border": null,
            "bottom": null,
            "display": null,
            "flex": null,
            "flex_flow": null,
            "grid_area": null,
            "grid_auto_columns": null,
            "grid_auto_flow": null,
            "grid_auto_rows": null,
            "grid_column": null,
            "grid_gap": null,
            "grid_row": null,
            "grid_template_areas": null,
            "grid_template_columns": null,
            "grid_template_rows": null,
            "height": null,
            "justify_content": null,
            "justify_items": null,
            "left": null,
            "margin": null,
            "max_height": null,
            "max_width": null,
            "min_height": null,
            "min_width": null,
            "object_fit": null,
            "object_position": null,
            "order": null,
            "overflow": null,
            "overflow_x": null,
            "overflow_y": null,
            "padding": null,
            "right": null,
            "top": null,
            "visibility": null,
            "width": null
          }
        },
        "04ce5699314140289e86785d38e98f22": {
          "model_module": "@jupyter-widgets/base",
          "model_name": "LayoutModel",
          "model_module_version": "1.2.0",
          "state": {
            "_model_module": "@jupyter-widgets/base",
            "_model_module_version": "1.2.0",
            "_model_name": "LayoutModel",
            "_view_count": null,
            "_view_module": "@jupyter-widgets/base",
            "_view_module_version": "1.2.0",
            "_view_name": "LayoutView",
            "align_content": null,
            "align_items": null,
            "align_self": null,
            "border": null,
            "bottom": null,
            "display": null,
            "flex": null,
            "flex_flow": null,
            "grid_area": null,
            "grid_auto_columns": null,
            "grid_auto_flow": null,
            "grid_auto_rows": null,
            "grid_column": null,
            "grid_gap": null,
            "grid_row": null,
            "grid_template_areas": null,
            "grid_template_columns": null,
            "grid_template_rows": null,
            "height": null,
            "justify_content": null,
            "justify_items": null,
            "left": null,
            "margin": null,
            "max_height": null,
            "max_width": null,
            "min_height": null,
            "min_width": null,
            "object_fit": null,
            "object_position": null,
            "order": null,
            "overflow": null,
            "overflow_x": null,
            "overflow_y": null,
            "padding": null,
            "right": null,
            "top": null,
            "visibility": null,
            "width": null
          }
        },
        "b8808d07e41a46a2a824bc0b0bc53fa8": {
          "model_module": "@jupyter-widgets/controls",
          "model_name": "DescriptionStyleModel",
          "model_module_version": "1.5.0",
          "state": {
            "_model_module": "@jupyter-widgets/controls",
            "_model_module_version": "1.5.0",
            "_model_name": "DescriptionStyleModel",
            "_view_count": null,
            "_view_module": "@jupyter-widgets/base",
            "_view_module_version": "1.2.0",
            "_view_name": "StyleView",
            "description_width": ""
          }
        },
        "d77cfbef95da450ab5567aa8e422ef58": {
          "model_module": "@jupyter-widgets/base",
          "model_name": "LayoutModel",
          "model_module_version": "1.2.0",
          "state": {
            "_model_module": "@jupyter-widgets/base",
            "_model_module_version": "1.2.0",
            "_model_name": "LayoutModel",
            "_view_count": null,
            "_view_module": "@jupyter-widgets/base",
            "_view_module_version": "1.2.0",
            "_view_name": "LayoutView",
            "align_content": null,
            "align_items": null,
            "align_self": null,
            "border": null,
            "bottom": null,
            "display": null,
            "flex": null,
            "flex_flow": null,
            "grid_area": null,
            "grid_auto_columns": null,
            "grid_auto_flow": null,
            "grid_auto_rows": null,
            "grid_column": null,
            "grid_gap": null,
            "grid_row": null,
            "grid_template_areas": null,
            "grid_template_columns": null,
            "grid_template_rows": null,
            "height": null,
            "justify_content": null,
            "justify_items": null,
            "left": null,
            "margin": null,
            "max_height": null,
            "max_width": null,
            "min_height": null,
            "min_width": null,
            "object_fit": null,
            "object_position": null,
            "order": null,
            "overflow": null,
            "overflow_x": null,
            "overflow_y": null,
            "padding": null,
            "right": null,
            "top": null,
            "visibility": null,
            "width": null
          }
        },
        "5bc95c0a42d0475e9aa541b65d0628ec": {
          "model_module": "@jupyter-widgets/controls",
          "model_name": "ProgressStyleModel",
          "model_module_version": "1.5.0",
          "state": {
            "_model_module": "@jupyter-widgets/controls",
            "_model_module_version": "1.5.0",
            "_model_name": "ProgressStyleModel",
            "_view_count": null,
            "_view_module": "@jupyter-widgets/base",
            "_view_module_version": "1.2.0",
            "_view_name": "StyleView",
            "bar_color": null,
            "description_width": ""
          }
        },
        "9e19c635485a44af97224f8298a4d697": {
          "model_module": "@jupyter-widgets/base",
          "model_name": "LayoutModel",
          "model_module_version": "1.2.0",
          "state": {
            "_model_module": "@jupyter-widgets/base",
            "_model_module_version": "1.2.0",
            "_model_name": "LayoutModel",
            "_view_count": null,
            "_view_module": "@jupyter-widgets/base",
            "_view_module_version": "1.2.0",
            "_view_name": "LayoutView",
            "align_content": null,
            "align_items": null,
            "align_self": null,
            "border": null,
            "bottom": null,
            "display": null,
            "flex": null,
            "flex_flow": null,
            "grid_area": null,
            "grid_auto_columns": null,
            "grid_auto_flow": null,
            "grid_auto_rows": null,
            "grid_column": null,
            "grid_gap": null,
            "grid_row": null,
            "grid_template_areas": null,
            "grid_template_columns": null,
            "grid_template_rows": null,
            "height": null,
            "justify_content": null,
            "justify_items": null,
            "left": null,
            "margin": null,
            "max_height": null,
            "max_width": null,
            "min_height": null,
            "min_width": null,
            "object_fit": null,
            "object_position": null,
            "order": null,
            "overflow": null,
            "overflow_x": null,
            "overflow_y": null,
            "padding": null,
            "right": null,
            "top": null,
            "visibility": null,
            "width": null
          }
        },
        "5e32c984ac2749e5a073467984c2e67a": {
          "model_module": "@jupyter-widgets/controls",
          "model_name": "DescriptionStyleModel",
          "model_module_version": "1.5.0",
          "state": {
            "_model_module": "@jupyter-widgets/controls",
            "_model_module_version": "1.5.0",
            "_model_name": "DescriptionStyleModel",
            "_view_count": null,
            "_view_module": "@jupyter-widgets/base",
            "_view_module_version": "1.2.0",
            "_view_name": "StyleView",
            "description_width": ""
          }
        },
        "bf676e4633004631939a1ba032d5c191": {
          "model_module": "@jupyter-widgets/controls",
          "model_name": "HBoxModel",
          "model_module_version": "1.5.0",
          "state": {
            "_dom_classes": [],
            "_model_module": "@jupyter-widgets/controls",
            "_model_module_version": "1.5.0",
            "_model_name": "HBoxModel",
            "_view_count": null,
            "_view_module": "@jupyter-widgets/controls",
            "_view_module_version": "1.5.0",
            "_view_name": "HBoxView",
            "box_style": "",
            "children": [
              "IPY_MODEL_596c994c402f41ccb30107a9ca601206",
              "IPY_MODEL_ab1b68e958da47dbb31baf8c9115c831",
              "IPY_MODEL_c287e9307ad94c10944c41cb0f78e61c"
            ],
            "layout": "IPY_MODEL_26d985368e784369b8c9fd2f3dda9569"
          }
        },
        "596c994c402f41ccb30107a9ca601206": {
          "model_module": "@jupyter-widgets/controls",
          "model_name": "HTMLModel",
          "model_module_version": "1.5.0",
          "state": {
            "_dom_classes": [],
            "_model_module": "@jupyter-widgets/controls",
            "_model_module_version": "1.5.0",
            "_model_name": "HTMLModel",
            "_view_count": null,
            "_view_module": "@jupyter-widgets/controls",
            "_view_module_version": "1.5.0",
            "_view_name": "HTMLView",
            "description": "",
            "description_tooltip": null,
            "layout": "IPY_MODEL_f3113f9ffe3f4d7380a9c39970b3415f",
            "placeholder": "​",
            "style": "IPY_MODEL_528465c5df734232a046931fa1421731",
            "value": "merges.txt: 100%"
          }
        },
        "ab1b68e958da47dbb31baf8c9115c831": {
          "model_module": "@jupyter-widgets/controls",
          "model_name": "FloatProgressModel",
          "model_module_version": "1.5.0",
          "state": {
            "_dom_classes": [],
            "_model_module": "@jupyter-widgets/controls",
            "_model_module_version": "1.5.0",
            "_model_name": "FloatProgressModel",
            "_view_count": null,
            "_view_module": "@jupyter-widgets/controls",
            "_view_module_version": "1.5.0",
            "_view_name": "ProgressView",
            "bar_style": "success",
            "description": "",
            "description_tooltip": null,
            "layout": "IPY_MODEL_c8f7aa98fadd4e1f9ca0f81d54a66476",
            "max": 456318,
            "min": 0,
            "orientation": "horizontal",
            "style": "IPY_MODEL_bfe4861457694e49abd265e1fd99f8c6",
            "value": 456318
          }
        },
        "c287e9307ad94c10944c41cb0f78e61c": {
          "model_module": "@jupyter-widgets/controls",
          "model_name": "HTMLModel",
          "model_module_version": "1.5.0",
          "state": {
            "_dom_classes": [],
            "_model_module": "@jupyter-widgets/controls",
            "_model_module_version": "1.5.0",
            "_model_name": "HTMLModel",
            "_view_count": null,
            "_view_module": "@jupyter-widgets/controls",
            "_view_module_version": "1.5.0",
            "_view_name": "HTMLView",
            "description": "",
            "description_tooltip": null,
            "layout": "IPY_MODEL_70496fbdeedc48bb8de7d3bde39e8325",
            "placeholder": "​",
            "style": "IPY_MODEL_bd16e648513142db8e78bea1d6c6dbc5",
            "value": " 456k/456k [00:00&lt;00:00, 10.5MB/s]"
          }
        },
        "26d985368e784369b8c9fd2f3dda9569": {
          "model_module": "@jupyter-widgets/base",
          "model_name": "LayoutModel",
          "model_module_version": "1.2.0",
          "state": {
            "_model_module": "@jupyter-widgets/base",
            "_model_module_version": "1.2.0",
            "_model_name": "LayoutModel",
            "_view_count": null,
            "_view_module": "@jupyter-widgets/base",
            "_view_module_version": "1.2.0",
            "_view_name": "LayoutView",
            "align_content": null,
            "align_items": null,
            "align_self": null,
            "border": null,
            "bottom": null,
            "display": null,
            "flex": null,
            "flex_flow": null,
            "grid_area": null,
            "grid_auto_columns": null,
            "grid_auto_flow": null,
            "grid_auto_rows": null,
            "grid_column": null,
            "grid_gap": null,
            "grid_row": null,
            "grid_template_areas": null,
            "grid_template_columns": null,
            "grid_template_rows": null,
            "height": null,
            "justify_content": null,
            "justify_items": null,
            "left": null,
            "margin": null,
            "max_height": null,
            "max_width": null,
            "min_height": null,
            "min_width": null,
            "object_fit": null,
            "object_position": null,
            "order": null,
            "overflow": null,
            "overflow_x": null,
            "overflow_y": null,
            "padding": null,
            "right": null,
            "top": null,
            "visibility": null,
            "width": null
          }
        },
        "f3113f9ffe3f4d7380a9c39970b3415f": {
          "model_module": "@jupyter-widgets/base",
          "model_name": "LayoutModel",
          "model_module_version": "1.2.0",
          "state": {
            "_model_module": "@jupyter-widgets/base",
            "_model_module_version": "1.2.0",
            "_model_name": "LayoutModel",
            "_view_count": null,
            "_view_module": "@jupyter-widgets/base",
            "_view_module_version": "1.2.0",
            "_view_name": "LayoutView",
            "align_content": null,
            "align_items": null,
            "align_self": null,
            "border": null,
            "bottom": null,
            "display": null,
            "flex": null,
            "flex_flow": null,
            "grid_area": null,
            "grid_auto_columns": null,
            "grid_auto_flow": null,
            "grid_auto_rows": null,
            "grid_column": null,
            "grid_gap": null,
            "grid_row": null,
            "grid_template_areas": null,
            "grid_template_columns": null,
            "grid_template_rows": null,
            "height": null,
            "justify_content": null,
            "justify_items": null,
            "left": null,
            "margin": null,
            "max_height": null,
            "max_width": null,
            "min_height": null,
            "min_width": null,
            "object_fit": null,
            "object_position": null,
            "order": null,
            "overflow": null,
            "overflow_x": null,
            "overflow_y": null,
            "padding": null,
            "right": null,
            "top": null,
            "visibility": null,
            "width": null
          }
        },
        "528465c5df734232a046931fa1421731": {
          "model_module": "@jupyter-widgets/controls",
          "model_name": "DescriptionStyleModel",
          "model_module_version": "1.5.0",
          "state": {
            "_model_module": "@jupyter-widgets/controls",
            "_model_module_version": "1.5.0",
            "_model_name": "DescriptionStyleModel",
            "_view_count": null,
            "_view_module": "@jupyter-widgets/base",
            "_view_module_version": "1.2.0",
            "_view_name": "StyleView",
            "description_width": ""
          }
        },
        "c8f7aa98fadd4e1f9ca0f81d54a66476": {
          "model_module": "@jupyter-widgets/base",
          "model_name": "LayoutModel",
          "model_module_version": "1.2.0",
          "state": {
            "_model_module": "@jupyter-widgets/base",
            "_model_module_version": "1.2.0",
            "_model_name": "LayoutModel",
            "_view_count": null,
            "_view_module": "@jupyter-widgets/base",
            "_view_module_version": "1.2.0",
            "_view_name": "LayoutView",
            "align_content": null,
            "align_items": null,
            "align_self": null,
            "border": null,
            "bottom": null,
            "display": null,
            "flex": null,
            "flex_flow": null,
            "grid_area": null,
            "grid_auto_columns": null,
            "grid_auto_flow": null,
            "grid_auto_rows": null,
            "grid_column": null,
            "grid_gap": null,
            "grid_row": null,
            "grid_template_areas": null,
            "grid_template_columns": null,
            "grid_template_rows": null,
            "height": null,
            "justify_content": null,
            "justify_items": null,
            "left": null,
            "margin": null,
            "max_height": null,
            "max_width": null,
            "min_height": null,
            "min_width": null,
            "object_fit": null,
            "object_position": null,
            "order": null,
            "overflow": null,
            "overflow_x": null,
            "overflow_y": null,
            "padding": null,
            "right": null,
            "top": null,
            "visibility": null,
            "width": null
          }
        },
        "bfe4861457694e49abd265e1fd99f8c6": {
          "model_module": "@jupyter-widgets/controls",
          "model_name": "ProgressStyleModel",
          "model_module_version": "1.5.0",
          "state": {
            "_model_module": "@jupyter-widgets/controls",
            "_model_module_version": "1.5.0",
            "_model_name": "ProgressStyleModel",
            "_view_count": null,
            "_view_module": "@jupyter-widgets/base",
            "_view_module_version": "1.2.0",
            "_view_name": "StyleView",
            "bar_color": null,
            "description_width": ""
          }
        },
        "70496fbdeedc48bb8de7d3bde39e8325": {
          "model_module": "@jupyter-widgets/base",
          "model_name": "LayoutModel",
          "model_module_version": "1.2.0",
          "state": {
            "_model_module": "@jupyter-widgets/base",
            "_model_module_version": "1.2.0",
            "_model_name": "LayoutModel",
            "_view_count": null,
            "_view_module": "@jupyter-widgets/base",
            "_view_module_version": "1.2.0",
            "_view_name": "LayoutView",
            "align_content": null,
            "align_items": null,
            "align_self": null,
            "border": null,
            "bottom": null,
            "display": null,
            "flex": null,
            "flex_flow": null,
            "grid_area": null,
            "grid_auto_columns": null,
            "grid_auto_flow": null,
            "grid_auto_rows": null,
            "grid_column": null,
            "grid_gap": null,
            "grid_row": null,
            "grid_template_areas": null,
            "grid_template_columns": null,
            "grid_template_rows": null,
            "height": null,
            "justify_content": null,
            "justify_items": null,
            "left": null,
            "margin": null,
            "max_height": null,
            "max_width": null,
            "min_height": null,
            "min_width": null,
            "object_fit": null,
            "object_position": null,
            "order": null,
            "overflow": null,
            "overflow_x": null,
            "overflow_y": null,
            "padding": null,
            "right": null,
            "top": null,
            "visibility": null,
            "width": null
          }
        },
        "bd16e648513142db8e78bea1d6c6dbc5": {
          "model_module": "@jupyter-widgets/controls",
          "model_name": "DescriptionStyleModel",
          "model_module_version": "1.5.0",
          "state": {
            "_model_module": "@jupyter-widgets/controls",
            "_model_module_version": "1.5.0",
            "_model_name": "DescriptionStyleModel",
            "_view_count": null,
            "_view_module": "@jupyter-widgets/base",
            "_view_module_version": "1.2.0",
            "_view_name": "StyleView",
            "description_width": ""
          }
        },
        "4a3fc41362734d029a2af436a864d37b": {
          "model_module": "@jupyter-widgets/controls",
          "model_name": "HBoxModel",
          "model_module_version": "1.5.0",
          "state": {
            "_dom_classes": [],
            "_model_module": "@jupyter-widgets/controls",
            "_model_module_version": "1.5.0",
            "_model_name": "HBoxModel",
            "_view_count": null,
            "_view_module": "@jupyter-widgets/controls",
            "_view_module_version": "1.5.0",
            "_view_name": "HBoxView",
            "box_style": "",
            "children": [
              "IPY_MODEL_f68abb34197346fa84212ea3f849e378",
              "IPY_MODEL_32c2d5a6c4074f2f971637e71cf62725",
              "IPY_MODEL_98c10f68d4374addb343b83370554db8"
            ],
            "layout": "IPY_MODEL_e16719893bf44902bd0284f70185e14a"
          }
        },
        "f68abb34197346fa84212ea3f849e378": {
          "model_module": "@jupyter-widgets/controls",
          "model_name": "HTMLModel",
          "model_module_version": "1.5.0",
          "state": {
            "_dom_classes": [],
            "_model_module": "@jupyter-widgets/controls",
            "_model_module_version": "1.5.0",
            "_model_name": "HTMLModel",
            "_view_count": null,
            "_view_module": "@jupyter-widgets/controls",
            "_view_module_version": "1.5.0",
            "_view_name": "HTMLView",
            "description": "",
            "description_tooltip": null,
            "layout": "IPY_MODEL_6eae59bff31b4a51a879dea142913aad",
            "placeholder": "​",
            "style": "IPY_MODEL_159da0b290a84bb492109ed186783e1d",
            "value": "tokenizer.json: 100%"
          }
        },
        "32c2d5a6c4074f2f971637e71cf62725": {
          "model_module": "@jupyter-widgets/controls",
          "model_name": "FloatProgressModel",
          "model_module_version": "1.5.0",
          "state": {
            "_dom_classes": [],
            "_model_module": "@jupyter-widgets/controls",
            "_model_module_version": "1.5.0",
            "_model_name": "FloatProgressModel",
            "_view_count": null,
            "_view_module": "@jupyter-widgets/controls",
            "_view_module_version": "1.5.0",
            "_view_name": "ProgressView",
            "bar_style": "success",
            "description": "",
            "description_tooltip": null,
            "layout": "IPY_MODEL_8f7fefef8cbd4fd1acd7fef09bd02613",
            "max": 1355863,
            "min": 0,
            "orientation": "horizontal",
            "style": "IPY_MODEL_fdc220c079774a91a5b8524a6e0e55ee",
            "value": 1355863
          }
        },
        "98c10f68d4374addb343b83370554db8": {
          "model_module": "@jupyter-widgets/controls",
          "model_name": "HTMLModel",
          "model_module_version": "1.5.0",
          "state": {
            "_dom_classes": [],
            "_model_module": "@jupyter-widgets/controls",
            "_model_module_version": "1.5.0",
            "_model_name": "HTMLModel",
            "_view_count": null,
            "_view_module": "@jupyter-widgets/controls",
            "_view_module_version": "1.5.0",
            "_view_name": "HTMLView",
            "description": "",
            "description_tooltip": null,
            "layout": "IPY_MODEL_eed58caeef394a1392c391b5575ff87c",
            "placeholder": "​",
            "style": "IPY_MODEL_29305a5b91b04acb9388de262399303c",
            "value": " 1.36M/1.36M [00:01&lt;00:00, 1.34MB/s]"
          }
        },
        "e16719893bf44902bd0284f70185e14a": {
          "model_module": "@jupyter-widgets/base",
          "model_name": "LayoutModel",
          "model_module_version": "1.2.0",
          "state": {
            "_model_module": "@jupyter-widgets/base",
            "_model_module_version": "1.2.0",
            "_model_name": "LayoutModel",
            "_view_count": null,
            "_view_module": "@jupyter-widgets/base",
            "_view_module_version": "1.2.0",
            "_view_name": "LayoutView",
            "align_content": null,
            "align_items": null,
            "align_self": null,
            "border": null,
            "bottom": null,
            "display": null,
            "flex": null,
            "flex_flow": null,
            "grid_area": null,
            "grid_auto_columns": null,
            "grid_auto_flow": null,
            "grid_auto_rows": null,
            "grid_column": null,
            "grid_gap": null,
            "grid_row": null,
            "grid_template_areas": null,
            "grid_template_columns": null,
            "grid_template_rows": null,
            "height": null,
            "justify_content": null,
            "justify_items": null,
            "left": null,
            "margin": null,
            "max_height": null,
            "max_width": null,
            "min_height": null,
            "min_width": null,
            "object_fit": null,
            "object_position": null,
            "order": null,
            "overflow": null,
            "overflow_x": null,
            "overflow_y": null,
            "padding": null,
            "right": null,
            "top": null,
            "visibility": null,
            "width": null
          }
        },
        "6eae59bff31b4a51a879dea142913aad": {
          "model_module": "@jupyter-widgets/base",
          "model_name": "LayoutModel",
          "model_module_version": "1.2.0",
          "state": {
            "_model_module": "@jupyter-widgets/base",
            "_model_module_version": "1.2.0",
            "_model_name": "LayoutModel",
            "_view_count": null,
            "_view_module": "@jupyter-widgets/base",
            "_view_module_version": "1.2.0",
            "_view_name": "LayoutView",
            "align_content": null,
            "align_items": null,
            "align_self": null,
            "border": null,
            "bottom": null,
            "display": null,
            "flex": null,
            "flex_flow": null,
            "grid_area": null,
            "grid_auto_columns": null,
            "grid_auto_flow": null,
            "grid_auto_rows": null,
            "grid_column": null,
            "grid_gap": null,
            "grid_row": null,
            "grid_template_areas": null,
            "grid_template_columns": null,
            "grid_template_rows": null,
            "height": null,
            "justify_content": null,
            "justify_items": null,
            "left": null,
            "margin": null,
            "max_height": null,
            "max_width": null,
            "min_height": null,
            "min_width": null,
            "object_fit": null,
            "object_position": null,
            "order": null,
            "overflow": null,
            "overflow_x": null,
            "overflow_y": null,
            "padding": null,
            "right": null,
            "top": null,
            "visibility": null,
            "width": null
          }
        },
        "159da0b290a84bb492109ed186783e1d": {
          "model_module": "@jupyter-widgets/controls",
          "model_name": "DescriptionStyleModel",
          "model_module_version": "1.5.0",
          "state": {
            "_model_module": "@jupyter-widgets/controls",
            "_model_module_version": "1.5.0",
            "_model_name": "DescriptionStyleModel",
            "_view_count": null,
            "_view_module": "@jupyter-widgets/base",
            "_view_module_version": "1.2.0",
            "_view_name": "StyleView",
            "description_width": ""
          }
        },
        "8f7fefef8cbd4fd1acd7fef09bd02613": {
          "model_module": "@jupyter-widgets/base",
          "model_name": "LayoutModel",
          "model_module_version": "1.2.0",
          "state": {
            "_model_module": "@jupyter-widgets/base",
            "_model_module_version": "1.2.0",
            "_model_name": "LayoutModel",
            "_view_count": null,
            "_view_module": "@jupyter-widgets/base",
            "_view_module_version": "1.2.0",
            "_view_name": "LayoutView",
            "align_content": null,
            "align_items": null,
            "align_self": null,
            "border": null,
            "bottom": null,
            "display": null,
            "flex": null,
            "flex_flow": null,
            "grid_area": null,
            "grid_auto_columns": null,
            "grid_auto_flow": null,
            "grid_auto_rows": null,
            "grid_column": null,
            "grid_gap": null,
            "grid_row": null,
            "grid_template_areas": null,
            "grid_template_columns": null,
            "grid_template_rows": null,
            "height": null,
            "justify_content": null,
            "justify_items": null,
            "left": null,
            "margin": null,
            "max_height": null,
            "max_width": null,
            "min_height": null,
            "min_width": null,
            "object_fit": null,
            "object_position": null,
            "order": null,
            "overflow": null,
            "overflow_x": null,
            "overflow_y": null,
            "padding": null,
            "right": null,
            "top": null,
            "visibility": null,
            "width": null
          }
        },
        "fdc220c079774a91a5b8524a6e0e55ee": {
          "model_module": "@jupyter-widgets/controls",
          "model_name": "ProgressStyleModel",
          "model_module_version": "1.5.0",
          "state": {
            "_model_module": "@jupyter-widgets/controls",
            "_model_module_version": "1.5.0",
            "_model_name": "ProgressStyleModel",
            "_view_count": null,
            "_view_module": "@jupyter-widgets/base",
            "_view_module_version": "1.2.0",
            "_view_name": "StyleView",
            "bar_color": null,
            "description_width": ""
          }
        },
        "eed58caeef394a1392c391b5575ff87c": {
          "model_module": "@jupyter-widgets/base",
          "model_name": "LayoutModel",
          "model_module_version": "1.2.0",
          "state": {
            "_model_module": "@jupyter-widgets/base",
            "_model_module_version": "1.2.0",
            "_model_name": "LayoutModel",
            "_view_count": null,
            "_view_module": "@jupyter-widgets/base",
            "_view_module_version": "1.2.0",
            "_view_name": "LayoutView",
            "align_content": null,
            "align_items": null,
            "align_self": null,
            "border": null,
            "bottom": null,
            "display": null,
            "flex": null,
            "flex_flow": null,
            "grid_area": null,
            "grid_auto_columns": null,
            "grid_auto_flow": null,
            "grid_auto_rows": null,
            "grid_column": null,
            "grid_gap": null,
            "grid_row": null,
            "grid_template_areas": null,
            "grid_template_columns": null,
            "grid_template_rows": null,
            "height": null,
            "justify_content": null,
            "justify_items": null,
            "left": null,
            "margin": null,
            "max_height": null,
            "max_width": null,
            "min_height": null,
            "min_width": null,
            "object_fit": null,
            "object_position": null,
            "order": null,
            "overflow": null,
            "overflow_x": null,
            "overflow_y": null,
            "padding": null,
            "right": null,
            "top": null,
            "visibility": null,
            "width": null
          }
        },
        "29305a5b91b04acb9388de262399303c": {
          "model_module": "@jupyter-widgets/controls",
          "model_name": "DescriptionStyleModel",
          "model_module_version": "1.5.0",
          "state": {
            "_model_module": "@jupyter-widgets/controls",
            "_model_module_version": "1.5.0",
            "_model_name": "DescriptionStyleModel",
            "_view_count": null,
            "_view_module": "@jupyter-widgets/base",
            "_view_module_version": "1.2.0",
            "_view_name": "StyleView",
            "description_width": ""
          }
        },
        "f2bc6b49a24443ada1c3527b2a5c5492": {
          "model_module": "@jupyter-widgets/controls",
          "model_name": "HBoxModel",
          "model_module_version": "1.5.0",
          "state": {
            "_dom_classes": [],
            "_model_module": "@jupyter-widgets/controls",
            "_model_module_version": "1.5.0",
            "_model_name": "HBoxModel",
            "_view_count": null,
            "_view_module": "@jupyter-widgets/controls",
            "_view_module_version": "1.5.0",
            "_view_name": "HBoxView",
            "box_style": "",
            "children": [
              "IPY_MODEL_6a7454c898634565a6f13e83cc5eee56",
              "IPY_MODEL_0e5f1f535ef84782a7969cb3c5498ee4",
              "IPY_MODEL_2e58a88ff9d64a9c8ff0e9d9f762c501"
            ],
            "layout": "IPY_MODEL_26c45d6213b2427b8e6b58a1a7e46c4b"
          }
        },
        "6a7454c898634565a6f13e83cc5eee56": {
          "model_module": "@jupyter-widgets/controls",
          "model_name": "HTMLModel",
          "model_module_version": "1.5.0",
          "state": {
            "_dom_classes": [],
            "_model_module": "@jupyter-widgets/controls",
            "_model_module_version": "1.5.0",
            "_model_name": "HTMLModel",
            "_view_count": null,
            "_view_module": "@jupyter-widgets/controls",
            "_view_module_version": "1.5.0",
            "_view_name": "HTMLView",
            "description": "",
            "description_tooltip": null,
            "layout": "IPY_MODEL_3111137135584625be756d6efa24aba4",
            "placeholder": "​",
            "style": "IPY_MODEL_f7deff7011414b9786b8d61dfd7efce1",
            "value": "config.json: 100%"
          }
        },
        "0e5f1f535ef84782a7969cb3c5498ee4": {
          "model_module": "@jupyter-widgets/controls",
          "model_name": "FloatProgressModel",
          "model_module_version": "1.5.0",
          "state": {
            "_dom_classes": [],
            "_model_module": "@jupyter-widgets/controls",
            "_model_module_version": "1.5.0",
            "_model_name": "FloatProgressModel",
            "_view_count": null,
            "_view_module": "@jupyter-widgets/controls",
            "_view_module_version": "1.5.0",
            "_view_name": "ProgressView",
            "bar_style": "success",
            "description": "",
            "description_tooltip": null,
            "layout": "IPY_MODEL_6276bc0f52d84f288f15918d824ba727",
            "max": 665,
            "min": 0,
            "orientation": "horizontal",
            "style": "IPY_MODEL_d9e54b9d3052442e8fd16d7a016be3d9",
            "value": 665
          }
        },
        "2e58a88ff9d64a9c8ff0e9d9f762c501": {
          "model_module": "@jupyter-widgets/controls",
          "model_name": "HTMLModel",
          "model_module_version": "1.5.0",
          "state": {
            "_dom_classes": [],
            "_model_module": "@jupyter-widgets/controls",
            "_model_module_version": "1.5.0",
            "_model_name": "HTMLModel",
            "_view_count": null,
            "_view_module": "@jupyter-widgets/controls",
            "_view_module_version": "1.5.0",
            "_view_name": "HTMLView",
            "description": "",
            "description_tooltip": null,
            "layout": "IPY_MODEL_80bb20d7a054436199b198bbedf4f777",
            "placeholder": "​",
            "style": "IPY_MODEL_0ab3dc21ad884982b4a89958c749fd3d",
            "value": " 665/665 [00:00&lt;00:00, 58.3kB/s]"
          }
        },
        "26c45d6213b2427b8e6b58a1a7e46c4b": {
          "model_module": "@jupyter-widgets/base",
          "model_name": "LayoutModel",
          "model_module_version": "1.2.0",
          "state": {
            "_model_module": "@jupyter-widgets/base",
            "_model_module_version": "1.2.0",
            "_model_name": "LayoutModel",
            "_view_count": null,
            "_view_module": "@jupyter-widgets/base",
            "_view_module_version": "1.2.0",
            "_view_name": "LayoutView",
            "align_content": null,
            "align_items": null,
            "align_self": null,
            "border": null,
            "bottom": null,
            "display": null,
            "flex": null,
            "flex_flow": null,
            "grid_area": null,
            "grid_auto_columns": null,
            "grid_auto_flow": null,
            "grid_auto_rows": null,
            "grid_column": null,
            "grid_gap": null,
            "grid_row": null,
            "grid_template_areas": null,
            "grid_template_columns": null,
            "grid_template_rows": null,
            "height": null,
            "justify_content": null,
            "justify_items": null,
            "left": null,
            "margin": null,
            "max_height": null,
            "max_width": null,
            "min_height": null,
            "min_width": null,
            "object_fit": null,
            "object_position": null,
            "order": null,
            "overflow": null,
            "overflow_x": null,
            "overflow_y": null,
            "padding": null,
            "right": null,
            "top": null,
            "visibility": null,
            "width": null
          }
        },
        "3111137135584625be756d6efa24aba4": {
          "model_module": "@jupyter-widgets/base",
          "model_name": "LayoutModel",
          "model_module_version": "1.2.0",
          "state": {
            "_model_module": "@jupyter-widgets/base",
            "_model_module_version": "1.2.0",
            "_model_name": "LayoutModel",
            "_view_count": null,
            "_view_module": "@jupyter-widgets/base",
            "_view_module_version": "1.2.0",
            "_view_name": "LayoutView",
            "align_content": null,
            "align_items": null,
            "align_self": null,
            "border": null,
            "bottom": null,
            "display": null,
            "flex": null,
            "flex_flow": null,
            "grid_area": null,
            "grid_auto_columns": null,
            "grid_auto_flow": null,
            "grid_auto_rows": null,
            "grid_column": null,
            "grid_gap": null,
            "grid_row": null,
            "grid_template_areas": null,
            "grid_template_columns": null,
            "grid_template_rows": null,
            "height": null,
            "justify_content": null,
            "justify_items": null,
            "left": null,
            "margin": null,
            "max_height": null,
            "max_width": null,
            "min_height": null,
            "min_width": null,
            "object_fit": null,
            "object_position": null,
            "order": null,
            "overflow": null,
            "overflow_x": null,
            "overflow_y": null,
            "padding": null,
            "right": null,
            "top": null,
            "visibility": null,
            "width": null
          }
        },
        "f7deff7011414b9786b8d61dfd7efce1": {
          "model_module": "@jupyter-widgets/controls",
          "model_name": "DescriptionStyleModel",
          "model_module_version": "1.5.0",
          "state": {
            "_model_module": "@jupyter-widgets/controls",
            "_model_module_version": "1.5.0",
            "_model_name": "DescriptionStyleModel",
            "_view_count": null,
            "_view_module": "@jupyter-widgets/base",
            "_view_module_version": "1.2.0",
            "_view_name": "StyleView",
            "description_width": ""
          }
        },
        "6276bc0f52d84f288f15918d824ba727": {
          "model_module": "@jupyter-widgets/base",
          "model_name": "LayoutModel",
          "model_module_version": "1.2.0",
          "state": {
            "_model_module": "@jupyter-widgets/base",
            "_model_module_version": "1.2.0",
            "_model_name": "LayoutModel",
            "_view_count": null,
            "_view_module": "@jupyter-widgets/base",
            "_view_module_version": "1.2.0",
            "_view_name": "LayoutView",
            "align_content": null,
            "align_items": null,
            "align_self": null,
            "border": null,
            "bottom": null,
            "display": null,
            "flex": null,
            "flex_flow": null,
            "grid_area": null,
            "grid_auto_columns": null,
            "grid_auto_flow": null,
            "grid_auto_rows": null,
            "grid_column": null,
            "grid_gap": null,
            "grid_row": null,
            "grid_template_areas": null,
            "grid_template_columns": null,
            "grid_template_rows": null,
            "height": null,
            "justify_content": null,
            "justify_items": null,
            "left": null,
            "margin": null,
            "max_height": null,
            "max_width": null,
            "min_height": null,
            "min_width": null,
            "object_fit": null,
            "object_position": null,
            "order": null,
            "overflow": null,
            "overflow_x": null,
            "overflow_y": null,
            "padding": null,
            "right": null,
            "top": null,
            "visibility": null,
            "width": null
          }
        },
        "d9e54b9d3052442e8fd16d7a016be3d9": {
          "model_module": "@jupyter-widgets/controls",
          "model_name": "ProgressStyleModel",
          "model_module_version": "1.5.0",
          "state": {
            "_model_module": "@jupyter-widgets/controls",
            "_model_module_version": "1.5.0",
            "_model_name": "ProgressStyleModel",
            "_view_count": null,
            "_view_module": "@jupyter-widgets/base",
            "_view_module_version": "1.2.0",
            "_view_name": "StyleView",
            "bar_color": null,
            "description_width": ""
          }
        },
        "80bb20d7a054436199b198bbedf4f777": {
          "model_module": "@jupyter-widgets/base",
          "model_name": "LayoutModel",
          "model_module_version": "1.2.0",
          "state": {
            "_model_module": "@jupyter-widgets/base",
            "_model_module_version": "1.2.0",
            "_model_name": "LayoutModel",
            "_view_count": null,
            "_view_module": "@jupyter-widgets/base",
            "_view_module_version": "1.2.0",
            "_view_name": "LayoutView",
            "align_content": null,
            "align_items": null,
            "align_self": null,
            "border": null,
            "bottom": null,
            "display": null,
            "flex": null,
            "flex_flow": null,
            "grid_area": null,
            "grid_auto_columns": null,
            "grid_auto_flow": null,
            "grid_auto_rows": null,
            "grid_column": null,
            "grid_gap": null,
            "grid_row": null,
            "grid_template_areas": null,
            "grid_template_columns": null,
            "grid_template_rows": null,
            "height": null,
            "justify_content": null,
            "justify_items": null,
            "left": null,
            "margin": null,
            "max_height": null,
            "max_width": null,
            "min_height": null,
            "min_width": null,
            "object_fit": null,
            "object_position": null,
            "order": null,
            "overflow": null,
            "overflow_x": null,
            "overflow_y": null,
            "padding": null,
            "right": null,
            "top": null,
            "visibility": null,
            "width": null
          }
        },
        "0ab3dc21ad884982b4a89958c749fd3d": {
          "model_module": "@jupyter-widgets/controls",
          "model_name": "DescriptionStyleModel",
          "model_module_version": "1.5.0",
          "state": {
            "_model_module": "@jupyter-widgets/controls",
            "_model_module_version": "1.5.0",
            "_model_name": "DescriptionStyleModel",
            "_view_count": null,
            "_view_module": "@jupyter-widgets/base",
            "_view_module_version": "1.2.0",
            "_view_name": "StyleView",
            "description_width": ""
          }
        },
        "b777ddc394e442c3866132d6099976d5": {
          "model_module": "@jupyter-widgets/controls",
          "model_name": "HBoxModel",
          "model_module_version": "1.5.0",
          "state": {
            "_dom_classes": [],
            "_model_module": "@jupyter-widgets/controls",
            "_model_module_version": "1.5.0",
            "_model_name": "HBoxModel",
            "_view_count": null,
            "_view_module": "@jupyter-widgets/controls",
            "_view_module_version": "1.5.0",
            "_view_name": "HBoxView",
            "box_style": "",
            "children": [
              "IPY_MODEL_a1e236521674413e9b2321311f0957b9",
              "IPY_MODEL_80cedd13c41b4d38acb3aecf6e54adbc",
              "IPY_MODEL_496c7e8a2c3d4ae199ac7978569233e3"
            ],
            "layout": "IPY_MODEL_d05d5ff451a14a1581a9e23172f1062f"
          }
        },
        "a1e236521674413e9b2321311f0957b9": {
          "model_module": "@jupyter-widgets/controls",
          "model_name": "HTMLModel",
          "model_module_version": "1.5.0",
          "state": {
            "_dom_classes": [],
            "_model_module": "@jupyter-widgets/controls",
            "_model_module_version": "1.5.0",
            "_model_name": "HTMLModel",
            "_view_count": null,
            "_view_module": "@jupyter-widgets/controls",
            "_view_module_version": "1.5.0",
            "_view_name": "HTMLView",
            "description": "",
            "description_tooltip": null,
            "layout": "IPY_MODEL_4534ff2162df4902bb26ed98318352d3",
            "placeholder": "​",
            "style": "IPY_MODEL_f51c6b13874d4fb39eae24d7fc611555",
            "value": "model.safetensors: 100%"
          }
        },
        "80cedd13c41b4d38acb3aecf6e54adbc": {
          "model_module": "@jupyter-widgets/controls",
          "model_name": "FloatProgressModel",
          "model_module_version": "1.5.0",
          "state": {
            "_dom_classes": [],
            "_model_module": "@jupyter-widgets/controls",
            "_model_module_version": "1.5.0",
            "_model_name": "FloatProgressModel",
            "_view_count": null,
            "_view_module": "@jupyter-widgets/controls",
            "_view_module_version": "1.5.0",
            "_view_name": "ProgressView",
            "bar_style": "success",
            "description": "",
            "description_tooltip": null,
            "layout": "IPY_MODEL_3640d503e9f94e6c81be2f0d28e79082",
            "max": 548105171,
            "min": 0,
            "orientation": "horizontal",
            "style": "IPY_MODEL_9cf85ff7ca4541f199ccadd2f9b0c7dc",
            "value": 548105171
          }
        },
        "496c7e8a2c3d4ae199ac7978569233e3": {
          "model_module": "@jupyter-widgets/controls",
          "model_name": "HTMLModel",
          "model_module_version": "1.5.0",
          "state": {
            "_dom_classes": [],
            "_model_module": "@jupyter-widgets/controls",
            "_model_module_version": "1.5.0",
            "_model_name": "HTMLModel",
            "_view_count": null,
            "_view_module": "@jupyter-widgets/controls",
            "_view_module_version": "1.5.0",
            "_view_name": "HTMLView",
            "description": "",
            "description_tooltip": null,
            "layout": "IPY_MODEL_6772aed5cc344887a6a1aaf875ce3d7b",
            "placeholder": "​",
            "style": "IPY_MODEL_0221f47e3b3a40aeb7cb1633ecabe4b6",
            "value": " 548M/548M [00:01&lt;00:00, 400MB/s]"
          }
        },
        "d05d5ff451a14a1581a9e23172f1062f": {
          "model_module": "@jupyter-widgets/base",
          "model_name": "LayoutModel",
          "model_module_version": "1.2.0",
          "state": {
            "_model_module": "@jupyter-widgets/base",
            "_model_module_version": "1.2.0",
            "_model_name": "LayoutModel",
            "_view_count": null,
            "_view_module": "@jupyter-widgets/base",
            "_view_module_version": "1.2.0",
            "_view_name": "LayoutView",
            "align_content": null,
            "align_items": null,
            "align_self": null,
            "border": null,
            "bottom": null,
            "display": null,
            "flex": null,
            "flex_flow": null,
            "grid_area": null,
            "grid_auto_columns": null,
            "grid_auto_flow": null,
            "grid_auto_rows": null,
            "grid_column": null,
            "grid_gap": null,
            "grid_row": null,
            "grid_template_areas": null,
            "grid_template_columns": null,
            "grid_template_rows": null,
            "height": null,
            "justify_content": null,
            "justify_items": null,
            "left": null,
            "margin": null,
            "max_height": null,
            "max_width": null,
            "min_height": null,
            "min_width": null,
            "object_fit": null,
            "object_position": null,
            "order": null,
            "overflow": null,
            "overflow_x": null,
            "overflow_y": null,
            "padding": null,
            "right": null,
            "top": null,
            "visibility": null,
            "width": null
          }
        },
        "4534ff2162df4902bb26ed98318352d3": {
          "model_module": "@jupyter-widgets/base",
          "model_name": "LayoutModel",
          "model_module_version": "1.2.0",
          "state": {
            "_model_module": "@jupyter-widgets/base",
            "_model_module_version": "1.2.0",
            "_model_name": "LayoutModel",
            "_view_count": null,
            "_view_module": "@jupyter-widgets/base",
            "_view_module_version": "1.2.0",
            "_view_name": "LayoutView",
            "align_content": null,
            "align_items": null,
            "align_self": null,
            "border": null,
            "bottom": null,
            "display": null,
            "flex": null,
            "flex_flow": null,
            "grid_area": null,
            "grid_auto_columns": null,
            "grid_auto_flow": null,
            "grid_auto_rows": null,
            "grid_column": null,
            "grid_gap": null,
            "grid_row": null,
            "grid_template_areas": null,
            "grid_template_columns": null,
            "grid_template_rows": null,
            "height": null,
            "justify_content": null,
            "justify_items": null,
            "left": null,
            "margin": null,
            "max_height": null,
            "max_width": null,
            "min_height": null,
            "min_width": null,
            "object_fit": null,
            "object_position": null,
            "order": null,
            "overflow": null,
            "overflow_x": null,
            "overflow_y": null,
            "padding": null,
            "right": null,
            "top": null,
            "visibility": null,
            "width": null
          }
        },
        "f51c6b13874d4fb39eae24d7fc611555": {
          "model_module": "@jupyter-widgets/controls",
          "model_name": "DescriptionStyleModel",
          "model_module_version": "1.5.0",
          "state": {
            "_model_module": "@jupyter-widgets/controls",
            "_model_module_version": "1.5.0",
            "_model_name": "DescriptionStyleModel",
            "_view_count": null,
            "_view_module": "@jupyter-widgets/base",
            "_view_module_version": "1.2.0",
            "_view_name": "StyleView",
            "description_width": ""
          }
        },
        "3640d503e9f94e6c81be2f0d28e79082": {
          "model_module": "@jupyter-widgets/base",
          "model_name": "LayoutModel",
          "model_module_version": "1.2.0",
          "state": {
            "_model_module": "@jupyter-widgets/base",
            "_model_module_version": "1.2.0",
            "_model_name": "LayoutModel",
            "_view_count": null,
            "_view_module": "@jupyter-widgets/base",
            "_view_module_version": "1.2.0",
            "_view_name": "LayoutView",
            "align_content": null,
            "align_items": null,
            "align_self": null,
            "border": null,
            "bottom": null,
            "display": null,
            "flex": null,
            "flex_flow": null,
            "grid_area": null,
            "grid_auto_columns": null,
            "grid_auto_flow": null,
            "grid_auto_rows": null,
            "grid_column": null,
            "grid_gap": null,
            "grid_row": null,
            "grid_template_areas": null,
            "grid_template_columns": null,
            "grid_template_rows": null,
            "height": null,
            "justify_content": null,
            "justify_items": null,
            "left": null,
            "margin": null,
            "max_height": null,
            "max_width": null,
            "min_height": null,
            "min_width": null,
            "object_fit": null,
            "object_position": null,
            "order": null,
            "overflow": null,
            "overflow_x": null,
            "overflow_y": null,
            "padding": null,
            "right": null,
            "top": null,
            "visibility": null,
            "width": null
          }
        },
        "9cf85ff7ca4541f199ccadd2f9b0c7dc": {
          "model_module": "@jupyter-widgets/controls",
          "model_name": "ProgressStyleModel",
          "model_module_version": "1.5.0",
          "state": {
            "_model_module": "@jupyter-widgets/controls",
            "_model_module_version": "1.5.0",
            "_model_name": "ProgressStyleModel",
            "_view_count": null,
            "_view_module": "@jupyter-widgets/base",
            "_view_module_version": "1.2.0",
            "_view_name": "StyleView",
            "bar_color": null,
            "description_width": ""
          }
        },
        "6772aed5cc344887a6a1aaf875ce3d7b": {
          "model_module": "@jupyter-widgets/base",
          "model_name": "LayoutModel",
          "model_module_version": "1.2.0",
          "state": {
            "_model_module": "@jupyter-widgets/base",
            "_model_module_version": "1.2.0",
            "_model_name": "LayoutModel",
            "_view_count": null,
            "_view_module": "@jupyter-widgets/base",
            "_view_module_version": "1.2.0",
            "_view_name": "LayoutView",
            "align_content": null,
            "align_items": null,
            "align_self": null,
            "border": null,
            "bottom": null,
            "display": null,
            "flex": null,
            "flex_flow": null,
            "grid_area": null,
            "grid_auto_columns": null,
            "grid_auto_flow": null,
            "grid_auto_rows": null,
            "grid_column": null,
            "grid_gap": null,
            "grid_row": null,
            "grid_template_areas": null,
            "grid_template_columns": null,
            "grid_template_rows": null,
            "height": null,
            "justify_content": null,
            "justify_items": null,
            "left": null,
            "margin": null,
            "max_height": null,
            "max_width": null,
            "min_height": null,
            "min_width": null,
            "object_fit": null,
            "object_position": null,
            "order": null,
            "overflow": null,
            "overflow_x": null,
            "overflow_y": null,
            "padding": null,
            "right": null,
            "top": null,
            "visibility": null,
            "width": null
          }
        },
        "0221f47e3b3a40aeb7cb1633ecabe4b6": {
          "model_module": "@jupyter-widgets/controls",
          "model_name": "DescriptionStyleModel",
          "model_module_version": "1.5.0",
          "state": {
            "_model_module": "@jupyter-widgets/controls",
            "_model_module_version": "1.5.0",
            "_model_name": "DescriptionStyleModel",
            "_view_count": null,
            "_view_module": "@jupyter-widgets/base",
            "_view_module_version": "1.2.0",
            "_view_name": "StyleView",
            "description_width": ""
          }
        },
        "40df485c837241e4aa69706319648a14": {
          "model_module": "@jupyter-widgets/controls",
          "model_name": "HBoxModel",
          "model_module_version": "1.5.0",
          "state": {
            "_dom_classes": [],
            "_model_module": "@jupyter-widgets/controls",
            "_model_module_version": "1.5.0",
            "_model_name": "HBoxModel",
            "_view_count": null,
            "_view_module": "@jupyter-widgets/controls",
            "_view_module_version": "1.5.0",
            "_view_name": "HBoxView",
            "box_style": "",
            "children": [
              "IPY_MODEL_0c15cbace3b24cc7870abf8ba6423343",
              "IPY_MODEL_e13a55a36dfb4573a2dc4ce029bde7cb",
              "IPY_MODEL_21bf60913fa54f46aa65a0e9e3474f4b"
            ],
            "layout": "IPY_MODEL_a504c8fad6bb46e6a1ef38efb785c54a"
          }
        },
        "0c15cbace3b24cc7870abf8ba6423343": {
          "model_module": "@jupyter-widgets/controls",
          "model_name": "HTMLModel",
          "model_module_version": "1.5.0",
          "state": {
            "_dom_classes": [],
            "_model_module": "@jupyter-widgets/controls",
            "_model_module_version": "1.5.0",
            "_model_name": "HTMLModel",
            "_view_count": null,
            "_view_module": "@jupyter-widgets/controls",
            "_view_module_version": "1.5.0",
            "_view_name": "HTMLView",
            "description": "",
            "description_tooltip": null,
            "layout": "IPY_MODEL_44d9d1cb0aef48bc997d3fa4b65e2020",
            "placeholder": "​",
            "style": "IPY_MODEL_82fb19d9bb3a4a6f96a0402353ca11df",
            "value": "generation_config.json: 100%"
          }
        },
        "e13a55a36dfb4573a2dc4ce029bde7cb": {
          "model_module": "@jupyter-widgets/controls",
          "model_name": "FloatProgressModel",
          "model_module_version": "1.5.0",
          "state": {
            "_dom_classes": [],
            "_model_module": "@jupyter-widgets/controls",
            "_model_module_version": "1.5.0",
            "_model_name": "FloatProgressModel",
            "_view_count": null,
            "_view_module": "@jupyter-widgets/controls",
            "_view_module_version": "1.5.0",
            "_view_name": "ProgressView",
            "bar_style": "success",
            "description": "",
            "description_tooltip": null,
            "layout": "IPY_MODEL_ce85cf84b82849629547c8fcf2819529",
            "max": 124,
            "min": 0,
            "orientation": "horizontal",
            "style": "IPY_MODEL_8149c36ec2c04031aa9c5e792cbdfb9e",
            "value": 124
          }
        },
        "21bf60913fa54f46aa65a0e9e3474f4b": {
          "model_module": "@jupyter-widgets/controls",
          "model_name": "HTMLModel",
          "model_module_version": "1.5.0",
          "state": {
            "_dom_classes": [],
            "_model_module": "@jupyter-widgets/controls",
            "_model_module_version": "1.5.0",
            "_model_name": "HTMLModel",
            "_view_count": null,
            "_view_module": "@jupyter-widgets/controls",
            "_view_module_version": "1.5.0",
            "_view_name": "HTMLView",
            "description": "",
            "description_tooltip": null,
            "layout": "IPY_MODEL_705f0d2408ec45e1ad4fc9713c5d1bee",
            "placeholder": "​",
            "style": "IPY_MODEL_2ba8e8061724473a834ff46179c6f0f0",
            "value": " 124/124 [00:00&lt;00:00, 8.77kB/s]"
          }
        },
        "a504c8fad6bb46e6a1ef38efb785c54a": {
          "model_module": "@jupyter-widgets/base",
          "model_name": "LayoutModel",
          "model_module_version": "1.2.0",
          "state": {
            "_model_module": "@jupyter-widgets/base",
            "_model_module_version": "1.2.0",
            "_model_name": "LayoutModel",
            "_view_count": null,
            "_view_module": "@jupyter-widgets/base",
            "_view_module_version": "1.2.0",
            "_view_name": "LayoutView",
            "align_content": null,
            "align_items": null,
            "align_self": null,
            "border": null,
            "bottom": null,
            "display": null,
            "flex": null,
            "flex_flow": null,
            "grid_area": null,
            "grid_auto_columns": null,
            "grid_auto_flow": null,
            "grid_auto_rows": null,
            "grid_column": null,
            "grid_gap": null,
            "grid_row": null,
            "grid_template_areas": null,
            "grid_template_columns": null,
            "grid_template_rows": null,
            "height": null,
            "justify_content": null,
            "justify_items": null,
            "left": null,
            "margin": null,
            "max_height": null,
            "max_width": null,
            "min_height": null,
            "min_width": null,
            "object_fit": null,
            "object_position": null,
            "order": null,
            "overflow": null,
            "overflow_x": null,
            "overflow_y": null,
            "padding": null,
            "right": null,
            "top": null,
            "visibility": null,
            "width": null
          }
        },
        "44d9d1cb0aef48bc997d3fa4b65e2020": {
          "model_module": "@jupyter-widgets/base",
          "model_name": "LayoutModel",
          "model_module_version": "1.2.0",
          "state": {
            "_model_module": "@jupyter-widgets/base",
            "_model_module_version": "1.2.0",
            "_model_name": "LayoutModel",
            "_view_count": null,
            "_view_module": "@jupyter-widgets/base",
            "_view_module_version": "1.2.0",
            "_view_name": "LayoutView",
            "align_content": null,
            "align_items": null,
            "align_self": null,
            "border": null,
            "bottom": null,
            "display": null,
            "flex": null,
            "flex_flow": null,
            "grid_area": null,
            "grid_auto_columns": null,
            "grid_auto_flow": null,
            "grid_auto_rows": null,
            "grid_column": null,
            "grid_gap": null,
            "grid_row": null,
            "grid_template_areas": null,
            "grid_template_columns": null,
            "grid_template_rows": null,
            "height": null,
            "justify_content": null,
            "justify_items": null,
            "left": null,
            "margin": null,
            "max_height": null,
            "max_width": null,
            "min_height": null,
            "min_width": null,
            "object_fit": null,
            "object_position": null,
            "order": null,
            "overflow": null,
            "overflow_x": null,
            "overflow_y": null,
            "padding": null,
            "right": null,
            "top": null,
            "visibility": null,
            "width": null
          }
        },
        "82fb19d9bb3a4a6f96a0402353ca11df": {
          "model_module": "@jupyter-widgets/controls",
          "model_name": "DescriptionStyleModel",
          "model_module_version": "1.5.0",
          "state": {
            "_model_module": "@jupyter-widgets/controls",
            "_model_module_version": "1.5.0",
            "_model_name": "DescriptionStyleModel",
            "_view_count": null,
            "_view_module": "@jupyter-widgets/base",
            "_view_module_version": "1.2.0",
            "_view_name": "StyleView",
            "description_width": ""
          }
        },
        "ce85cf84b82849629547c8fcf2819529": {
          "model_module": "@jupyter-widgets/base",
          "model_name": "LayoutModel",
          "model_module_version": "1.2.0",
          "state": {
            "_model_module": "@jupyter-widgets/base",
            "_model_module_version": "1.2.0",
            "_model_name": "LayoutModel",
            "_view_count": null,
            "_view_module": "@jupyter-widgets/base",
            "_view_module_version": "1.2.0",
            "_view_name": "LayoutView",
            "align_content": null,
            "align_items": null,
            "align_self": null,
            "border": null,
            "bottom": null,
            "display": null,
            "flex": null,
            "flex_flow": null,
            "grid_area": null,
            "grid_auto_columns": null,
            "grid_auto_flow": null,
            "grid_auto_rows": null,
            "grid_column": null,
            "grid_gap": null,
            "grid_row": null,
            "grid_template_areas": null,
            "grid_template_columns": null,
            "grid_template_rows": null,
            "height": null,
            "justify_content": null,
            "justify_items": null,
            "left": null,
            "margin": null,
            "max_height": null,
            "max_width": null,
            "min_height": null,
            "min_width": null,
            "object_fit": null,
            "object_position": null,
            "order": null,
            "overflow": null,
            "overflow_x": null,
            "overflow_y": null,
            "padding": null,
            "right": null,
            "top": null,
            "visibility": null,
            "width": null
          }
        },
        "8149c36ec2c04031aa9c5e792cbdfb9e": {
          "model_module": "@jupyter-widgets/controls",
          "model_name": "ProgressStyleModel",
          "model_module_version": "1.5.0",
          "state": {
            "_model_module": "@jupyter-widgets/controls",
            "_model_module_version": "1.5.0",
            "_model_name": "ProgressStyleModel",
            "_view_count": null,
            "_view_module": "@jupyter-widgets/base",
            "_view_module_version": "1.2.0",
            "_view_name": "StyleView",
            "bar_color": null,
            "description_width": ""
          }
        },
        "705f0d2408ec45e1ad4fc9713c5d1bee": {
          "model_module": "@jupyter-widgets/base",
          "model_name": "LayoutModel",
          "model_module_version": "1.2.0",
          "state": {
            "_model_module": "@jupyter-widgets/base",
            "_model_module_version": "1.2.0",
            "_model_name": "LayoutModel",
            "_view_count": null,
            "_view_module": "@jupyter-widgets/base",
            "_view_module_version": "1.2.0",
            "_view_name": "LayoutView",
            "align_content": null,
            "align_items": null,
            "align_self": null,
            "border": null,
            "bottom": null,
            "display": null,
            "flex": null,
            "flex_flow": null,
            "grid_area": null,
            "grid_auto_columns": null,
            "grid_auto_flow": null,
            "grid_auto_rows": null,
            "grid_column": null,
            "grid_gap": null,
            "grid_row": null,
            "grid_template_areas": null,
            "grid_template_columns": null,
            "grid_template_rows": null,
            "height": null,
            "justify_content": null,
            "justify_items": null,
            "left": null,
            "margin": null,
            "max_height": null,
            "max_width": null,
            "min_height": null,
            "min_width": null,
            "object_fit": null,
            "object_position": null,
            "order": null,
            "overflow": null,
            "overflow_x": null,
            "overflow_y": null,
            "padding": null,
            "right": null,
            "top": null,
            "visibility": null,
            "width": null
          }
        },
        "2ba8e8061724473a834ff46179c6f0f0": {
          "model_module": "@jupyter-widgets/controls",
          "model_name": "DescriptionStyleModel",
          "model_module_version": "1.5.0",
          "state": {
            "_model_module": "@jupyter-widgets/controls",
            "_model_module_version": "1.5.0",
            "_model_name": "DescriptionStyleModel",
            "_view_count": null,
            "_view_module": "@jupyter-widgets/base",
            "_view_module_version": "1.2.0",
            "_view_name": "StyleView",
            "description_width": ""
          }
        },
        "eda2e379932a48fc8b787c19dd5d8a96": {
          "model_module": "@jupyter-widgets/controls",
          "model_name": "HBoxModel",
          "model_module_version": "1.5.0",
          "state": {
            "_dom_classes": [],
            "_model_module": "@jupyter-widgets/controls",
            "_model_module_version": "1.5.0",
            "_model_name": "HBoxModel",
            "_view_count": null,
            "_view_module": "@jupyter-widgets/controls",
            "_view_module_version": "1.5.0",
            "_view_name": "HBoxView",
            "box_style": "",
            "children": [
              "IPY_MODEL_682a0b0e0b1e4873be78dea9d8e863ea",
              "IPY_MODEL_0fda70bfe666463c90d00a1eae9792ef",
              "IPY_MODEL_d392da2c58c4423789173200cdbf650b"
            ],
            "layout": "IPY_MODEL_8fbb81e29b3c491e8b9b7aeb6d23e56a"
          }
        },
        "682a0b0e0b1e4873be78dea9d8e863ea": {
          "model_module": "@jupyter-widgets/controls",
          "model_name": "HTMLModel",
          "model_module_version": "1.5.0",
          "state": {
            "_dom_classes": [],
            "_model_module": "@jupyter-widgets/controls",
            "_model_module_version": "1.5.0",
            "_model_name": "HTMLModel",
            "_view_count": null,
            "_view_module": "@jupyter-widgets/controls",
            "_view_module_version": "1.5.0",
            "_view_name": "HTMLView",
            "description": "",
            "description_tooltip": null,
            "layout": "IPY_MODEL_60c65016b89645d3a40d906451f97675",
            "placeholder": "​",
            "style": "IPY_MODEL_22477b7cc1e6491cab7731ac1a065835",
            "value": "vocab.json: 100%"
          }
        },
        "0fda70bfe666463c90d00a1eae9792ef": {
          "model_module": "@jupyter-widgets/controls",
          "model_name": "FloatProgressModel",
          "model_module_version": "1.5.0",
          "state": {
            "_dom_classes": [],
            "_model_module": "@jupyter-widgets/controls",
            "_model_module_version": "1.5.0",
            "_model_name": "FloatProgressModel",
            "_view_count": null,
            "_view_module": "@jupyter-widgets/controls",
            "_view_module_version": "1.5.0",
            "_view_name": "ProgressView",
            "bar_style": "success",
            "description": "",
            "description_tooltip": null,
            "layout": "IPY_MODEL_39756bc3c8624e4eaf8652a05c8a2f1f",
            "max": 1042301,
            "min": 0,
            "orientation": "horizontal",
            "style": "IPY_MODEL_e825430d09db4c7486c92aa05ca2d543",
            "value": 1042301
          }
        },
        "d392da2c58c4423789173200cdbf650b": {
          "model_module": "@jupyter-widgets/controls",
          "model_name": "HTMLModel",
          "model_module_version": "1.5.0",
          "state": {
            "_dom_classes": [],
            "_model_module": "@jupyter-widgets/controls",
            "_model_module_version": "1.5.0",
            "_model_name": "HTMLModel",
            "_view_count": null,
            "_view_module": "@jupyter-widgets/controls",
            "_view_module_version": "1.5.0",
            "_view_name": "HTMLView",
            "description": "",
            "description_tooltip": null,
            "layout": "IPY_MODEL_5c3e88798ec4452691486c26ce673cd4",
            "placeholder": "​",
            "style": "IPY_MODEL_f6d2eba297234ac49a9df2037ea05c9e",
            "value": " 1.04M/1.04M [00:01&lt;00:00, 992kB/s]"
          }
        },
        "8fbb81e29b3c491e8b9b7aeb6d23e56a": {
          "model_module": "@jupyter-widgets/base",
          "model_name": "LayoutModel",
          "model_module_version": "1.2.0",
          "state": {
            "_model_module": "@jupyter-widgets/base",
            "_model_module_version": "1.2.0",
            "_model_name": "LayoutModel",
            "_view_count": null,
            "_view_module": "@jupyter-widgets/base",
            "_view_module_version": "1.2.0",
            "_view_name": "LayoutView",
            "align_content": null,
            "align_items": null,
            "align_self": null,
            "border": null,
            "bottom": null,
            "display": null,
            "flex": null,
            "flex_flow": null,
            "grid_area": null,
            "grid_auto_columns": null,
            "grid_auto_flow": null,
            "grid_auto_rows": null,
            "grid_column": null,
            "grid_gap": null,
            "grid_row": null,
            "grid_template_areas": null,
            "grid_template_columns": null,
            "grid_template_rows": null,
            "height": null,
            "justify_content": null,
            "justify_items": null,
            "left": null,
            "margin": null,
            "max_height": null,
            "max_width": null,
            "min_height": null,
            "min_width": null,
            "object_fit": null,
            "object_position": null,
            "order": null,
            "overflow": null,
            "overflow_x": null,
            "overflow_y": null,
            "padding": null,
            "right": null,
            "top": null,
            "visibility": null,
            "width": null
          }
        },
        "60c65016b89645d3a40d906451f97675": {
          "model_module": "@jupyter-widgets/base",
          "model_name": "LayoutModel",
          "model_module_version": "1.2.0",
          "state": {
            "_model_module": "@jupyter-widgets/base",
            "_model_module_version": "1.2.0",
            "_model_name": "LayoutModel",
            "_view_count": null,
            "_view_module": "@jupyter-widgets/base",
            "_view_module_version": "1.2.0",
            "_view_name": "LayoutView",
            "align_content": null,
            "align_items": null,
            "align_self": null,
            "border": null,
            "bottom": null,
            "display": null,
            "flex": null,
            "flex_flow": null,
            "grid_area": null,
            "grid_auto_columns": null,
            "grid_auto_flow": null,
            "grid_auto_rows": null,
            "grid_column": null,
            "grid_gap": null,
            "grid_row": null,
            "grid_template_areas": null,
            "grid_template_columns": null,
            "grid_template_rows": null,
            "height": null,
            "justify_content": null,
            "justify_items": null,
            "left": null,
            "margin": null,
            "max_height": null,
            "max_width": null,
            "min_height": null,
            "min_width": null,
            "object_fit": null,
            "object_position": null,
            "order": null,
            "overflow": null,
            "overflow_x": null,
            "overflow_y": null,
            "padding": null,
            "right": null,
            "top": null,
            "visibility": null,
            "width": null
          }
        },
        "22477b7cc1e6491cab7731ac1a065835": {
          "model_module": "@jupyter-widgets/controls",
          "model_name": "DescriptionStyleModel",
          "model_module_version": "1.5.0",
          "state": {
            "_model_module": "@jupyter-widgets/controls",
            "_model_module_version": "1.5.0",
            "_model_name": "DescriptionStyleModel",
            "_view_count": null,
            "_view_module": "@jupyter-widgets/base",
            "_view_module_version": "1.2.0",
            "_view_name": "StyleView",
            "description_width": ""
          }
        },
        "39756bc3c8624e4eaf8652a05c8a2f1f": {
          "model_module": "@jupyter-widgets/base",
          "model_name": "LayoutModel",
          "model_module_version": "1.2.0",
          "state": {
            "_model_module": "@jupyter-widgets/base",
            "_model_module_version": "1.2.0",
            "_model_name": "LayoutModel",
            "_view_count": null,
            "_view_module": "@jupyter-widgets/base",
            "_view_module_version": "1.2.0",
            "_view_name": "LayoutView",
            "align_content": null,
            "align_items": null,
            "align_self": null,
            "border": null,
            "bottom": null,
            "display": null,
            "flex": null,
            "flex_flow": null,
            "grid_area": null,
            "grid_auto_columns": null,
            "grid_auto_flow": null,
            "grid_auto_rows": null,
            "grid_column": null,
            "grid_gap": null,
            "grid_row": null,
            "grid_template_areas": null,
            "grid_template_columns": null,
            "grid_template_rows": null,
            "height": null,
            "justify_content": null,
            "justify_items": null,
            "left": null,
            "margin": null,
            "max_height": null,
            "max_width": null,
            "min_height": null,
            "min_width": null,
            "object_fit": null,
            "object_position": null,
            "order": null,
            "overflow": null,
            "overflow_x": null,
            "overflow_y": null,
            "padding": null,
            "right": null,
            "top": null,
            "visibility": null,
            "width": null
          }
        },
        "e825430d09db4c7486c92aa05ca2d543": {
          "model_module": "@jupyter-widgets/controls",
          "model_name": "ProgressStyleModel",
          "model_module_version": "1.5.0",
          "state": {
            "_model_module": "@jupyter-widgets/controls",
            "_model_module_version": "1.5.0",
            "_model_name": "ProgressStyleModel",
            "_view_count": null,
            "_view_module": "@jupyter-widgets/base",
            "_view_module_version": "1.2.0",
            "_view_name": "StyleView",
            "bar_color": null,
            "description_width": ""
          }
        },
        "5c3e88798ec4452691486c26ce673cd4": {
          "model_module": "@jupyter-widgets/base",
          "model_name": "LayoutModel",
          "model_module_version": "1.2.0",
          "state": {
            "_model_module": "@jupyter-widgets/base",
            "_model_module_version": "1.2.0",
            "_model_name": "LayoutModel",
            "_view_count": null,
            "_view_module": "@jupyter-widgets/base",
            "_view_module_version": "1.2.0",
            "_view_name": "LayoutView",
            "align_content": null,
            "align_items": null,
            "align_self": null,
            "border": null,
            "bottom": null,
            "display": null,
            "flex": null,
            "flex_flow": null,
            "grid_area": null,
            "grid_auto_columns": null,
            "grid_auto_flow": null,
            "grid_auto_rows": null,
            "grid_column": null,
            "grid_gap": null,
            "grid_row": null,
            "grid_template_areas": null,
            "grid_template_columns": null,
            "grid_template_rows": null,
            "height": null,
            "justify_content": null,
            "justify_items": null,
            "left": null,
            "margin": null,
            "max_height": null,
            "max_width": null,
            "min_height": null,
            "min_width": null,
            "object_fit": null,
            "object_position": null,
            "order": null,
            "overflow": null,
            "overflow_x": null,
            "overflow_y": null,
            "padding": null,
            "right": null,
            "top": null,
            "visibility": null,
            "width": null
          }
        },
        "f6d2eba297234ac49a9df2037ea05c9e": {
          "model_module": "@jupyter-widgets/controls",
          "model_name": "DescriptionStyleModel",
          "model_module_version": "1.5.0",
          "state": {
            "_model_module": "@jupyter-widgets/controls",
            "_model_module_version": "1.5.0",
            "_model_name": "DescriptionStyleModel",
            "_view_count": null,
            "_view_module": "@jupyter-widgets/base",
            "_view_module_version": "1.2.0",
            "_view_name": "StyleView",
            "description_width": ""
          }
        },
        "1ac98853831843debd448c657bc70572": {
          "model_module": "@jupyter-widgets/controls",
          "model_name": "HBoxModel",
          "model_module_version": "1.5.0",
          "state": {
            "_dom_classes": [],
            "_model_module": "@jupyter-widgets/controls",
            "_model_module_version": "1.5.0",
            "_model_name": "HBoxModel",
            "_view_count": null,
            "_view_module": "@jupyter-widgets/controls",
            "_view_module_version": "1.5.0",
            "_view_name": "HBoxView",
            "box_style": "",
            "children": [
              "IPY_MODEL_4f21f422e5ec4b91a2f71d4a634a6e5a",
              "IPY_MODEL_f83275a191344f10a85fcb3d55dd6ada",
              "IPY_MODEL_38a01e55802a4a87bf02fbc217b64958"
            ],
            "layout": "IPY_MODEL_0891a3f946624c7db8eda92fc3d1fe43"
          }
        },
        "4f21f422e5ec4b91a2f71d4a634a6e5a": {
          "model_module": "@jupyter-widgets/controls",
          "model_name": "HTMLModel",
          "model_module_version": "1.5.0",
          "state": {
            "_dom_classes": [],
            "_model_module": "@jupyter-widgets/controls",
            "_model_module_version": "1.5.0",
            "_model_name": "HTMLModel",
            "_view_count": null,
            "_view_module": "@jupyter-widgets/controls",
            "_view_module_version": "1.5.0",
            "_view_name": "HTMLView",
            "description": "",
            "description_tooltip": null,
            "layout": "IPY_MODEL_d9d54cb416f84d27b1d2493c02fb3417",
            "placeholder": "​",
            "style": "IPY_MODEL_e10a3953706c47918f9cef0266a9856d",
            "value": "merges.txt: 100%"
          }
        },
        "f83275a191344f10a85fcb3d55dd6ada": {
          "model_module": "@jupyter-widgets/controls",
          "model_name": "FloatProgressModel",
          "model_module_version": "1.5.0",
          "state": {
            "_dom_classes": [],
            "_model_module": "@jupyter-widgets/controls",
            "_model_module_version": "1.5.0",
            "_model_name": "FloatProgressModel",
            "_view_count": null,
            "_view_module": "@jupyter-widgets/controls",
            "_view_module_version": "1.5.0",
            "_view_name": "ProgressView",
            "bar_style": "success",
            "description": "",
            "description_tooltip": null,
            "layout": "IPY_MODEL_2934f318acd64d45a17df7151d7b40fa",
            "max": 456318,
            "min": 0,
            "orientation": "horizontal",
            "style": "IPY_MODEL_1a5086f258034dce8ff984f250b2e718",
            "value": 456318
          }
        },
        "38a01e55802a4a87bf02fbc217b64958": {
          "model_module": "@jupyter-widgets/controls",
          "model_name": "HTMLModel",
          "model_module_version": "1.5.0",
          "state": {
            "_dom_classes": [],
            "_model_module": "@jupyter-widgets/controls",
            "_model_module_version": "1.5.0",
            "_model_name": "HTMLModel",
            "_view_count": null,
            "_view_module": "@jupyter-widgets/controls",
            "_view_module_version": "1.5.0",
            "_view_name": "HTMLView",
            "description": "",
            "description_tooltip": null,
            "layout": "IPY_MODEL_cc7d4ed9c6f44836a9c523025f88e27d",
            "placeholder": "​",
            "style": "IPY_MODEL_9bdc7c778a1e4619a4bc718c48de32e7",
            "value": " 456k/456k [00:00&lt;00:00, 599kB/s]"
          }
        },
        "0891a3f946624c7db8eda92fc3d1fe43": {
          "model_module": "@jupyter-widgets/base",
          "model_name": "LayoutModel",
          "model_module_version": "1.2.0",
          "state": {
            "_model_module": "@jupyter-widgets/base",
            "_model_module_version": "1.2.0",
            "_model_name": "LayoutModel",
            "_view_count": null,
            "_view_module": "@jupyter-widgets/base",
            "_view_module_version": "1.2.0",
            "_view_name": "LayoutView",
            "align_content": null,
            "align_items": null,
            "align_self": null,
            "border": null,
            "bottom": null,
            "display": null,
            "flex": null,
            "flex_flow": null,
            "grid_area": null,
            "grid_auto_columns": null,
            "grid_auto_flow": null,
            "grid_auto_rows": null,
            "grid_column": null,
            "grid_gap": null,
            "grid_row": null,
            "grid_template_areas": null,
            "grid_template_columns": null,
            "grid_template_rows": null,
            "height": null,
            "justify_content": null,
            "justify_items": null,
            "left": null,
            "margin": null,
            "max_height": null,
            "max_width": null,
            "min_height": null,
            "min_width": null,
            "object_fit": null,
            "object_position": null,
            "order": null,
            "overflow": null,
            "overflow_x": null,
            "overflow_y": null,
            "padding": null,
            "right": null,
            "top": null,
            "visibility": null,
            "width": null
          }
        },
        "d9d54cb416f84d27b1d2493c02fb3417": {
          "model_module": "@jupyter-widgets/base",
          "model_name": "LayoutModel",
          "model_module_version": "1.2.0",
          "state": {
            "_model_module": "@jupyter-widgets/base",
            "_model_module_version": "1.2.0",
            "_model_name": "LayoutModel",
            "_view_count": null,
            "_view_module": "@jupyter-widgets/base",
            "_view_module_version": "1.2.0",
            "_view_name": "LayoutView",
            "align_content": null,
            "align_items": null,
            "align_self": null,
            "border": null,
            "bottom": null,
            "display": null,
            "flex": null,
            "flex_flow": null,
            "grid_area": null,
            "grid_auto_columns": null,
            "grid_auto_flow": null,
            "grid_auto_rows": null,
            "grid_column": null,
            "grid_gap": null,
            "grid_row": null,
            "grid_template_areas": null,
            "grid_template_columns": null,
            "grid_template_rows": null,
            "height": null,
            "justify_content": null,
            "justify_items": null,
            "left": null,
            "margin": null,
            "max_height": null,
            "max_width": null,
            "min_height": null,
            "min_width": null,
            "object_fit": null,
            "object_position": null,
            "order": null,
            "overflow": null,
            "overflow_x": null,
            "overflow_y": null,
            "padding": null,
            "right": null,
            "top": null,
            "visibility": null,
            "width": null
          }
        },
        "e10a3953706c47918f9cef0266a9856d": {
          "model_module": "@jupyter-widgets/controls",
          "model_name": "DescriptionStyleModel",
          "model_module_version": "1.5.0",
          "state": {
            "_model_module": "@jupyter-widgets/controls",
            "_model_module_version": "1.5.0",
            "_model_name": "DescriptionStyleModel",
            "_view_count": null,
            "_view_module": "@jupyter-widgets/base",
            "_view_module_version": "1.2.0",
            "_view_name": "StyleView",
            "description_width": ""
          }
        },
        "2934f318acd64d45a17df7151d7b40fa": {
          "model_module": "@jupyter-widgets/base",
          "model_name": "LayoutModel",
          "model_module_version": "1.2.0",
          "state": {
            "_model_module": "@jupyter-widgets/base",
            "_model_module_version": "1.2.0",
            "_model_name": "LayoutModel",
            "_view_count": null,
            "_view_module": "@jupyter-widgets/base",
            "_view_module_version": "1.2.0",
            "_view_name": "LayoutView",
            "align_content": null,
            "align_items": null,
            "align_self": null,
            "border": null,
            "bottom": null,
            "display": null,
            "flex": null,
            "flex_flow": null,
            "grid_area": null,
            "grid_auto_columns": null,
            "grid_auto_flow": null,
            "grid_auto_rows": null,
            "grid_column": null,
            "grid_gap": null,
            "grid_row": null,
            "grid_template_areas": null,
            "grid_template_columns": null,
            "grid_template_rows": null,
            "height": null,
            "justify_content": null,
            "justify_items": null,
            "left": null,
            "margin": null,
            "max_height": null,
            "max_width": null,
            "min_height": null,
            "min_width": null,
            "object_fit": null,
            "object_position": null,
            "order": null,
            "overflow": null,
            "overflow_x": null,
            "overflow_y": null,
            "padding": null,
            "right": null,
            "top": null,
            "visibility": null,
            "width": null
          }
        },
        "1a5086f258034dce8ff984f250b2e718": {
          "model_module": "@jupyter-widgets/controls",
          "model_name": "ProgressStyleModel",
          "model_module_version": "1.5.0",
          "state": {
            "_model_module": "@jupyter-widgets/controls",
            "_model_module_version": "1.5.0",
            "_model_name": "ProgressStyleModel",
            "_view_count": null,
            "_view_module": "@jupyter-widgets/base",
            "_view_module_version": "1.2.0",
            "_view_name": "StyleView",
            "bar_color": null,
            "description_width": ""
          }
        },
        "cc7d4ed9c6f44836a9c523025f88e27d": {
          "model_module": "@jupyter-widgets/base",
          "model_name": "LayoutModel",
          "model_module_version": "1.2.0",
          "state": {
            "_model_module": "@jupyter-widgets/base",
            "_model_module_version": "1.2.0",
            "_model_name": "LayoutModel",
            "_view_count": null,
            "_view_module": "@jupyter-widgets/base",
            "_view_module_version": "1.2.0",
            "_view_name": "LayoutView",
            "align_content": null,
            "align_items": null,
            "align_self": null,
            "border": null,
            "bottom": null,
            "display": null,
            "flex": null,
            "flex_flow": null,
            "grid_area": null,
            "grid_auto_columns": null,
            "grid_auto_flow": null,
            "grid_auto_rows": null,
            "grid_column": null,
            "grid_gap": null,
            "grid_row": null,
            "grid_template_areas": null,
            "grid_template_columns": null,
            "grid_template_rows": null,
            "height": null,
            "justify_content": null,
            "justify_items": null,
            "left": null,
            "margin": null,
            "max_height": null,
            "max_width": null,
            "min_height": null,
            "min_width": null,
            "object_fit": null,
            "object_position": null,
            "order": null,
            "overflow": null,
            "overflow_x": null,
            "overflow_y": null,
            "padding": null,
            "right": null,
            "top": null,
            "visibility": null,
            "width": null
          }
        },
        "9bdc7c778a1e4619a4bc718c48de32e7": {
          "model_module": "@jupyter-widgets/controls",
          "model_name": "DescriptionStyleModel",
          "model_module_version": "1.5.0",
          "state": {
            "_model_module": "@jupyter-widgets/controls",
            "_model_module_version": "1.5.0",
            "_model_name": "DescriptionStyleModel",
            "_view_count": null,
            "_view_module": "@jupyter-widgets/base",
            "_view_module_version": "1.2.0",
            "_view_name": "StyleView",
            "description_width": ""
          }
        },
        "cc72fd33cc5d4390a98ce40e688d1887": {
          "model_module": "@jupyter-widgets/controls",
          "model_name": "HBoxModel",
          "model_module_version": "1.5.0",
          "state": {
            "_dom_classes": [],
            "_model_module": "@jupyter-widgets/controls",
            "_model_module_version": "1.5.0",
            "_model_name": "HBoxModel",
            "_view_count": null,
            "_view_module": "@jupyter-widgets/controls",
            "_view_module_version": "1.5.0",
            "_view_name": "HBoxView",
            "box_style": "",
            "children": [
              "IPY_MODEL_1bfee27e150942859d9aa36b26830421",
              "IPY_MODEL_aaa08959ca3e4b79bc2d54356afe549b",
              "IPY_MODEL_d649b82d8af540f88309023ee34662c4"
            ],
            "layout": "IPY_MODEL_44df622f61b7469b9e7e155fcc05bdab"
          }
        },
        "1bfee27e150942859d9aa36b26830421": {
          "model_module": "@jupyter-widgets/controls",
          "model_name": "HTMLModel",
          "model_module_version": "1.5.0",
          "state": {
            "_dom_classes": [],
            "_model_module": "@jupyter-widgets/controls",
            "_model_module_version": "1.5.0",
            "_model_name": "HTMLModel",
            "_view_count": null,
            "_view_module": "@jupyter-widgets/controls",
            "_view_module_version": "1.5.0",
            "_view_name": "HTMLView",
            "description": "",
            "description_tooltip": null,
            "layout": "IPY_MODEL_3834addaa2794187bd4c0b17f3c6890e",
            "placeholder": "​",
            "style": "IPY_MODEL_23225279126d450dafcf10a0ef579ddb",
            "value": "tokenizer.json: 100%"
          }
        },
        "aaa08959ca3e4b79bc2d54356afe549b": {
          "model_module": "@jupyter-widgets/controls",
          "model_name": "FloatProgressModel",
          "model_module_version": "1.5.0",
          "state": {
            "_dom_classes": [],
            "_model_module": "@jupyter-widgets/controls",
            "_model_module_version": "1.5.0",
            "_model_name": "FloatProgressModel",
            "_view_count": null,
            "_view_module": "@jupyter-widgets/controls",
            "_view_module_version": "1.5.0",
            "_view_name": "ProgressView",
            "bar_style": "success",
            "description": "",
            "description_tooltip": null,
            "layout": "IPY_MODEL_5779064f7e3847878d2d02fe71a29da2",
            "max": 1355256,
            "min": 0,
            "orientation": "horizontal",
            "style": "IPY_MODEL_6aa58b571f3f43109e933deeac94ba1e",
            "value": 1355256
          }
        },
        "d649b82d8af540f88309023ee34662c4": {
          "model_module": "@jupyter-widgets/controls",
          "model_name": "HTMLModel",
          "model_module_version": "1.5.0",
          "state": {
            "_dom_classes": [],
            "_model_module": "@jupyter-widgets/controls",
            "_model_module_version": "1.5.0",
            "_model_name": "HTMLModel",
            "_view_count": null,
            "_view_module": "@jupyter-widgets/controls",
            "_view_module_version": "1.5.0",
            "_view_name": "HTMLView",
            "description": "",
            "description_tooltip": null,
            "layout": "IPY_MODEL_10ba7366d4994d9ca81a4c3d881e9296",
            "placeholder": "​",
            "style": "IPY_MODEL_3b07e8cf6da046beb302269c334ee5fb",
            "value": " 1.36M/1.36M [00:01&lt;00:00, 1.07MB/s]"
          }
        },
        "44df622f61b7469b9e7e155fcc05bdab": {
          "model_module": "@jupyter-widgets/base",
          "model_name": "LayoutModel",
          "model_module_version": "1.2.0",
          "state": {
            "_model_module": "@jupyter-widgets/base",
            "_model_module_version": "1.2.0",
            "_model_name": "LayoutModel",
            "_view_count": null,
            "_view_module": "@jupyter-widgets/base",
            "_view_module_version": "1.2.0",
            "_view_name": "LayoutView",
            "align_content": null,
            "align_items": null,
            "align_self": null,
            "border": null,
            "bottom": null,
            "display": null,
            "flex": null,
            "flex_flow": null,
            "grid_area": null,
            "grid_auto_columns": null,
            "grid_auto_flow": null,
            "grid_auto_rows": null,
            "grid_column": null,
            "grid_gap": null,
            "grid_row": null,
            "grid_template_areas": null,
            "grid_template_columns": null,
            "grid_template_rows": null,
            "height": null,
            "justify_content": null,
            "justify_items": null,
            "left": null,
            "margin": null,
            "max_height": null,
            "max_width": null,
            "min_height": null,
            "min_width": null,
            "object_fit": null,
            "object_position": null,
            "order": null,
            "overflow": null,
            "overflow_x": null,
            "overflow_y": null,
            "padding": null,
            "right": null,
            "top": null,
            "visibility": null,
            "width": null
          }
        },
        "3834addaa2794187bd4c0b17f3c6890e": {
          "model_module": "@jupyter-widgets/base",
          "model_name": "LayoutModel",
          "model_module_version": "1.2.0",
          "state": {
            "_model_module": "@jupyter-widgets/base",
            "_model_module_version": "1.2.0",
            "_model_name": "LayoutModel",
            "_view_count": null,
            "_view_module": "@jupyter-widgets/base",
            "_view_module_version": "1.2.0",
            "_view_name": "LayoutView",
            "align_content": null,
            "align_items": null,
            "align_self": null,
            "border": null,
            "bottom": null,
            "display": null,
            "flex": null,
            "flex_flow": null,
            "grid_area": null,
            "grid_auto_columns": null,
            "grid_auto_flow": null,
            "grid_auto_rows": null,
            "grid_column": null,
            "grid_gap": null,
            "grid_row": null,
            "grid_template_areas": null,
            "grid_template_columns": null,
            "grid_template_rows": null,
            "height": null,
            "justify_content": null,
            "justify_items": null,
            "left": null,
            "margin": null,
            "max_height": null,
            "max_width": null,
            "min_height": null,
            "min_width": null,
            "object_fit": null,
            "object_position": null,
            "order": null,
            "overflow": null,
            "overflow_x": null,
            "overflow_y": null,
            "padding": null,
            "right": null,
            "top": null,
            "visibility": null,
            "width": null
          }
        },
        "23225279126d450dafcf10a0ef579ddb": {
          "model_module": "@jupyter-widgets/controls",
          "model_name": "DescriptionStyleModel",
          "model_module_version": "1.5.0",
          "state": {
            "_model_module": "@jupyter-widgets/controls",
            "_model_module_version": "1.5.0",
            "_model_name": "DescriptionStyleModel",
            "_view_count": null,
            "_view_module": "@jupyter-widgets/base",
            "_view_module_version": "1.2.0",
            "_view_name": "StyleView",
            "description_width": ""
          }
        },
        "5779064f7e3847878d2d02fe71a29da2": {
          "model_module": "@jupyter-widgets/base",
          "model_name": "LayoutModel",
          "model_module_version": "1.2.0",
          "state": {
            "_model_module": "@jupyter-widgets/base",
            "_model_module_version": "1.2.0",
            "_model_name": "LayoutModel",
            "_view_count": null,
            "_view_module": "@jupyter-widgets/base",
            "_view_module_version": "1.2.0",
            "_view_name": "LayoutView",
            "align_content": null,
            "align_items": null,
            "align_self": null,
            "border": null,
            "bottom": null,
            "display": null,
            "flex": null,
            "flex_flow": null,
            "grid_area": null,
            "grid_auto_columns": null,
            "grid_auto_flow": null,
            "grid_auto_rows": null,
            "grid_column": null,
            "grid_gap": null,
            "grid_row": null,
            "grid_template_areas": null,
            "grid_template_columns": null,
            "grid_template_rows": null,
            "height": null,
            "justify_content": null,
            "justify_items": null,
            "left": null,
            "margin": null,
            "max_height": null,
            "max_width": null,
            "min_height": null,
            "min_width": null,
            "object_fit": null,
            "object_position": null,
            "order": null,
            "overflow": null,
            "overflow_x": null,
            "overflow_y": null,
            "padding": null,
            "right": null,
            "top": null,
            "visibility": null,
            "width": null
          }
        },
        "6aa58b571f3f43109e933deeac94ba1e": {
          "model_module": "@jupyter-widgets/controls",
          "model_name": "ProgressStyleModel",
          "model_module_version": "1.5.0",
          "state": {
            "_model_module": "@jupyter-widgets/controls",
            "_model_module_version": "1.5.0",
            "_model_name": "ProgressStyleModel",
            "_view_count": null,
            "_view_module": "@jupyter-widgets/base",
            "_view_module_version": "1.2.0",
            "_view_name": "StyleView",
            "bar_color": null,
            "description_width": ""
          }
        },
        "10ba7366d4994d9ca81a4c3d881e9296": {
          "model_module": "@jupyter-widgets/base",
          "model_name": "LayoutModel",
          "model_module_version": "1.2.0",
          "state": {
            "_model_module": "@jupyter-widgets/base",
            "_model_module_version": "1.2.0",
            "_model_name": "LayoutModel",
            "_view_count": null,
            "_view_module": "@jupyter-widgets/base",
            "_view_module_version": "1.2.0",
            "_view_name": "LayoutView",
            "align_content": null,
            "align_items": null,
            "align_self": null,
            "border": null,
            "bottom": null,
            "display": null,
            "flex": null,
            "flex_flow": null,
            "grid_area": null,
            "grid_auto_columns": null,
            "grid_auto_flow": null,
            "grid_auto_rows": null,
            "grid_column": null,
            "grid_gap": null,
            "grid_row": null,
            "grid_template_areas": null,
            "grid_template_columns": null,
            "grid_template_rows": null,
            "height": null,
            "justify_content": null,
            "justify_items": null,
            "left": null,
            "margin": null,
            "max_height": null,
            "max_width": null,
            "min_height": null,
            "min_width": null,
            "object_fit": null,
            "object_position": null,
            "order": null,
            "overflow": null,
            "overflow_x": null,
            "overflow_y": null,
            "padding": null,
            "right": null,
            "top": null,
            "visibility": null,
            "width": null
          }
        },
        "3b07e8cf6da046beb302269c334ee5fb": {
          "model_module": "@jupyter-widgets/controls",
          "model_name": "DescriptionStyleModel",
          "model_module_version": "1.5.0",
          "state": {
            "_model_module": "@jupyter-widgets/controls",
            "_model_module_version": "1.5.0",
            "_model_name": "DescriptionStyleModel",
            "_view_count": null,
            "_view_module": "@jupyter-widgets/base",
            "_view_module_version": "1.2.0",
            "_view_name": "StyleView",
            "description_width": ""
          }
        }
      }
    }
  },
  "cells": [
    {
      "cell_type": "code",
      "source": [
        "!pip install textattack[tensorflow,optional]"
      ],
      "metadata": {
        "colab": {
          "base_uri": "https://localhost:8080/"
        },
        "id": "fniYNjwV8q5C",
        "outputId": "377e8f95-9a3d-451b-e690-8fea376151ca"
      },
      "execution_count": null,
      "outputs": [
        {
          "output_type": "stream",
          "name": "stdout",
          "text": [
            "Requirement already satisfied: textattack[optional,tensorflow] in /usr/local/lib/python3.10/dist-packages (0.3.9)\n",
            "Requirement already satisfied: bert-score>=0.3.5 in /usr/local/lib/python3.10/dist-packages (from textattack[optional,tensorflow]) (0.3.13)\n",
            "Requirement already satisfied: editdistance in /usr/local/lib/python3.10/dist-packages (from textattack[optional,tensorflow]) (0.6.2)\n",
            "Requirement already satisfied: flair in /usr/local/lib/python3.10/dist-packages (from textattack[optional,tensorflow]) (0.12.2)\n",
            "Requirement already satisfied: filelock in /usr/local/lib/python3.10/dist-packages (from textattack[optional,tensorflow]) (3.13.1)\n",
            "Requirement already satisfied: language-tool-python in /usr/local/lib/python3.10/dist-packages (from textattack[optional,tensorflow]) (2.7.1)\n",
            "Requirement already satisfied: lemminflect in /usr/local/lib/python3.10/dist-packages (from textattack[optional,tensorflow]) (0.2.3)\n",
            "Requirement already satisfied: lru-dict in /usr/local/lib/python3.10/dist-packages (from textattack[optional,tensorflow]) (1.3.0)\n",
            "Requirement already satisfied: datasets>=2.4.0 in /usr/local/lib/python3.10/dist-packages (from textattack[optional,tensorflow]) (2.15.0)\n",
            "Requirement already satisfied: nltk in /usr/local/lib/python3.10/dist-packages (from textattack[optional,tensorflow]) (3.8.1)\n",
            "Requirement already satisfied: numpy>=1.21.0 in /usr/local/lib/python3.10/dist-packages (from textattack[optional,tensorflow]) (1.23.5)\n",
            "Requirement already satisfied: pandas>=1.0.1 in /usr/local/lib/python3.10/dist-packages (from textattack[optional,tensorflow]) (1.5.3)\n",
            "Requirement already satisfied: scipy>=1.4.1 in /usr/local/lib/python3.10/dist-packages (from textattack[optional,tensorflow]) (1.11.4)\n",
            "Requirement already satisfied: torch!=1.8,>=1.7.0 in /usr/local/lib/python3.10/dist-packages (from textattack[optional,tensorflow]) (2.1.0+cu121)\n",
            "Requirement already satisfied: transformers>=4.30.0 in /usr/local/lib/python3.10/dist-packages (from textattack[optional,tensorflow]) (4.35.2)\n",
            "Requirement already satisfied: terminaltables in /usr/local/lib/python3.10/dist-packages (from textattack[optional,tensorflow]) (3.1.10)\n",
            "Requirement already satisfied: tqdm in /usr/local/lib/python3.10/dist-packages (from textattack[optional,tensorflow]) (4.66.1)\n",
            "Requirement already satisfied: word2number in /usr/local/lib/python3.10/dist-packages (from textattack[optional,tensorflow]) (1.1)\n",
            "Requirement already satisfied: num2words in /usr/local/lib/python3.10/dist-packages (from textattack[optional,tensorflow]) (0.5.13)\n",
            "Requirement already satisfied: more-itertools in /usr/local/lib/python3.10/dist-packages (from textattack[optional,tensorflow]) (10.1.0)\n",
            "Requirement already satisfied: PySocks!=1.5.7,>=1.5.6 in /usr/local/lib/python3.10/dist-packages (from textattack[optional,tensorflow]) (1.7.1)\n",
            "Requirement already satisfied: pinyin>=0.4.0 in /usr/local/lib/python3.10/dist-packages (from textattack[optional,tensorflow]) (0.4.0)\n",
            "Requirement already satisfied: jieba in /usr/local/lib/python3.10/dist-packages (from textattack[optional,tensorflow]) (0.42.1)\n",
            "Requirement already satisfied: OpenHowNet in /usr/local/lib/python3.10/dist-packages (from textattack[optional,tensorflow]) (2.0)\n",
            "Requirement already satisfied: pycld2 in /usr/local/lib/python3.10/dist-packages (from textattack[optional,tensorflow]) (0.41)\n",
            "Requirement already satisfied: click<8.1.0 in /usr/local/lib/python3.10/dist-packages (from textattack[optional,tensorflow]) (8.0.4)\n",
            "Requirement already satisfied: sentence-transformers==2.2.0 in /usr/local/lib/python3.10/dist-packages (from textattack[optional,tensorflow]) (2.2.0)\n",
            "Requirement already satisfied: stanza in /usr/local/lib/python3.10/dist-packages (from textattack[optional,tensorflow]) (1.7.0)\n",
            "Requirement already satisfied: visdom in /usr/local/lib/python3.10/dist-packages (from textattack[optional,tensorflow]) (0.2.4)\n",
            "Requirement already satisfied: wandb in /usr/local/lib/python3.10/dist-packages (from textattack[optional,tensorflow]) (0.16.1)\n",
            "Requirement already satisfied: gensim==4.1.2 in /usr/local/lib/python3.10/dist-packages (from textattack[optional,tensorflow]) (4.1.2)\n",
            "Requirement already satisfied: tensorflow==2.9.1 in /usr/local/lib/python3.10/dist-packages (from textattack[optional,tensorflow]) (2.9.1)\n",
            "Requirement already satisfied: tensorflow-hub in /usr/local/lib/python3.10/dist-packages (from textattack[optional,tensorflow]) (0.15.0)\n",
            "Requirement already satisfied: tensorflow-text>=2 in /usr/local/lib/python3.10/dist-packages (from textattack[optional,tensorflow]) (2.9.0)\n",
            "Requirement already satisfied: tensorboardX in /usr/local/lib/python3.10/dist-packages (from textattack[optional,tensorflow]) (2.6)\n",
            "Requirement already satisfied: tensorflow-estimator==2.9.0 in /usr/local/lib/python3.10/dist-packages (from textattack[optional,tensorflow]) (2.9.0)\n",
            "Requirement already satisfied: smart-open>=1.8.1 in /usr/local/lib/python3.10/dist-packages (from gensim==4.1.2->textattack[optional,tensorflow]) (6.4.0)\n",
            "Requirement already satisfied: torchvision in /usr/local/lib/python3.10/dist-packages (from sentence-transformers==2.2.0->textattack[optional,tensorflow]) (0.16.0+cu121)\n",
            "Requirement already satisfied: scikit-learn in /usr/local/lib/python3.10/dist-packages (from sentence-transformers==2.2.0->textattack[optional,tensorflow]) (1.2.2)\n",
            "Requirement already satisfied: sentencepiece in /usr/local/lib/python3.10/dist-packages (from sentence-transformers==2.2.0->textattack[optional,tensorflow]) (0.1.99)\n",
            "Requirement already satisfied: huggingface-hub in /usr/local/lib/python3.10/dist-packages (from sentence-transformers==2.2.0->textattack[optional,tensorflow]) (0.19.4)\n",
            "Requirement already satisfied: absl-py>=1.0.0 in /usr/local/lib/python3.10/dist-packages (from tensorflow==2.9.1->textattack[optional,tensorflow]) (1.4.0)\n",
            "Requirement already satisfied: astunparse>=1.6.0 in /usr/local/lib/python3.10/dist-packages (from tensorflow==2.9.1->textattack[optional,tensorflow]) (1.6.3)\n",
            "Requirement already satisfied: flatbuffers<2,>=1.12 in /usr/local/lib/python3.10/dist-packages (from tensorflow==2.9.1->textattack[optional,tensorflow]) (1.12)\n",
            "Requirement already satisfied: gast<=0.4.0,>=0.2.1 in /usr/local/lib/python3.10/dist-packages (from tensorflow==2.9.1->textattack[optional,tensorflow]) (0.4.0)\n",
            "Requirement already satisfied: google-pasta>=0.1.1 in /usr/local/lib/python3.10/dist-packages (from tensorflow==2.9.1->textattack[optional,tensorflow]) (0.2.0)\n",
            "Requirement already satisfied: grpcio<2.0,>=1.24.3 in /usr/local/lib/python3.10/dist-packages (from tensorflow==2.9.1->textattack[optional,tensorflow]) (1.60.0)\n",
            "Requirement already satisfied: h5py>=2.9.0 in /usr/local/lib/python3.10/dist-packages (from tensorflow==2.9.1->textattack[optional,tensorflow]) (3.9.0)\n",
            "Requirement already satisfied: keras<2.10.0,>=2.9.0rc0 in /usr/local/lib/python3.10/dist-packages (from tensorflow==2.9.1->textattack[optional,tensorflow]) (2.9.0)\n",
            "Requirement already satisfied: keras-preprocessing>=1.1.1 in /usr/local/lib/python3.10/dist-packages (from tensorflow==2.9.1->textattack[optional,tensorflow]) (1.1.2)\n",
            "Requirement already satisfied: libclang>=13.0.0 in /usr/local/lib/python3.10/dist-packages (from tensorflow==2.9.1->textattack[optional,tensorflow]) (16.0.6)\n",
            "Requirement already satisfied: opt-einsum>=2.3.2 in /usr/local/lib/python3.10/dist-packages (from tensorflow==2.9.1->textattack[optional,tensorflow]) (3.3.0)\n",
            "Requirement already satisfied: packaging in /usr/local/lib/python3.10/dist-packages (from tensorflow==2.9.1->textattack[optional,tensorflow]) (23.2)\n",
            "Requirement already satisfied: protobuf<3.20,>=3.9.2 in /usr/local/lib/python3.10/dist-packages (from tensorflow==2.9.1->textattack[optional,tensorflow]) (3.19.6)\n",
            "Requirement already satisfied: setuptools in /usr/local/lib/python3.10/dist-packages (from tensorflow==2.9.1->textattack[optional,tensorflow]) (67.7.2)\n",
            "Requirement already satisfied: six>=1.12.0 in /usr/local/lib/python3.10/dist-packages (from tensorflow==2.9.1->textattack[optional,tensorflow]) (1.16.0)\n",
            "Requirement already satisfied: tensorboard<2.10,>=2.9 in /usr/local/lib/python3.10/dist-packages (from tensorflow==2.9.1->textattack[optional,tensorflow]) (2.9.1)\n",
            "Requirement already satisfied: tensorflow-io-gcs-filesystem>=0.23.1 in /usr/local/lib/python3.10/dist-packages (from tensorflow==2.9.1->textattack[optional,tensorflow]) (0.34.0)\n",
            "Requirement already satisfied: termcolor>=1.1.0 in /usr/local/lib/python3.10/dist-packages (from tensorflow==2.9.1->textattack[optional,tensorflow]) (2.4.0)\n",
            "Requirement already satisfied: typing-extensions>=3.6.6 in /usr/local/lib/python3.10/dist-packages (from tensorflow==2.9.1->textattack[optional,tensorflow]) (4.5.0)\n",
            "Requirement already satisfied: wrapt>=1.11.0 in /usr/local/lib/python3.10/dist-packages (from tensorflow==2.9.1->textattack[optional,tensorflow]) (1.14.1)\n",
            "Requirement already satisfied: requests in /usr/local/lib/python3.10/dist-packages (from bert-score>=0.3.5->textattack[optional,tensorflow]) (2.31.0)\n",
            "Requirement already satisfied: matplotlib in /usr/local/lib/python3.10/dist-packages (from bert-score>=0.3.5->textattack[optional,tensorflow]) (3.7.1)\n",
            "Requirement already satisfied: pyarrow>=8.0.0 in /usr/local/lib/python3.10/dist-packages (from datasets>=2.4.0->textattack[optional,tensorflow]) (10.0.1)\n",
            "Requirement already satisfied: pyarrow-hotfix in /usr/local/lib/python3.10/dist-packages (from datasets>=2.4.0->textattack[optional,tensorflow]) (0.6)\n",
            "Requirement already satisfied: dill<0.3.8,>=0.3.0 in /usr/local/lib/python3.10/dist-packages (from datasets>=2.4.0->textattack[optional,tensorflow]) (0.3.7)\n",
            "Requirement already satisfied: xxhash in /usr/local/lib/python3.10/dist-packages (from datasets>=2.4.0->textattack[optional,tensorflow]) (3.4.1)\n",
            "Requirement already satisfied: multiprocess in /usr/local/lib/python3.10/dist-packages (from datasets>=2.4.0->textattack[optional,tensorflow]) (0.70.15)\n",
            "Requirement already satisfied: fsspec[http]<=2023.10.0,>=2023.1.0 in /usr/local/lib/python3.10/dist-packages (from datasets>=2.4.0->textattack[optional,tensorflow]) (2023.6.0)\n",
            "Requirement already satisfied: aiohttp in /usr/local/lib/python3.10/dist-packages (from datasets>=2.4.0->textattack[optional,tensorflow]) (3.9.1)\n",
            "Requirement already satisfied: pyyaml>=5.1 in /usr/local/lib/python3.10/dist-packages (from datasets>=2.4.0->textattack[optional,tensorflow]) (6.0.1)\n",
            "Requirement already satisfied: python-dateutil>=2.8.1 in /usr/local/lib/python3.10/dist-packages (from pandas>=1.0.1->textattack[optional,tensorflow]) (2.8.2)\n",
            "Requirement already satisfied: pytz>=2020.1 in /usr/local/lib/python3.10/dist-packages (from pandas>=1.0.1->textattack[optional,tensorflow]) (2023.3.post1)\n",
            "Requirement already satisfied: sympy in /usr/local/lib/python3.10/dist-packages (from torch!=1.8,>=1.7.0->textattack[optional,tensorflow]) (1.12)\n",
            "Requirement already satisfied: networkx in /usr/local/lib/python3.10/dist-packages (from torch!=1.8,>=1.7.0->textattack[optional,tensorflow]) (3.2.1)\n",
            "Requirement already satisfied: jinja2 in /usr/local/lib/python3.10/dist-packages (from torch!=1.8,>=1.7.0->textattack[optional,tensorflow]) (3.1.2)\n",
            "Requirement already satisfied: triton==2.1.0 in /usr/local/lib/python3.10/dist-packages (from torch!=1.8,>=1.7.0->textattack[optional,tensorflow]) (2.1.0)\n",
            "Requirement already satisfied: regex!=2019.12.17 in /usr/local/lib/python3.10/dist-packages (from transformers>=4.30.0->textattack[optional,tensorflow]) (2023.6.3)\n",
            "Requirement already satisfied: tokenizers<0.19,>=0.14 in /usr/local/lib/python3.10/dist-packages (from transformers>=4.30.0->textattack[optional,tensorflow]) (0.15.0)\n",
            "Requirement already satisfied: safetensors>=0.3.1 in /usr/local/lib/python3.10/dist-packages (from transformers>=4.30.0->textattack[optional,tensorflow]) (0.4.1)\n",
            "Requirement already satisfied: segtok>=1.5.7 in /usr/local/lib/python3.10/dist-packages (from flair->textattack[optional,tensorflow]) (1.5.11)\n",
            "Requirement already satisfied: mpld3==0.3 in /usr/local/lib/python3.10/dist-packages (from flair->textattack[optional,tensorflow]) (0.3)\n",
            "Requirement already satisfied: sqlitedict>=1.6.0 in /usr/local/lib/python3.10/dist-packages (from flair->textattack[optional,tensorflow]) (2.1.0)\n",
            "Requirement already satisfied: deprecated>=1.2.4 in /usr/local/lib/python3.10/dist-packages (from flair->textattack[optional,tensorflow]) (1.2.14)\n",
            "Requirement already satisfied: hyperopt>=0.2.7 in /usr/local/lib/python3.10/dist-packages (from flair->textattack[optional,tensorflow]) (0.2.7)\n",
            "Requirement already satisfied: boto3 in /usr/local/lib/python3.10/dist-packages (from flair->textattack[optional,tensorflow]) (1.34.1)\n",
            "Requirement already satisfied: bpemb>=0.3.2 in /usr/local/lib/python3.10/dist-packages (from flair->textattack[optional,tensorflow]) (0.3.4)\n",
            "Requirement already satisfied: tabulate in /usr/local/lib/python3.10/dist-packages (from flair->textattack[optional,tensorflow]) (0.9.0)\n",
            "Requirement already satisfied: langdetect in /usr/local/lib/python3.10/dist-packages (from flair->textattack[optional,tensorflow]) (1.0.9)\n",
            "Requirement already satisfied: lxml in /usr/local/lib/python3.10/dist-packages (from flair->textattack[optional,tensorflow]) (4.9.3)\n",
            "Requirement already satisfied: ftfy in /usr/local/lib/python3.10/dist-packages (from flair->textattack[optional,tensorflow]) (6.1.3)\n",
            "Requirement already satisfied: janome in /usr/local/lib/python3.10/dist-packages (from flair->textattack[optional,tensorflow]) (0.5.0)\n",
            "Requirement already satisfied: gdown==4.4.0 in /usr/local/lib/python3.10/dist-packages (from flair->textattack[optional,tensorflow]) (4.4.0)\n",
            "Requirement already satisfied: conllu>=4.0 in /usr/local/lib/python3.10/dist-packages (from flair->textattack[optional,tensorflow]) (4.5.3)\n",
            "Requirement already satisfied: wikipedia-api in /usr/local/lib/python3.10/dist-packages (from flair->textattack[optional,tensorflow]) (0.6.0)\n",
            "Requirement already satisfied: pptree in /usr/local/lib/python3.10/dist-packages (from flair->textattack[optional,tensorflow]) (3.1)\n",
            "Requirement already satisfied: pytorch-revgrad in /usr/local/lib/python3.10/dist-packages (from flair->textattack[optional,tensorflow]) (0.2.0)\n",
            "Requirement already satisfied: transformer-smaller-training-vocab>=0.2.1 in /usr/local/lib/python3.10/dist-packages (from flair->textattack[optional,tensorflow]) (0.3.3)\n",
            "Requirement already satisfied: beautifulsoup4 in /usr/local/lib/python3.10/dist-packages (from gdown==4.4.0->flair->textattack[optional,tensorflow]) (4.11.2)\n",
            "Requirement already satisfied: joblib in /usr/local/lib/python3.10/dist-packages (from nltk->textattack[optional,tensorflow]) (1.3.2)\n",
            "Requirement already satisfied: docopt>=0.6.2 in /usr/local/lib/python3.10/dist-packages (from num2words->textattack[optional,tensorflow]) (0.6.2)\n",
            "Requirement already satisfied: anytree in /usr/local/lib/python3.10/dist-packages (from OpenHowNet->textattack[optional,tensorflow]) (2.12.1)\n",
            "Requirement already satisfied: emoji in /usr/local/lib/python3.10/dist-packages (from stanza->textattack[optional,tensorflow]) (2.9.0)\n",
            "Requirement already satisfied: toml in /usr/local/lib/python3.10/dist-packages (from stanza->textattack[optional,tensorflow]) (0.10.2)\n",
            "Requirement already satisfied: tornado in /usr/local/lib/python3.10/dist-packages (from visdom->textattack[optional,tensorflow]) (6.3.2)\n",
            "Requirement already satisfied: jsonpatch in /usr/local/lib/python3.10/dist-packages (from visdom->textattack[optional,tensorflow]) (1.33)\n",
            "Requirement already satisfied: websocket-client in /usr/local/lib/python3.10/dist-packages (from visdom->textattack[optional,tensorflow]) (1.7.0)\n",
            "Requirement already satisfied: pillow in /usr/local/lib/python3.10/dist-packages (from visdom->textattack[optional,tensorflow]) (9.4.0)\n",
            "Requirement already satisfied: GitPython!=3.1.29,>=1.0.0 in /usr/local/lib/python3.10/dist-packages (from wandb->textattack[optional,tensorflow]) (3.1.40)\n",
            "Requirement already satisfied: psutil>=5.0.0 in /usr/local/lib/python3.10/dist-packages (from wandb->textattack[optional,tensorflow]) (5.9.5)\n",
            "Requirement already satisfied: sentry-sdk>=1.0.0 in /usr/local/lib/python3.10/dist-packages (from wandb->textattack[optional,tensorflow]) (1.39.1)\n",
            "Requirement already satisfied: docker-pycreds>=0.4.0 in /usr/local/lib/python3.10/dist-packages (from wandb->textattack[optional,tensorflow]) (0.4.0)\n",
            "Requirement already satisfied: setproctitle in /usr/local/lib/python3.10/dist-packages (from wandb->textattack[optional,tensorflow]) (1.3.3)\n",
            "Requirement already satisfied: appdirs>=1.4.3 in /usr/local/lib/python3.10/dist-packages (from wandb->textattack[optional,tensorflow]) (1.4.4)\n",
            "Requirement already satisfied: wheel<1.0,>=0.23.0 in /usr/local/lib/python3.10/dist-packages (from astunparse>=1.6.0->tensorflow==2.9.1->textattack[optional,tensorflow]) (0.42.0)\n",
            "Requirement already satisfied: attrs>=17.3.0 in /usr/local/lib/python3.10/dist-packages (from aiohttp->datasets>=2.4.0->textattack[optional,tensorflow]) (23.1.0)\n",
            "Requirement already satisfied: multidict<7.0,>=4.5 in /usr/local/lib/python3.10/dist-packages (from aiohttp->datasets>=2.4.0->textattack[optional,tensorflow]) (6.0.4)\n",
            "Requirement already satisfied: yarl<2.0,>=1.0 in /usr/local/lib/python3.10/dist-packages (from aiohttp->datasets>=2.4.0->textattack[optional,tensorflow]) (1.9.4)\n",
            "Requirement already satisfied: frozenlist>=1.1.1 in /usr/local/lib/python3.10/dist-packages (from aiohttp->datasets>=2.4.0->textattack[optional,tensorflow]) (1.4.0)\n",
            "Requirement already satisfied: aiosignal>=1.1.2 in /usr/local/lib/python3.10/dist-packages (from aiohttp->datasets>=2.4.0->textattack[optional,tensorflow]) (1.3.1)\n",
            "Requirement already satisfied: async-timeout<5.0,>=4.0 in /usr/local/lib/python3.10/dist-packages (from aiohttp->datasets>=2.4.0->textattack[optional,tensorflow]) (4.0.3)\n",
            "Requirement already satisfied: gitdb<5,>=4.0.1 in /usr/local/lib/python3.10/dist-packages (from GitPython!=3.1.29,>=1.0.0->wandb->textattack[optional,tensorflow]) (4.0.11)\n",
            "Requirement already satisfied: future in /usr/local/lib/python3.10/dist-packages (from hyperopt>=0.2.7->flair->textattack[optional,tensorflow]) (0.18.3)\n",
            "Requirement already satisfied: cloudpickle in /usr/local/lib/python3.10/dist-packages (from hyperopt>=0.2.7->flair->textattack[optional,tensorflow]) (2.2.1)\n",
            "Requirement already satisfied: py4j in /usr/local/lib/python3.10/dist-packages (from hyperopt>=0.2.7->flair->textattack[optional,tensorflow]) (0.10.9.7)\n",
            "Requirement already satisfied: contourpy>=1.0.1 in /usr/local/lib/python3.10/dist-packages (from matplotlib->bert-score>=0.3.5->textattack[optional,tensorflow]) (1.2.0)\n",
            "Requirement already satisfied: cycler>=0.10 in /usr/local/lib/python3.10/dist-packages (from matplotlib->bert-score>=0.3.5->textattack[optional,tensorflow]) (0.12.1)\n",
            "Requirement already satisfied: fonttools>=4.22.0 in /usr/local/lib/python3.10/dist-packages (from matplotlib->bert-score>=0.3.5->textattack[optional,tensorflow]) (4.46.0)\n",
            "Requirement already satisfied: kiwisolver>=1.0.1 in /usr/local/lib/python3.10/dist-packages (from matplotlib->bert-score>=0.3.5->textattack[optional,tensorflow]) (1.4.5)\n",
            "Requirement already satisfied: pyparsing>=2.3.1 in /usr/local/lib/python3.10/dist-packages (from matplotlib->bert-score>=0.3.5->textattack[optional,tensorflow]) (3.1.1)\n",
            "Requirement already satisfied: charset-normalizer<4,>=2 in /usr/local/lib/python3.10/dist-packages (from requests->bert-score>=0.3.5->textattack[optional,tensorflow]) (3.3.2)\n",
            "Requirement already satisfied: idna<4,>=2.5 in /usr/local/lib/python3.10/dist-packages (from requests->bert-score>=0.3.5->textattack[optional,tensorflow]) (3.6)\n",
            "Requirement already satisfied: urllib3<3,>=1.21.1 in /usr/local/lib/python3.10/dist-packages (from requests->bert-score>=0.3.5->textattack[optional,tensorflow]) (2.0.7)\n",
            "Requirement already satisfied: certifi>=2017.4.17 in /usr/local/lib/python3.10/dist-packages (from requests->bert-score>=0.3.5->textattack[optional,tensorflow]) (2023.11.17)\n",
            "Requirement already satisfied: threadpoolctl>=2.0.0 in /usr/local/lib/python3.10/dist-packages (from scikit-learn->sentence-transformers==2.2.0->textattack[optional,tensorflow]) (3.2.0)\n",
            "Requirement already satisfied: google-auth<3,>=1.6.3 in /usr/local/lib/python3.10/dist-packages (from tensorboard<2.10,>=2.9->tensorflow==2.9.1->textattack[optional,tensorflow]) (2.17.3)\n",
            "Requirement already satisfied: google-auth-oauthlib<0.5,>=0.4.1 in /usr/local/lib/python3.10/dist-packages (from tensorboard<2.10,>=2.9->tensorflow==2.9.1->textattack[optional,tensorflow]) (0.4.6)\n",
            "Requirement already satisfied: markdown>=2.6.8 in /usr/local/lib/python3.10/dist-packages (from tensorboard<2.10,>=2.9->tensorflow==2.9.1->textattack[optional,tensorflow]) (3.5.1)\n",
            "Requirement already satisfied: tensorboard-data-server<0.7.0,>=0.6.0 in /usr/local/lib/python3.10/dist-packages (from tensorboard<2.10,>=2.9->tensorflow==2.9.1->textattack[optional,tensorflow]) (0.6.1)\n",
            "Requirement already satisfied: tensorboard-plugin-wit>=1.6.0 in /usr/local/lib/python3.10/dist-packages (from tensorboard<2.10,>=2.9->tensorflow==2.9.1->textattack[optional,tensorflow]) (1.8.1)\n",
            "Requirement already satisfied: werkzeug>=1.0.1 in /usr/local/lib/python3.10/dist-packages (from tensorboard<2.10,>=2.9->tensorflow==2.9.1->textattack[optional,tensorflow]) (3.0.1)\n",
            "Requirement already satisfied: botocore<1.35.0,>=1.34.1 in /usr/local/lib/python3.10/dist-packages (from boto3->flair->textattack[optional,tensorflow]) (1.34.1)\n",
            "Requirement already satisfied: jmespath<2.0.0,>=0.7.1 in /usr/local/lib/python3.10/dist-packages (from boto3->flair->textattack[optional,tensorflow]) (1.0.1)\n",
            "Requirement already satisfied: s3transfer<0.10.0,>=0.9.0 in /usr/local/lib/python3.10/dist-packages (from boto3->flair->textattack[optional,tensorflow]) (0.9.0)\n",
            "Requirement already satisfied: wcwidth<0.3.0,>=0.2.12 in /usr/local/lib/python3.10/dist-packages (from ftfy->flair->textattack[optional,tensorflow]) (0.2.12)\n",
            "Requirement already satisfied: MarkupSafe>=2.0 in /usr/local/lib/python3.10/dist-packages (from jinja2->torch!=1.8,>=1.7.0->textattack[optional,tensorflow]) (2.1.3)\n",
            "Requirement already satisfied: jsonpointer>=1.9 in /usr/local/lib/python3.10/dist-packages (from jsonpatch->visdom->textattack[optional,tensorflow]) (2.4)\n",
            "Requirement already satisfied: mpmath>=0.19 in /usr/local/lib/python3.10/dist-packages (from sympy->torch!=1.8,>=1.7.0->textattack[optional,tensorflow]) (1.3.0)\n",
            "Requirement already satisfied: smmap<6,>=3.0.1 in /usr/local/lib/python3.10/dist-packages (from gitdb<5,>=4.0.1->GitPython!=3.1.29,>=1.0.0->wandb->textattack[optional,tensorflow]) (5.0.1)\n",
            "Requirement already satisfied: cachetools<6.0,>=2.0.0 in /usr/local/lib/python3.10/dist-packages (from google-auth<3,>=1.6.3->tensorboard<2.10,>=2.9->tensorflow==2.9.1->textattack[optional,tensorflow]) (5.3.2)\n",
            "Requirement already satisfied: pyasn1-modules>=0.2.1 in /usr/local/lib/python3.10/dist-packages (from google-auth<3,>=1.6.3->tensorboard<2.10,>=2.9->tensorflow==2.9.1->textattack[optional,tensorflow]) (0.3.0)\n",
            "Requirement already satisfied: rsa<5,>=3.1.4 in /usr/local/lib/python3.10/dist-packages (from google-auth<3,>=1.6.3->tensorboard<2.10,>=2.9->tensorflow==2.9.1->textattack[optional,tensorflow]) (4.9)\n",
            "Requirement already satisfied: requests-oauthlib>=0.7.0 in /usr/local/lib/python3.10/dist-packages (from google-auth-oauthlib<0.5,>=0.4.1->tensorboard<2.10,>=2.9->tensorflow==2.9.1->textattack[optional,tensorflow]) (1.3.1)\n",
            "Requirement already satisfied: accelerate>=0.20.3 in /usr/local/lib/python3.10/dist-packages (from transformers>=4.30.0->textattack[optional,tensorflow]) (0.25.0)\n",
            "Requirement already satisfied: soupsieve>1.2 in /usr/local/lib/python3.10/dist-packages (from beautifulsoup4->gdown==4.4.0->flair->textattack[optional,tensorflow]) (2.5)\n",
            "Requirement already satisfied: pyasn1<0.6.0,>=0.4.6 in /usr/local/lib/python3.10/dist-packages (from pyasn1-modules>=0.2.1->google-auth<3,>=1.6.3->tensorboard<2.10,>=2.9->tensorflow==2.9.1->textattack[optional,tensorflow]) (0.5.1)\n",
            "Requirement already satisfied: oauthlib>=3.0.0 in /usr/local/lib/python3.10/dist-packages (from requests-oauthlib>=0.7.0->google-auth-oauthlib<0.5,>=0.4.1->tensorboard<2.10,>=2.9->tensorflow==2.9.1->textattack[optional,tensorflow]) (3.2.2)\n"
          ]
        }
      ]
    },
    {
      "cell_type": "code",
      "source": [
        "!pip install tensorflow==2.14"
      ],
      "metadata": {
        "colab": {
          "base_uri": "https://localhost:8080/"
        },
        "id": "1ep5ugqf8sXg",
        "outputId": "d8dcf56f-044f-4cf3-b1c3-b408686da9b7"
      },
      "execution_count": null,
      "outputs": [
        {
          "output_type": "stream",
          "name": "stdout",
          "text": [
            "Collecting tensorflow==2.14\n",
            "  Using cached tensorflow-2.14.0-cp310-cp310-manylinux_2_17_x86_64.manylinux2014_x86_64.whl (489.8 MB)\n",
            "Requirement already satisfied: absl-py>=1.0.0 in /usr/local/lib/python3.10/dist-packages (from tensorflow==2.14) (1.4.0)\n",
            "Requirement already satisfied: astunparse>=1.6.0 in /usr/local/lib/python3.10/dist-packages (from tensorflow==2.14) (1.6.3)\n",
            "Collecting flatbuffers>=23.5.26 (from tensorflow==2.14)\n",
            "  Downloading flatbuffers-23.5.26-py2.py3-none-any.whl (26 kB)\n",
            "Requirement already satisfied: gast!=0.5.0,!=0.5.1,!=0.5.2,>=0.2.1 in /usr/local/lib/python3.10/dist-packages (from tensorflow==2.14) (0.4.0)\n",
            "Requirement already satisfied: google-pasta>=0.1.1 in /usr/local/lib/python3.10/dist-packages (from tensorflow==2.14) (0.2.0)\n",
            "Requirement already satisfied: h5py>=2.9.0 in /usr/local/lib/python3.10/dist-packages (from tensorflow==2.14) (3.9.0)\n",
            "Requirement already satisfied: libclang>=13.0.0 in /usr/local/lib/python3.10/dist-packages (from tensorflow==2.14) (16.0.6)\n",
            "Requirement already satisfied: ml-dtypes==0.2.0 in /usr/local/lib/python3.10/dist-packages (from tensorflow==2.14) (0.2.0)\n",
            "Requirement already satisfied: numpy>=1.23.5 in /usr/local/lib/python3.10/dist-packages (from tensorflow==2.14) (1.23.5)\n",
            "Requirement already satisfied: opt-einsum>=2.3.2 in /usr/local/lib/python3.10/dist-packages (from tensorflow==2.14) (3.3.0)\n",
            "Requirement already satisfied: packaging in /usr/local/lib/python3.10/dist-packages (from tensorflow==2.14) (23.2)\n",
            "Collecting protobuf!=4.21.0,!=4.21.1,!=4.21.2,!=4.21.3,!=4.21.4,!=4.21.5,<5.0.0dev,>=3.20.3 (from tensorflow==2.14)\n",
            "  Downloading protobuf-4.25.1-cp37-abi3-manylinux2014_x86_64.whl (294 kB)\n",
            "\u001b[2K     \u001b[90m━━━━━━━━━━━━━━━━━━━━━━━━━━━━━━━━━━━━━━━━\u001b[0m \u001b[32m294.6/294.6 kB\u001b[0m \u001b[31m6.9 MB/s\u001b[0m eta \u001b[36m0:00:00\u001b[0m\n",
            "\u001b[?25hRequirement already satisfied: setuptools in /usr/local/lib/python3.10/dist-packages (from tensorflow==2.14) (67.7.2)\n",
            "Requirement already satisfied: six>=1.12.0 in /usr/local/lib/python3.10/dist-packages (from tensorflow==2.14) (1.16.0)\n",
            "Requirement already satisfied: termcolor>=1.1.0 in /usr/local/lib/python3.10/dist-packages (from tensorflow==2.14) (2.4.0)\n",
            "Requirement already satisfied: typing-extensions>=3.6.6 in /usr/local/lib/python3.10/dist-packages (from tensorflow==2.14) (4.5.0)\n",
            "Requirement already satisfied: wrapt<1.15,>=1.11.0 in /usr/local/lib/python3.10/dist-packages (from tensorflow==2.14) (1.14.1)\n",
            "Requirement already satisfied: tensorflow-io-gcs-filesystem>=0.23.1 in /usr/local/lib/python3.10/dist-packages (from tensorflow==2.14) (0.34.0)\n",
            "Requirement already satisfied: grpcio<2.0,>=1.24.3 in /usr/local/lib/python3.10/dist-packages (from tensorflow==2.14) (1.60.0)\n",
            "Collecting tensorboard<2.15,>=2.14 (from tensorflow==2.14)\n",
            "  Using cached tensorboard-2.14.1-py3-none-any.whl (5.5 MB)\n",
            "Collecting tensorflow-estimator<2.15,>=2.14.0 (from tensorflow==2.14)\n",
            "  Using cached tensorflow_estimator-2.14.0-py2.py3-none-any.whl (440 kB)\n",
            "Collecting keras<2.15,>=2.14.0 (from tensorflow==2.14)\n",
            "  Using cached keras-2.14.0-py3-none-any.whl (1.7 MB)\n",
            "Requirement already satisfied: wheel<1.0,>=0.23.0 in /usr/local/lib/python3.10/dist-packages (from astunparse>=1.6.0->tensorflow==2.14) (0.42.0)\n",
            "Requirement already satisfied: google-auth<3,>=1.6.3 in /usr/local/lib/python3.10/dist-packages (from tensorboard<2.15,>=2.14->tensorflow==2.14) (2.17.3)\n",
            "Collecting google-auth-oauthlib<1.1,>=0.5 (from tensorboard<2.15,>=2.14->tensorflow==2.14)\n",
            "  Using cached google_auth_oauthlib-1.0.0-py2.py3-none-any.whl (18 kB)\n",
            "Requirement already satisfied: markdown>=2.6.8 in /usr/local/lib/python3.10/dist-packages (from tensorboard<2.15,>=2.14->tensorflow==2.14) (3.5.1)\n",
            "Requirement already satisfied: requests<3,>=2.21.0 in /usr/local/lib/python3.10/dist-packages (from tensorboard<2.15,>=2.14->tensorflow==2.14) (2.31.0)\n",
            "Collecting tensorboard-data-server<0.8.0,>=0.7.0 (from tensorboard<2.15,>=2.14->tensorflow==2.14)\n",
            "  Downloading tensorboard_data_server-0.7.2-py3-none-manylinux_2_31_x86_64.whl (6.6 MB)\n",
            "\u001b[2K     \u001b[90m━━━━━━━━━━━━━━━━━━━━━━━━━━━━━━━━━━━━━━━━\u001b[0m \u001b[32m6.6/6.6 MB\u001b[0m \u001b[31m70.9 MB/s\u001b[0m eta \u001b[36m0:00:00\u001b[0m\n",
            "\u001b[?25hRequirement already satisfied: werkzeug>=1.0.1 in /usr/local/lib/python3.10/dist-packages (from tensorboard<2.15,>=2.14->tensorflow==2.14) (3.0.1)\n",
            "Requirement already satisfied: cachetools<6.0,>=2.0.0 in /usr/local/lib/python3.10/dist-packages (from google-auth<3,>=1.6.3->tensorboard<2.15,>=2.14->tensorflow==2.14) (5.3.2)\n",
            "Requirement already satisfied: pyasn1-modules>=0.2.1 in /usr/local/lib/python3.10/dist-packages (from google-auth<3,>=1.6.3->tensorboard<2.15,>=2.14->tensorflow==2.14) (0.3.0)\n",
            "Requirement already satisfied: rsa<5,>=3.1.4 in /usr/local/lib/python3.10/dist-packages (from google-auth<3,>=1.6.3->tensorboard<2.15,>=2.14->tensorflow==2.14) (4.9)\n",
            "Requirement already satisfied: requests-oauthlib>=0.7.0 in /usr/local/lib/python3.10/dist-packages (from google-auth-oauthlib<1.1,>=0.5->tensorboard<2.15,>=2.14->tensorflow==2.14) (1.3.1)\n",
            "Requirement already satisfied: charset-normalizer<4,>=2 in /usr/local/lib/python3.10/dist-packages (from requests<3,>=2.21.0->tensorboard<2.15,>=2.14->tensorflow==2.14) (3.3.2)\n",
            "Requirement already satisfied: idna<4,>=2.5 in /usr/local/lib/python3.10/dist-packages (from requests<3,>=2.21.0->tensorboard<2.15,>=2.14->tensorflow==2.14) (3.6)\n",
            "Requirement already satisfied: urllib3<3,>=1.21.1 in /usr/local/lib/python3.10/dist-packages (from requests<3,>=2.21.0->tensorboard<2.15,>=2.14->tensorflow==2.14) (2.0.7)\n",
            "Requirement already satisfied: certifi>=2017.4.17 in /usr/local/lib/python3.10/dist-packages (from requests<3,>=2.21.0->tensorboard<2.15,>=2.14->tensorflow==2.14) (2023.11.17)\n",
            "Requirement already satisfied: MarkupSafe>=2.1.1 in /usr/local/lib/python3.10/dist-packages (from werkzeug>=1.0.1->tensorboard<2.15,>=2.14->tensorflow==2.14) (2.1.3)\n",
            "Requirement already satisfied: pyasn1<0.6.0,>=0.4.6 in /usr/local/lib/python3.10/dist-packages (from pyasn1-modules>=0.2.1->google-auth<3,>=1.6.3->tensorboard<2.15,>=2.14->tensorflow==2.14) (0.5.1)\n",
            "Requirement already satisfied: oauthlib>=3.0.0 in /usr/local/lib/python3.10/dist-packages (from requests-oauthlib>=0.7.0->google-auth-oauthlib<1.1,>=0.5->tensorboard<2.15,>=2.14->tensorflow==2.14) (3.2.2)\n",
            "Installing collected packages: flatbuffers, tensorflow-estimator, tensorboard-data-server, protobuf, keras, google-auth-oauthlib, tensorboard, tensorflow\n",
            "  Attempting uninstall: flatbuffers\n",
            "    Found existing installation: flatbuffers 1.12\n",
            "    Uninstalling flatbuffers-1.12:\n",
            "      Successfully uninstalled flatbuffers-1.12\n",
            "  Attempting uninstall: tensorflow-estimator\n",
            "    Found existing installation: tensorflow-estimator 2.9.0\n",
            "    Uninstalling tensorflow-estimator-2.9.0:\n",
            "      Successfully uninstalled tensorflow-estimator-2.9.0\n",
            "  Attempting uninstall: tensorboard-data-server\n",
            "    Found existing installation: tensorboard-data-server 0.6.1\n",
            "    Uninstalling tensorboard-data-server-0.6.1:\n",
            "      Successfully uninstalled tensorboard-data-server-0.6.1\n",
            "  Attempting uninstall: protobuf\n",
            "    Found existing installation: protobuf 3.19.6\n",
            "    Uninstalling protobuf-3.19.6:\n",
            "      Successfully uninstalled protobuf-3.19.6\n",
            "  Attempting uninstall: keras\n",
            "    Found existing installation: keras 2.9.0\n",
            "    Uninstalling keras-2.9.0:\n",
            "      Successfully uninstalled keras-2.9.0\n",
            "  Attempting uninstall: google-auth-oauthlib\n",
            "    Found existing installation: google-auth-oauthlib 0.4.6\n",
            "    Uninstalling google-auth-oauthlib-0.4.6:\n",
            "      Successfully uninstalled google-auth-oauthlib-0.4.6\n",
            "  Attempting uninstall: tensorboard\n",
            "    Found existing installation: tensorboard 2.9.1\n",
            "    Uninstalling tensorboard-2.9.1:\n",
            "      Successfully uninstalled tensorboard-2.9.1\n",
            "  Attempting uninstall: tensorflow\n",
            "    Found existing installation: tensorflow 2.9.1\n",
            "    Uninstalling tensorflow-2.9.1:\n",
            "      Successfully uninstalled tensorflow-2.9.1\n",
            "\u001b[31mERROR: pip's dependency resolver does not currently take into account all the packages that are installed. This behaviour is the source of the following dependency conflicts.\n",
            "tensorboardx 2.6 requires protobuf<4,>=3.8.0, but you have protobuf 4.25.1 which is incompatible.\n",
            "tensorflow-metadata 1.14.0 requires protobuf<4.21,>=3.20.3, but you have protobuf 4.25.1 which is incompatible.\n",
            "tensorflow-text 2.9.0 requires tensorflow<2.10,>=2.9.0; platform_machine != \"arm64\" or platform_system != \"Darwin\", but you have tensorflow 2.14.0 which is incompatible.\u001b[0m\u001b[31m\n",
            "\u001b[0mSuccessfully installed flatbuffers-23.5.26 google-auth-oauthlib-1.0.0 keras-2.14.0 protobuf-4.25.1 tensorboard-2.14.1 tensorboard-data-server-0.7.2 tensorflow-2.14.0 tensorflow-estimator-2.14.0\n"
          ]
        }
      ]
    },
    {
      "cell_type": "code",
      "source": [
        "!textattack peek-dataset --dataset-from-huggingface glue 'qnli'"
      ],
      "metadata": {
        "colab": {
          "base_uri": "https://localhost:8080/"
        },
        "id": "lW21-vqf8y7y",
        "outputId": "3831bd24-49d4-4bc5-b399-2aba964c1246"
      },
      "execution_count": null,
      "outputs": [
        {
          "output_type": "stream",
          "name": "stdout",
          "text": [
            "/bin/bash: line 1: textattack: command not found\n"
          ]
        }
      ]
    },
    {
      "cell_type": "code",
      "source": [
        "import numpy as np\n",
        "import tensorflow as tf\n",
        "\n",
        "import torch\n",
        "import textattack\n",
        "import transformers\n",
        "\n",
        "from textattack import AttackArgs\n",
        "from textattack.datasets import Dataset\n",
        "from textattack import Attacker"
      ],
      "metadata": {
        "id": "ZN9ywZuH2evC",
        "colab": {
          "base_uri": "https://localhost:8080/",
          "height": 453,
          "referenced_widgets": [
            "6f0f948957754a48a74a7e4f70ceb7a7",
            "57d5d5cdb2cf459089a3bc56bdfbe214",
            "1a9274a982144f55912491ba675be9c4",
            "ac73058ca6784d24840732053f36a200",
            "201a2e1bee004124a33db6c4dd32fed1",
            "694fea2ab6ad4146b538822a8a7275ba",
            "c4a8d60e0f1f44aeac430e174b10eca2",
            "f00fd5a1a0874059887d61279d5d1a21",
            "715baebec8394ff4b27e3d95c7f87d26",
            "2559b927384f4c01918e4821da79a63d",
            "757abd00d46a46f8bc4768fe2b9e1720",
            "95eac441fcc84083a68cfcb6f31ddabc",
            "b3fbf7ff41824f64975a71c85386ca7d",
            "378067572c6d43c1a707fa29dbfd33b4",
            "4e5d09f9da324553b4aa6d2f69abd24b",
            "129813294d91462189ae6158d2c56278",
            "742fc9592181446fbd65b6a403e1fc24",
            "82cabd3fb1f942ee9f44d8ed9735c29d",
            "591b26761eb0479db451e4adc5f1560c",
            "d77909f58ba64bc1b57acd9a462050ad",
            "4171ab850cbf481582bedc7ce7073b6a",
            "5c63b0c19779494bac4dc27b75ed69fb"
          ]
        },
        "outputId": "7e0f7224-1bfc-4e63-e11f-efc56d460667"
      },
      "execution_count": null,
      "outputs": [
        {
          "output_type": "stream",
          "name": "stderr",
          "text": [
            "textattack: Updating TextAttack package dependencies.\n",
            "textattack: Downloading NLTK required packages.\n",
            "[nltk_data] Downloading package averaged_perceptron_tagger to\n",
            "[nltk_data]     /root/nltk_data...\n",
            "[nltk_data]   Unzipping taggers/averaged_perceptron_tagger.zip.\n",
            "[nltk_data] Downloading package stopwords to /root/nltk_data...\n",
            "[nltk_data]   Unzipping corpora/stopwords.zip.\n",
            "[nltk_data] Downloading package omw to /root/nltk_data...\n",
            "[nltk_data] Downloading package universal_tagset to /root/nltk_data...\n",
            "[nltk_data]   Unzipping taggers/universal_tagset.zip.\n",
            "[nltk_data] Downloading package wordnet to /root/nltk_data...\n",
            "[nltk_data] Downloading package punkt to /root/nltk_data...\n",
            "[nltk_data]   Unzipping tokenizers/punkt.zip.\n"
          ]
        },
        {
          "output_type": "display_data",
          "data": {
            "text/plain": [
              "Downloading https://raw.githubusercontent.com/stanfordnlp/stanza-resources/main/resources_1.7.0.json:   0%|   …"
            ],
            "application/vnd.jupyter.widget-view+json": {
              "version_major": 2,
              "version_minor": 0,
              "model_id": "6f0f948957754a48a74a7e4f70ceb7a7"
            }
          },
          "metadata": {}
        },
        {
          "output_type": "stream",
          "name": "stderr",
          "text": [
            "INFO:stanza:Downloading default packages for language: en (English) ...\n"
          ]
        },
        {
          "output_type": "display_data",
          "data": {
            "text/plain": [
              "Downloading https://huggingface.co/stanfordnlp/stanza-en/resolve/v1.7.0/models/default.zip:   0%|          | 0…"
            ],
            "application/vnd.jupyter.widget-view+json": {
              "version_major": 2,
              "version_minor": 0,
              "model_id": "95eac441fcc84083a68cfcb6f31ddabc"
            }
          },
          "metadata": {}
        },
        {
          "output_type": "stream",
          "name": "stderr",
          "text": [
            "INFO:stanza:Finished downloading models and saved to /root/stanza_resources.\n"
          ]
        }
      ]
    },
    {
      "cell_type": "code",
      "source": [
        "model = transformers.AutoModelForSequenceClassification.from_pretrained(\"textattack/albert-base-v2-rotten-tomatoes\")\n",
        "tokenizer = transformers.AutoTokenizer.from_pretrained(\"textattack/albert-base-v2-rotten-tomatoes\")\n",
        "model_wrapper = textattack.models.wrappers.HuggingFaceModelWrapper(model, tokenizer)\n"
      ],
      "metadata": {
        "colab": {
          "base_uri": "https://localhost:8080/",
          "height": 261,
          "referenced_widgets": [
            "5c381ed626e840628fbf3d94f74b70f9",
            "d3bd569694a24735a92e48e3fe45a09d",
            "86591fecf4984dfeb68b49f72941908d",
            "a1364804c74247fbbadd6544e09e4b74",
            "5c2e75fad98f4d73876fc3a346a29997",
            "ce11aa1cf8b548d4851f37e3721481c8",
            "cb1badc57ccc411ea10e1caaece9b2fa",
            "c39d91a7e4724251a6b74f4bf533a065",
            "3ed27e3fd1db4c68a42bd23bbe2bc752",
            "1948b982d54446a38828f970e1df2574",
            "e42bfc7307d544bb89e2b18878e62fce",
            "8e25c3d5d32f45f9bbc918e32ce1f1f4",
            "a44cddd2aa884a8db1a20eed9b4f863f",
            "300dacb212ea4a82aea83889a04c9e7a",
            "998c124f62154de2bb4ef2d6c05d6e50",
            "8fc6dc81251c46c78e06e8bd740d358d",
            "66b53d9753ff4706987eba7343478381",
            "e605508916b74f9ca555409f9a60cb89",
            "d48f9338fe5646968755ae93d999d9f6",
            "9b209b4ea8334c949ec3b6572d69f973",
            "901c90f286224c1caf4dc1cff55dedee",
            "35134c88fccd4e2c878e956efee09848",
            "e5b21a4ba3aa42b3bd6110c5e8f179de",
            "7506f4e987ea43168dd3aad6a00f8a95",
            "9514ced39785442dad0dc98a87966ba2",
            "ec092234bb3646019dda399cba6e0d19",
            "9c2c2a59e2984466a55f27fad54b5e7c",
            "a71923e587b14cb4bb5a5e37fb738500",
            "a63310f55ee544bfa06af30b17100547",
            "c82a8568c06a42c8839d53243a69f24c",
            "53faaad3c333497f894338568d8cb600",
            "5644cdac783d4091b80b9e8186cd6b3c",
            "6e9c0ebdb4e3469a96a37728daf09262",
            "211e3f1977e848a2b5c9fd7377adf113",
            "ed8acad21cbb4b66a908f3fa81820914",
            "abce490793ac45f2a44cf15ee674800f",
            "3039300bc5e84bdbba97f24c4d3597ea",
            "9aca32d7074c44bf8374156f6c87610e",
            "254d37db65814ac9b932da9ee0c9b9de",
            "a329adf7b1904b83a8b294613bf615e8",
            "974d1667f064480eaae99a8f67c457d6",
            "dd291a6747e5482e9db0e7300adb828e",
            "5638a8eccca04117b1f977ada374baed",
            "be43b7d28c7048bfa1ad154a9c6a3a37",
            "5cdd5e89ac08465c8a135fd68e979892",
            "8567b19e240c4d8d8af0561d7439f270",
            "8c15a14db871441f8cac51cc69988712",
            "c940adfc2d934fea8dd29a7282b5a8e7",
            "3098ececfbfb433eae464c6a1d83e835",
            "1eaeacee4cf84f0fbd7b8e82003cdc3a",
            "a2167564326644d58b6fd4244684a960",
            "df893e9559c349c49e2cd779fdc40500",
            "0c4802dee5894281b549f0318bdaf61d",
            "160f875d58ac48ffa04d4d7e4c43d660",
            "45a2cdf89e3e488fb99872dbaf64abb0"
          ]
        },
        "id": "3mbCike32gao",
        "outputId": "b45dcb1e-5415-4aae-ec09-2985580eed98"
      },
      "execution_count": null,
      "outputs": [
        {
          "output_type": "display_data",
          "data": {
            "text/plain": [
              "config.json:   0%|          | 0.00/738 [00:00<?, ?B/s]"
            ],
            "application/vnd.jupyter.widget-view+json": {
              "version_major": 2,
              "version_minor": 0,
              "model_id": "5c381ed626e840628fbf3d94f74b70f9"
            }
          },
          "metadata": {}
        },
        {
          "output_type": "display_data",
          "data": {
            "text/plain": [
              "pytorch_model.bin:   0%|          | 0.00/46.7M [00:00<?, ?B/s]"
            ],
            "application/vnd.jupyter.widget-view+json": {
              "version_major": 2,
              "version_minor": 0,
              "model_id": "8e25c3d5d32f45f9bbc918e32ce1f1f4"
            }
          },
          "metadata": {}
        },
        {
          "output_type": "display_data",
          "data": {
            "text/plain": [
              "tokenizer_config.json:   0%|          | 0.00/25.0 [00:00<?, ?B/s]"
            ],
            "application/vnd.jupyter.widget-view+json": {
              "version_major": 2,
              "version_minor": 0,
              "model_id": "e5b21a4ba3aa42b3bd6110c5e8f179de"
            }
          },
          "metadata": {}
        },
        {
          "output_type": "display_data",
          "data": {
            "text/plain": [
              "spiece.model:   0%|          | 0.00/760k [00:00<?, ?B/s]"
            ],
            "application/vnd.jupyter.widget-view+json": {
              "version_major": 2,
              "version_minor": 0,
              "model_id": "211e3f1977e848a2b5c9fd7377adf113"
            }
          },
          "metadata": {}
        },
        {
          "output_type": "display_data",
          "data": {
            "text/plain": [
              "special_tokens_map.json:   0%|          | 0.00/156 [00:00<?, ?B/s]"
            ],
            "application/vnd.jupyter.widget-view+json": {
              "version_major": 2,
              "version_minor": 0,
              "model_id": "5cdd5e89ac08465c8a135fd68e979892"
            }
          },
          "metadata": {}
        }
      ]
    },
    {
      "cell_type": "code",
      "source": [
        "dataset = textattack.datasets.HuggingFaceDataset(\"rotten_tomatoes\", split=\"train\")"
      ],
      "metadata": {
        "colab": {
          "base_uri": "https://localhost:8080/",
          "height": 454,
          "referenced_widgets": [
            "2334065fdc824f56882ae1539cf24f29",
            "0d19effb2179440aaaa13e6eb7b48c9c",
            "6721527746274b43bd3f527da80a585b",
            "fba7b0c43ba4407f9192c57161fdafb4",
            "0ecf516efac4476281a380061614ca57",
            "58f6aad22e6b4111ad122510cfca42e7",
            "7a8bed515df3451b8bbdb6469852f62a",
            "eb29390629154355b2aab268eae730b8",
            "c5af4fb971ed482086fe095b2635c071",
            "61d48d7bd5334988b521133442c63494",
            "4b4202dc93c541e581a6a7774e841988",
            "62c5ad65db544e32aafc8b317de8cbeb",
            "de993aac5776439c845f57339c24f615",
            "7bccdc7f9f53469196849d5bd4f186aa",
            "f18f35de450f473aa04f06034597ef82",
            "b18477493b62491f9b93a456fe3bf01b",
            "a998508179ed47829fb3b2ff7d8f7e74",
            "6544152aa02f49a69ae58d8d4d65304c",
            "d5ac2aa0568748269113dda5f11d97a9",
            "836781df8a14480b919cb78db8b079b1",
            "f7105905d8474308b09fb17714b7199f",
            "48234489a2634db8995da8b3a2380545",
            "6575308a84864b87ab073fa1cb83e8e0",
            "6e8294ff1f8e410e93203b4d82e4d734",
            "3661f0545a6a45c8805fca9f6efa6c2b",
            "7b135fa9ee0f48388dfca7bb4c76ae9e",
            "da7b2513e8f14d2bab419e6568c15632",
            "bedf0785684a472ea48d083877e391da",
            "f9dba6764ba3407492c2052f5ab4c0d4",
            "eecae47908db43dc83ebd807decf756d",
            "7d1029a278d74130b1c72f8cef6fb40d",
            "c6d8fa2cf5fb4d1085bd983346f9230c",
            "0a50d70114cf4f078a747fbb3c22c7e3",
            "d4d68ced6cf342a298096342a71d663d",
            "52fa79e487fa40fd8f9fbad1bb242179",
            "d97c82853f2d43f79e640ac8c16de78a",
            "1fcfa9fbab714acbba8e0cacdfe0ee4f",
            "ae583b4070464b65b5da3a034d31de3a",
            "3903dd136cd2413c81acb1758061d27f",
            "44c39aaae01f4c8f96c16c9f5b360b35",
            "eb3afde876a340ebbf0b4e8fc94727c7",
            "6c72a28650b84bd68069130b7dc4be11",
            "58708b15d15648c0992e102416c64e52",
            "8dd6037a1a654fbbaffe3ffd7751428e",
            "a6ce73448b634e539622abcdc0337e99",
            "f7160ad615784142be55dc57ba2646a9",
            "015a5af96e9d4734a61ca8741257f749",
            "c43d3b6e5a654f3f85154604551bb53d",
            "7f6b8b89eae44c1790f67427c638d4e8",
            "2a2cf3f9c08d4a56932c98f89d22e6b1",
            "fdcae0ed93974a8ab25c9d1b3120de0c",
            "e844b57943a1476da66411e991c1e253",
            "df6acb4039ca43018bfa7857df8d2ab4",
            "8e35a6d268a04183a52fd0897147cf33",
            "60a9ff5898c54697bf78cfcf41484622",
            "0acdfb5f5be440a4859059bd2cec300d",
            "3e6305ce783543a29216988a7251dd2c",
            "0e0bb3599c584bc0be5c4160553b1c30",
            "9df64614391c423d8d2362fc11cdce06",
            "aba8085940ff42168ceee11ce0139233",
            "2ce4d2071a4f486a8e7bbd6ddd10f401",
            "095246f036a04462b2ba83ea3c835786",
            "8a8e5a0721fe4b3abbb5be3e63433a59",
            "8889e6200b0b4a6ab0942b8736fe42a8",
            "20615c3f72614aeebe36f3e2d25ec683",
            "6d819ef1b4cf43018e84eb4ccc83033b",
            "e865632170814f9b870586f1435fd309",
            "5d2cf431847c4674b9740b9c6bc703a7",
            "dc49823f8a3e4e33b865e7342984b279",
            "71b232c60e064009b3b0c8e89b6cbe8b",
            "e960935f15b14299aa867b1776bf9be7",
            "a0f20c00f1424bee9ccf71ccf3442d60",
            "c55df192ac8d49c0b68991c2d3b87c11",
            "0e6b253d07f8460da5dcfffb26cd347d",
            "0ddc7d87bfdd447ab39aec5c68e1a624",
            "ed642ff596674f1fa1e36b680d5d1427",
            "e97be2d7b4ef47599ade601f742329a4"
          ]
        },
        "id": "C1tWmkJQ6BpE",
        "outputId": "1fcb7280-80ed-4dfb-d8d8-51f66e85beb5"
      },
      "execution_count": null,
      "outputs": [
        {
          "output_type": "display_data",
          "data": {
            "text/plain": [
              "Downloading builder script:   0%|          | 0.00/5.03k [00:00<?, ?B/s]"
            ],
            "application/vnd.jupyter.widget-view+json": {
              "version_major": 2,
              "version_minor": 0,
              "model_id": "2334065fdc824f56882ae1539cf24f29"
            }
          },
          "metadata": {}
        },
        {
          "output_type": "display_data",
          "data": {
            "text/plain": [
              "Downloading metadata:   0%|          | 0.00/2.02k [00:00<?, ?B/s]"
            ],
            "application/vnd.jupyter.widget-view+json": {
              "version_major": 2,
              "version_minor": 0,
              "model_id": "62c5ad65db544e32aafc8b317de8cbeb"
            }
          },
          "metadata": {}
        },
        {
          "output_type": "display_data",
          "data": {
            "text/plain": [
              "Downloading readme:   0%|          | 0.00/7.25k [00:00<?, ?B/s]"
            ],
            "application/vnd.jupyter.widget-view+json": {
              "version_major": 2,
              "version_minor": 0,
              "model_id": "6575308a84864b87ab073fa1cb83e8e0"
            }
          },
          "metadata": {}
        },
        {
          "output_type": "display_data",
          "data": {
            "text/plain": [
              "Downloading data:   0%|          | 0.00/488k [00:00<?, ?B/s]"
            ],
            "application/vnd.jupyter.widget-view+json": {
              "version_major": 2,
              "version_minor": 0,
              "model_id": "d4d68ced6cf342a298096342a71d663d"
            }
          },
          "metadata": {}
        },
        {
          "output_type": "display_data",
          "data": {
            "text/plain": [
              "Generating train split:   0%|          | 0/8530 [00:00<?, ? examples/s]"
            ],
            "application/vnd.jupyter.widget-view+json": {
              "version_major": 2,
              "version_minor": 0,
              "model_id": "a6ce73448b634e539622abcdc0337e99"
            }
          },
          "metadata": {}
        },
        {
          "output_type": "display_data",
          "data": {
            "text/plain": [
              "Generating validation split:   0%|          | 0/1066 [00:00<?, ? examples/s]"
            ],
            "application/vnd.jupyter.widget-view+json": {
              "version_major": 2,
              "version_minor": 0,
              "model_id": "0acdfb5f5be440a4859059bd2cec300d"
            }
          },
          "metadata": {}
        },
        {
          "output_type": "display_data",
          "data": {
            "text/plain": [
              "Generating test split:   0%|          | 0/1066 [00:00<?, ? examples/s]"
            ],
            "application/vnd.jupyter.widget-view+json": {
              "version_major": 2,
              "version_minor": 0,
              "model_id": "e865632170814f9b870586f1435fd309"
            }
          },
          "metadata": {}
        },
        {
          "output_type": "stream",
          "name": "stderr",
          "text": [
            "textattack: Loading \u001b[94mdatasets\u001b[0m dataset \u001b[94mrotten_tomatoes\u001b[0m, split \u001b[94mtrain\u001b[0m.\n"
          ]
        }
      ]
    },
    {
      "cell_type": "code",
      "source": [
        "train_dataset = textattack.datasets.HuggingFaceDataset(\"rotten_tomatoes\", split=\"train\")\n",
        "eval_dataset = textattack.datasets.HuggingFaceDataset(\"rotten_tomatoes\", split=\"test\")"
      ],
      "metadata": {
        "colab": {
          "base_uri": "https://localhost:8080/"
        },
        "id": "RuuIfTHm_R3m",
        "outputId": "a053cb11-5ddd-4b5d-d539-58536ff7768b"
      },
      "execution_count": null,
      "outputs": [
        {
          "output_type": "stream",
          "name": "stderr",
          "text": [
            "textattack: Loading \u001b[94mdatasets\u001b[0m dataset \u001b[94mrotten_tomatoes\u001b[0m, split \u001b[94mtrain\u001b[0m.\n",
            "textattack: Loading \u001b[94mdatasets\u001b[0m dataset \u001b[94mrotten_tomatoes\u001b[0m, split \u001b[94mtest\u001b[0m.\n"
          ]
        }
      ]
    },
    {
      "cell_type": "code",
      "source": [
        "attack = textattack.attack_recipes.CLARE2020.build(model_wrapper)\n"
      ],
      "metadata": {
        "colab": {
          "base_uri": "https://localhost:8080/",
          "height": 288,
          "referenced_widgets": [
            "d4edc70f74af436a86696dd77dd66a78",
            "5bf8c23236e5413abdb7557227977888",
            "576806c7a3684269aa974a032b5a06a4",
            "60e3792b72c9473b9425140ee1c09cea",
            "a7a782248e3144bbb6c565733c9145cf",
            "ceb7a08d328545e0ac2ecd5a720eb2fb",
            "818c3f5329344c34af23fa5168c8932e",
            "2568de55b78142a4a326ea186f91469d",
            "edd2654fcbe24b24a5f07c3dc659bd33",
            "4253b381323141cba2b46be68bf9245d",
            "c3a7d4ea0f6a4a8f8074306fe1b48c4a",
            "f155fa47dc2844f7b314deb394738a9b",
            "a590585692374c74bf4a1d2f9cf343b2",
            "8ca051b2b4874e219c0bf2690750d2f8",
            "2b6d73d11f9a47229ac53a655cb59aad",
            "32cede6ba2314809b5c18e825de40661",
            "d10902a3f99242128f924147544dd3ed",
            "f4efa30fc9d242d99d812d8ea1facf53",
            "491889e69f344fdab49755d327ddb1ca",
            "12945cf39e544433a3890f58c9370c4f",
            "71440f7d841c4881982ed98d8fcdcfed",
            "45f83f1689ce4317bda5b958e25f930f",
            "94a1c2d0fe4742aa8f6e6724a577b46d",
            "a98041e3423240c9a0f2e4f79fe47b5a",
            "8d05682fee51410589435ed1ddbc4d97",
            "7c7a14834fbf4a96ac947bbe0af3b2f6",
            "411e71f901974915a3adeb4629da2ad7",
            "04ce5699314140289e86785d38e98f22",
            "b8808d07e41a46a2a824bc0b0bc53fa8",
            "d77cfbef95da450ab5567aa8e422ef58",
            "5bc95c0a42d0475e9aa541b65d0628ec",
            "9e19c635485a44af97224f8298a4d697",
            "5e32c984ac2749e5a073467984c2e67a",
            "bf676e4633004631939a1ba032d5c191",
            "596c994c402f41ccb30107a9ca601206",
            "ab1b68e958da47dbb31baf8c9115c831",
            "c287e9307ad94c10944c41cb0f78e61c",
            "26d985368e784369b8c9fd2f3dda9569",
            "f3113f9ffe3f4d7380a9c39970b3415f",
            "528465c5df734232a046931fa1421731",
            "c8f7aa98fadd4e1f9ca0f81d54a66476",
            "bfe4861457694e49abd265e1fd99f8c6",
            "70496fbdeedc48bb8de7d3bde39e8325",
            "bd16e648513142db8e78bea1d6c6dbc5",
            "4a3fc41362734d029a2af436a864d37b",
            "f68abb34197346fa84212ea3f849e378",
            "32c2d5a6c4074f2f971637e71cf62725",
            "98c10f68d4374addb343b83370554db8",
            "e16719893bf44902bd0284f70185e14a",
            "6eae59bff31b4a51a879dea142913aad",
            "159da0b290a84bb492109ed186783e1d",
            "8f7fefef8cbd4fd1acd7fef09bd02613",
            "fdc220c079774a91a5b8524a6e0e55ee",
            "eed58caeef394a1392c391b5575ff87c",
            "29305a5b91b04acb9388de262399303c"
          ]
        },
        "id": "iB2aeKa1DYhC",
        "outputId": "e222367a-287f-491e-896f-7343ca9a6432"
      },
      "execution_count": null,
      "outputs": [
        {
          "output_type": "display_data",
          "data": {
            "text/plain": [
              "config.json:   0%|          | 0.00/480 [00:00<?, ?B/s]"
            ],
            "application/vnd.jupyter.widget-view+json": {
              "version_major": 2,
              "version_minor": 0,
              "model_id": "d4edc70f74af436a86696dd77dd66a78"
            }
          },
          "metadata": {}
        },
        {
          "output_type": "display_data",
          "data": {
            "text/plain": [
              "model.safetensors:   0%|          | 0.00/331M [00:00<?, ?B/s]"
            ],
            "application/vnd.jupyter.widget-view+json": {
              "version_major": 2,
              "version_minor": 0,
              "model_id": "f155fa47dc2844f7b314deb394738a9b"
            }
          },
          "metadata": {}
        },
        {
          "output_type": "stream",
          "name": "stderr",
          "text": [
            "If you want to use `RobertaLMHeadModel` as a standalone, add `is_decoder=True.`\n"
          ]
        },
        {
          "output_type": "display_data",
          "data": {
            "text/plain": [
              "vocab.json:   0%|          | 0.00/899k [00:00<?, ?B/s]"
            ],
            "application/vnd.jupyter.widget-view+json": {
              "version_major": 2,
              "version_minor": 0,
              "model_id": "94a1c2d0fe4742aa8f6e6724a577b46d"
            }
          },
          "metadata": {}
        },
        {
          "output_type": "display_data",
          "data": {
            "text/plain": [
              "merges.txt:   0%|          | 0.00/456k [00:00<?, ?B/s]"
            ],
            "application/vnd.jupyter.widget-view+json": {
              "version_major": 2,
              "version_minor": 0,
              "model_id": "bf676e4633004631939a1ba032d5c191"
            }
          },
          "metadata": {}
        },
        {
          "output_type": "display_data",
          "data": {
            "text/plain": [
              "tokenizer.json:   0%|          | 0.00/1.36M [00:00<?, ?B/s]"
            ],
            "application/vnd.jupyter.widget-view+json": {
              "version_major": 2,
              "version_minor": 0,
              "model_id": "4a3fc41362734d029a2af436a864d37b"
            }
          },
          "metadata": {}
        },
        {
          "output_type": "stream",
          "name": "stderr",
          "text": [
            "textattack: Unknown if model of class <class 'transformers.models.albert.modeling_albert.AlbertForSequenceClassification'> compatible with goal function <class 'textattack.goal_functions.classification.untargeted_classification.UntargetedClassification'>.\n"
          ]
        }
      ]
    },
    {
      "cell_type": "code",
      "source": [
        "attack_args = textattack.AttackArgs(\n",
        "    num_examples=100,\n",
        "    checkpoint_interval=5,\n",
        "    checkpoint_dir=\"checkpoints\"\n",
        ")"
      ],
      "metadata": {
        "id": "VKB8702z4__I"
      },
      "execution_count": null,
      "outputs": []
    },
    {
      "cell_type": "code",
      "source": [
        "attacker = textattack.Attacker(attack, dataset, attack_args)\n",
        "\n",
        "results = attacker.attack_dataset()\n",
        "ppl = textattack.metrics.quality_metrics.Perplexity().calculate(results)\n",
        "usem = textattack.metrics.quality_metrics.USEMetric().calculate(results)"
      ],
      "metadata": {
        "colab": {
          "base_uri": "https://localhost:8080/",
          "height": 1000,
          "referenced_widgets": [
            "f2bc6b49a24443ada1c3527b2a5c5492",
            "6a7454c898634565a6f13e83cc5eee56",
            "0e5f1f535ef84782a7969cb3c5498ee4",
            "2e58a88ff9d64a9c8ff0e9d9f762c501",
            "26c45d6213b2427b8e6b58a1a7e46c4b",
            "3111137135584625be756d6efa24aba4",
            "f7deff7011414b9786b8d61dfd7efce1",
            "6276bc0f52d84f288f15918d824ba727",
            "d9e54b9d3052442e8fd16d7a016be3d9",
            "80bb20d7a054436199b198bbedf4f777",
            "0ab3dc21ad884982b4a89958c749fd3d",
            "b777ddc394e442c3866132d6099976d5",
            "a1e236521674413e9b2321311f0957b9",
            "80cedd13c41b4d38acb3aecf6e54adbc",
            "496c7e8a2c3d4ae199ac7978569233e3",
            "d05d5ff451a14a1581a9e23172f1062f",
            "4534ff2162df4902bb26ed98318352d3",
            "f51c6b13874d4fb39eae24d7fc611555",
            "3640d503e9f94e6c81be2f0d28e79082",
            "9cf85ff7ca4541f199ccadd2f9b0c7dc",
            "6772aed5cc344887a6a1aaf875ce3d7b",
            "0221f47e3b3a40aeb7cb1633ecabe4b6",
            "40df485c837241e4aa69706319648a14",
            "0c15cbace3b24cc7870abf8ba6423343",
            "e13a55a36dfb4573a2dc4ce029bde7cb",
            "21bf60913fa54f46aa65a0e9e3474f4b",
            "a504c8fad6bb46e6a1ef38efb785c54a",
            "44d9d1cb0aef48bc997d3fa4b65e2020",
            "82fb19d9bb3a4a6f96a0402353ca11df",
            "ce85cf84b82849629547c8fcf2819529",
            "8149c36ec2c04031aa9c5e792cbdfb9e",
            "705f0d2408ec45e1ad4fc9713c5d1bee",
            "2ba8e8061724473a834ff46179c6f0f0",
            "eda2e379932a48fc8b787c19dd5d8a96",
            "682a0b0e0b1e4873be78dea9d8e863ea",
            "0fda70bfe666463c90d00a1eae9792ef",
            "d392da2c58c4423789173200cdbf650b",
            "8fbb81e29b3c491e8b9b7aeb6d23e56a",
            "60c65016b89645d3a40d906451f97675",
            "22477b7cc1e6491cab7731ac1a065835",
            "39756bc3c8624e4eaf8652a05c8a2f1f",
            "e825430d09db4c7486c92aa05ca2d543",
            "5c3e88798ec4452691486c26ce673cd4",
            "f6d2eba297234ac49a9df2037ea05c9e",
            "1ac98853831843debd448c657bc70572",
            "4f21f422e5ec4b91a2f71d4a634a6e5a",
            "f83275a191344f10a85fcb3d55dd6ada",
            "38a01e55802a4a87bf02fbc217b64958",
            "0891a3f946624c7db8eda92fc3d1fe43",
            "d9d54cb416f84d27b1d2493c02fb3417",
            "e10a3953706c47918f9cef0266a9856d",
            "2934f318acd64d45a17df7151d7b40fa",
            "1a5086f258034dce8ff984f250b2e718",
            "cc7d4ed9c6f44836a9c523025f88e27d",
            "9bdc7c778a1e4619a4bc718c48de32e7",
            "cc72fd33cc5d4390a98ce40e688d1887",
            "1bfee27e150942859d9aa36b26830421",
            "aaa08959ca3e4b79bc2d54356afe549b",
            "d649b82d8af540f88309023ee34662c4",
            "44df622f61b7469b9e7e155fcc05bdab",
            "3834addaa2794187bd4c0b17f3c6890e",
            "23225279126d450dafcf10a0ef579ddb",
            "5779064f7e3847878d2d02fe71a29da2",
            "6aa58b571f3f43109e933deeac94ba1e",
            "10ba7366d4994d9ca81a4c3d881e9296",
            "3b07e8cf6da046beb302269c334ee5fb"
          ]
        },
        "id": "2jDrCdgE6Q2_",
        "outputId": "657642c5-f8c5-44e9-dbfc-26266406daf9"
      },
      "execution_count": null,
      "outputs": [
        {
          "output_type": "stream",
          "name": "stdout",
          "text": [
            "Attack(\n",
            "  (search_method): GreedySearch\n",
            "  (goal_function):  UntargetedClassification\n",
            "  (transformation):  CompositeTransformation(\n",
            "    (0): WordSwapMaskedLM(\n",
            "        (method):  bae\n",
            "        (masked_lm_name):  RobertaForCausalLM\n",
            "        (max_length):  512\n",
            "        (max_candidates):  50\n",
            "        (min_confidence):  0.0005\n",
            "      )\n",
            "    (1): WordInsertionMaskedLM(\n",
            "        (masked_lm_name):  RobertaForCausalLM\n",
            "        (max_length):  512\n",
            "        (max_candidates):  50\n",
            "        (min_confidence):  0.0\n",
            "      )\n",
            "    (2): WordMergeMaskedLM(\n",
            "        (masked_lm_name):  RobertaForCausalLM\n",
            "        (max_length):  512\n",
            "        (max_candidates):  50\n",
            "        (min_confidence):  0.005\n",
            "      )\n",
            "    )\n",
            "  (constraints): \n",
            "    (0): UniversalSentenceEncoder(\n",
            "        (metric):  cosine\n",
            "        (threshold):  0.7\n",
            "        (window_size):  15\n",
            "        (skip_text_shorter_than_window):  True\n",
            "        (compare_against_original):  True\n",
            "      )\n",
            "    (1): RepeatModification\n",
            "    (2): StopwordModification\n",
            "  (is_black_box):  True\n",
            ") \n",
            "\n"
          ]
        },
        {
          "output_type": "stream",
          "name": "stderr",
          "text": [
            "\n",
            "  0%|          | 0/100 [00:00<?, ?it/s]\u001b[A\n",
            "  1%|          | 1/100 [01:24<2:19:50, 84.75s/it]\u001b[A\n",
            "[Succeeded / Failed / Skipped / Total] 1 / 0 / 0 / 1:   1%|          | 1/100 [01:24<2:19:51, 84.76s/it]\u001b[A"
          ]
        },
        {
          "output_type": "stream",
          "name": "stdout",
          "text": [
            "--------------------------------------------- Result 1 ---------------------------------------------\n",
            "[[Positive (92%)]] --> [[Negative (94%)]]\n",
            "\n",
            "the rock is destined to be the 21st century's new \" conan \" and that he's going to make a splash even greater than arnold schwarzenegger , jean-claud van damme or steven segal .\n",
            "\n",
            "the rock is destined to be the 21st century's new \" conan \" and that he's going to make a splash even [[barely]] greater than arnold schwarzenegger , jean-claud van damme or steven segal .\n",
            "\n",
            "\n"
          ]
        },
        {
          "output_type": "stream",
          "name": "stderr",
          "text": [
            "\n",
            "[Succeeded / Failed / Skipped / Total] 1 / 0 / 0 / 1:   2%|▏         | 2/100 [03:06<2:31:55, 93.01s/it]\u001b[A\n",
            "[Succeeded / Failed / Skipped / Total] 2 / 0 / 0 / 2:   2%|▏         | 2/100 [03:06<2:31:55, 93.02s/it]\u001b[A\n",
            "[Succeeded / Failed / Skipped / Total] 2 / 0 / 1 / 3:   3%|▎         | 3/100 [03:06<1:40:16, 62.03s/it]\u001b[A"
          ]
        },
        {
          "output_type": "stream",
          "name": "stdout",
          "text": [
            "--------------------------------------------- Result 2 ---------------------------------------------\n",
            "[[Positive (98%)]] --> [[Negative (79%)]]\n",
            "\n",
            "the [[gorgeously]] elaborate continuation of \" the lord of the rings \" trilogy is so huge that a column of words cannot adequately describe co-writer/director peter jackson's expanded vision of j . r . r . tolkien's middle-earth .\n",
            "\n",
            "the [[overly]] elaborate continuation of \" the lord of the rings \" trilogy is so huge that a column of words cannot adequately describe co-writer/director peter jackson's expanded vision of j . r . r . tolkien's middle-earth .\n",
            "\n",
            "\n",
            "--------------------------------------------- Result 3 ---------------------------------------------\n",
            "[[Negative (75%)]] --> [[[SKIPPED]]]\n",
            "\n",
            "effective but too-tepid biopic\n",
            "\n",
            "\n"
          ]
        },
        {
          "output_type": "stream",
          "name": "stderr",
          "text": [
            "\n",
            "[Succeeded / Failed / Skipped / Total] 2 / 0 / 1 / 3:   4%|▍         | 4/100 [03:52<1:32:53, 58.06s/it]\u001b[A\n",
            "[Succeeded / Failed / Skipped / Total] 3 / 0 / 1 / 4:   4%|▍         | 4/100 [03:52<1:32:54, 58.07s/it]\u001b[A"
          ]
        },
        {
          "output_type": "stream",
          "name": "stdout",
          "text": [
            "--------------------------------------------- Result 4 ---------------------------------------------\n",
            "[[Positive (93%)]] --> [[Negative (96%)]]\n",
            "\n",
            "if you sometimes like to go to the movies to have fun , wasabi is a good place to start .\n",
            "\n",
            "if you sometimes like to go to the movies to have fun , wasabi is [[hardly]] a good place to start .\n",
            "\n",
            "\n"
          ]
        },
        {
          "output_type": "stream",
          "name": "stderr",
          "text": [
            "\n",
            "[Succeeded / Failed / Skipped / Total] 3 / 0 / 1 / 4:   5%|▌         | 5/100 [04:49<1:31:35, 57.85s/it]\u001b[A\n",
            "[Succeeded / Failed / Skipped / Total] 4 / 0 / 1 / 5:   5%|▌         | 5/100 [04:49<1:31:35, 57.85s/it]\u001b[Atextattack: Saving checkpoint under \"checkpoints/1702667994859.ta.chkpt\" at 2023-12-15 19:19:54 after 5 attacks.\n"
          ]
        },
        {
          "output_type": "stream",
          "name": "stdout",
          "text": [
            "--------------------------------------------- Result 5 ---------------------------------------------\n",
            "[[Positive (86%)]] --> [[Negative (96%)]]\n",
            "\n",
            "emerges as something rare , an issue movie that's so honest and keenly observed that it doesn't feel like one .\n",
            "\n",
            "emerges as something rare , an issue movie that's [[only]] so honest and keenly observed that it doesn't feel like one .\n",
            "\n",
            "\n",
            "\n",
            "\n",
            "=============================================================================================================================\n",
            "=============================================================================================================================\n",
            "\n"
          ]
        },
        {
          "output_type": "stream",
          "name": "stderr",
          "text": [
            "\n",
            "[Succeeded / Failed / Skipped / Total] 4 / 0 / 1 / 5:   6%|▌         | 6/100 [05:55<1:32:55, 59.32s/it]\u001b[A\n",
            "[Succeeded / Failed / Skipped / Total] 5 / 0 / 1 / 6:   6%|▌         | 6/100 [05:55<1:32:55, 59.32s/it]\u001b[A"
          ]
        },
        {
          "output_type": "stream",
          "name": "stdout",
          "text": [
            "--------------------------------------------- Result 6 ---------------------------------------------\n",
            "[[Positive (98%)]] --> [[Negative (94%)]]\n",
            "\n",
            "the film provides some great insight into the neurotic mindset of all comics -- even those who have reached the absolute top of the game .\n",
            "\n",
            "the film provides [[only]] some great insight into the neurotic mindset of all comics -- even those who have reached the absolute top of the game .\n",
            "\n",
            "\n"
          ]
        },
        {
          "output_type": "stream",
          "name": "stderr",
          "text": [
            "\n",
            "[Succeeded / Failed / Skipped / Total] 5 / 0 / 1 / 6:   7%|▋         | 7/100 [06:19<1:24:01, 54.20s/it]\u001b[A\n",
            "[Succeeded / Failed / Skipped / Total] 6 / 0 / 1 / 7:   7%|▋         | 7/100 [06:19<1:24:01, 54.21s/it]\u001b[A"
          ]
        },
        {
          "output_type": "stream",
          "name": "stdout",
          "text": [
            "--------------------------------------------- Result 7 ---------------------------------------------\n",
            "[[Positive (98%)]] --> [[Negative (96%)]]\n",
            "\n",
            "offers that rare combination of entertainment and education .\n",
            "\n",
            "offers that rare combination [[instead]] of entertainment and education .\n",
            "\n",
            "\n"
          ]
        },
        {
          "output_type": "stream",
          "name": "stderr",
          "text": [
            "\n",
            "[Succeeded / Failed / Skipped / Total] 6 / 0 / 1 / 7:   8%|▊         | 8/100 [07:15<1:23:24, 54.39s/it]\u001b[A\n",
            "[Succeeded / Failed / Skipped / Total] 7 / 0 / 1 / 8:   8%|▊         | 8/100 [07:15<1:23:24, 54.39s/it]\u001b[A\n",
            "[Succeeded / Failed / Skipped / Total] 7 / 0 / 2 / 9:   9%|▉         | 9/100 [07:15<1:13:20, 48.35s/it]\u001b[A"
          ]
        },
        {
          "output_type": "stream",
          "name": "stdout",
          "text": [
            "--------------------------------------------- Result 8 ---------------------------------------------\n",
            "[[Positive (71%)]] --> [[Negative (96%)]]\n",
            "\n",
            "perhaps no picture ever made [[has]] [[more]] literally showed that the road to hell is paved with good intentions .\n",
            "\n",
            "perhaps no picture ever made [[or]] literally showed that the road to hell is paved with good intentions .\n",
            "\n",
            "\n",
            "--------------------------------------------- Result 9 ---------------------------------------------\n",
            "[[Negative (59%)]] --> [[[SKIPPED]]]\n",
            "\n",
            "steers turns in a snappy screenplay that curls at the edges ; it's so clever you want to hate it . but he somehow pulls it off .\n",
            "\n",
            "\n"
          ]
        },
        {
          "output_type": "stream",
          "name": "stderr",
          "text": [
            "\n",
            "[Succeeded / Failed / Skipped / Total] 7 / 0 / 2 / 9:  10%|█         | 10/100 [07:53<1:10:57, 47.30s/it]\u001b[A\n",
            "[Succeeded / Failed / Skipped / Total] 8 / 0 / 2 / 10:  10%|█         | 10/100 [07:53<1:10:57, 47.30s/it]\u001b[Atextattack: Saving checkpoint under \"checkpoints/1702668178618.ta.chkpt\" at 2023-12-15 19:22:58 after 10 attacks.\n"
          ]
        },
        {
          "output_type": "stream",
          "name": "stdout",
          "text": [
            "--------------------------------------------- Result 10 ---------------------------------------------\n",
            "[[Positive (99%)]] --> [[Negative (79%)]]\n",
            "\n",
            "take care of my cat offers a refreshingly different slice of asian cinema .\n",
            "\n",
            "take care of my cat offers [[only]] a refreshingly different slice of asian cinema .\n",
            "\n",
            "\n",
            "\n",
            "\n",
            "=============================================================================================================================\n",
            "=============================================================================================================================\n",
            "\n"
          ]
        },
        {
          "output_type": "stream",
          "name": "stderr",
          "text": [
            "\n",
            "[Succeeded / Failed / Skipped / Total] 8 / 0 / 2 / 10:  11%|█         | 11/100 [08:29<1:08:41, 46.30s/it]\u001b[A\n",
            "[Succeeded / Failed / Skipped / Total] 9 / 0 / 2 / 11:  11%|█         | 11/100 [08:29<1:08:41, 46.31s/it]\u001b[A"
          ]
        },
        {
          "output_type": "stream",
          "name": "stdout",
          "text": [
            "--------------------------------------------- Result 11 ---------------------------------------------\n",
            "[[Positive (98%)]] --> [[Negative (97%)]]\n",
            "\n",
            "this is a film well worth seeing , talking and singing heads and all .\n",
            "\n",
            "this is [[NOT]] a film well worth seeing , talking and singing heads and all .\n",
            "\n",
            "\n"
          ]
        },
        {
          "output_type": "stream",
          "name": "stderr",
          "text": [
            "\n",
            "[Succeeded / Failed / Skipped / Total] 9 / 0 / 2 / 11:  12%|█▏        | 12/100 [09:05<1:06:39, 45.44s/it]\u001b[A\n",
            "[Succeeded / Failed / Skipped / Total] 10 / 0 / 2 / 12:  12%|█▏        | 12/100 [09:05<1:06:39, 45.44s/it]\u001b[A"
          ]
        },
        {
          "output_type": "stream",
          "name": "stdout",
          "text": [
            "--------------------------------------------- Result 12 ---------------------------------------------\n",
            "[[Positive (98%)]] --> [[Negative (96%)]]\n",
            "\n",
            "what really surprises about wisegirls is its low-key quality and genuine tenderness .\n",
            "\n",
            "what really surprises about wisegirls is its low-key quality and [[lacks]] genuine tenderness .\n",
            "\n",
            "\n"
          ]
        },
        {
          "output_type": "stream",
          "name": "stderr",
          "text": [
            "\n",
            "[Succeeded / Failed / Skipped / Total] 10 / 0 / 2 / 12:  13%|█▎        | 13/100 [09:50<1:05:50, 45.41s/it]\u001b[A\n",
            "[Succeeded / Failed / Skipped / Total] 11 / 0 / 2 / 13:  13%|█▎        | 13/100 [09:50<1:05:50, 45.41s/it]\u001b[A"
          ]
        },
        {
          "output_type": "stream",
          "name": "stdout",
          "text": [
            "--------------------------------------------- Result 13 ---------------------------------------------\n",
            "[[Positive (95%)]] --> [[Negative (90%)]]\n",
            "\n",
            "( wendigo is ) why we go to the cinema : to be fed through the eye , the heart , the mind .\n",
            "\n",
            "( wendigo is ) why we go to the cinema : to be fed through [[only]] the eye , the heart , the mind .\n",
            "\n",
            "\n"
          ]
        },
        {
          "output_type": "stream",
          "name": "stderr",
          "text": [
            "\n",
            "[Succeeded / Failed / Skipped / Total] 11 / 0 / 2 / 13:  14%|█▍        | 14/100 [10:15<1:03:01, 43.97s/it]\u001b[A\n",
            "[Succeeded / Failed / Skipped / Total] 12 / 0 / 2 / 14:  14%|█▍        | 14/100 [10:15<1:03:01, 43.97s/it]\u001b[A"
          ]
        },
        {
          "output_type": "stream",
          "name": "stdout",
          "text": [
            "--------------------------------------------- Result 14 ---------------------------------------------\n",
            "[[Positive (98%)]] --> [[Negative (96%)]]\n",
            "\n",
            "one of the [[greatest]] family-oriented , fantasy-adventure movies ever .\n",
            "\n",
            "one of the [[worst]] family-oriented , fantasy-adventure movies ever .\n",
            "\n",
            "\n"
          ]
        },
        {
          "output_type": "stream",
          "name": "stderr",
          "text": [
            "\n",
            "[Succeeded / Failed / Skipped / Total] 12 / 0 / 2 / 14:  15%|█▌        | 15/100 [10:46<1:01:03, 43.09s/it]\u001b[A\n",
            "[Succeeded / Failed / Skipped / Total] 13 / 0 / 2 / 15:  15%|█▌        | 15/100 [10:46<1:01:03, 43.10s/it]\u001b[Atextattack: Saving checkpoint under \"checkpoints/1702668352035.ta.chkpt\" at 2023-12-15 19:25:52 after 15 attacks.\n"
          ]
        },
        {
          "output_type": "stream",
          "name": "stdout",
          "text": [
            "--------------------------------------------- Result 15 ---------------------------------------------\n",
            "[[Positive (88%)]] --> [[Negative (96%)]]\n",
            "\n",
            "ultimately , it [[ponders]] the reasons we need stories so much .\n",
            "\n",
            "ultimately , it [[lacks]] the reasons we need stories so much .\n",
            "\n",
            "\n",
            "\n",
            "\n",
            "=============================================================================================================================\n",
            "=============================================================================================================================\n",
            "\n"
          ]
        },
        {
          "output_type": "stream",
          "name": "stderr",
          "text": [
            "\n",
            "[Succeeded / Failed / Skipped / Total] 13 / 0 / 2 / 15:  16%|█▌        | 16/100 [11:47<1:01:51, 44.19s/it]\u001b[A\n",
            "[Succeeded / Failed / Skipped / Total] 14 / 0 / 2 / 16:  16%|█▌        | 16/100 [11:47<1:01:51, 44.19s/it]\u001b[A"
          ]
        },
        {
          "output_type": "stream",
          "name": "stdout",
          "text": [
            "--------------------------------------------- Result 16 ---------------------------------------------\n",
            "[[Positive (97%)]] --> [[Negative (96%)]]\n",
            "\n",
            "an utterly [[compelling]] 'who wrote it' in which the reputation of the most famous author who ever lived comes into question .\n",
            "\n",
            "an utterly [[bogus]] 'who wrote it' in which the reputation of the most famous author who ever lived comes into question .\n",
            "\n",
            "\n"
          ]
        },
        {
          "output_type": "stream",
          "name": "stderr",
          "text": [
            "\n",
            "[Succeeded / Failed / Skipped / Total] 14 / 0 / 2 / 16:  17%|█▋        | 17/100 [12:02<58:47, 42.50s/it]  \u001b[A\n",
            "[Succeeded / Failed / Skipped / Total] 15 / 0 / 2 / 17:  17%|█▋        | 17/100 [12:02<58:47, 42.50s/it]\u001b[A"
          ]
        },
        {
          "output_type": "stream",
          "name": "stdout",
          "text": [
            "--------------------------------------------- Result 17 ---------------------------------------------\n",
            "[[Positive (84%)]] --> [[Negative (95%)]]\n",
            "\n",
            "[[illuminating]] if overly talky documentary .\n",
            "\n",
            "[[short]] if overly talky documentary .\n",
            "\n",
            "\n"
          ]
        },
        {
          "output_type": "stream",
          "name": "stderr",
          "text": [
            "\n",
            "[Succeeded / Failed / Skipped / Total] 15 / 0 / 2 / 17:  18%|█▊        | 18/100 [12:20<56:13, 41.14s/it]\u001b[A\n",
            "[Succeeded / Failed / Skipped / Total] 16 / 0 / 2 / 18:  18%|█▊        | 18/100 [12:20<56:13, 41.15s/it]\u001b[A"
          ]
        },
        {
          "output_type": "stream",
          "name": "stdout",
          "text": [
            "--------------------------------------------- Result 18 ---------------------------------------------\n",
            "[[Positive (97%)]] --> [[Negative (94%)]]\n",
            "\n",
            "a masterpiece four years in the making .\n",
            "\n",
            "a masterpiece four years [[late]] in the making .\n",
            "\n",
            "\n"
          ]
        },
        {
          "output_type": "stream",
          "name": "stderr",
          "text": [
            "\n",
            "[Succeeded / Failed / Skipped / Total] 16 / 0 / 2 / 18:  19%|█▉        | 19/100 [13:04<55:44, 41.29s/it]\u001b[A\n",
            "[Succeeded / Failed / Skipped / Total] 17 / 0 / 2 / 19:  19%|█▉        | 19/100 [13:04<55:44, 41.29s/it]\u001b[A"
          ]
        },
        {
          "output_type": "stream",
          "name": "stdout",
          "text": [
            "--------------------------------------------- Result 19 ---------------------------------------------\n",
            "[[Positive (98%)]] --> [[Negative (75%)]]\n",
            "\n",
            "the movie's ripe , enrapturing beauty will tempt those willing to probe its inscrutable mysteries .\n",
            "\n",
            "the movie's ripe , enrapturing beauty will [[only]] tempt those willing to probe its inscrutable mysteries .\n",
            "\n",
            "\n"
          ]
        },
        {
          "output_type": "stream",
          "name": "stderr",
          "text": [
            "\n",
            "[Succeeded / Failed / Skipped / Total] 17 / 0 / 2 / 19:  20%|██        | 20/100 [13:32<54:10, 40.63s/it]\u001b[A\n",
            "[Succeeded / Failed / Skipped / Total] 18 / 0 / 2 / 20:  20%|██        | 20/100 [13:32<54:10, 40.63s/it]\u001b[Atextattack: Saving checkpoint under \"checkpoints/1702668518283.ta.chkpt\" at 2023-12-15 19:28:38 after 20 attacks.\n"
          ]
        },
        {
          "output_type": "stream",
          "name": "stdout",
          "text": [
            "--------------------------------------------- Result 20 ---------------------------------------------\n",
            "[[Positive (98%)]] --> [[Negative (96%)]]\n",
            "\n",
            "offers a breath of the fresh air of true sophistication .\n",
            "\n",
            "offers a breath [[less]] of the fresh air of true sophistication .\n",
            "\n",
            "\n",
            "\n",
            "\n",
            "=============================================================================================================================\n",
            "=============================================================================================================================\n",
            "\n"
          ]
        },
        {
          "output_type": "stream",
          "name": "stderr",
          "text": [
            "\n",
            "[Succeeded / Failed / Skipped / Total] 18 / 0 / 2 / 20:  21%|██        | 21/100 [13:52<52:12, 39.65s/it]\u001b[A\n",
            "[Succeeded / Failed / Skipped / Total] 19 / 0 / 2 / 21:  21%|██        | 21/100 [13:52<52:12, 39.65s/it]\u001b[A"
          ]
        },
        {
          "output_type": "stream",
          "name": "stdout",
          "text": [
            "--------------------------------------------- Result 21 ---------------------------------------------\n",
            "[[Positive (98%)]] --> [[Negative (68%)]]\n",
            "\n",
            "a thoughtful , provocative , insistently humanizing film .\n",
            "\n",
            "a thoughtful , provocative , [[otherwise]] insistently humanizing film .\n",
            "\n",
            "\n"
          ]
        },
        {
          "output_type": "stream",
          "name": "stderr",
          "text": [
            "\n",
            "[Succeeded / Failed / Skipped / Total] 19 / 0 / 2 / 21:  22%|██▏       | 22/100 [15:29<54:54, 42.23s/it]\u001b[A\n",
            "[Succeeded / Failed / Skipped / Total] 20 / 0 / 2 / 22:  22%|██▏       | 22/100 [15:29<54:54, 42.23s/it]\u001b[A"
          ]
        },
        {
          "output_type": "stream",
          "name": "stdout",
          "text": [
            "--------------------------------------------- Result 22 ---------------------------------------------\n",
            "[[Positive (97%)]] --> [[Negative (91%)]]\n",
            "\n",
            "with a cast that includes some of the top actors working in independent film , lovely & amazing involves us because it is so incisive , so bleakly amusing about how we go about our lives .\n",
            "\n",
            "with a cast that includes some of the top actors working in independent film , lovely & amazing involves us because it is so incisive , [[not]] so bleakly amusing about how we go about our lives .\n",
            "\n",
            "\n"
          ]
        },
        {
          "output_type": "stream",
          "name": "stderr",
          "text": [
            "\n",
            "[Succeeded / Failed / Skipped / Total] 20 / 0 / 2 / 22:  23%|██▎       | 23/100 [17:01<56:59, 44.40s/it]\u001b[A\n",
            "[Succeeded / Failed / Skipped / Total] 21 / 0 / 2 / 23:  23%|██▎       | 23/100 [17:01<56:59, 44.40s/it]\u001b[A"
          ]
        },
        {
          "output_type": "stream",
          "name": "stdout",
          "text": [
            "--------------------------------------------- Result 23 ---------------------------------------------\n",
            "[[Positive (99%)]] --> [[Negative (93%)]]\n",
            "\n",
            "a disturbing and frighteningly [[evocative]] assembly of imagery and hypnotic music composed by philip glass .\n",
            "\n",
            "a disturbing and frighteningly [[grotesque]] assembly [[devoid]] of imagery and hypnotic music composed by philip glass .\n",
            "\n",
            "\n"
          ]
        },
        {
          "output_type": "stream",
          "name": "stderr",
          "text": [
            "\n",
            "[Succeeded / Failed / Skipped / Total] 21 / 0 / 2 / 23:  24%|██▍       | 24/100 [17:49<56:26, 44.56s/it]\u001b[A\n",
            "[Succeeded / Failed / Skipped / Total] 22 / 0 / 2 / 24:  24%|██▍       | 24/100 [17:49<56:26, 44.56s/it]\u001b[A"
          ]
        },
        {
          "output_type": "stream",
          "name": "stdout",
          "text": [
            "--------------------------------------------- Result 24 ---------------------------------------------\n",
            "[[Positive (97%)]] --> [[Negative (96%)]]\n",
            "\n",
            "not for everyone , but for those with whom it will connect , it's a nice departure from standard moviegoing fare .\n",
            "\n",
            "not for everyone , but for those with whom it will connect , it's [[hardly]] a nice departure from standard moviegoing fare .\n",
            "\n",
            "\n"
          ]
        },
        {
          "output_type": "stream",
          "name": "stderr",
          "text": [
            "\n",
            "[Succeeded / Failed / Skipped / Total] 22 / 0 / 2 / 24:  25%|██▌       | 25/100 [18:28<55:24, 44.33s/it]\u001b[A\n",
            "[Succeeded / Failed / Skipped / Total] 23 / 0 / 2 / 25:  25%|██▌       | 25/100 [18:28<55:24, 44.33s/it]\u001b[Atextattack: Saving checkpoint under \"checkpoints/1702668813892.ta.chkpt\" at 2023-12-15 19:33:33 after 25 attacks.\n"
          ]
        },
        {
          "output_type": "stream",
          "name": "stdout",
          "text": [
            "--------------------------------------------- Result 25 ---------------------------------------------\n",
            "[[Positive (98%)]] --> [[Negative (95%)]]\n",
            "\n",
            "scores a few points for doing what it does with a dedicated and good-hearted professionalism .\n",
            "\n",
            "scores a few points for [[only]] doing what it does with a dedicated and good-hearted professionalism .\n",
            "\n",
            "\n",
            "\n",
            "\n",
            "=============================================================================================================================\n",
            "=============================================================================================================================\n",
            "\n"
          ]
        },
        {
          "output_type": "stream",
          "name": "stderr",
          "text": [
            "\n",
            "[Succeeded / Failed / Skipped / Total] 23 / 0 / 2 / 25:  26%|██▌       | 26/100 [18:47<53:29, 43.37s/it]\u001b[A\n",
            "[Succeeded / Failed / Skipped / Total] 24 / 0 / 2 / 26:  26%|██▌       | 26/100 [18:47<53:29, 43.37s/it]\u001b[A"
          ]
        },
        {
          "output_type": "stream",
          "name": "stdout",
          "text": [
            "--------------------------------------------- Result 26 ---------------------------------------------\n",
            "[[Positive (96%)]] --> [[Negative (97%)]]\n",
            "\n",
            "occasionally melodramatic , it's also extremely effective .\n",
            "\n",
            "occasionally melodramatic , it's also extremely [[little]] effective .\n",
            "\n",
            "\n"
          ]
        },
        {
          "output_type": "stream",
          "name": "stderr",
          "text": [
            "\n",
            "[Succeeded / Failed / Skipped / Total] 24 / 0 / 2 / 26:  27%|██▋       | 27/100 [18:53<51:03, 41.97s/it]\u001b[A\n",
            "[Succeeded / Failed / Skipped / Total] 25 / 0 / 2 / 27:  27%|██▋       | 27/100 [18:53<51:03, 41.97s/it]\u001b[A"
          ]
        },
        {
          "output_type": "stream",
          "name": "stdout",
          "text": [
            "--------------------------------------------- Result 27 ---------------------------------------------\n",
            "[[Positive (68%)]] --> [[Negative (92%)]]\n",
            "\n",
            "spiderman rocks\n",
            "\n",
            "spiderman [[removes]] rocks\n",
            "\n",
            "\n"
          ]
        },
        {
          "output_type": "stream",
          "name": "stderr",
          "text": [
            "\n",
            "[Succeeded / Failed / Skipped / Total] 25 / 0 / 2 / 27:  28%|██▊       | 28/100 [19:32<50:15, 41.89s/it]\u001b[A\n",
            "[Succeeded / Failed / Skipped / Total] 26 / 0 / 2 / 28:  28%|██▊       | 28/100 [19:32<50:15, 41.89s/it]\u001b[A\n",
            "[Succeeded / Failed / Skipped / Total] 26 / 0 / 3 / 29:  29%|██▉       | 29/100 [19:32<47:51, 40.44s/it]\u001b[A"
          ]
        },
        {
          "output_type": "stream",
          "name": "stdout",
          "text": [
            "--------------------------------------------- Result 28 ---------------------------------------------\n",
            "[[Positive (98%)]] --> [[Negative (96%)]]\n",
            "\n",
            "an idealistic love story that brings out the latent 15-year-old romantic in everyone .\n",
            "\n",
            "an idealistic love story that [[only]] brings out the latent 15-year-old romantic in everyone .\n",
            "\n",
            "\n",
            "--------------------------------------------- Result 29 ---------------------------------------------\n",
            "[[Negative (86%)]] --> [[[SKIPPED]]]\n",
            "\n",
            "at about 95 minutes , treasure planet maintains a brisk pace as it races through the familiar story . however , it lacks grandeur and that epic quality often associated with stevenson's tale as well as with earlier disney efforts .\n",
            "\n",
            "\n"
          ]
        },
        {
          "output_type": "stream",
          "name": "stderr",
          "text": [
            "\n",
            "[Succeeded / Failed / Skipped / Total] 26 / 0 / 3 / 29:  30%|███       | 30/100 [20:35<48:03, 41.19s/it]\u001b[A\n",
            "[Succeeded / Failed / Skipped / Total] 27 / 0 / 3 / 30:  30%|███       | 30/100 [20:35<48:03, 41.19s/it]\u001b[Atextattack: Saving checkpoint under \"checkpoints/1702668941281.ta.chkpt\" at 2023-12-15 19:35:41 after 30 attacks.\n"
          ]
        },
        {
          "output_type": "stream",
          "name": "stdout",
          "text": [
            "--------------------------------------------- Result 30 ---------------------------------------------\n",
            "[[Positive (82%)]] --> [[Negative (97%)]]\n",
            "\n",
            "it helps that lil bow wow . . . tones down his pint-sized gangsta act to play someone who resembles a real kid .\n",
            "\n",
            "it [[barely]] helps that lil bow wow . . . tones down his pint-sized gangsta act to play someone who resembles a real kid .\n",
            "\n",
            "\n",
            "\n",
            "\n",
            "=============================================================================================================================\n",
            "=============================================================================================================================\n",
            "\n"
          ]
        },
        {
          "output_type": "stream",
          "name": "stderr",
          "text": [
            "\n",
            "[Succeeded / Failed / Skipped / Total] 27 / 0 / 3 / 30:  31%|███       | 31/100 [21:10<47:07, 40.98s/it]\u001b[A\n",
            "[Succeeded / Failed / Skipped / Total] 28 / 0 / 3 / 31:  31%|███       | 31/100 [21:10<47:07, 40.98s/it]\u001b[A"
          ]
        },
        {
          "output_type": "stream",
          "name": "stdout",
          "text": [
            "--------------------------------------------- Result 31 ---------------------------------------------\n",
            "[[Positive (85%)]] --> [[Negative (97%)]]\n",
            "\n",
            "[[guaranteed]] to move anyone who ever shook , rattled , or rolled .\n",
            "\n",
            "[[failed]] to move anyone who ever shook , rattled , or rolled .\n",
            "\n",
            "\n"
          ]
        },
        {
          "output_type": "stream",
          "name": "stderr",
          "text": [
            "\n",
            "[Succeeded / Failed / Skipped / Total] 28 / 0 / 3 / 31:  32%|███▏      | 32/100 [23:31<49:59, 44.10s/it]\u001b[A\n",
            "[Succeeded / Failed / Skipped / Total] 29 / 0 / 3 / 32:  32%|███▏      | 32/100 [23:31<49:59, 44.10s/it]\u001b[A"
          ]
        },
        {
          "output_type": "stream",
          "name": "stdout",
          "text": [
            "--------------------------------------------- Result 32 ---------------------------------------------\n",
            "[[Positive (99%)]] --> [[Negative (93%)]]\n",
            "\n",
            "a [[masterful]] film from a master filmmaker , unique in its deceptive grimness , [[compelling]] in its fatalist worldview .\n",
            "\n",
            "a [[timeless]] film from a master filmmaker , unique in its [[deliberately]] deceptive grimness , [[ubiquitous]] in its fatalist worldview .\n",
            "\n",
            "\n"
          ]
        },
        {
          "output_type": "stream",
          "name": "stderr",
          "text": [
            "\n",
            "[Succeeded / Failed / Skipped / Total] 29 / 0 / 3 / 32:  33%|███▎      | 33/100 [23:42<48:09, 43.12s/it]\u001b[A\n",
            "[Succeeded / Failed / Skipped / Total] 30 / 0 / 3 / 33:  33%|███▎      | 33/100 [23:42<48:09, 43.12s/it]\u001b[A"
          ]
        },
        {
          "output_type": "stream",
          "name": "stdout",
          "text": [
            "--------------------------------------------- Result 33 ---------------------------------------------\n",
            "[[Positive (91%)]] --> [[Negative (96%)]]\n",
            "\n",
            "light , [[cute]] and forgettable .\n",
            "\n",
            "light , [[unfocused]] and forgettable .\n",
            "\n",
            "\n"
          ]
        },
        {
          "output_type": "stream",
          "name": "stderr",
          "text": [
            "\n",
            "[Succeeded / Failed / Skipped / Total] 30 / 0 / 3 / 33:  34%|███▍      | 34/100 [24:48<48:09, 43.78s/it]\u001b[A\n",
            "[Succeeded / Failed / Skipped / Total] 31 / 0 / 3 / 34:  34%|███▍      | 34/100 [24:48<48:09, 43.78s/it]\u001b[A"
          ]
        },
        {
          "output_type": "stream",
          "name": "stdout",
          "text": [
            "--------------------------------------------- Result 34 ---------------------------------------------\n",
            "[[Positive (69%)]] --> [[Negative (95%)]]\n",
            "\n",
            "if there's a way to effectively teach kids about the dangers of drugs , i think it's in projects like the ( unfortunately r-rated ) paid .\n",
            "\n",
            "if there's a way to effectively teach kids about the dangers of drugs , i think it's [[lacking]] in projects like the ( unfortunately r-rated ) paid .\n",
            "\n",
            "\n"
          ]
        },
        {
          "output_type": "stream",
          "name": "stderr",
          "text": [
            "\n",
            "[Succeeded / Failed / Skipped / Total] 31 / 0 / 3 / 34:  35%|███▌      | 35/100 [26:15<48:46, 45.02s/it]\u001b[A\n",
            "[Succeeded / Failed / Skipped / Total] 32 / 0 / 3 / 35:  35%|███▌      | 35/100 [26:15<48:46, 45.02s/it]\u001b[Atextattack: Saving checkpoint under \"checkpoints/1702669281426.ta.chkpt\" at 2023-12-15 19:41:21 after 35 attacks.\n"
          ]
        },
        {
          "output_type": "stream",
          "name": "stdout",
          "text": [
            "--------------------------------------------- Result 35 ---------------------------------------------\n",
            "[[Positive (87%)]] --> [[Negative (96%)]]\n",
            "\n",
            "while it would be easy to give crush the new title of two weddings and a funeral , it's a far more thoughtful film than any slice of hugh grant whimsy .\n",
            "\n",
            "while it would be easy to give crush the new title of two weddings and a funeral , it's a far [[less]] more thoughtful film than any slice of hugh grant whimsy .\n",
            "\n",
            "\n",
            "\n",
            "\n",
            "=============================================================================================================================\n",
            "=============================================================================================================================\n",
            "\n"
          ]
        },
        {
          "output_type": "stream",
          "name": "stderr",
          "text": [
            "\n",
            "[Succeeded / Failed / Skipped / Total] 32 / 0 / 4 / 36:  36%|███▌      | 36/100 [26:15<46:41, 43.77s/it]\u001b[A"
          ]
        },
        {
          "output_type": "stream",
          "name": "stdout",
          "text": [
            "--------------------------------------------- Result 36 ---------------------------------------------\n",
            "[[Negative (96%)]] --> [[[SKIPPED]]]\n",
            "\n",
            "though everything might be literate and smart , it never took off and always seemed static .\n",
            "\n",
            "\n"
          ]
        },
        {
          "output_type": "stream",
          "name": "stderr",
          "text": [
            "\n",
            "[Succeeded / Failed / Skipped / Total] 32 / 0 / 4 / 36:  37%|███▋      | 37/100 [27:09<46:14, 44.04s/it]\u001b[A\n",
            "[Succeeded / Failed / Skipped / Total] 33 / 0 / 4 / 37:  37%|███▋      | 37/100 [27:09<46:14, 44.04s/it]\u001b[A"
          ]
        },
        {
          "output_type": "stream",
          "name": "stdout",
          "text": [
            "--------------------------------------------- Result 37 ---------------------------------------------\n",
            "[[Positive (94%)]] --> [[Negative (91%)]]\n",
            "\n",
            "cantet perfectly [[captures]] the hotel lobbies , two-lane highways , and roadside cafes that permeate vincent's days\n",
            "\n",
            "cantet perfectly [[with]] the hotel lobbies , two-lane highways , and roadside cafes that permeate vincent's days\n",
            "\n",
            "\n"
          ]
        },
        {
          "output_type": "stream",
          "name": "stderr",
          "text": [
            "\n",
            "[Succeeded / Failed / Skipped / Total] 33 / 0 / 4 / 37:  38%|███▊      | 38/100 [27:45<45:16, 43.82s/it]\u001b[A\n",
            "[Succeeded / Failed / Skipped / Total] 34 / 0 / 4 / 38:  38%|███▊      | 38/100 [27:45<45:16, 43.82s/it]\u001b[A"
          ]
        },
        {
          "output_type": "stream",
          "name": "stdout",
          "text": [
            "--------------------------------------------- Result 38 ---------------------------------------------\n",
            "[[Positive (77%)]] --> [[Negative (97%)]]\n",
            "\n",
            "ms . fulford-wierzbicki is almost [[spooky]] in her sulky , calculating lolita turn .\n",
            "\n",
            "ms . fulford-wierzbicki is almost [[useless]] in her sulky , calculating lolita turn .\n",
            "\n",
            "\n"
          ]
        },
        {
          "output_type": "stream",
          "name": "stderr",
          "text": [
            "\n",
            "[Succeeded / Failed / Skipped / Total] 34 / 0 / 4 / 38:  39%|███▉      | 39/100 [31:15<48:53, 48.09s/it]\u001b[A\n",
            "[Succeeded / Failed / Skipped / Total] 35 / 0 / 4 / 39:  39%|███▉      | 39/100 [31:15<48:53, 48.09s/it]\u001b[A\n",
            "[Succeeded / Failed / Skipped / Total] 35 / 0 / 5 / 40:  40%|████      | 40/100 [31:15<46:53, 46.89s/it]\u001b[Atextattack: Saving checkpoint under \"checkpoints/1702669581160.ta.chkpt\" at 2023-12-15 19:46:21 after 40 attacks.\n"
          ]
        },
        {
          "output_type": "stream",
          "name": "stdout",
          "text": [
            "--------------------------------------------- Result 39 ---------------------------------------------\n",
            "[[Positive (99%)]] --> [[Negative (82%)]]\n",
            "\n",
            "though it is by no means his best work , laissez-passer is a distinguished and distinctive effort by a bona-fide master , a fascinating film replete with rewards to be had by [[all]] [[willing]] to make the effort to reap them .\n",
            "\n",
            "though it is by no means his best work , laissez-passer is [[hardly]] a distinguished and distinctive effort by a bona-fide master , a fascinating film replete with rewards to be had by [[failing]] to make the effort to reap them .\n",
            "\n",
            "\n",
            "--------------------------------------------- Result 40 ---------------------------------------------\n",
            "[[Negative (94%)]] --> [[[SKIPPED]]]\n",
            "\n",
            "like most bond outings in recent years , some of the stunts are so outlandish that they border on being cartoonlike . a heavy reliance on cgi technology is beginning to creep into the series .\n",
            "\n",
            "\n",
            "\n",
            "\n",
            "=============================================================================================================================\n",
            "=============================================================================================================================\n",
            "\n"
          ]
        },
        {
          "output_type": "stream",
          "name": "stderr",
          "text": [
            "\n",
            "[Succeeded / Failed / Skipped / Total] 35 / 0 / 5 / 40:  41%|████      | 41/100 [32:10<46:17, 47.08s/it]\u001b[A\n",
            "[Succeeded / Failed / Skipped / Total] 36 / 0 / 5 / 41:  41%|████      | 41/100 [32:10<46:17, 47.08s/it]\u001b[A"
          ]
        },
        {
          "output_type": "stream",
          "name": "stdout",
          "text": [
            "--------------------------------------------- Result 41 ---------------------------------------------\n",
            "[[Positive (95%)]] --> [[Negative (91%)]]\n",
            "\n",
            "newton draws our attention like a magnet , and acts circles around her better known co-star , mark wahlberg .\n",
            "\n",
            "newton draws [[only]] our attention like a magnet , and acts circles around her better known co-star , mark wahlberg .\n",
            "\n",
            "\n"
          ]
        },
        {
          "output_type": "stream",
          "name": "stderr",
          "text": [
            "\n",
            "[Succeeded / Failed / Skipped / Total] 36 / 0 / 5 / 41:  42%|████▏     | 42/100 [33:39<46:29, 48.09s/it]\u001b[A\n",
            "[Succeeded / Failed / Skipped / Total] 37 / 0 / 5 / 42:  42%|████▏     | 42/100 [33:39<46:29, 48.09s/it]\u001b[A"
          ]
        },
        {
          "output_type": "stream",
          "name": "stdout",
          "text": [
            "--------------------------------------------- Result 42 ---------------------------------------------\n",
            "[[Positive (89%)]] --> [[Negative (94%)]]\n",
            "\n",
            "the story loses its bite in a last-minute happy ending that's even less plausible than the rest of the picture . much of the way , though , this is a refreshingly novel ride .\n",
            "\n",
            "the story loses its bite in a last-minute happy ending that's even less plausible than the rest of the picture . much of the way , though , this is [[merely]] a refreshingly novel ride .\n",
            "\n",
            "\n"
          ]
        },
        {
          "output_type": "stream",
          "name": "stderr",
          "text": [
            "\n",
            "[Succeeded / Failed / Skipped / Total] 37 / 0 / 5 / 42:  43%|████▎     | 43/100 [34:28<45:41, 48.09s/it]\u001b[A\n",
            "[Succeeded / Failed / Skipped / Total] 38 / 0 / 5 / 43:  43%|████▎     | 43/100 [34:28<45:41, 48.09s/it]\u001b[A"
          ]
        },
        {
          "output_type": "stream",
          "name": "stdout",
          "text": [
            "--------------------------------------------- Result 43 ---------------------------------------------\n",
            "[[Positive (97%)]] --> [[Negative (93%)]]\n",
            "\n",
            "fuller would surely have called this gutsy and at times exhilarating movie a [[great]] yarn .\n",
            "\n",
            "fuller would surely have called this gutsy and at times exhilarating movie a [[lousy]] yarn .\n",
            "\n",
            "\n"
          ]
        },
        {
          "output_type": "stream",
          "name": "stderr",
          "text": [
            "\n",
            "[Succeeded / Failed / Skipped / Total] 38 / 0 / 5 / 43:  44%|████▍     | 44/100 [38:57<49:34, 53.11s/it]\u001b[A\n",
            "[Succeeded / Failed / Skipped / Total] 39 / 0 / 5 / 44:  44%|████▍     | 44/100 [38:57<49:34, 53.11s/it]\u001b[A"
          ]
        },
        {
          "output_type": "stream",
          "name": "stdout",
          "text": [
            "--------------------------------------------- Result 44 ---------------------------------------------\n",
            "[[Positive (83%)]] --> [[Negative (52%)]]\n",
            "\n",
            "'compleja e intelectualmente retadora , el ladrón de orquídeas es uno de esos [[filmes]] [[que]] vale la pena ver precisamente por su [[originalidad]] . '\n",
            "\n",
            "'compleja e intelectualmente retadora , el ladrón de orquídeas es uno de esos [[juveniles]] [[who]] vale la pena [[no]] ver precisamente por su [[age]] . '\n",
            "\n",
            "\n"
          ]
        },
        {
          "output_type": "stream",
          "name": "stderr",
          "text": [
            "\n",
            "[Succeeded / Failed / Skipped / Total] 39 / 0 / 5 / 44:  45%|████▌     | 45/100 [39:44<48:34, 52.99s/it]\u001b[A\n",
            "[Succeeded / Failed / Skipped / Total] 40 / 0 / 5 / 45:  45%|████▌     | 45/100 [39:44<48:34, 52.99s/it]\u001b[Atextattack: Saving checkpoint under \"checkpoints/1702670090233.ta.chkpt\" at 2023-12-15 19:54:50 after 45 attacks.\n"
          ]
        },
        {
          "output_type": "stream",
          "name": "stdout",
          "text": [
            "--------------------------------------------- Result 45 ---------------------------------------------\n",
            "[[Positive (99%)]] --> [[Negative (86%)]]\n",
            "\n",
            "the film makes a strong case for the importance of the musicians in creating the motown sound .\n",
            "\n",
            "the film makes a strong case for [[diminishing]] the importance of the musicians in creating the motown sound .\n",
            "\n",
            "\n",
            "\n",
            "\n",
            "=============================================================================================================================\n",
            "=============================================================================================================================\n",
            "\n"
          ]
        },
        {
          "output_type": "stream",
          "name": "stderr",
          "text": [
            "\n",
            "[Succeeded / Failed / Skipped / Total] 40 / 0 / 6 / 46:  46%|████▌     | 46/100 [39:44<46:39, 51.84s/it]\u001b[A"
          ]
        },
        {
          "output_type": "stream",
          "name": "stdout",
          "text": [
            "--------------------------------------------- Result 46 ---------------------------------------------\n",
            "[[Negative (52%)]] --> [[[SKIPPED]]]\n",
            "\n",
            "karmen moves like rhythm itself , her lips chanting to the beat , her long , braided hair doing little to wipe away the jeweled beads of sweat .\n",
            "\n",
            "\n"
          ]
        },
        {
          "output_type": "stream",
          "name": "stderr",
          "text": [
            "\n",
            "[Succeeded / Failed / Skipped / Total] 40 / 0 / 6 / 46:  47%|████▋     | 47/100 [40:20<45:29, 51.51s/it]\u001b[A\n",
            "[Succeeded / Failed / Skipped / Total] 41 / 0 / 6 / 47:  47%|████▋     | 47/100 [40:20<45:29, 51.51s/it]\u001b[A"
          ]
        },
        {
          "output_type": "stream",
          "name": "stdout",
          "text": [
            "--------------------------------------------- Result 47 ---------------------------------------------\n",
            "[[Positive (97%)]] --> [[Negative (52%)]]\n",
            "\n",
            "gosling provides an [[amazing]] performance that dwarfs everything else in the film .\n",
            "\n",
            "gosling provides an [[absurd]] performance that dwarfs everything else in the film .\n",
            "\n",
            "\n"
          ]
        },
        {
          "output_type": "stream",
          "name": "stderr",
          "text": [
            "\n",
            "[Succeeded / Failed / Skipped / Total] 41 / 0 / 6 / 47:  48%|████▊     | 48/100 [41:13<44:39, 51.52s/it]\u001b[A\n",
            "[Succeeded / Failed / Skipped / Total] 42 / 0 / 6 / 48:  48%|████▊     | 48/100 [41:13<44:39, 51.52s/it]\u001b[A"
          ]
        },
        {
          "output_type": "stream",
          "name": "stdout",
          "text": [
            "--------------------------------------------- Result 48 ---------------------------------------------\n",
            "[[Positive (99%)]] --> [[Negative (93%)]]\n",
            "\n",
            "a real movie , about real people , that gives us a rare glimpse into a culture most of us don't know .\n",
            "\n",
            "a real movie , about real people , that [[only]] gives us a rare glimpse into a culture most of us don't know .\n",
            "\n",
            "\n"
          ]
        },
        {
          "output_type": "stream",
          "name": "stderr",
          "text": [
            "\n",
            "[Succeeded / Failed / Skipped / Total] 42 / 0 / 6 / 48:  49%|████▉     | 49/100 [41:34<43:16, 50.92s/it]\u001b[A\n",
            "[Succeeded / Failed / Skipped / Total] 43 / 0 / 6 / 49:  49%|████▉     | 49/100 [41:34<43:16, 50.92s/it]\u001b[A"
          ]
        },
        {
          "output_type": "stream",
          "name": "stdout",
          "text": [
            "--------------------------------------------- Result 49 ---------------------------------------------\n",
            "[[Positive (98%)]] --> [[Negative (83%)]]\n",
            "\n",
            "tender yet lacerating and [[darkly]] funny fable .\n",
            "\n",
            "tender yet lacerating and [[overly]] funny fable .\n",
            "\n",
            "\n"
          ]
        },
        {
          "output_type": "stream",
          "name": "stderr",
          "text": [
            "\n",
            "[Succeeded / Failed / Skipped / Total] 43 / 0 / 6 / 49:  50%|█████     | 50/100 [43:02<43:02, 51.64s/it]\u001b[A\n",
            "[Succeeded / Failed / Skipped / Total] 44 / 0 / 6 / 50:  50%|█████     | 50/100 [43:02<43:02, 51.64s/it]\u001b[Atextattack: Saving checkpoint under \"checkpoints/1702670287648.ta.chkpt\" at 2023-12-15 19:58:07 after 50 attacks.\n"
          ]
        },
        {
          "output_type": "stream",
          "name": "stdout",
          "text": [
            "--------------------------------------------- Result 50 ---------------------------------------------\n",
            "[[Positive (86%)]] --> [[Negative (94%)]]\n",
            "\n",
            "may be spoofing an easy target -- those old '50's giant creature features -- but . . . it acknowledges and celebrates their cheesiness as the reason why people get a kick out of watching them today .\n",
            "\n",
            "may be spoofing an easy target -- those old '50's giant creature features -- but . . . it acknowledges and celebrates their cheesiness [[only]] as the reason why people get a kick out of watching them today .\n",
            "\n",
            "\n",
            "\n",
            "\n",
            "=============================================================================================================================\n",
            "=============================================================================================================================\n",
            "\n"
          ]
        },
        {
          "output_type": "stream",
          "name": "stderr",
          "text": [
            "\n",
            "[Succeeded / Failed / Skipped / Total] 44 / 0 / 6 / 50:  51%|█████     | 51/100 [43:22<41:40, 51.03s/it]\u001b[A\n",
            "[Succeeded / Failed / Skipped / Total] 45 / 0 / 6 / 51:  51%|█████     | 51/100 [43:22<41:40, 51.03s/it]\u001b[A"
          ]
        },
        {
          "output_type": "stream",
          "name": "stdout",
          "text": [
            "--------------------------------------------- Result 51 ---------------------------------------------\n",
            "[[Positive (99%)]] --> [[Negative (95%)]]\n",
            "\n",
            "an [[engaging]] overview of johnson's eccentric career .\n",
            "\n",
            "an [[incomplete]] overview of johnson's eccentric career .\n",
            "\n",
            "\n"
          ]
        },
        {
          "output_type": "stream",
          "name": "stderr",
          "text": [
            "\n",
            "[Succeeded / Failed / Skipped / Total] 45 / 0 / 6 / 51:  52%|█████▏    | 52/100 [43:52<40:30, 50.63s/it]\u001b[A\n",
            "[Succeeded / Failed / Skipped / Total] 46 / 0 / 6 / 52:  52%|█████▏    | 52/100 [43:52<40:30, 50.63s/it]\u001b[A"
          ]
        },
        {
          "output_type": "stream",
          "name": "stdout",
          "text": [
            "--------------------------------------------- Result 52 ---------------------------------------------\n",
            "[[Positive (84%)]] --> [[Negative (97%)]]\n",
            "\n",
            "in its ragged , cheap and unassuming way , the movie works .\n",
            "\n",
            "in its ragged , cheap and unassuming way , the movie [[hardly]] works .\n",
            "\n",
            "\n"
          ]
        },
        {
          "output_type": "stream",
          "name": "stderr",
          "text": [
            "\n",
            "[Succeeded / Failed / Skipped / Total] 46 / 0 / 6 / 52:  53%|█████▎    | 53/100 [45:15<40:07, 51.23s/it]\u001b[A\n",
            "[Succeeded / Failed / Skipped / Total] 47 / 0 / 6 / 53:  53%|█████▎    | 53/100 [45:15<40:07, 51.23s/it]\u001b[A"
          ]
        },
        {
          "output_type": "stream",
          "name": "stdout",
          "text": [
            "--------------------------------------------- Result 53 ---------------------------------------------\n",
            "[[Positive (86%)]] --> [[Negative (96%)]]\n",
            "\n",
            "some actors have so much charisma that you'd be happy to listen to them reading the phone book . hugh grant and sandra bullock are [[two]] such likeable actors .\n",
            "\n",
            "some actors have so much charisma that you'd be happy to listen to them reading the phone book . hugh grant and sandra bullock are [[hardly]] such likeable actors .\n",
            "\n",
            "\n"
          ]
        },
        {
          "output_type": "stream",
          "name": "stderr",
          "text": [
            "\n",
            "[Succeeded / Failed / Skipped / Total] 47 / 0 / 6 / 53:  54%|█████▍    | 54/100 [47:12<40:12, 52.45s/it]\u001b[A\n",
            "[Succeeded / Failed / Skipped / Total] 48 / 0 / 6 / 54:  54%|█████▍    | 54/100 [47:12<40:12, 52.45s/it]\u001b[A"
          ]
        },
        {
          "output_type": "stream",
          "name": "stdout",
          "text": [
            "--------------------------------------------- Result 54 ---------------------------------------------\n",
            "[[Positive (99%)]] --> [[Negative (96%)]]\n",
            "\n",
            "sandra nettelbeck [[beautifully]] [[orchestrates]] the transformation of the chilly , neurotic , and self-absorbed martha as her heart begins to open .\n",
            "\n",
            "sandra nettelbeck [[inadvertently]] [[prevents]] the transformation of the chilly , neurotic , and self-absorbed martha as her heart begins to open .\n",
            "\n",
            "\n"
          ]
        },
        {
          "output_type": "stream",
          "name": "stderr",
          "text": [
            "\n",
            "[Succeeded / Failed / Skipped / Total] 48 / 0 / 6 / 54:  55%|█████▌    | 55/100 [48:16<39:29, 52.66s/it]\u001b[A\n",
            "[Succeeded / Failed / Skipped / Total] 49 / 0 / 6 / 55:  55%|█████▌    | 55/100 [48:16<39:29, 52.66s/it]\u001b[Atextattack: Saving checkpoint under \"checkpoints/1702670602103.ta.chkpt\" at 2023-12-15 20:03:22 after 55 attacks.\n"
          ]
        },
        {
          "output_type": "stream",
          "name": "stdout",
          "text": [
            "--------------------------------------------- Result 55 ---------------------------------------------\n",
            "[[Positive (97%)]] --> [[Negative (96%)]]\n",
            "\n",
            "behind the snow games and lovable siberian huskies ( plus one sheep dog ) , the picture hosts a parka-wrapped dose of heart .\n",
            "\n",
            "behind the snow games and lovable siberian huskies ( plus one sheep dog ) , the picture hosts a parka-wrapped dose [[devoid]] of heart .\n",
            "\n",
            "\n",
            "\n",
            "\n",
            "=============================================================================================================================\n",
            "=============================================================================================================================\n",
            "\n"
          ]
        },
        {
          "output_type": "stream",
          "name": "stderr",
          "text": [
            "\n",
            "[Succeeded / Failed / Skipped / Total] 49 / 0 / 6 / 55:  56%|█████▌    | 56/100 [49:09<38:37, 52.67s/it]\u001b[A\n",
            "[Succeeded / Failed / Skipped / Total] 50 / 0 / 6 / 56:  56%|█████▌    | 56/100 [49:09<38:37, 52.67s/it]\u001b[A"
          ]
        },
        {
          "output_type": "stream",
          "name": "stdout",
          "text": [
            "--------------------------------------------- Result 56 ---------------------------------------------\n",
            "[[Positive (95%)]] --> [[Negative (97%)]]\n",
            "\n",
            "everytime you think undercover brother has run out of steam , it finds a new way to surprise and amuse .\n",
            "\n",
            "everytime you think undercover brother has run out of steam , it [[never]] finds a new way to surprise and amuse .\n",
            "\n",
            "\n"
          ]
        },
        {
          "output_type": "stream",
          "name": "stderr",
          "text": [
            "\n",
            "[Succeeded / Failed / Skipped / Total] 50 / 0 / 6 / 56:  57%|█████▋    | 57/100 [49:43<37:30, 52.35s/it]\u001b[A\n",
            "[Succeeded / Failed / Skipped / Total] 51 / 0 / 6 / 57:  57%|█████▋    | 57/100 [49:43<37:30, 52.35s/it]\u001b[A"
          ]
        },
        {
          "output_type": "stream",
          "name": "stdout",
          "text": [
            "--------------------------------------------- Result 57 ---------------------------------------------\n",
            "[[Positive (64%)]] --> [[Negative (97%)]]\n",
            "\n",
            "manages to be original , even though it rips off many of its ideas .\n",
            "\n",
            "manages [[fails]] to be original , even though it rips off many of its ideas .\n",
            "\n",
            "\n"
          ]
        },
        {
          "output_type": "stream",
          "name": "stderr",
          "text": [
            "\n",
            "[Succeeded / Failed / Skipped / Total] 51 / 0 / 6 / 57:  58%|█████▊    | 58/100 [51:27<37:15, 53.23s/it]\u001b[A\n",
            "[Succeeded / Failed / Skipped / Total] 52 / 0 / 6 / 58:  58%|█████▊    | 58/100 [51:27<37:15, 53.23s/it]\u001b[A"
          ]
        },
        {
          "output_type": "stream",
          "name": "stdout",
          "text": [
            "--------------------------------------------- Result 58 ---------------------------------------------\n",
            "[[Positive (95%)]] --> [[Negative (97%)]]\n",
            "\n",
            "singer/composer bryan adams contributes a slew of songs  a few potential hits , a few more simply intrusive to the story  but the whole package certainly captures the intended , er , spirit of the piece .\n",
            "\n",
            "singer/composer bryan adams contributes a slew of songs  a few potential hits , a few more simply intrusive to the story  but the whole package [[hardly]] certainly captures the intended , er , spirit of the piece .\n",
            "\n",
            "\n"
          ]
        },
        {
          "output_type": "stream",
          "name": "stderr",
          "text": [
            "\n",
            "[Succeeded / Failed / Skipped / Total] 52 / 0 / 6 / 58:  59%|█████▉    | 59/100 [52:40<36:36, 53.57s/it]\u001b[A\n",
            "[Succeeded / Failed / Skipped / Total] 53 / 0 / 6 / 59:  59%|█████▉    | 59/100 [52:40<36:36, 53.57s/it]\u001b[A"
          ]
        },
        {
          "output_type": "stream",
          "name": "stdout",
          "text": [
            "--------------------------------------------- Result 59 ---------------------------------------------\n",
            "[[Positive (97%)]] --> [[Negative (95%)]]\n",
            "\n",
            "you'd think by now america would have had enough of plucky british eccentrics with hearts of gold . yet the act is still charming here .\n",
            "\n",
            "you'd think by now america would have had enough of plucky british eccentrics with hearts of gold . yet the act is [[not]] still charming here .\n",
            "\n",
            "\n"
          ]
        },
        {
          "output_type": "stream",
          "name": "stderr",
          "text": [
            "\n",
            "[Succeeded / Failed / Skipped / Total] 53 / 0 / 6 / 59:  60%|██████    | 60/100 [54:40<36:27, 54.68s/it]\u001b[A\n",
            "[Succeeded / Failed / Skipped / Total] 54 / 0 / 6 / 60:  60%|██████    | 60/100 [54:40<36:27, 54.68s/it]\u001b[Atextattack: Saving checkpoint under \"checkpoints/1702670986429.ta.chkpt\" at 2023-12-15 20:09:46 after 60 attacks.\n"
          ]
        },
        {
          "output_type": "stream",
          "name": "stdout",
          "text": [
            "--------------------------------------------- Result 60 ---------------------------------------------\n",
            "[[Positive (99%)]] --> [[Negative (94%)]]\n",
            "\n",
            "whether or not you're enlightened by any of derrida's lectures on \" the other \" and \" the self , \" derrida is an [[undeniably]] fascinating and playful fellow .\n",
            "\n",
            "whether or not you're enlightened by any of derrida's lectures on \" the other \" and \" the self , \" derrida is [[merely]] an [[excessively]] fascinating and playful fellow .\n",
            "\n",
            "\n",
            "\n",
            "\n",
            "=============================================================================================================================\n",
            "=============================================================================================================================\n",
            "\n"
          ]
        },
        {
          "output_type": "stream",
          "name": "stderr",
          "text": [
            "\n",
            "[Succeeded / Failed / Skipped / Total] 54 / 0 / 6 / 60:  61%|██████    | 61/100 [55:17<35:20, 54.38s/it]\u001b[A\n",
            "[Succeeded / Failed / Skipped / Total] 55 / 0 / 6 / 61:  61%|██████    | 61/100 [55:17<35:20, 54.38s/it]\u001b[A"
          ]
        },
        {
          "output_type": "stream",
          "name": "stdout",
          "text": [
            "--------------------------------------------- Result 61 ---------------------------------------------\n",
            "[[Positive (99%)]] --> [[Negative (94%)]]\n",
            "\n",
            "a pleasant enough movie , held [[together]] by skilled ensemble actors .\n",
            "\n",
            "a pleasant enough movie , held [[only]] by skilled ensemble actors .\n",
            "\n",
            "\n"
          ]
        },
        {
          "output_type": "stream",
          "name": "stderr",
          "text": [
            "\n",
            "[Succeeded / Failed / Skipped / Total] 55 / 0 / 6 / 61:  62%|██████▏   | 62/100 [55:52<34:14, 54.07s/it]\u001b[A\n",
            "[Succeeded / Failed / Skipped / Total] 56 / 0 / 6 / 62:  62%|██████▏   | 62/100 [55:52<34:14, 54.07s/it]\u001b[A"
          ]
        },
        {
          "output_type": "stream",
          "name": "stdout",
          "text": [
            "--------------------------------------------- Result 62 ---------------------------------------------\n",
            "[[Positive (97%)]] --> [[Negative (97%)]]\n",
            "\n",
            "this is the [[best]] american movie about troubled teens since 1998's whatever .\n",
            "\n",
            "this is the [[worst]] american movie about troubled teens since 1998's whatever .\n",
            "\n",
            "\n"
          ]
        },
        {
          "output_type": "stream",
          "name": "stderr",
          "text": [
            "\n",
            "[Succeeded / Failed / Skipped / Total] 56 / 0 / 6 / 62:  63%|██████▎   | 63/100 [56:53<33:24, 54.19s/it]\u001b[A\n",
            "[Succeeded / Failed / Skipped / Total] 57 / 0 / 6 / 63:  63%|██████▎   | 63/100 [56:53<33:24, 54.19s/it]\u001b[A"
          ]
        },
        {
          "output_type": "stream",
          "name": "stdout",
          "text": [
            "--------------------------------------------- Result 63 ---------------------------------------------\n",
            "[[Positive (65%)]] --> [[Negative (96%)]]\n",
            "\n",
            "disney has always been hit-or-miss when bringing beloved kids' books to the screen . . . tuck everlasting is a [[little]] of both .\n",
            "\n",
            "disney has always been hit-or-miss when bringing beloved kids' books to the screen . . . tuck everlasting is a [[waste]] of both .\n",
            "\n",
            "\n"
          ]
        },
        {
          "output_type": "stream",
          "name": "stderr",
          "text": [
            "\n",
            "[Succeeded / Failed / Skipped / Total] 57 / 0 / 6 / 63:  64%|██████▍   | 64/100 [57:52<32:33, 54.26s/it]\u001b[A\n",
            "[Succeeded / Failed / Skipped / Total] 58 / 0 / 6 / 64:  64%|██████▍   | 64/100 [57:52<32:33, 54.26s/it]\u001b[A"
          ]
        },
        {
          "output_type": "stream",
          "name": "stdout",
          "text": [
            "--------------------------------------------- Result 64 ---------------------------------------------\n",
            "[[Positive (98%)]] --> [[Negative (95%)]]\n",
            "\n",
            "just the labour involved in creating the layered richness of the imagery in this chiaroscuro of madness and light is [[astonishing]] .\n",
            "\n",
            "just the labour involved in creating the layered richness of the imagery in this chiaroscuro of madness and light is [[unreal]] .\n",
            "\n",
            "\n"
          ]
        },
        {
          "output_type": "stream",
          "name": "stderr",
          "text": [
            "\n",
            "[Succeeded / Failed / Skipped / Total] 58 / 0 / 6 / 64:  65%|██████▌   | 65/100 [58:44<31:37, 54.22s/it]\u001b[A\n",
            "[Succeeded / Failed / Skipped / Total] 59 / 0 / 6 / 65:  65%|██████▌   | 65/100 [58:44<31:37, 54.22s/it]\u001b[Atextattack: Saving checkpoint under \"checkpoints/1702671229854.ta.chkpt\" at 2023-12-15 20:13:49 after 65 attacks.\n"
          ]
        },
        {
          "output_type": "stream",
          "name": "stdout",
          "text": [
            "--------------------------------------------- Result 65 ---------------------------------------------\n",
            "[[Positive (98%)]] --> [[Negative (93%)]]\n",
            "\n",
            "the animated subplot [[keenly]] depicts the inner struggles of our adolescent heroes - insecure , uncontrolled , and intense .\n",
            "\n",
            "the animated subplot [[merely]] depicts the inner struggles of our adolescent heroes - insecure , uncontrolled , and intense .\n",
            "\n",
            "\n",
            "\n",
            "\n",
            "=============================================================================================================================\n",
            "=============================================================================================================================\n",
            "\n"
          ]
        },
        {
          "output_type": "stream",
          "name": "stderr",
          "text": [
            "\n",
            "[Succeeded / Failed / Skipped / Total] 59 / 0 / 6 / 65:  66%|██████▌   | 66/100 [59:17<30:32, 53.90s/it]\u001b[A\n",
            "[Succeeded / Failed / Skipped / Total] 60 / 0 / 6 / 66:  66%|██████▌   | 66/100 [59:17<30:32, 53.90s/it]\u001b[A\n",
            "[Succeeded / Failed / Skipped / Total] 60 / 0 / 7 / 67:  67%|██████▋   | 67/100 [59:17<29:12, 53.09s/it]\u001b[A"
          ]
        },
        {
          "output_type": "stream",
          "name": "stdout",
          "text": [
            "--------------------------------------------- Result 66 ---------------------------------------------\n",
            "[[Positive (95%)]] --> [[Negative (93%)]]\n",
            "\n",
            "the invincible werner herzog is alive and well and living in la\n",
            "\n",
            "the invincible werner herzog is alive and well and living in [[vain]] la\n",
            "\n",
            "\n",
            "--------------------------------------------- Result 67 ---------------------------------------------\n",
            "[[Negative (67%)]] --> [[[SKIPPED]]]\n",
            "\n",
            "morton is a great actress portraying a complex character , but morvern callar grows less compelling the farther it meanders from its shocking start .\n",
            "\n",
            "\n"
          ]
        },
        {
          "output_type": "stream",
          "name": "stderr",
          "text": [
            "\n",
            "[Succeeded / Failed / Skipped / Total] 60 / 0 / 7 / 67:  68%|██████▊   | 68/100 [1:00:04<28:16, 53.01s/it]\u001b[A\n",
            "[Succeeded / Failed / Skipped / Total] 61 / 0 / 7 / 68:  68%|██████▊   | 68/100 [1:00:04<28:16, 53.01s/it]\u001b[A"
          ]
        },
        {
          "output_type": "stream",
          "name": "stdout",
          "text": [
            "--------------------------------------------- Result 68 ---------------------------------------------\n",
            "[[Positive (98%)]] --> [[Negative (86%)]]\n",
            "\n",
            "part of the charm of satin rouge is that it avoids the obvious with humour and lightness .\n",
            "\n",
            "part of the charm of satin rouge is [[only]] that it avoids the obvious with humour and lightness .\n",
            "\n",
            "\n"
          ]
        },
        {
          "output_type": "stream",
          "name": "stderr",
          "text": [
            "\n",
            "[Succeeded / Failed / Skipped / Total] 61 / 0 / 7 / 68:  69%|██████▉   | 69/100 [1:01:07<27:27, 53.15s/it]\u001b[A\n",
            "[Succeeded / Failed / Skipped / Total] 62 / 0 / 7 / 69:  69%|██████▉   | 69/100 [1:01:07<27:27, 53.15s/it]\u001b[A"
          ]
        },
        {
          "output_type": "stream",
          "name": "stdout",
          "text": [
            "--------------------------------------------- Result 69 ---------------------------------------------\n",
            "[[Positive (95%)]] --> [[Negative (96%)]]\n",
            "\n",
            "son of the bride may be a good half-hour too long but comes replete with a flattering sense of mystery and quietness .\n",
            "\n",
            "son of the bride may be a good half-hour too long but comes replete with [[only]] a flattering sense of mystery and quietness .\n",
            "\n",
            "\n"
          ]
        },
        {
          "output_type": "stream",
          "name": "stderr",
          "text": [
            "\n",
            "[Succeeded / Failed / Skipped / Total] 62 / 0 / 7 / 69:  70%|███████   | 70/100 [1:02:13<26:40, 53.34s/it]\u001b[A\n",
            "[Succeeded / Failed / Skipped / Total] 63 / 0 / 7 / 70:  70%|███████   | 70/100 [1:02:13<26:40, 53.34s/it]\u001b[Atextattack: Saving checkpoint under \"checkpoints/1702671439330.ta.chkpt\" at 2023-12-15 20:17:19 after 70 attacks.\n"
          ]
        },
        {
          "output_type": "stream",
          "name": "stdout",
          "text": [
            "--------------------------------------------- Result 70 ---------------------------------------------\n",
            "[[Positive (97%)]] --> [[Negative (94%)]]\n",
            "\n",
            "a simmering psychological drama in which the bursts of sudden violence are all the more startling for the slow buildup that has preceded them .\n",
            "\n",
            "a simmering psychological drama in which the bursts of sudden violence are all the [[less]] more startling for the slow buildup that has preceded them .\n",
            "\n",
            "\n",
            "\n",
            "\n",
            "=============================================================================================================================\n",
            "=============================================================================================================================\n",
            "\n"
          ]
        },
        {
          "output_type": "stream",
          "name": "stderr",
          "text": [
            "\n",
            "[Succeeded / Failed / Skipped / Total] 63 / 0 / 7 / 70:  71%|███████   | 71/100 [1:02:41<25:36, 52.98s/it]\u001b[A\n",
            "[Succeeded / Failed / Skipped / Total] 64 / 0 / 7 / 71:  71%|███████   | 71/100 [1:02:41<25:36, 52.98s/it]\u001b[A"
          ]
        },
        {
          "output_type": "stream",
          "name": "stdout",
          "text": [
            "--------------------------------------------- Result 71 ---------------------------------------------\n",
            "[[Positive (99%)]] --> [[Negative (93%)]]\n",
            "\n",
            "a taut , [[intelligent]] [[psychological]] drama .\n",
            "\n",
            "a taut , [[or]] [[amateur]] drama .\n",
            "\n",
            "\n"
          ]
        },
        {
          "output_type": "stream",
          "name": "stderr",
          "text": [
            "\n",
            "[Succeeded / Failed / Skipped / Total] 64 / 0 / 7 / 71:  72%|███████▏  | 72/100 [1:06:00<25:40, 55.01s/it]\u001b[A\n",
            "[Succeeded / Failed / Skipped / Total] 65 / 0 / 7 / 72:  72%|███████▏  | 72/100 [1:06:00<25:40, 55.01s/it]\u001b[A"
          ]
        },
        {
          "output_type": "stream",
          "name": "stdout",
          "text": [
            "--------------------------------------------- Result 72 ---------------------------------------------\n",
            "[[Positive (99%)]] --> [[Negative (61%)]]\n",
            "\n",
            "a [[compelling]] coming-of-age drama about the arduous journey of a sensitive young girl through a series of foster homes and a [[fierce]] struggle to pull free from her dangerous and domineering mother's hold over her .\n",
            "\n",
            "a [[bleak]] coming-of-age drama about the arduous journey of a sensitive young girl through a series of foster homes and a [[crippling]] struggle to pull free from her dangerous and domineering mother's hold over her .\n",
            "\n",
            "\n"
          ]
        },
        {
          "output_type": "stream",
          "name": "stderr",
          "text": [
            "\n",
            "[Succeeded / Failed / Skipped / Total] 65 / 0 / 7 / 72:  73%|███████▎  | 73/100 [1:08:45<25:25, 56.52s/it]\u001b[A\n",
            "[Succeeded / Failed / Skipped / Total] 66 / 0 / 7 / 73:  73%|███████▎  | 73/100 [1:08:45<25:25, 56.52s/it]\u001b[A"
          ]
        },
        {
          "output_type": "stream",
          "name": "stdout",
          "text": [
            "--------------------------------------------- Result 73 ---------------------------------------------\n",
            "[[Positive (99%)]] --> [[Negative (63%)]]\n",
            "\n",
            "a truly [[moving]] experience , and a perfect example of how art -- when done right -- can help heal , clarify , and comfort .\n",
            "\n",
            "a truly [[personal]] experience , and a perfect example of how art -- [[effective]] when [[deliberately]] done right -- can help heal , clarify , and comfort .\n",
            "\n",
            "\n"
          ]
        },
        {
          "output_type": "stream",
          "name": "stderr",
          "text": [
            "\n",
            "[Succeeded / Failed / Skipped / Total] 66 / 0 / 7 / 73:  74%|███████▍  | 74/100 [1:09:35<24:27, 56.43s/it]\u001b[A\n",
            "[Succeeded / Failed / Skipped / Total] 67 / 0 / 7 / 74:  74%|███████▍  | 74/100 [1:09:35<24:27, 56.43s/it]\u001b[A"
          ]
        },
        {
          "output_type": "stream",
          "name": "stdout",
          "text": [
            "--------------------------------------------- Result 74 ---------------------------------------------\n",
            "[[Positive (99%)]] --> [[Negative (95%)]]\n",
            "\n",
            "this delicately observed story , deeply felt and masterfully stylized , is a triumph for its maverick director .\n",
            "\n",
            "this delicately observed story , deeply felt and masterfully stylized , is [[hardly]] a triumph for its maverick director .\n",
            "\n",
            "\n"
          ]
        },
        {
          "output_type": "stream",
          "name": "stderr",
          "text": [
            "\n",
            "[Succeeded / Failed / Skipped / Total] 67 / 0 / 7 / 74:  75%|███████▌  | 75/100 [1:10:33<23:31, 56.45s/it]\u001b[A\n",
            "[Succeeded / Failed / Skipped / Total] 68 / 0 / 7 / 75:  75%|███████▌  | 75/100 [1:10:33<23:31, 56.45s/it]\u001b[Atextattack: Saving checkpoint under \"checkpoints/1702671939583.ta.chkpt\" at 2023-12-15 20:25:39 after 75 attacks.\n"
          ]
        },
        {
          "output_type": "stream",
          "name": "stdout",
          "text": [
            "--------------------------------------------- Result 75 ---------------------------------------------\n",
            "[[Positive (92%)]] --> [[Negative (95%)]]\n",
            "\n",
            "at heart the movie is a [[deftly]] wrought suspense yarn whose richer shadings work as coloring rather than substance .\n",
            "\n",
            "at heart the movie is a [[poorly]] wrought suspense yarn whose richer shadings work as coloring rather than substance .\n",
            "\n",
            "\n",
            "\n",
            "\n",
            "=============================================================================================================================\n",
            "=============================================================================================================================\n",
            "\n"
          ]
        },
        {
          "output_type": "stream",
          "name": "stderr",
          "text": [
            "\n",
            "[Succeeded / Failed / Skipped / Total] 68 / 0 / 7 / 75:  76%|███████▌  | 76/100 [1:11:52<22:41, 56.74s/it]\u001b[A\n",
            "[Succeeded / Failed / Skipped / Total] 69 / 0 / 7 / 76:  76%|███████▌  | 76/100 [1:11:52<22:41, 56.74s/it]\u001b[A\n",
            "[Succeeded / Failed / Skipped / Total] 69 / 0 / 8 / 77:  77%|███████▋  | 77/100 [1:11:52<21:28, 56.01s/it]\u001b[A"
          ]
        },
        {
          "output_type": "stream",
          "name": "stdout",
          "text": [
            "--------------------------------------------- Result 76 ---------------------------------------------\n",
            "[[Positive (99%)]] --> [[Negative (78%)]]\n",
            "\n",
            "the appearance of treebeard and gollum's expanded role will either have you loving what you're seeing , or rolling your eyes . i loved it ! gollum's 'performance' is [[incredible]] !\n",
            "\n",
            "the appearance of treebeard and gollum's expanded role will either have you loving what you're seeing , or rolling your eyes . i loved it ! gollum's 'performance' is [[unreal]] !\n",
            "\n",
            "\n",
            "--------------------------------------------- Result 77 ---------------------------------------------\n",
            "[[Negative (57%)]] --> [[[SKIPPED]]]\n",
            "\n",
            "a screenplay more ingeniously constructed than \" memento \"\n",
            "\n",
            "\n"
          ]
        },
        {
          "output_type": "stream",
          "name": "stderr",
          "text": [
            "\n",
            "[Succeeded / Failed / Skipped / Total] 69 / 0 / 8 / 77:  78%|███████▊  | 78/100 [1:12:37<20:28, 55.86s/it]\u001b[A\n",
            "[Succeeded / Failed / Skipped / Total] 70 / 0 / 8 / 78:  78%|███████▊  | 78/100 [1:12:37<20:29, 55.86s/it]\u001b[A"
          ]
        },
        {
          "output_type": "stream",
          "name": "stdout",
          "text": [
            "--------------------------------------------- Result 78 ---------------------------------------------\n",
            "[[Positive (75%)]] --> [[Negative (94%)]]\n",
            "\n",
            "if this movie were a book , it would be a page-turner , you can't wait to see what happens next .\n",
            "\n",
            "if this movie were a book , it would be a page-turner , you can't wait to [[only]] see what happens next .\n",
            "\n",
            "\n"
          ]
        },
        {
          "output_type": "stream",
          "name": "stderr",
          "text": [
            "\n",
            "[Succeeded / Failed / Skipped / Total] 70 / 0 / 8 / 78:  79%|███████▉  | 79/100 [1:13:09<19:26, 55.56s/it]\u001b[A\n",
            "[Succeeded / Failed / Skipped / Total] 71 / 0 / 8 / 79:  79%|███████▉  | 79/100 [1:13:09<19:26, 55.56s/it]\u001b[A"
          ]
        },
        {
          "output_type": "stream",
          "name": "stdout",
          "text": [
            "--------------------------------------------- Result 79 ---------------------------------------------\n",
            "[[Positive (97%)]] --> [[Negative (89%)]]\n",
            "\n",
            "haneke challenges us to confront the reality of sexual aberration .\n",
            "\n",
            "haneke challenges us to confront [[only]] the reality of sexual aberration .\n",
            "\n",
            "\n"
          ]
        },
        {
          "output_type": "stream",
          "name": "stderr",
          "text": [
            "\n",
            "[Succeeded / Failed / Skipped / Total] 71 / 0 / 8 / 79:  80%|████████  | 80/100 [1:14:04<18:31, 55.56s/it]\u001b[A\n",
            "[Succeeded / Failed / Skipped / Total] 72 / 0 / 8 / 80:  80%|████████  | 80/100 [1:14:04<18:31, 55.56s/it]\u001b[Atextattack: Saving checkpoint under \"checkpoints/1702672150355.ta.chkpt\" at 2023-12-15 20:29:10 after 80 attacks.\n"
          ]
        },
        {
          "output_type": "stream",
          "name": "stdout",
          "text": [
            "--------------------------------------------- Result 80 ---------------------------------------------\n",
            "[[Positive (83%)]] --> [[Negative (92%)]]\n",
            "\n",
            "absorbing and disturbing -- perhaps more disturbing than originally intended -- but a little clarity would have gone a long way .\n",
            "\n",
            "absorbing [[dull]] and disturbing -- perhaps more disturbing than originally intended -- but a little clarity would have gone a long way .\n",
            "\n",
            "\n",
            "\n",
            "\n",
            "=============================================================================================================================\n",
            "=============================================================================================================================\n",
            "\n"
          ]
        },
        {
          "output_type": "stream",
          "name": "stderr",
          "text": [
            "\n",
            "[Succeeded / Failed / Skipped / Total] 72 / 0 / 8 / 80:  81%|████████  | 81/100 [1:14:55<17:34, 55.50s/it]\u001b[A\n",
            "[Succeeded / Failed / Skipped / Total] 73 / 0 / 8 / 81:  81%|████████  | 81/100 [1:14:55<17:34, 55.50s/it]\u001b[A"
          ]
        },
        {
          "output_type": "stream",
          "name": "stdout",
          "text": [
            "--------------------------------------------- Result 81 ---------------------------------------------\n",
            "[[Positive (91%)]] --> [[Negative (97%)]]\n",
            "\n",
            "it's the [[best]] film of the year so far , the benchmark against which all other best picture contenders should be measured .\n",
            "\n",
            "it's the [[weakest]] film of the year so far , the benchmark against which all other best picture contenders should be measured .\n",
            "\n",
            "\n"
          ]
        },
        {
          "output_type": "stream",
          "name": "stderr",
          "text": [
            "\n",
            "[Succeeded / Failed / Skipped / Total] 73 / 0 / 8 / 81:  82%|████████▏ | 82/100 [1:16:01<16:41, 55.63s/it]\u001b[A\n",
            "[Succeeded / Failed / Skipped / Total] 74 / 0 / 8 / 82:  82%|████████▏ | 82/100 [1:16:01<16:41, 55.63s/it]\u001b[A"
          ]
        },
        {
          "output_type": "stream",
          "name": "stdout",
          "text": [
            "--------------------------------------------- Result 82 ---------------------------------------------\n",
            "[[Positive (99%)]] --> [[Negative (92%)]]\n",
            "\n",
            "painful to watch , but viewers willing to take a chance will be rewarded with two of the year's most accomplished and riveting film performances .\n",
            "\n",
            "painful to watch , but viewers willing to take a chance will be rewarded with [[only]] two of the year's most accomplished and riveting film performances .\n",
            "\n",
            "\n"
          ]
        },
        {
          "output_type": "stream",
          "name": "stderr",
          "text": [
            "\n",
            "[Succeeded / Failed / Skipped / Total] 74 / 0 / 8 / 82:  83%|████████▎ | 83/100 [1:17:06<15:47, 55.74s/it]\u001b[A\n",
            "[Succeeded / Failed / Skipped / Total] 75 / 0 / 8 / 83:  83%|████████▎ | 83/100 [1:17:06<15:47, 55.74s/it]\u001b[A"
          ]
        },
        {
          "output_type": "stream",
          "name": "stdout",
          "text": [
            "--------------------------------------------- Result 83 ---------------------------------------------\n",
            "[[Positive (99%)]] --> [[Negative (89%)]]\n",
            "\n",
            "this is a startling film that gives you a fascinating , albeit depressing view of iranian rural life close to the iraqi border .\n",
            "\n",
            "this is a startling film that [[only]] gives you a fascinating , albeit depressing view of iranian rural life close to the iraqi border .\n",
            "\n",
            "\n"
          ]
        },
        {
          "output_type": "stream",
          "name": "stderr",
          "text": [
            "\n",
            "[Succeeded / Failed / Skipped / Total] 75 / 0 / 8 / 83:  84%|████████▍ | 84/100 [1:17:18<14:43, 55.22s/it]\u001b[A\n",
            "[Succeeded / Failed / Skipped / Total] 76 / 0 / 8 / 84:  84%|████████▍ | 84/100 [1:17:18<14:43, 55.22s/it]\u001b[A\n",
            "[Succeeded / Failed / Skipped / Total] 76 / 0 / 9 / 85:  85%|████████▌ | 85/100 [1:17:18<13:38, 54.57s/it]\u001b[Atextattack: Saving checkpoint under \"checkpoints/1702672344265.ta.chkpt\" at 2023-12-15 20:32:24 after 85 attacks.\n"
          ]
        },
        {
          "output_type": "stream",
          "name": "stdout",
          "text": [
            "--------------------------------------------- Result 84 ---------------------------------------------\n",
            "[[Positive (96%)]] --> [[Negative (96%)]]\n",
            "\n",
            "an [[imaginative]] comedy/thriller .\n",
            "\n",
            "an [[unintentional]] comedy/thriller .\n",
            "\n",
            "\n",
            "--------------------------------------------- Result 85 ---------------------------------------------\n",
            "[[Negative (60%)]] --> [[[SKIPPED]]]\n",
            "\n",
            "a few artsy flourishes aside , narc is as gritty as a movie gets these days .\n",
            "\n",
            "\n",
            "\n",
            "\n",
            "=============================================================================================================================\n",
            "=============================================================================================================================\n",
            "\n"
          ]
        },
        {
          "output_type": "stream",
          "name": "stderr",
          "text": [
            "\n",
            "[Succeeded / Failed / Skipped / Total] 76 / 0 / 9 / 85:  86%|████████▌ | 86/100 [1:18:05<12:42, 54.49s/it]\u001b[A\n",
            "[Succeeded / Failed / Skipped / Total] 77 / 0 / 9 / 86:  86%|████████▌ | 86/100 [1:18:05<12:42, 54.49s/it]\u001b[A"
          ]
        },
        {
          "output_type": "stream",
          "name": "stdout",
          "text": [
            "--------------------------------------------- Result 86 ---------------------------------------------\n",
            "[[Positive (96%)]] --> [[Negative (94%)]]\n",
            "\n",
            "while the isle is both preposterous and thoroughly misogynistic , its vistas are incredibly [[beautiful]] to look at .\n",
            "\n",
            "while the isle is both preposterous and thoroughly misogynistic , its vistas are incredibly [[depressing]] to look at .\n",
            "\n",
            "\n"
          ]
        },
        {
          "output_type": "stream",
          "name": "stderr",
          "text": [
            "\n",
            "[Succeeded / Failed / Skipped / Total] 77 / 0 / 9 / 86:  87%|████████▋ | 87/100 [1:19:31<11:52, 54.84s/it]\u001b[A\n",
            "[Succeeded / Failed / Skipped / Total] 78 / 0 / 9 / 87:  87%|████████▋ | 87/100 [1:19:31<11:52, 54.84s/it]\u001b[A"
          ]
        },
        {
          "output_type": "stream",
          "name": "stdout",
          "text": [
            "--------------------------------------------- Result 87 ---------------------------------------------\n",
            "[[Positive (99%)]] --> [[Negative (77%)]]\n",
            "\n",
            "together , tok and o orchestrate a buoyant , darkly funny dance of death . in the process , they [[demonstrate]] that there's still a lot of life in hong kong cinema .\n",
            "\n",
            "together , tok and o orchestrate a buoyant , darkly funny dance of death . in the process , they [[forget]] that there's still a lot of life in hong kong cinema .\n",
            "\n",
            "\n"
          ]
        },
        {
          "output_type": "stream",
          "name": "stderr",
          "text": [
            "\n",
            "[Succeeded / Failed / Skipped / Total] 78 / 0 / 9 / 87:  88%|████████▊ | 88/100 [1:20:51<11:01, 55.13s/it]\u001b[A\n",
            "[Succeeded / Failed / Skipped / Total] 79 / 0 / 9 / 88:  88%|████████▊ | 88/100 [1:20:51<11:01, 55.13s/it]\u001b[A"
          ]
        },
        {
          "output_type": "stream",
          "name": "stdout",
          "text": [
            "--------------------------------------------- Result 88 ---------------------------------------------\n",
            "[[Positive (97%)]] --> [[Negative (96%)]]\n",
            "\n",
            "director kapur is a filmmaker with a real flair for epic landscapes and adventure , and this is a [[better]] film than his earlier english-language movie , the overpraised elizabeth .\n",
            "\n",
            "director kapur is a filmmaker with a real flair for epic landscapes and adventure , and this is a [[worse]] film than his earlier english-language movie , the overpraised elizabeth .\n",
            "\n",
            "\n"
          ]
        },
        {
          "output_type": "stream",
          "name": "stderr",
          "text": [
            "\n",
            "[Succeeded / Failed / Skipped / Total] 79 / 0 / 9 / 88:  89%|████████▉ | 89/100 [1:21:52<10:07, 55.20s/it]\u001b[A\n",
            "[Succeeded / Failed / Skipped / Total] 80 / 0 / 9 / 89:  89%|████████▉ | 89/100 [1:21:52<10:07, 55.20s/it]\u001b[A"
          ]
        },
        {
          "output_type": "stream",
          "name": "stdout",
          "text": [
            "--------------------------------------------- Result 89 ---------------------------------------------\n",
            "[[Positive (99%)]] --> [[Negative (90%)]]\n",
            "\n",
            "the movie is a blast of educational energy , as bouncy animation and catchy songs escort you through the entire 85 minutes .\n",
            "\n",
            "the movie is [[merely]] a blast of educational energy , as bouncy animation and catchy songs escort you through the entire 85 minutes .\n",
            "\n",
            "\n"
          ]
        },
        {
          "output_type": "stream",
          "name": "stderr",
          "text": [
            "\n",
            "[Succeeded / Failed / Skipped / Total] 80 / 0 / 9 / 89:  90%|█████████ | 90/100 [1:22:42<09:11, 55.14s/it]\u001b[A\n",
            "[Succeeded / Failed / Skipped / Total] 81 / 0 / 9 / 90:  90%|█████████ | 90/100 [1:22:42<09:11, 55.14s/it]\u001b[Atextattack: Saving checkpoint under \"checkpoints/1702672668003.ta.chkpt\" at 2023-12-15 20:37:48 after 90 attacks.\n"
          ]
        },
        {
          "output_type": "stream",
          "name": "stdout",
          "text": [
            "--------------------------------------------- Result 90 ---------------------------------------------\n",
            "[[Positive (97%)]] --> [[Negative (93%)]]\n",
            "\n",
            "a sports movie with action that's exciting on the field and a story you care about off it .\n",
            "\n",
            "a sports movie with action that's exciting on the field and a story you [[only]] care about off it .\n",
            "\n",
            "\n",
            "\n",
            "\n",
            "=============================================================================================================================\n",
            "=============================================================================================================================\n",
            "\n"
          ]
        },
        {
          "output_type": "stream",
          "name": "stderr",
          "text": [
            "\n",
            "[Succeeded / Failed / Skipped / Total] 81 / 0 / 9 / 90:  91%|█████████ | 91/100 [1:26:11<08:31, 56.83s/it]\u001b[A\n",
            "[Succeeded / Failed / Skipped / Total] 82 / 0 / 9 / 91:  91%|█████████ | 91/100 [1:26:11<08:31, 56.83s/it]\u001b[A"
          ]
        },
        {
          "output_type": "stream",
          "name": "stdout",
          "text": [
            "--------------------------------------------- Result 91 ---------------------------------------------\n",
            "[[Positive (98%)]] --> [[Negative (95%)]]\n",
            "\n",
            "doug liman , the director of bourne , directs the traffic well , gets a nice wintry look from his locations , absorbs us with the movie's spycraft and uses damon's ability to be focused and sincere .\n",
            "\n",
            "doug liman , the director of bourne , directs the traffic well , gets [[only]] a nice wintry look from his locations , absorbs us with the movie's spycraft and uses damon's ability to [[only]] be focused and sincere .\n",
            "\n",
            "\n"
          ]
        },
        {
          "output_type": "stream",
          "name": "stderr",
          "text": [
            "\n",
            "[Succeeded / Failed / Skipped / Total] 82 / 0 / 9 / 91:  92%|█████████▏| 92/100 [1:26:33<07:31, 56.45s/it]\u001b[A\n",
            "[Succeeded / Failed / Skipped / Total] 83 / 0 / 9 / 92:  92%|█████████▏| 92/100 [1:26:33<07:31, 56.45s/it]\u001b[A"
          ]
        },
        {
          "output_type": "stream",
          "name": "stdout",
          "text": [
            "--------------------------------------------- Result 92 ---------------------------------------------\n",
            "[[Positive (97%)]] --> [[Negative (97%)]]\n",
            "\n",
            "the tenderness of the piece is [[still]] intact .\n",
            "\n",
            "the tenderness of the piece is [[barely]] intact .\n",
            "\n",
            "\n"
          ]
        },
        {
          "output_type": "stream",
          "name": "stderr",
          "text": [
            "\n",
            "[Succeeded / Failed / Skipped / Total] 83 / 0 / 9 / 92:  93%|█████████▎| 93/100 [1:28:18<06:38, 56.97s/it]\u001b[A\n",
            "[Succeeded / Failed / Skipped / Total] 84 / 0 / 9 / 93:  93%|█████████▎| 93/100 [1:28:18<06:38, 56.97s/it]\u001b[A"
          ]
        },
        {
          "output_type": "stream",
          "name": "stdout",
          "text": [
            "--------------------------------------------- Result 93 ---------------------------------------------\n",
            "[[Positive (97%)]] --> [[Negative (74%)]]\n",
            "\n",
            "katz uses archival footage , horrifying documents of lynchings , still photographs and charming old reel-to-reel recordings of meeropol entertaining his children to create his song history , but most [[powerful]] of all is the song itself\n",
            "\n",
            "katz uses archival footage , horrifying documents of lynchings , still photographs and charming old reel-to-reel recordings of meeropol entertaining his children to create his song history , but most [[controversial]] of all is the song itself\n",
            "\n",
            "\n"
          ]
        },
        {
          "output_type": "stream",
          "name": "stderr",
          "text": [
            "\n",
            "[Succeeded / Failed / Skipped / Total] 84 / 0 / 9 / 93:  94%|█████████▍| 94/100 [1:29:06<05:41, 56.88s/it]\u001b[A\n",
            "[Succeeded / Failed / Skipped / Total] 85 / 0 / 9 / 94:  94%|█████████▍| 94/100 [1:29:06<05:41, 56.88s/it]\u001b[A\n",
            "[Succeeded / Failed / Skipped / Total] 85 / 0 / 10 / 95:  95%|█████████▌| 95/100 [1:29:06<04:41, 56.28s/it]\u001b[Atextattack: Saving checkpoint under \"checkpoints/1702673052445.ta.chkpt\" at 2023-12-15 20:44:12 after 95 attacks.\n"
          ]
        },
        {
          "output_type": "stream",
          "name": "stdout",
          "text": [
            "--------------------------------------------- Result 94 ---------------------------------------------\n",
            "[[Positive (96%)]] --> [[Negative (96%)]]\n",
            "\n",
            "like the film's almost anthropologically detailed realization of early-'80s suburbia , it's significant without being [[overstated]] .\n",
            "\n",
            "like the film's almost anthropologically detailed realization of early-'80s suburbia , it's significant without being [[significant]] .\n",
            "\n",
            "\n",
            "--------------------------------------------- Result 95 ---------------------------------------------\n",
            "[[Negative (81%)]] --> [[[SKIPPED]]]\n",
            "\n",
            "while mcfarlane's animation lifts the film firmly above the level of other coming-of-age films . . . it's also so jarring that it's hard to get back into the boys' story .\n",
            "\n",
            "\n",
            "\n",
            "\n",
            "=============================================================================================================================\n",
            "=============================================================================================================================\n",
            "\n"
          ]
        },
        {
          "output_type": "stream",
          "name": "stderr",
          "text": [
            "\n",
            "[Succeeded / Failed / Skipped / Total] 85 / 0 / 10 / 95:  96%|█████████▌| 96/100 [1:29:45<03:44, 56.10s/it]\u001b[A\n",
            "[Succeeded / Failed / Skipped / Total] 86 / 0 / 10 / 96:  96%|█████████▌| 96/100 [1:29:45<03:44, 56.10s/it]\u001b[A"
          ]
        },
        {
          "output_type": "stream",
          "name": "stdout",
          "text": [
            "--------------------------------------------- Result 96 ---------------------------------------------\n",
            "[[Positive (98%)]] --> [[Negative (92%)]]\n",
            "\n",
            "if nothing else , this movie introduces a promising , unusual kind of psychological horror .\n",
            "\n",
            "if nothing else , this movie introduces [[only]] a promising , unusual kind of psychological horror .\n",
            "\n",
            "\n"
          ]
        },
        {
          "output_type": "stream",
          "name": "stderr",
          "text": [
            "\n",
            "[Succeeded / Failed / Skipped / Total] 86 / 0 / 10 / 96:  97%|█████████▋| 97/100 [1:31:38<02:50, 56.68s/it]\u001b[A\n",
            "[Succeeded / Failed / Skipped / Total] 87 / 0 / 10 / 97:  97%|█████████▋| 97/100 [1:31:38<02:50, 56.68s/it]\u001b[A"
          ]
        },
        {
          "output_type": "stream",
          "name": "stdout",
          "text": [
            "--------------------------------------------- Result 97 ---------------------------------------------\n",
            "[[Positive (54%)]] --> [[Negative (95%)]]\n",
            "\n",
            "in a normal screen process , these bromides would be barely enough to sustain an interstitial program on the discovery channel . but in imax 3-d , the clichés disappear into the vertiginous perspectives opened up by the photography .\n",
            "\n",
            "in a normal screen process , these bromides would be barely enough to sustain an interstitial program on the discovery channel . but in imax 3-d , the clichés [[only]] disappear into the vertiginous perspectives opened up by the photography .\n",
            "\n",
            "\n"
          ]
        },
        {
          "output_type": "stream",
          "name": "stderr",
          "text": [
            "\n",
            "[Succeeded / Failed / Skipped / Total] 87 / 0 / 10 / 97:  98%|█████████▊| 98/100 [1:33:47<01:54, 57.43s/it]\u001b[A\n",
            "[Succeeded / Failed / Skipped / Total] 88 / 0 / 10 / 98:  98%|█████████▊| 98/100 [1:33:47<01:54, 57.43s/it]\u001b[A"
          ]
        },
        {
          "output_type": "stream",
          "name": "stdout",
          "text": [
            "--------------------------------------------- Result 98 ---------------------------------------------\n",
            "[[Positive (95%)]] --> [[Negative (92%)]]\n",
            "\n",
            "writer-director burger [[imaginatively]] fans the embers of a dormant national grief and curiosity that has calcified into chronic cynicism and fear .\n",
            "\n",
            "writer-director burger [[Burns]] fans the embers of a dormant national grief and curiosity that has calcified into [[unhealthy]] chronic cynicism and fear .\n",
            "\n",
            "\n"
          ]
        },
        {
          "output_type": "stream",
          "name": "stderr",
          "text": [
            "\n",
            "[Succeeded / Failed / Skipped / Total] 88 / 0 / 10 / 98:  99%|█████████▉| 99/100 [1:34:03<00:57, 57.00s/it]\u001b[A\n",
            "[Succeeded / Failed / Skipped / Total] 89 / 0 / 10 / 99:  99%|█████████▉| 99/100 [1:34:03<00:57, 57.00s/it]\u001b[A\n",
            "[Succeeded / Failed / Skipped / Total] 89 / 0 / 11 / 100: 100%|██████████| 100/100 [1:34:03<00:00, 56.43s/it]\u001b[Atextattack: Saving checkpoint under \"checkpoints/1702673348990.ta.chkpt\" at 2023-12-15 20:49:08 after 100 attacks.\n"
          ]
        },
        {
          "output_type": "stream",
          "name": "stdout",
          "text": [
            "--------------------------------------------- Result 99 ---------------------------------------------\n",
            "[[Positive (97%)]] --> [[Negative (61%)]]\n",
            "\n",
            ". . . a roller-coaster ride of a movie\n",
            "\n",
            ". . . a roller-coaster ride of a [[cheesy]] movie\n",
            "\n",
            "\n",
            "--------------------------------------------- Result 100 ---------------------------------------------\n",
            "[[Negative (93%)]] --> [[[SKIPPED]]]\n",
            "\n",
            "i enjoyed time of favor while i was watching it , but i was surprised at how quickly it faded from my memory .\n",
            "\n",
            "\n",
            "\n",
            "\n",
            "=============================================================================================================================\n",
            "=============================================================================================================================\n",
            "\n"
          ]
        },
        {
          "output_type": "stream",
          "name": "stderr",
          "text": [
            "\r[Succeeded / Failed / Skipped / Total] 89 / 0 / 11 / 100: 100%|██████████| 100/100 [1:34:03<00:00, 56.43s/it]"
          ]
        },
        {
          "output_type": "stream",
          "name": "stdout",
          "text": [
            "\n",
            "+-------------------------------+---------+\n",
            "| Attack Results                |         |\n",
            "+-------------------------------+---------+\n",
            "| Number of successful attacks: | 89      |\n",
            "| Number of failed attacks:     | 0       |\n",
            "| Number of skipped attacks:    | 11      |\n",
            "| Original accuracy:            | 89.0%   |\n",
            "| Accuracy under attack:        | 0.0%    |\n",
            "| Attack success rate:          | 100.0%  |\n",
            "| Average perturbed word %:     | 33.12%  |\n",
            "| Average num. words per input: | 18.4    |\n",
            "| Avg num queries:              | 1543.56 |\n",
            "+-------------------------------+---------+"
          ]
        },
        {
          "output_type": "stream",
          "name": "stderr",
          "text": [
            "\n"
          ]
        },
        {
          "output_type": "stream",
          "name": "stdout",
          "text": [
            "\n"
          ]
        },
        {
          "output_type": "display_data",
          "data": {
            "text/plain": [
              "config.json:   0%|          | 0.00/665 [00:00<?, ?B/s]"
            ],
            "application/vnd.jupyter.widget-view+json": {
              "version_major": 2,
              "version_minor": 0,
              "model_id": "f2bc6b49a24443ada1c3527b2a5c5492"
            }
          },
          "metadata": {}
        },
        {
          "output_type": "display_data",
          "data": {
            "text/plain": [
              "model.safetensors:   0%|          | 0.00/548M [00:00<?, ?B/s]"
            ],
            "application/vnd.jupyter.widget-view+json": {
              "version_major": 2,
              "version_minor": 0,
              "model_id": "b777ddc394e442c3866132d6099976d5"
            }
          },
          "metadata": {}
        },
        {
          "output_type": "display_data",
          "data": {
            "text/plain": [
              "generation_config.json:   0%|          | 0.00/124 [00:00<?, ?B/s]"
            ],
            "application/vnd.jupyter.widget-view+json": {
              "version_major": 2,
              "version_minor": 0,
              "model_id": "40df485c837241e4aa69706319648a14"
            }
          },
          "metadata": {}
        },
        {
          "output_type": "display_data",
          "data": {
            "text/plain": [
              "vocab.json:   0%|          | 0.00/1.04M [00:00<?, ?B/s]"
            ],
            "application/vnd.jupyter.widget-view+json": {
              "version_major": 2,
              "version_minor": 0,
              "model_id": "eda2e379932a48fc8b787c19dd5d8a96"
            }
          },
          "metadata": {}
        },
        {
          "output_type": "display_data",
          "data": {
            "text/plain": [
              "merges.txt:   0%|          | 0.00/456k [00:00<?, ?B/s]"
            ],
            "application/vnd.jupyter.widget-view+json": {
              "version_major": 2,
              "version_minor": 0,
              "model_id": "1ac98853831843debd448c657bc70572"
            }
          },
          "metadata": {}
        },
        {
          "output_type": "display_data",
          "data": {
            "text/plain": [
              "tokenizer.json:   0%|          | 0.00/1.36M [00:00<?, ?B/s]"
            ],
            "application/vnd.jupyter.widget-view+json": {
              "version_major": 2,
              "version_minor": 0,
              "model_id": "cc72fd33cc5d4390a98ce40e688d1887"
            }
          },
          "metadata": {}
        },
        {
          "output_type": "stream",
          "name": "stderr",
          "text": [
            "Token indices sequence length is longer than the specified maximum sequence length for this model (2171 > 1024). Running this sequence through the model will result in indexing errors\n"
          ]
        }
      ]
    },
    {
      "cell_type": "code",
      "source": [
        "print(ppl)"
      ],
      "metadata": {
        "colab": {
          "base_uri": "https://localhost:8080/"
        },
        "id": "3WaZ-zduKLvH",
        "outputId": "46ef118b-c03a-4aeb-ab5e-98805a799c6f"
      },
      "execution_count": null,
      "outputs": [
        {
          "output_type": "stream",
          "name": "stdout",
          "text": [
            "{'avg_original_perplexity': 71.4, 'avg_attack_perplexity': 88.35}\n"
          ]
        }
      ]
    },
    {
      "cell_type": "code",
      "source": [
        "print(usem)"
      ],
      "metadata": {
        "colab": {
          "base_uri": "https://localhost:8080/"
        },
        "id": "P87BMBs6K5ZI",
        "outputId": "43e4b900-568b-4d4f-8ae7-187be680c9dc"
      },
      "execution_count": null,
      "outputs": [
        {
          "output_type": "stream",
          "name": "stdout",
          "text": [
            "{'avg_attack_use_score': 0.9}\n"
          ]
        }
      ]
    },
    {
      "cell_type": "code",
      "source": [
        "training_args = textattack.TrainingArgs(\n",
        "    num_epochs=3,\n",
        "    num_clean_epochs=1,\n",
        "    num_train_adv_examples=100,\n",
        "    learning_rate=5e-5,\n",
        "    per_device_train_batch_size=10,\n",
        "    gradient_accumulation_steps=4,\n",
        "    query_budget_train=120,\n",
        "    save_last=True,\n",
        "    load_best_model_at_end=True\n",
        ")\n",
        "\n",
        "trainer = textattack.Trainer(\n",
        "    model_wrapper,\n",
        "    \"classification\",\n",
        "    attack,\n",
        "    train_dataset,\n",
        "    eval_dataset,\n",
        "    training_args\n",
        ")\n",
        "m=trainer.train()\n"
      ],
      "metadata": {
        "colab": {
          "base_uri": "https://localhost:8080/"
        },
        "id": "xaORNgUL5ot1",
        "outputId": "8db84e15-79e6-4b54-a610-e0e2a33c1023"
      },
      "execution_count": null,
      "outputs": [
        {
          "output_type": "stream",
          "name": "stderr",
          "text": [
            "textattack: Writing logs to ./outputs/2023-12-15-20-49-30-197990/train_log.txt.\n",
            "textattack: Wrote original training args to ./outputs/2023-12-15-20-49-30-197990/training_args.json.\n",
            "/usr/local/lib/python3.10/dist-packages/transformers/optimization.py:411: FutureWarning: This implementation of AdamW is deprecated and will be removed in a future version. Use the PyTorch implementation torch.optim.AdamW instead, or set `no_deprecation_warning=True` to disable this warning\n",
            "  warnings.warn(\n",
            "textattack: ***** Running training *****\n",
            "textattack:   Num examples = 8530\n",
            "textattack:   Num epochs = 3\n",
            "textattack:   Num clean epochs = 1\n",
            "textattack:   Instantaneous batch size per device = 10\n",
            "textattack:   Total train batch size (w. parallel, distributed & accumulation) = 40\n",
            "textattack:   Gradient accumulation steps = 4\n",
            "textattack:   Total optimization steps = 646\n",
            "textattack: ==========================================================\n",
            "textattack: Epoch 1\n",
            "textattack: Running clean epoch 1/1\n",
            "Loss 0.17679: 100%|██████████| 853/853 [13:09<00:00,  1.08it/s]\n",
            "textattack: Train accuracy: 94.01%\n",
            "textattack: Eval accuracy: 84.71%\n",
            "textattack: Best score found. Saved model to ./outputs/2023-12-15-20-49-30-197990/best_model/\n",
            "textattack: ==========================================================\n",
            "textattack: Epoch 2\n",
            "textattack: Attacking model to generate new adversarial training set...\n",
            "\n",
            "  0%|          | 0/100 [00:00<?, ?it/s]\u001b[A\n",
            "[Succeeded / Failed / Skipped / Total] 0 / 1 / 0 / 1:   0%|          | 0/100 [00:10<?, ?it/s]\u001b[A\n",
            "[Succeeded / Failed / Skipped / Total] 0 / 2 / 0 / 2:   0%|          | 0/100 [00:22<?, ?it/s]\u001b[A\n",
            "[Succeeded / Failed / Skipped / Total] 0 / 3 / 0 / 3:   0%|          | 0/100 [00:29<?, ?it/s]\u001b[A\n",
            "[Succeeded / Failed / Skipped / Total] 0 / 3 / 0 / 3:   1%|          | 1/100 [00:41<1:07:42, 41.03s/it]\u001b[A\n",
            "[Succeeded / Failed / Skipped / Total] 1 / 3 / 0 / 4:   1%|          | 1/100 [00:41<1:07:44, 41.05s/it]\u001b[A\n",
            "[Succeeded / Failed / Skipped / Total] 1 / 3 / 0 / 4:   2%|▏         | 2/100 [00:51<42:21, 25.93s/it]  \u001b[A\n",
            "[Succeeded / Failed / Skipped / Total] 2 / 3 / 0 / 5:   2%|▏         | 2/100 [00:51<42:22, 25.94s/it]\u001b[A\n",
            "[Succeeded / Failed / Skipped / Total] 2 / 4 / 0 / 6:   2%|▏         | 2/100 [01:06<54:38, 33.46s/it]\u001b[A\n",
            "[Succeeded / Failed / Skipped / Total] 2 / 5 / 0 / 7:   2%|▏         | 2/100 [01:16<1:02:23, 38.19s/it]\u001b[A\n",
            "[Succeeded / Failed / Skipped / Total] 2 / 5 / 0 / 7:   3%|▎         | 3/100 [01:24<45:26, 28.11s/it]  \u001b[A\n",
            "[Succeeded / Failed / Skipped / Total] 3 / 5 / 0 / 8:   3%|▎         | 3/100 [01:24<45:27, 28.12s/it]\u001b[A\n",
            "[Succeeded / Failed / Skipped / Total] 3 / 6 / 0 / 9:   3%|▎         | 3/100 [01:32<49:52, 30.85s/it]\u001b[A\n",
            "[Succeeded / Failed / Skipped / Total] 3 / 7 / 0 / 10:   3%|▎         | 3/100 [01:44<56:34, 35.00s/it]\u001b[A\n",
            "[Succeeded / Failed / Skipped / Total] 3 / 7 / 0 / 10:   4%|▍         | 4/100 [01:56<46:44, 29.21s/it]\u001b[A\n",
            "[Succeeded / Failed / Skipped / Total] 4 / 7 / 0 / 11:   4%|▍         | 4/100 [01:56<46:44, 29.22s/it]\u001b[A\n",
            "[Succeeded / Failed / Skipped / Total] 4 / 7 / 0 / 11:   5%|▌         | 5/100 [02:06<40:09, 25.36s/it]\u001b[A\n",
            "[Succeeded / Failed / Skipped / Total] 5 / 7 / 0 / 12:   5%|▌         | 5/100 [02:06<40:09, 25.37s/it]\u001b[A\n",
            "[Succeeded / Failed / Skipped / Total] 5 / 8 / 0 / 13:   5%|▌         | 5/100 [02:17<43:38, 27.56s/it]\u001b[A\n",
            "[Succeeded / Failed / Skipped / Total] 5 / 8 / 0 / 13:   6%|▌         | 6/100 [02:23<37:35, 23.99s/it]\u001b[A\n",
            "[Succeeded / Failed / Skipped / Total] 6 / 8 / 0 / 14:   6%|▌         | 6/100 [02:23<37:35, 24.00s/it]\u001b[A\n",
            "[Succeeded / Failed / Skipped / Total] 6 / 9 / 0 / 15:   6%|▌         | 6/100 [02:36<40:57, 26.14s/it]\u001b[A\n",
            "[Succeeded / Failed / Skipped / Total] 6 / 9 / 0 / 15:   7%|▋         | 7/100 [02:47<37:09, 23.98s/it]\u001b[A\n",
            "[Succeeded / Failed / Skipped / Total] 7 / 9 / 0 / 16:   7%|▋         | 7/100 [02:47<37:10, 23.98s/it]\u001b[A\n",
            "[Succeeded / Failed / Skipped / Total] 7 / 10 / 0 / 17:   7%|▋         | 7/100 [02:59<39:38, 25.58s/it]\u001b[A\n",
            "[Succeeded / Failed / Skipped / Total] 7 / 11 / 0 / 18:   7%|▋         | 7/100 [03:07<41:32, 26.80s/it]\u001b[A\n",
            "[Succeeded / Failed / Skipped / Total] 7 / 12 / 0 / 19:   7%|▋         | 7/100 [03:16<43:36, 28.13s/it]\u001b[A\n",
            "[Succeeded / Failed / Skipped / Total] 7 / 12 / 0 / 19:   8%|▊         | 8/100 [03:22<38:50, 25.33s/it]\u001b[A\n",
            "[Succeeded / Failed / Skipped / Total] 8 / 12 / 0 / 20:   8%|▊         | 8/100 [03:22<38:50, 25.33s/it]\u001b[A\n",
            "[Succeeded / Failed / Skipped / Total] 8 / 12 / 1 / 21:   8%|▊         | 8/100 [03:22<38:51, 25.34s/it]\u001b[A\n",
            "[Succeeded / Failed / Skipped / Total] 8 / 13 / 1 / 22:   8%|▊         | 8/100 [03:33<40:49, 26.63s/it]\u001b[A\n",
            "[Succeeded / Failed / Skipped / Total] 8 / 14 / 1 / 23:   8%|▊         | 8/100 [03:42<42:40, 27.83s/it]\u001b[A\n",
            "[Succeeded / Failed / Skipped / Total] 8 / 14 / 1 / 23:   9%|▉         | 9/100 [03:51<39:04, 25.77s/it]\u001b[A\n",
            "[Succeeded / Failed / Skipped / Total] 9 / 14 / 1 / 24:   9%|▉         | 9/100 [03:51<39:05, 25.77s/it]\u001b[A\n",
            "[Succeeded / Failed / Skipped / Total] 9 / 14 / 1 / 24:  10%|█         | 10/100 [03:58<35:43, 23.82s/it]\u001b[A\n",
            "[Succeeded / Failed / Skipped / Total] 10 / 14 / 1 / 25:  10%|█         | 10/100 [03:58<35:43, 23.82s/it]\u001b[A\n",
            "[Succeeded / Failed / Skipped / Total] 10 / 15 / 1 / 26:  10%|█         | 10/100 [04:07<37:07, 24.75s/it]\u001b[A\n",
            "[Succeeded / Failed / Skipped / Total] 10 / 15 / 1 / 26:  11%|█         | 11/100 [04:14<34:15, 23.10s/it]\u001b[A\n",
            "[Succeeded / Failed / Skipped / Total] 11 / 15 / 1 / 27:  11%|█         | 11/100 [04:14<34:16, 23.10s/it]\u001b[A\n",
            "[Succeeded / Failed / Skipped / Total] 11 / 16 / 1 / 28:  11%|█         | 11/100 [04:30<36:27, 24.58s/it]\u001b[A\n",
            "[Succeeded / Failed / Skipped / Total] 11 / 17 / 1 / 29:  11%|█         | 11/100 [04:44<38:21, 25.87s/it]\u001b[A\n",
            "[Succeeded / Failed / Skipped / Total] 11 / 18 / 1 / 30:  11%|█         | 11/100 [04:54<39:43, 26.78s/it]\u001b[A\n",
            "[Succeeded / Failed / Skipped / Total] 11 / 18 / 1 / 30:  12%|█▏        | 12/100 [05:03<37:05, 25.29s/it]\u001b[A\n",
            "[Succeeded / Failed / Skipped / Total] 12 / 18 / 1 / 31:  12%|█▏        | 12/100 [05:03<37:05, 25.29s/it]\u001b[A\n",
            "[Succeeded / Failed / Skipped / Total] 12 / 18 / 1 / 31:  13%|█▎        | 13/100 [05:10<34:39, 23.90s/it]\u001b[A\n",
            "[Succeeded / Failed / Skipped / Total] 13 / 18 / 1 / 32:  13%|█▎        | 13/100 [05:10<34:39, 23.90s/it]\u001b[A\n",
            "[Succeeded / Failed / Skipped / Total] 13 / 19 / 1 / 33:  13%|█▎        | 13/100 [05:20<35:47, 24.69s/it]\u001b[A\n",
            "[Succeeded / Failed / Skipped / Total] 13 / 19 / 1 / 33:  14%|█▍        | 14/100 [05:31<33:56, 23.68s/it]\u001b[A\n",
            "[Succeeded / Failed / Skipped / Total] 14 / 19 / 1 / 34:  14%|█▍        | 14/100 [05:31<33:56, 23.68s/it]\u001b[A\n",
            "[Succeeded / Failed / Skipped / Total] 14 / 19 / 1 / 34:  15%|█▌        | 15/100 [05:37<31:51, 22.49s/it]\u001b[A\n",
            "[Succeeded / Failed / Skipped / Total] 15 / 19 / 1 / 35:  15%|█▌        | 15/100 [05:37<31:51, 22.49s/it]\u001b[A\n",
            "[Succeeded / Failed / Skipped / Total] 15 / 19 / 1 / 35:  16%|█▌        | 16/100 [05:49<30:34, 21.84s/it]\u001b[A\n",
            "[Succeeded / Failed / Skipped / Total] 16 / 19 / 1 / 36:  16%|█▌        | 16/100 [05:49<30:34, 21.84s/it]\u001b[A\n",
            "[Succeeded / Failed / Skipped / Total] 16 / 19 / 1 / 36:  17%|█▋        | 17/100 [05:58<29:11, 21.10s/it]\u001b[A\n",
            "[Succeeded / Failed / Skipped / Total] 17 / 19 / 1 / 37:  17%|█▋        | 17/100 [05:58<29:11, 21.10s/it]\u001b[A\n",
            "[Succeeded / Failed / Skipped / Total] 17 / 19 / 1 / 37:  18%|█▊        | 18/100 [06:04<27:38, 20.23s/it]\u001b[A\n",
            "[Succeeded / Failed / Skipped / Total] 18 / 19 / 1 / 38:  18%|█▊        | 18/100 [06:04<27:38, 20.23s/it]\u001b[A\n",
            "[Succeeded / Failed / Skipped / Total] 18 / 20 / 1 / 39:  18%|█▊        | 18/100 [06:19<28:48, 21.08s/it]\u001b[A\n",
            "[Succeeded / Failed / Skipped / Total] 18 / 21 / 1 / 40:  18%|█▊        | 18/100 [06:25<29:15, 21.41s/it]\u001b[A\n",
            "[Succeeded / Failed / Skipped / Total] 18 / 22 / 1 / 41:  18%|█▊        | 18/100 [06:40<30:22, 22.23s/it]\u001b[A\n",
            "[Succeeded / Failed / Skipped / Total] 18 / 22 / 2 / 42:  18%|█▊        | 18/100 [06:40<30:22, 22.23s/it]\u001b[A\n",
            "[Succeeded / Failed / Skipped / Total] 18 / 23 / 2 / 43:  18%|█▊        | 18/100 [06:49<31:05, 22.75s/it]\u001b[A\n",
            "[Succeeded / Failed / Skipped / Total] 18 / 24 / 2 / 44:  18%|█▊        | 18/100 [07:00<31:57, 23.38s/it]\u001b[A\n",
            "[Succeeded / Failed / Skipped / Total] 18 / 24 / 2 / 44:  19%|█▉        | 19/100 [07:10<30:36, 22.67s/it]\u001b[A\n",
            "[Succeeded / Failed / Skipped / Total] 19 / 24 / 2 / 45:  19%|█▉        | 19/100 [07:10<30:36, 22.67s/it]\u001b[A\n",
            "[Succeeded / Failed / Skipped / Total] 19 / 24 / 2 / 45:  20%|██        | 20/100 [07:19<29:16, 21.96s/it]\u001b[A\n",
            "[Succeeded / Failed / Skipped / Total] 20 / 24 / 2 / 46:  20%|██        | 20/100 [07:19<29:16, 21.96s/it]\u001b[A\n",
            "[Succeeded / Failed / Skipped / Total] 20 / 24 / 3 / 47:  20%|██        | 20/100 [07:19<29:16, 21.96s/it]\u001b[A\n",
            "[Succeeded / Failed / Skipped / Total] 20 / 24 / 3 / 47:  21%|██        | 21/100 [07:32<28:21, 21.54s/it]\u001b[A\n",
            "[Succeeded / Failed / Skipped / Total] 21 / 24 / 3 / 48:  21%|██        | 21/100 [07:32<28:22, 21.55s/it]\u001b[A\n",
            "[Succeeded / Failed / Skipped / Total] 21 / 25 / 3 / 49:  21%|██        | 21/100 [07:43<29:03, 22.07s/it]\u001b[A\n",
            "[Succeeded / Failed / Skipped / Total] 21 / 26 / 3 / 50:  21%|██        | 21/100 [07:51<29:33, 22.45s/it]\u001b[A\n",
            "[Succeeded / Failed / Skipped / Total] 21 / 26 / 3 / 50:  22%|██▏       | 22/100 [07:58<28:15, 21.74s/it]\u001b[A\n",
            "[Succeeded / Failed / Skipped / Total] 22 / 26 / 3 / 51:  22%|██▏       | 22/100 [07:58<28:15, 21.74s/it]\u001b[A\n",
            "[Succeeded / Failed / Skipped / Total] 22 / 26 / 3 / 51:  23%|██▎       | 23/100 [08:03<26:59, 21.03s/it]\u001b[A\n",
            "[Succeeded / Failed / Skipped / Total] 23 / 26 / 3 / 52:  23%|██▎       | 23/100 [08:03<26:59, 21.03s/it]\u001b[A\n",
            "[Succeeded / Failed / Skipped / Total] 23 / 26 / 4 / 53:  23%|██▎       | 23/100 [08:03<26:59, 21.03s/it]\u001b[A\n",
            "[Succeeded / Failed / Skipped / Total] 23 / 26 / 5 / 54:  23%|██▎       | 23/100 [08:03<26:59, 21.04s/it]\u001b[A\n",
            "[Succeeded / Failed / Skipped / Total] 23 / 27 / 5 / 55:  23%|██▎       | 23/100 [08:15<27:39, 21.55s/it]\u001b[A\n",
            "[Succeeded / Failed / Skipped / Total] 23 / 28 / 5 / 56:  23%|██▎       | 23/100 [08:27<28:18, 22.06s/it]\u001b[A\n",
            "[Succeeded / Failed / Skipped / Total] 23 / 28 / 5 / 56:  24%|██▍       | 24/100 [08:36<27:14, 21.51s/it]\u001b[A\n",
            "[Succeeded / Failed / Skipped / Total] 24 / 28 / 5 / 57:  24%|██▍       | 24/100 [08:36<27:15, 21.51s/it]\u001b[A\n",
            "[Succeeded / Failed / Skipped / Total] 24 / 29 / 5 / 58:  24%|██▍       | 24/100 [08:48<27:54, 22.03s/it]\u001b[A\n",
            "[Succeeded / Failed / Skipped / Total] 24 / 29 / 6 / 59:  24%|██▍       | 24/100 [08:48<27:54, 22.03s/it]\u001b[A\n",
            "[Succeeded / Failed / Skipped / Total] 24 / 30 / 6 / 60:  24%|██▍       | 24/100 [08:55<28:16, 22.32s/it]\u001b[A\n",
            "[Succeeded / Failed / Skipped / Total] 24 / 31 / 6 / 61:  24%|██▍       | 24/100 [09:03<28:40, 22.64s/it]\u001b[A\n",
            "[Succeeded / Failed / Skipped / Total] 24 / 31 / 7 / 62:  24%|██▍       | 24/100 [09:03<28:40, 22.64s/it]\u001b[A\n",
            "[Succeeded / Failed / Skipped / Total] 24 / 32 / 7 / 63:  24%|██▍       | 24/100 [09:19<29:31, 23.31s/it]\u001b[A\n",
            "[Succeeded / Failed / Skipped / Total] 24 / 32 / 7 / 63:  25%|██▌       | 25/100 [09:27<28:23, 22.72s/it]\u001b[A\n",
            "[Succeeded / Failed / Skipped / Total] 25 / 32 / 7 / 64:  25%|██▌       | 25/100 [09:27<28:23, 22.72s/it]\u001b[A\n",
            "[Succeeded / Failed / Skipped / Total] 25 / 32 / 7 / 64:  26%|██▌       | 26/100 [09:35<27:17, 22.13s/it]\u001b[A\n",
            "[Succeeded / Failed / Skipped / Total] 26 / 32 / 7 / 65:  26%|██▌       | 26/100 [09:35<27:17, 22.13s/it]\u001b[A\n",
            "[Succeeded / Failed / Skipped / Total] 26 / 32 / 7 / 65:  27%|██▋       | 27/100 [09:46<26:25, 21.72s/it]\u001b[A\n",
            "[Succeeded / Failed / Skipped / Total] 27 / 32 / 7 / 66:  27%|██▋       | 27/100 [09:46<26:25, 21.72s/it]\u001b[A\n",
            "[Succeeded / Failed / Skipped / Total] 27 / 33 / 7 / 67:  27%|██▋       | 27/100 [09:53<26:43, 21.96s/it]\u001b[A\n",
            "[Succeeded / Failed / Skipped / Total] 27 / 34 / 7 / 68:  27%|██▋       | 27/100 [09:59<27:00, 22.20s/it]\u001b[A\n",
            "[Succeeded / Failed / Skipped / Total] 27 / 35 / 7 / 69:  27%|██▋       | 27/100 [10:07<27:23, 22.51s/it]\u001b[A\n",
            "[Succeeded / Failed / Skipped / Total] 27 / 35 / 7 / 69:  28%|██▊       | 28/100 [10:17<26:27, 22.04s/it]\u001b[A\n",
            "[Succeeded / Failed / Skipped / Total] 28 / 35 / 7 / 70:  28%|██▊       | 28/100 [10:17<26:27, 22.04s/it]\u001b[A\n",
            "[Succeeded / Failed / Skipped / Total] 28 / 36 / 7 / 71:  28%|██▊       | 28/100 [10:25<26:47, 22.33s/it]\u001b[A\n",
            "[Succeeded / Failed / Skipped / Total] 28 / 37 / 7 / 72:  28%|██▊       | 28/100 [10:35<27:13, 22.68s/it]\u001b[A\n",
            "[Succeeded / Failed / Skipped / Total] 28 / 38 / 7 / 73:  28%|██▊       | 28/100 [10:44<27:38, 23.03s/it]\u001b[A\n",
            "[Succeeded / Failed / Skipped / Total] 28 / 39 / 7 / 74:  28%|██▊       | 28/100 [10:53<27:59, 23.33s/it]\u001b[A\n",
            "[Succeeded / Failed / Skipped / Total] 28 / 39 / 7 / 74:  29%|██▉       | 29/100 [11:05<27:09, 22.95s/it]\u001b[A\n",
            "[Succeeded / Failed / Skipped / Total] 29 / 39 / 7 / 75:  29%|██▉       | 29/100 [11:05<27:09, 22.96s/it]\u001b[A\n",
            "[Succeeded / Failed / Skipped / Total] 29 / 39 / 8 / 76:  29%|██▉       | 29/100 [11:05<27:09, 22.96s/it]\u001b[A\n",
            "[Succeeded / Failed / Skipped / Total] 29 / 40 / 8 / 77:  29%|██▉       | 29/100 [11:16<27:36, 23.33s/it]\u001b[A\n",
            "[Succeeded / Failed / Skipped / Total] 29 / 40 / 8 / 77:  30%|███       | 30/100 [11:22<26:33, 22.76s/it]\u001b[A\n",
            "[Succeeded / Failed / Skipped / Total] 30 / 40 / 8 / 78:  30%|███       | 30/100 [11:22<26:33, 22.76s/it]\u001b[A\n",
            "[Succeeded / Failed / Skipped / Total] 30 / 40 / 8 / 78:  31%|███       | 31/100 [11:29<25:34, 22.23s/it]\u001b[A\n",
            "[Succeeded / Failed / Skipped / Total] 31 / 40 / 8 / 79:  31%|███       | 31/100 [11:29<25:34, 22.23s/it]\u001b[A\n",
            "[Succeeded / Failed / Skipped / Total] 31 / 41 / 8 / 80:  31%|███       | 31/100 [11:37<25:53, 22.51s/it]\u001b[A\n",
            "[Succeeded / Failed / Skipped / Total] 31 / 42 / 8 / 81:  31%|███       | 31/100 [11:44<26:07, 22.72s/it]\u001b[A\n",
            "[Succeeded / Failed / Skipped / Total] 31 / 43 / 8 / 82:  31%|███       | 31/100 [11:53<26:28, 23.02s/it]\u001b[A\n",
            "[Succeeded / Failed / Skipped / Total] 31 / 44 / 8 / 83:  31%|███       | 31/100 [12:02<26:47, 23.30s/it]\u001b[A\n",
            "[Succeeded / Failed / Skipped / Total] 31 / 44 / 8 / 83:  32%|███▏      | 32/100 [12:07<25:46, 22.74s/it]\u001b[A\n",
            "[Succeeded / Failed / Skipped / Total] 32 / 44 / 8 / 84:  32%|███▏      | 32/100 [12:07<25:46, 22.74s/it]\u001b[A\n",
            "[Succeeded / Failed / Skipped / Total] 32 / 44 / 8 / 84:  33%|███▎      | 33/100 [12:15<24:52, 22.28s/it]\u001b[A\n",
            "[Succeeded / Failed / Skipped / Total] 33 / 44 / 8 / 85:  33%|███▎      | 33/100 [12:15<24:53, 22.28s/it]\u001b[A\n",
            "[Succeeded / Failed / Skipped / Total] 33 / 44 / 8 / 85:  34%|███▍      | 34/100 [12:21<24:00, 21.82s/it]\u001b[A\n",
            "[Succeeded / Failed / Skipped / Total] 34 / 44 / 8 / 86:  34%|███▍      | 34/100 [12:21<24:00, 21.82s/it]\u001b[A\n",
            "[Succeeded / Failed / Skipped / Total] 34 / 44 / 8 / 86:  35%|███▌      | 35/100 [12:28<23:09, 21.38s/it]\u001b[A\n",
            "[Succeeded / Failed / Skipped / Total] 35 / 44 / 8 / 87:  35%|███▌      | 35/100 [12:28<23:09, 21.38s/it]\u001b[A\n",
            "[Succeeded / Failed / Skipped / Total] 35 / 45 / 8 / 88:  35%|███▌      | 35/100 [12:34<23:21, 21.57s/it]\u001b[A\n",
            "[Succeeded / Failed / Skipped / Total] 35 / 45 / 8 / 88:  36%|███▌      | 36/100 [12:44<22:39, 21.23s/it]\u001b[A\n",
            "[Succeeded / Failed / Skipped / Total] 36 / 45 / 8 / 89:  36%|███▌      | 36/100 [12:44<22:39, 21.24s/it]\u001b[A\n",
            "[Succeeded / Failed / Skipped / Total] 36 / 46 / 8 / 90:  36%|███▌      | 36/100 [12:50<22:50, 21.42s/it]\u001b[A\n",
            "[Succeeded / Failed / Skipped / Total] 36 / 46 / 9 / 91:  36%|███▌      | 36/100 [12:51<22:50, 21.42s/it]\u001b[A\n",
            "[Succeeded / Failed / Skipped / Total] 36 / 47 / 9 / 92:  36%|███▌      | 36/100 [13:02<23:11, 21.74s/it]\u001b[A\n",
            "[Succeeded / Failed / Skipped / Total] 36 / 48 / 9 / 93:  36%|███▌      | 36/100 [13:13<23:31, 22.05s/it]\u001b[A\n",
            "[Succeeded / Failed / Skipped / Total] 36 / 49 / 9 / 94:  36%|███▌      | 36/100 [13:24<23:50, 22.35s/it]\u001b[A\n",
            "[Succeeded / Failed / Skipped / Total] 36 / 49 / 9 / 94:  37%|███▋      | 37/100 [13:36<23:10, 22.08s/it]\u001b[A\n",
            "[Succeeded / Failed / Skipped / Total] 37 / 49 / 9 / 95:  37%|███▋      | 37/100 [13:36<23:10, 22.08s/it]\u001b[A\n",
            "[Succeeded / Failed / Skipped / Total] 37 / 49 / 9 / 95:  38%|███▊      | 38/100 [13:46<22:28, 21.76s/it]\u001b[A\n",
            "[Succeeded / Failed / Skipped / Total] 38 / 49 / 9 / 96:  38%|███▊      | 38/100 [13:46<22:28, 21.76s/it]\u001b[A\n",
            "[Succeeded / Failed / Skipped / Total] 38 / 50 / 9 / 97:  38%|███▊      | 38/100 [13:52<22:38, 21.92s/it]\u001b[A\n",
            "[Succeeded / Failed / Skipped / Total] 38 / 50 / 9 / 97:  39%|███▉      | 39/100 [13:59<21:52, 21.52s/it]\u001b[A\n",
            "[Succeeded / Failed / Skipped / Total] 39 / 50 / 9 / 98:  39%|███▉      | 39/100 [13:59<21:52, 21.52s/it]\u001b[A\n",
            "[Succeeded / Failed / Skipped / Total] 39 / 51 / 9 / 99:  39%|███▉      | 39/100 [14:06<22:04, 21.71s/it]\u001b[A\n",
            "[Succeeded / Failed / Skipped / Total] 39 / 52 / 9 / 100:  39%|███▉      | 39/100 [14:21<22:28, 22.10s/it]\u001b[A\n",
            "[Succeeded / Failed / Skipped / Total] 39 / 53 / 9 / 101:  39%|███▉      | 39/100 [14:36<22:51, 22.48s/it]\u001b[A\n",
            "[Succeeded / Failed / Skipped / Total] 39 / 54 / 9 / 102:  39%|███▉      | 39/100 [14:49<23:10, 22.80s/it]\u001b[A\n",
            "[Succeeded / Failed / Skipped / Total] 39 / 54 / 9 / 102:  40%|████      | 40/100 [15:00<22:30, 22.51s/it]\u001b[A\n",
            "[Succeeded / Failed / Skipped / Total] 40 / 54 / 9 / 103:  40%|████      | 40/100 [15:00<22:30, 22.51s/it]\u001b[A\n",
            "[Succeeded / Failed / Skipped / Total] 40 / 54 / 9 / 103:  41%|████      | 41/100 [15:07<21:46, 22.14s/it]\u001b[A\n",
            "[Succeeded / Failed / Skipped / Total] 41 / 54 / 9 / 104:  41%|████      | 41/100 [15:07<21:46, 22.14s/it]\u001b[A\n",
            "[Succeeded / Failed / Skipped / Total] 41 / 54 / 9 / 104:  42%|████▏     | 42/100 [15:23<21:15, 22.00s/it]\u001b[A\n",
            "[Succeeded / Failed / Skipped / Total] 42 / 54 / 9 / 105:  42%|████▏     | 42/100 [15:23<21:15, 22.00s/it]\u001b[A\n",
            "[Succeeded / Failed / Skipped / Total] 42 / 54 / 9 / 105:  43%|████▎     | 43/100 [15:31<20:34, 21.65s/it]\u001b[A\n",
            "[Succeeded / Failed / Skipped / Total] 43 / 54 / 9 / 106:  43%|████▎     | 43/100 [15:31<20:34, 21.66s/it]\u001b[A\n",
            "[Succeeded / Failed / Skipped / Total] 43 / 54 / 9 / 106:  44%|████▍     | 44/100 [15:40<19:57, 21.38s/it]\u001b[A\n",
            "[Succeeded / Failed / Skipped / Total] 44 / 54 / 9 / 107:  44%|████▍     | 44/100 [15:40<19:57, 21.38s/it]\u001b[A\n",
            "[Succeeded / Failed / Skipped / Total] 44 / 55 / 9 / 108:  44%|████▍     | 44/100 [15:49<20:08, 21.58s/it]\u001b[A\n",
            "[Succeeded / Failed / Skipped / Total] 44 / 56 / 9 / 109:  44%|████▍     | 44/100 [15:59<20:20, 21.80s/it]\u001b[A\n",
            "[Succeeded / Failed / Skipped / Total] 44 / 57 / 9 / 110:  44%|████▍     | 44/100 [16:11<20:35, 22.07s/it]\u001b[A\n",
            "[Succeeded / Failed / Skipped / Total] 44 / 58 / 9 / 111:  44%|████▍     | 44/100 [16:20<20:48, 22.30s/it]\u001b[A\n",
            "[Succeeded / Failed / Skipped / Total] 44 / 58 / 10 / 112:  44%|████▍     | 44/100 [16:21<20:48, 22.30s/it]\u001b[A\n",
            "[Succeeded / Failed / Skipped / Total] 44 / 59 / 10 / 113:  44%|████▍     | 44/100 [16:27<20:56, 22.44s/it]\u001b[A\n",
            "[Succeeded / Failed / Skipped / Total] 44 / 59 / 10 / 113:  45%|████▌     | 45/100 [16:37<20:19, 22.17s/it]\u001b[A\n",
            "[Succeeded / Failed / Skipped / Total] 45 / 59 / 10 / 114:  45%|████▌     | 45/100 [16:37<20:19, 22.17s/it]\u001b[A\n",
            "[Succeeded / Failed / Skipped / Total] 45 / 60 / 10 / 115:  45%|████▌     | 45/100 [16:47<20:31, 22.38s/it]\u001b[A\n",
            "[Succeeded / Failed / Skipped / Total] 45 / 60 / 10 / 115:  46%|████▌     | 46/100 [16:56<19:53, 22.10s/it]\u001b[A\n",
            "[Succeeded / Failed / Skipped / Total] 46 / 60 / 10 / 116:  46%|████▌     | 46/100 [16:56<19:53, 22.10s/it]\u001b[A\n",
            "[Succeeded / Failed / Skipped / Total] 46 / 61 / 10 / 117:  46%|████▌     | 46/100 [17:08<20:07, 22.37s/it]\u001b[A\n",
            "[Succeeded / Failed / Skipped / Total] 46 / 62 / 10 / 118:  46%|████▌     | 46/100 [17:17<20:18, 22.56s/it]\u001b[A\n",
            "[Succeeded / Failed / Skipped / Total] 46 / 62 / 11 / 119:  46%|████▌     | 46/100 [17:17<20:18, 22.56s/it]\u001b[A\n",
            "[Succeeded / Failed / Skipped / Total] 46 / 63 / 11 / 120:  46%|████▌     | 46/100 [17:27<20:29, 22.77s/it]\u001b[A\n",
            "[Succeeded / Failed / Skipped / Total] 46 / 63 / 11 / 120:  47%|████▋     | 47/100 [17:36<19:50, 22.47s/it]\u001b[A\n",
            "[Succeeded / Failed / Skipped / Total] 47 / 63 / 11 / 121:  47%|████▋     | 47/100 [17:36<19:50, 22.47s/it]\u001b[A\n",
            "[Succeeded / Failed / Skipped / Total] 47 / 64 / 11 / 122:  47%|████▋     | 47/100 [17:44<20:00, 22.65s/it]\u001b[A\n",
            "[Succeeded / Failed / Skipped / Total] 47 / 64 / 11 / 122:  48%|████▊     | 48/100 [17:52<19:21, 22.34s/it]\u001b[A\n",
            "[Succeeded / Failed / Skipped / Total] 48 / 64 / 11 / 123:  48%|████▊     | 48/100 [17:52<19:21, 22.34s/it]\u001b[A\n",
            "[Succeeded / Failed / Skipped / Total] 48 / 65 / 11 / 124:  48%|████▊     | 48/100 [18:05<19:36, 22.62s/it]\u001b[A\n",
            "[Succeeded / Failed / Skipped / Total] 48 / 66 / 11 / 125:  48%|████▊     | 48/100 [18:18<19:50, 22.89s/it]\u001b[A\n",
            "[Succeeded / Failed / Skipped / Total] 48 / 67 / 11 / 126:  48%|████▊     | 48/100 [18:28<20:01, 23.10s/it]\u001b[A\n",
            "[Succeeded / Failed / Skipped / Total] 48 / 68 / 11 / 127:  48%|████▊     | 48/100 [18:38<20:12, 23.31s/it]\u001b[A\n",
            "[Succeeded / Failed / Skipped / Total] 48 / 68 / 11 / 127:  49%|████▉     | 49/100 [18:49<19:35, 23.05s/it]\u001b[A\n",
            "[Succeeded / Failed / Skipped / Total] 49 / 68 / 11 / 128:  49%|████▉     | 49/100 [18:49<19:35, 23.05s/it]\u001b[A\n",
            "[Succeeded / Failed / Skipped / Total] 49 / 69 / 11 / 129:  49%|████▉     | 49/100 [18:59<19:46, 23.26s/it]\u001b[A\n",
            "[Succeeded / Failed / Skipped / Total] 49 / 70 / 11 / 130:  49%|████▉     | 49/100 [19:15<20:02, 23.59s/it]\u001b[A\n",
            "[Succeeded / Failed / Skipped / Total] 49 / 71 / 11 / 131:  49%|████▉     | 49/100 [19:32<20:19, 23.92s/it]\u001b[A\n",
            "[Succeeded / Failed / Skipped / Total] 49 / 72 / 11 / 132:  49%|████▉     | 49/100 [19:42<20:30, 24.13s/it]\u001b[A\n",
            "[Succeeded / Failed / Skipped / Total] 49 / 72 / 11 / 132:  50%|█████     | 50/100 [19:50<19:50, 23.81s/it]\u001b[A\n",
            "[Succeeded / Failed / Skipped / Total] 50 / 72 / 11 / 133:  50%|█████     | 50/100 [19:50<19:50, 23.81s/it]\u001b[A\n",
            "[Succeeded / Failed / Skipped / Total] 50 / 73 / 11 / 134:  50%|█████     | 50/100 [19:58<19:58, 23.96s/it]\u001b[A\n",
            "[Succeeded / Failed / Skipped / Total] 50 / 73 / 12 / 135:  50%|█████     | 50/100 [19:58<19:58, 23.96s/it]\u001b[A\n",
            "[Succeeded / Failed / Skipped / Total] 50 / 74 / 12 / 136:  50%|█████     | 50/100 [20:10<20:10, 24.21s/it]\u001b[A\n",
            "[Succeeded / Failed / Skipped / Total] 50 / 75 / 12 / 137:  50%|█████     | 50/100 [20:24<20:24, 24.49s/it]\u001b[A\n",
            "[Succeeded / Failed / Skipped / Total] 50 / 76 / 12 / 138:  50%|█████     | 50/100 [20:30<20:30, 24.61s/it]\u001b[A\n",
            "[Succeeded / Failed / Skipped / Total] 50 / 76 / 13 / 139:  50%|█████     | 50/100 [20:30<20:30, 24.61s/it]\u001b[A\n",
            "[Succeeded / Failed / Skipped / Total] 50 / 76 / 13 / 139:  51%|█████     | 51/100 [20:41<19:52, 24.34s/it]\u001b[A\n",
            "[Succeeded / Failed / Skipped / Total] 51 / 76 / 13 / 140:  51%|█████     | 51/100 [20:41<19:52, 24.34s/it]\u001b[A\n",
            "[Succeeded / Failed / Skipped / Total] 51 / 77 / 13 / 141:  51%|█████     | 51/100 [20:47<19:59, 24.47s/it]\u001b[A\n",
            "[Succeeded / Failed / Skipped / Total] 51 / 78 / 13 / 142:  51%|█████     | 51/100 [20:57<20:08, 24.66s/it]\u001b[A\n",
            "[Succeeded / Failed / Skipped / Total] 51 / 78 / 14 / 143:  51%|█████     | 51/100 [20:57<20:08, 24.66s/it]\u001b[A\n",
            "[Succeeded / Failed / Skipped / Total] 51 / 79 / 14 / 144:  51%|█████     | 51/100 [21:09<20:20, 24.90s/it]\u001b[A\n",
            "[Succeeded / Failed / Skipped / Total] 51 / 79 / 14 / 144:  52%|█████▏    | 52/100 [21:20<19:41, 24.62s/it]\u001b[A\n",
            "[Succeeded / Failed / Skipped / Total] 52 / 79 / 14 / 145:  52%|█████▏    | 52/100 [21:20<19:41, 24.62s/it]\u001b[A\n",
            "[Succeeded / Failed / Skipped / Total] 52 / 80 / 14 / 146:  52%|█████▏    | 52/100 [21:35<19:55, 24.90s/it]\u001b[A\n",
            "[Succeeded / Failed / Skipped / Total] 52 / 80 / 14 / 146:  53%|█████▎    | 53/100 [21:52<19:23, 24.76s/it]\u001b[A\n",
            "[Succeeded / Failed / Skipped / Total] 53 / 80 / 14 / 147:  53%|█████▎    | 53/100 [21:52<19:23, 24.76s/it]\u001b[A\n",
            "[Succeeded / Failed / Skipped / Total] 53 / 80 / 14 / 147:  54%|█████▍    | 54/100 [21:59<18:44, 24.44s/it]\u001b[A\n",
            "[Succeeded / Failed / Skipped / Total] 54 / 80 / 14 / 148:  54%|█████▍    | 54/100 [21:59<18:44, 24.44s/it]\u001b[A\n",
            "[Succeeded / Failed / Skipped / Total] 54 / 81 / 14 / 149:  54%|█████▍    | 54/100 [22:10<18:53, 24.65s/it]\u001b[A\n",
            "[Succeeded / Failed / Skipped / Total] 54 / 82 / 14 / 150:  54%|█████▍    | 54/100 [22:22<19:03, 24.87s/it]\u001b[A\n",
            "[Succeeded / Failed / Skipped / Total] 54 / 83 / 14 / 151:  54%|█████▍    | 54/100 [22:32<19:11, 25.04s/it]\u001b[A\n",
            "[Succeeded / Failed / Skipped / Total] 54 / 83 / 14 / 151:  55%|█████▌    | 55/100 [22:42<18:34, 24.78s/it]\u001b[A\n",
            "[Succeeded / Failed / Skipped / Total] 55 / 83 / 14 / 152:  55%|█████▌    | 55/100 [22:42<18:34, 24.78s/it]\u001b[A\n",
            "[Succeeded / Failed / Skipped / Total] 55 / 83 / 14 / 152:  56%|█████▌    | 56/100 [22:50<17:57, 24.48s/it]\u001b[A\n",
            "[Succeeded / Failed / Skipped / Total] 56 / 83 / 14 / 153:  56%|█████▌    | 56/100 [22:50<17:57, 24.48s/it]\u001b[A\n",
            "[Succeeded / Failed / Skipped / Total] 56 / 84 / 14 / 154:  56%|█████▌    | 56/100 [23:02<18:06, 24.69s/it]\u001b[A\n",
            "[Succeeded / Failed / Skipped / Total] 56 / 85 / 14 / 155:  56%|█████▌    | 56/100 [23:11<18:13, 24.85s/it]\u001b[A\n",
            "[Succeeded / Failed / Skipped / Total] 56 / 85 / 14 / 155:  57%|█████▋    | 57/100 [23:16<17:33, 24.50s/it]\u001b[A\n",
            "[Succeeded / Failed / Skipped / Total] 57 / 85 / 14 / 156:  57%|█████▋    | 57/100 [23:16<17:33, 24.50s/it]\u001b[A\n",
            "[Succeeded / Failed / Skipped / Total] 57 / 86 / 14 / 157:  57%|█████▋    | 57/100 [23:27<17:41, 24.69s/it]\u001b[A\n",
            "[Succeeded / Failed / Skipped / Total] 57 / 87 / 14 / 158:  57%|█████▋    | 57/100 [23:43<17:53, 24.97s/it]\u001b[A\n",
            "[Succeeded / Failed / Skipped / Total] 57 / 88 / 14 / 159:  57%|█████▋    | 57/100 [23:53<18:01, 25.14s/it]\u001b[A\n",
            "[Succeeded / Failed / Skipped / Total] 57 / 89 / 14 / 160:  57%|█████▋    | 57/100 [24:05<18:10, 25.36s/it]\u001b[A\n",
            "[Succeeded / Failed / Skipped / Total] 57 / 90 / 14 / 161:  57%|█████▋    | 57/100 [24:14<18:17, 25.52s/it]\u001b[A\n",
            "[Succeeded / Failed / Skipped / Total] 57 / 91 / 14 / 162:  57%|█████▋    | 57/100 [24:23<18:23, 25.67s/it]\u001b[A\n",
            "[Succeeded / Failed / Skipped / Total] 57 / 91 / 14 / 162:  58%|█████▊    | 58/100 [24:28<17:43, 25.31s/it]\u001b[A\n",
            "[Succeeded / Failed / Skipped / Total] 58 / 91 / 14 / 163:  58%|█████▊    | 58/100 [24:28<17:43, 25.31s/it]\u001b[A\n",
            "[Succeeded / Failed / Skipped / Total] 58 / 91 / 14 / 163:  59%|█████▉    | 59/100 [24:42<17:09, 25.12s/it]\u001b[A\n",
            "[Succeeded / Failed / Skipped / Total] 59 / 91 / 14 / 164:  59%|█████▉    | 59/100 [24:42<17:09, 25.12s/it]\u001b[A\n",
            "[Succeeded / Failed / Skipped / Total] 59 / 92 / 14 / 165:  59%|█████▉    | 59/100 [24:51<17:16, 25.27s/it]\u001b[A\n",
            "[Succeeded / Failed / Skipped / Total] 59 / 93 / 14 / 166:  59%|█████▉    | 59/100 [24:57<17:20, 25.39s/it]\u001b[A\n",
            "[Succeeded / Failed / Skipped / Total] 59 / 93 / 14 / 166:  60%|██████    | 60/100 [25:07<16:45, 25.13s/it]\u001b[A\n",
            "[Succeeded / Failed / Skipped / Total] 60 / 93 / 14 / 167:  60%|██████    | 60/100 [25:07<16:45, 25.13s/it]\u001b[A\n",
            "[Succeeded / Failed / Skipped / Total] 60 / 93 / 15 / 168:  60%|██████    | 60/100 [25:07<16:45, 25.13s/it]\u001b[A\n",
            "[Succeeded / Failed / Skipped / Total] 60 / 93 / 15 / 168:  61%|██████    | 61/100 [25:20<16:12, 24.93s/it]\u001b[A\n",
            "[Succeeded / Failed / Skipped / Total] 61 / 93 / 15 / 169:  61%|██████    | 61/100 [25:20<16:12, 24.93s/it]\u001b[A\n",
            "[Succeeded / Failed / Skipped / Total] 61 / 93 / 15 / 169:  62%|██████▏   | 62/100 [25:30<15:37, 24.68s/it]\u001b[A\n",
            "[Succeeded / Failed / Skipped / Total] 62 / 93 / 15 / 170:  62%|██████▏   | 62/100 [25:30<15:37, 24.68s/it]\u001b[A\n",
            "[Succeeded / Failed / Skipped / Total] 62 / 94 / 15 / 171:  62%|██████▏   | 62/100 [25:38<15:42, 24.81s/it]\u001b[A\n",
            "[Succeeded / Failed / Skipped / Total] 62 / 95 / 15 / 172:  62%|██████▏   | 62/100 [25:49<15:49, 24.99s/it]\u001b[A\n",
            "[Succeeded / Failed / Skipped / Total] 62 / 96 / 15 / 173:  62%|██████▏   | 62/100 [25:59<15:55, 25.15s/it]\u001b[A\n",
            "[Succeeded / Failed / Skipped / Total] 62 / 97 / 15 / 174:  62%|██████▏   | 62/100 [26:15<16:05, 25.40s/it]\u001b[A\n",
            "[Succeeded / Failed / Skipped / Total] 62 / 98 / 15 / 175:  62%|██████▏   | 62/100 [26:27<16:12, 25.60s/it]\u001b[A\n",
            "[Succeeded / Failed / Skipped / Total] 62 / 98 / 15 / 175:  63%|██████▎   | 63/100 [26:36<15:37, 25.34s/it]\u001b[A\n",
            "[Succeeded / Failed / Skipped / Total] 63 / 98 / 15 / 176:  63%|██████▎   | 63/100 [26:36<15:37, 25.34s/it]\u001b[A\n",
            "[Succeeded / Failed / Skipped / Total] 63 / 99 / 15 / 177:  63%|██████▎   | 63/100 [26:48<15:44, 25.53s/it]\u001b[A\n",
            "[Succeeded / Failed / Skipped / Total] 63 / 100 / 15 / 178:  63%|██████▎   | 63/100 [26:56<15:49, 25.67s/it]\u001b[A\n",
            "[Succeeded / Failed / Skipped / Total] 63 / 101 / 15 / 179:  63%|██████▎   | 63/100 [27:04<15:54, 25.79s/it]\u001b[A\n",
            "[Succeeded / Failed / Skipped / Total] 63 / 101 / 15 / 179:  64%|██████▍   | 64/100 [27:18<15:21, 25.61s/it]\u001b[A\n",
            "[Succeeded / Failed / Skipped / Total] 64 / 101 / 15 / 180:  64%|██████▍   | 64/100 [27:18<15:21, 25.61s/it]\u001b[A\n",
            "[Succeeded / Failed / Skipped / Total] 64 / 102 / 15 / 181:  64%|██████▍   | 64/100 [27:27<15:26, 25.74s/it]\u001b[A\n",
            "[Succeeded / Failed / Skipped / Total] 64 / 103 / 15 / 182:  64%|██████▍   | 64/100 [27:41<15:34, 25.96s/it]\u001b[A\n",
            "[Succeeded / Failed / Skipped / Total] 64 / 104 / 15 / 183:  64%|██████▍   | 64/100 [27:57<15:43, 26.21s/it]\u001b[A\n",
            "[Succeeded / Failed / Skipped / Total] 64 / 105 / 15 / 184:  64%|██████▍   | 64/100 [28:04<15:47, 26.33s/it]\u001b[A\n",
            "[Succeeded / Failed / Skipped / Total] 64 / 106 / 15 / 185:  64%|██████▍   | 64/100 [28:11<15:51, 26.43s/it]\u001b[A\n",
            "[Succeeded / Failed / Skipped / Total] 64 / 107 / 15 / 186:  64%|██████▍   | 64/100 [28:24<15:58, 26.63s/it]\u001b[A\n",
            "[Succeeded / Failed / Skipped / Total] 64 / 108 / 15 / 187:  64%|██████▍   | 64/100 [28:32<16:03, 26.75s/it]\u001b[A\n",
            "[Succeeded / Failed / Skipped / Total] 64 / 109 / 15 / 188:  64%|██████▍   | 64/100 [28:50<16:13, 27.03s/it]\u001b[A\n",
            "[Succeeded / Failed / Skipped / Total] 64 / 110 / 15 / 189:  64%|██████▍   | 64/100 [29:00<16:18, 27.19s/it]\u001b[A\n",
            "[Succeeded / Failed / Skipped / Total] 64 / 110 / 15 / 189:  65%|██████▌   | 65/100 [29:06<15:40, 26.86s/it]\u001b[A\n",
            "[Succeeded / Failed / Skipped / Total] 65 / 110 / 15 / 190:  65%|██████▌   | 65/100 [29:06<15:40, 26.86s/it]\u001b[A\n",
            "[Succeeded / Failed / Skipped / Total] 65 / 111 / 15 / 191:  65%|██████▌   | 65/100 [29:16<15:45, 27.02s/it]\u001b[A\n",
            "[Succeeded / Failed / Skipped / Total] 65 / 111 / 15 / 191:  66%|██████▌   | 66/100 [29:22<15:08, 26.71s/it]\u001b[A\n",
            "[Succeeded / Failed / Skipped / Total] 66 / 111 / 15 / 192:  66%|██████▌   | 66/100 [29:22<15:08, 26.71s/it]\u001b[A\n",
            "[Succeeded / Failed / Skipped / Total] 66 / 111 / 16 / 193:  66%|██████▌   | 66/100 [29:22<15:08, 26.71s/it]\u001b[A\n",
            "[Succeeded / Failed / Skipped / Total] 66 / 112 / 16 / 194:  66%|██████▌   | 66/100 [29:32<15:12, 26.85s/it]\u001b[A\n",
            "[Succeeded / Failed / Skipped / Total] 66 / 113 / 16 / 195:  66%|██████▌   | 66/100 [29:44<15:19, 27.04s/it]\u001b[A\n",
            "[Succeeded / Failed / Skipped / Total] 66 / 113 / 16 / 195:  67%|██████▋   | 67/100 [29:50<14:42, 26.73s/it]\u001b[A\n",
            "[Succeeded / Failed / Skipped / Total] 67 / 113 / 16 / 196:  67%|██████▋   | 67/100 [29:50<14:42, 26.73s/it]\u001b[A\n",
            "[Succeeded / Failed / Skipped / Total] 67 / 113 / 16 / 196:  68%|██████▊   | 68/100 [30:02<14:08, 26.50s/it]\u001b[A\n",
            "[Succeeded / Failed / Skipped / Total] 68 / 113 / 16 / 197:  68%|██████▊   | 68/100 [30:02<14:08, 26.50s/it]\u001b[A\n",
            "[Succeeded / Failed / Skipped / Total] 68 / 114 / 16 / 198:  68%|██████▊   | 68/100 [30:10<14:12, 26.63s/it]\u001b[A\n",
            "[Succeeded / Failed / Skipped / Total] 68 / 114 / 16 / 198:  69%|██████▉   | 69/100 [30:19<13:37, 26.37s/it]\u001b[A\n",
            "[Succeeded / Failed / Skipped / Total] 69 / 114 / 16 / 199:  69%|██████▉   | 69/100 [30:19<13:37, 26.37s/it]\u001b[A\n",
            "[Succeeded / Failed / Skipped / Total] 69 / 115 / 16 / 200:  69%|██████▉   | 69/100 [30:34<13:44, 26.59s/it]\u001b[A\n",
            "[Succeeded / Failed / Skipped / Total] 69 / 116 / 16 / 201:  69%|██████▉   | 69/100 [30:45<13:49, 26.75s/it]\u001b[A\n",
            "[Succeeded / Failed / Skipped / Total] 69 / 117 / 16 / 202:  69%|██████▉   | 69/100 [30:58<13:55, 26.94s/it]\u001b[A\n",
            "[Succeeded / Failed / Skipped / Total] 69 / 118 / 16 / 203:  69%|██████▉   | 69/100 [31:08<13:59, 27.08s/it]\u001b[A\n",
            "[Succeeded / Failed / Skipped / Total] 69 / 119 / 16 / 204:  69%|██████▉   | 69/100 [31:18<14:04, 27.23s/it]\u001b[A\n",
            "[Succeeded / Failed / Skipped / Total] 69 / 119 / 16 / 204:  70%|███████   | 70/100 [31:24<13:27, 26.92s/it]\u001b[A\n",
            "[Succeeded / Failed / Skipped / Total] 70 / 119 / 16 / 205:  70%|███████   | 70/100 [31:24<13:27, 26.92s/it]\u001b[A\n",
            "[Succeeded / Failed / Skipped / Total] 70 / 120 / 16 / 206:  70%|███████   | 70/100 [31:33<13:31, 27.05s/it]\u001b[A\n",
            "[Succeeded / Failed / Skipped / Total] 70 / 121 / 16 / 207:  70%|███████   | 70/100 [31:38<13:33, 27.13s/it]\u001b[A\n",
            "[Succeeded / Failed / Skipped / Total] 70 / 121 / 16 / 207:  71%|███████   | 71/100 [31:49<12:59, 26.89s/it]\u001b[A\n",
            "[Succeeded / Failed / Skipped / Total] 71 / 121 / 16 / 208:  71%|███████   | 71/100 [31:49<12:59, 26.89s/it]\u001b[A\n",
            "[Succeeded / Failed / Skipped / Total] 71 / 121 / 16 / 208:  72%|███████▏  | 72/100 [31:56<12:25, 26.62s/it]\u001b[A\n",
            "[Succeeded / Failed / Skipped / Total] 72 / 121 / 16 / 209:  72%|███████▏  | 72/100 [31:56<12:25, 26.62s/it]\u001b[A\n",
            "[Succeeded / Failed / Skipped / Total] 72 / 122 / 16 / 210:  72%|███████▏  | 72/100 [32:08<12:29, 26.78s/it]\u001b[A\n",
            "[Succeeded / Failed / Skipped / Total] 72 / 123 / 16 / 211:  72%|███████▏  | 72/100 [32:19<12:34, 26.94s/it]\u001b[A\n",
            "[Succeeded / Failed / Skipped / Total] 72 / 124 / 16 / 212:  72%|███████▏  | 72/100 [32:25<12:36, 27.02s/it]\u001b[A\n",
            "[Succeeded / Failed / Skipped / Total] 72 / 125 / 16 / 213:  72%|███████▏  | 72/100 [32:35<12:40, 27.15s/it]\u001b[A\n",
            "[Succeeded / Failed / Skipped / Total] 72 / 125 / 17 / 214:  72%|███████▏  | 72/100 [32:35<12:40, 27.15s/it]\u001b[A\n",
            "[Succeeded / Failed / Skipped / Total] 72 / 126 / 17 / 215:  72%|███████▏  | 72/100 [32:48<12:45, 27.34s/it]\u001b[A\n",
            "[Succeeded / Failed / Skipped / Total] 72 / 126 / 17 / 215:  73%|███████▎  | 73/100 [32:57<12:11, 27.09s/it]\u001b[A\n",
            "[Succeeded / Failed / Skipped / Total] 73 / 126 / 17 / 216:  73%|███████▎  | 73/100 [32:57<12:11, 27.09s/it]\u001b[A\n",
            "[Succeeded / Failed / Skipped / Total] 73 / 127 / 17 / 217:  73%|███████▎  | 73/100 [33:08<12:15, 27.24s/it]\u001b[A\n",
            "[Succeeded / Failed / Skipped / Total] 73 / 128 / 17 / 218:  73%|███████▎  | 73/100 [33:18<12:19, 27.38s/it]\u001b[A\n",
            "[Succeeded / Failed / Skipped / Total] 73 / 129 / 17 / 219:  73%|███████▎  | 73/100 [33:24<12:21, 27.47s/it]\u001b[A\n",
            "[Succeeded / Failed / Skipped / Total] 73 / 129 / 17 / 219:  74%|███████▍  | 74/100 [33:33<11:47, 27.21s/it]\u001b[A\n",
            "[Succeeded / Failed / Skipped / Total] 74 / 129 / 17 / 220:  74%|███████▍  | 74/100 [33:33<11:47, 27.21s/it]\u001b[A\n",
            "[Succeeded / Failed / Skipped / Total] 74 / 129 / 17 / 220:  75%|███████▌  | 75/100 [33:42<11:14, 26.97s/it]\u001b[A\n",
            "[Succeeded / Failed / Skipped / Total] 75 / 129 / 17 / 221:  75%|███████▌  | 75/100 [33:42<11:14, 26.97s/it]\u001b[A\n",
            "[Succeeded / Failed / Skipped / Total] 75 / 130 / 17 / 222:  75%|███████▌  | 75/100 [33:50<11:16, 27.07s/it]\u001b[A\n",
            "[Succeeded / Failed / Skipped / Total] 75 / 130 / 17 / 222:  76%|███████▌  | 76/100 [33:58<10:43, 26.82s/it]\u001b[A\n",
            "[Succeeded / Failed / Skipped / Total] 76 / 130 / 17 / 223:  76%|███████▌  | 76/100 [33:58<10:43, 26.82s/it]\u001b[A\n",
            "[Succeeded / Failed / Skipped / Total] 76 / 130 / 18 / 224:  76%|███████▌  | 76/100 [33:58<10:43, 26.82s/it]\u001b[A\n",
            "[Succeeded / Failed / Skipped / Total] 76 / 130 / 18 / 224:  77%|███████▋  | 77/100 [34:07<10:11, 26.60s/it]\u001b[A\n",
            "[Succeeded / Failed / Skipped / Total] 77 / 130 / 18 / 225:  77%|███████▋  | 77/100 [34:07<10:11, 26.60s/it]\u001b[A\n",
            "[Succeeded / Failed / Skipped / Total] 77 / 131 / 18 / 226:  77%|███████▋  | 77/100 [34:21<10:15, 26.78s/it]\u001b[A\n",
            "[Succeeded / Failed / Skipped / Total] 77 / 131 / 19 / 227:  77%|███████▋  | 77/100 [34:21<10:15, 26.78s/it]\u001b[A\n",
            "[Succeeded / Failed / Skipped / Total] 77 / 131 / 19 / 227:  78%|███████▊  | 78/100 [34:27<09:43, 26.51s/it]\u001b[A\n",
            "[Succeeded / Failed / Skipped / Total] 78 / 131 / 19 / 228:  78%|███████▊  | 78/100 [34:27<09:43, 26.51s/it]\u001b[A\n",
            "[Succeeded / Failed / Skipped / Total] 78 / 132 / 19 / 229:  78%|███████▊  | 78/100 [34:35<09:45, 26.61s/it]\u001b[A\n",
            "[Succeeded / Failed / Skipped / Total] 78 / 132 / 20 / 230:  78%|███████▊  | 78/100 [34:35<09:45, 26.61s/it]\u001b[A\n",
            "[Succeeded / Failed / Skipped / Total] 78 / 132 / 20 / 230:  79%|███████▉  | 79/100 [34:47<09:14, 26.43s/it]\u001b[A\n",
            "[Succeeded / Failed / Skipped / Total] 79 / 132 / 20 / 231:  79%|███████▉  | 79/100 [34:47<09:15, 26.43s/it]\u001b[A\n",
            "[Succeeded / Failed / Skipped / Total] 79 / 133 / 20 / 232:  79%|███████▉  | 79/100 [34:54<09:16, 26.51s/it]\u001b[A\n",
            "[Succeeded / Failed / Skipped / Total] 79 / 133 / 20 / 232:  80%|████████  | 80/100 [35:04<08:46, 26.30s/it]\u001b[A\n",
            "[Succeeded / Failed / Skipped / Total] 80 / 133 / 20 / 233:  80%|████████  | 80/100 [35:04<08:46, 26.30s/it]\u001b[A\n",
            "[Succeeded / Failed / Skipped / Total] 80 / 133 / 20 / 233:  81%|████████  | 81/100 [35:10<08:15, 26.06s/it]\u001b[A\n",
            "[Succeeded / Failed / Skipped / Total] 81 / 133 / 20 / 234:  81%|████████  | 81/100 [35:10<08:15, 26.06s/it]\u001b[A\n",
            "[Succeeded / Failed / Skipped / Total] 81 / 133 / 20 / 234:  82%|████████▏ | 82/100 [35:19<07:45, 25.85s/it]\u001b[A\n",
            "[Succeeded / Failed / Skipped / Total] 82 / 133 / 20 / 235:  82%|████████▏ | 82/100 [35:19<07:45, 25.85s/it]\u001b[A\n",
            "[Succeeded / Failed / Skipped / Total] 82 / 134 / 20 / 236:  82%|████████▏ | 82/100 [35:31<07:47, 25.99s/it]\u001b[A\n",
            "[Succeeded / Failed / Skipped / Total] 82 / 135 / 20 / 237:  82%|████████▏ | 82/100 [35:42<07:50, 26.12s/it]\u001b[A\n",
            "[Succeeded / Failed / Skipped / Total] 82 / 136 / 20 / 238:  82%|████████▏ | 82/100 [35:56<07:53, 26.29s/it]\u001b[A\n",
            "[Succeeded / Failed / Skipped / Total] 82 / 137 / 20 / 239:  82%|████████▏ | 82/100 [36:07<07:55, 26.43s/it]\u001b[A\n",
            "[Succeeded / Failed / Skipped / Total] 82 / 137 / 20 / 239:  83%|████████▎ | 83/100 [36:16<07:25, 26.22s/it]\u001b[A\n",
            "[Succeeded / Failed / Skipped / Total] 83 / 137 / 20 / 240:  83%|████████▎ | 83/100 [36:16<07:25, 26.22s/it]\u001b[A\n",
            "[Succeeded / Failed / Skipped / Total] 83 / 137 / 21 / 241:  83%|████████▎ | 83/100 [36:16<07:25, 26.22s/it]\u001b[A\n",
            "[Succeeded / Failed / Skipped / Total] 83 / 137 / 22 / 242:  83%|████████▎ | 83/100 [36:16<07:25, 26.22s/it]\u001b[A\n",
            "[Succeeded / Failed / Skipped / Total] 83 / 137 / 22 / 242:  84%|████████▍ | 84/100 [36:21<06:55, 25.97s/it]\u001b[A\n",
            "[Succeeded / Failed / Skipped / Total] 84 / 137 / 22 / 243:  84%|████████▍ | 84/100 [36:21<06:55, 25.98s/it]\u001b[A\n",
            "[Succeeded / Failed / Skipped / Total] 84 / 137 / 22 / 243:  85%|████████▌ | 85/100 [36:29<06:26, 25.76s/it]\u001b[A\n",
            "[Succeeded / Failed / Skipped / Total] 85 / 137 / 22 / 244:  85%|████████▌ | 85/100 [36:29<06:26, 25.76s/it]\u001b[A\n",
            "[Succeeded / Failed / Skipped / Total] 85 / 138 / 22 / 245:  85%|████████▌ | 85/100 [36:40<06:28, 25.89s/it]\u001b[A\n",
            "[Succeeded / Failed / Skipped / Total] 85 / 138 / 22 / 245:  86%|████████▌ | 86/100 [36:49<05:59, 25.69s/it]\u001b[A\n",
            "[Succeeded / Failed / Skipped / Total] 86 / 138 / 22 / 246:  86%|████████▌ | 86/100 [36:49<05:59, 25.69s/it]\u001b[A\n",
            "[Succeeded / Failed / Skipped / Total] 86 / 139 / 22 / 247:  86%|████████▌ | 86/100 [37:01<06:01, 25.84s/it]\u001b[A\n",
            "[Succeeded / Failed / Skipped / Total] 86 / 140 / 22 / 248:  86%|████████▌ | 86/100 [37:13<06:03, 25.98s/it]\u001b[A\n",
            "[Succeeded / Failed / Skipped / Total] 86 / 140 / 22 / 248:  87%|████████▋ | 87/100 [37:21<05:34, 25.76s/it]\u001b[A\n",
            "[Succeeded / Failed / Skipped / Total] 87 / 140 / 22 / 249:  87%|████████▋ | 87/100 [37:21<05:34, 25.77s/it]\u001b[A\n",
            "[Succeeded / Failed / Skipped / Total] 87 / 140 / 22 / 249:  88%|████████▊ | 88/100 [37:32<05:07, 25.60s/it]\u001b[A\n",
            "[Succeeded / Failed / Skipped / Total] 88 / 140 / 22 / 250:  88%|████████▊ | 88/100 [37:32<05:07, 25.60s/it]\u001b[A\n",
            "[Succeeded / Failed / Skipped / Total] 88 / 141 / 22 / 251:  88%|████████▊ | 88/100 [37:41<05:08, 25.70s/it]\u001b[A\n",
            "[Succeeded / Failed / Skipped / Total] 88 / 142 / 22 / 252:  88%|████████▊ | 88/100 [37:55<05:10, 25.85s/it]\u001b[A\n",
            "[Succeeded / Failed / Skipped / Total] 88 / 143 / 22 / 253:  88%|████████▊ | 88/100 [38:06<05:11, 25.99s/it]\u001b[A\n",
            "[Succeeded / Failed / Skipped / Total] 88 / 143 / 22 / 253:  89%|████████▉ | 89/100 [38:15<04:43, 25.79s/it]\u001b[A\n",
            "[Succeeded / Failed / Skipped / Total] 89 / 143 / 22 / 254:  89%|████████▉ | 89/100 [38:15<04:43, 25.79s/it]\u001b[A\n",
            "[Succeeded / Failed / Skipped / Total] 89 / 143 / 22 / 254:  90%|█████████ | 90/100 [38:22<04:15, 25.59s/it]\u001b[A\n",
            "[Succeeded / Failed / Skipped / Total] 90 / 143 / 22 / 255:  90%|█████████ | 90/100 [38:22<04:15, 25.59s/it]\u001b[A\n",
            "[Succeeded / Failed / Skipped / Total] 90 / 144 / 22 / 256:  90%|█████████ | 90/100 [38:34<04:17, 25.71s/it]\u001b[A\n",
            "[Succeeded / Failed / Skipped / Total] 90 / 144 / 22 / 256:  91%|█████████ | 91/100 [38:40<03:49, 25.50s/it]\u001b[A\n",
            "[Succeeded / Failed / Skipped / Total] 91 / 144 / 22 / 257:  91%|█████████ | 91/100 [38:40<03:49, 25.50s/it]\u001b[A\n",
            "[Succeeded / Failed / Skipped / Total] 91 / 144 / 22 / 257:  92%|█████████▏| 92/100 [38:47<03:22, 25.29s/it]\u001b[A\n",
            "[Succeeded / Failed / Skipped / Total] 92 / 144 / 22 / 258:  92%|█████████▏| 92/100 [38:47<03:22, 25.29s/it]\u001b[A\n",
            "[Succeeded / Failed / Skipped / Total] 92 / 145 / 22 / 259:  92%|█████████▏| 92/100 [38:57<03:23, 25.41s/it]\u001b[A\n",
            "[Succeeded / Failed / Skipped / Total] 92 / 145 / 22 / 259:  93%|█████████▎| 93/100 [39:03<02:56, 25.20s/it]\u001b[A\n",
            "[Succeeded / Failed / Skipped / Total] 93 / 145 / 22 / 260:  93%|█████████▎| 93/100 [39:03<02:56, 25.20s/it]\u001b[A\n",
            "[Succeeded / Failed / Skipped / Total] 93 / 146 / 22 / 261:  93%|█████████▎| 93/100 [39:15<02:57, 25.32s/it]\u001b[A\n",
            "[Succeeded / Failed / Skipped / Total] 93 / 147 / 22 / 262:  93%|█████████▎| 93/100 [39:25<02:58, 25.44s/it]\u001b[A\n",
            "[Succeeded / Failed / Skipped / Total] 93 / 147 / 22 / 262:  94%|█████████▍| 94/100 [39:36<02:31, 25.28s/it]\u001b[A\n",
            "[Succeeded / Failed / Skipped / Total] 94 / 147 / 22 / 263:  94%|█████████▍| 94/100 [39:36<02:31, 25.28s/it]\u001b[A\n",
            "[Succeeded / Failed / Skipped / Total] 94 / 148 / 22 / 264:  94%|█████████▍| 94/100 [39:47<02:32, 25.40s/it]\u001b[A\n",
            "[Succeeded / Failed / Skipped / Total] 94 / 148 / 23 / 265:  94%|█████████▍| 94/100 [39:47<02:32, 25.40s/it]\u001b[A\n",
            "[Succeeded / Failed / Skipped / Total] 94 / 149 / 23 / 266:  94%|█████████▍| 94/100 [39:53<02:32, 25.46s/it]\u001b[A\n",
            "[Succeeded / Failed / Skipped / Total] 94 / 150 / 23 / 267:  94%|█████████▍| 94/100 [40:01<02:33, 25.55s/it]\u001b[A\n",
            "[Succeeded / Failed / Skipped / Total] 94 / 151 / 23 / 268:  94%|█████████▍| 94/100 [40:08<02:33, 25.62s/it]\u001b[A\n",
            "[Succeeded / Failed / Skipped / Total] 94 / 152 / 23 / 269:  94%|█████████▍| 94/100 [40:23<02:34, 25.78s/it]\u001b[A\n",
            "[Succeeded / Failed / Skipped / Total] 94 / 152 / 23 / 269:  95%|█████████▌| 95/100 [40:32<02:08, 25.60s/it]\u001b[A\n",
            "[Succeeded / Failed / Skipped / Total] 95 / 152 / 23 / 270:  95%|█████████▌| 95/100 [40:32<02:08, 25.60s/it]\u001b[A\n",
            "[Succeeded / Failed / Skipped / Total] 95 / 152 / 23 / 270:  96%|█████████▌| 96/100 [40:38<01:41, 25.40s/it]\u001b[A\n",
            "[Succeeded / Failed / Skipped / Total] 96 / 152 / 23 / 271:  96%|█████████▌| 96/100 [40:38<01:41, 25.40s/it]\u001b[A\n",
            "[Succeeded / Failed / Skipped / Total] 96 / 153 / 23 / 272:  96%|█████████▌| 96/100 [40:47<01:41, 25.50s/it]\u001b[A\n",
            "[Succeeded / Failed / Skipped / Total] 96 / 154 / 23 / 273:  96%|█████████▌| 96/100 [40:58<01:42, 25.61s/it]\u001b[A\n",
            "[Succeeded / Failed / Skipped / Total] 96 / 155 / 23 / 274:  96%|█████████▌| 96/100 [41:06<01:42, 25.69s/it]\u001b[A\n",
            "[Succeeded / Failed / Skipped / Total] 96 / 156 / 23 / 275:  96%|█████████▌| 96/100 [41:15<01:43, 25.78s/it]\u001b[A\n",
            "[Succeeded / Failed / Skipped / Total] 96 / 157 / 23 / 276:  96%|█████████▌| 96/100 [41:21<01:43, 25.85s/it]\u001b[A\n",
            "[Succeeded / Failed / Skipped / Total] 96 / 157 / 23 / 276:  97%|█████████▋| 97/100 [41:30<01:17, 25.68s/it]\u001b[A\n",
            "[Succeeded / Failed / Skipped / Total] 97 / 157 / 23 / 277:  97%|█████████▋| 97/100 [41:30<01:17, 25.68s/it]\u001b[A\n",
            "[Succeeded / Failed / Skipped / Total] 97 / 158 / 23 / 278:  97%|█████████▋| 97/100 [41:40<01:17, 25.78s/it]\u001b[A\n",
            "[Succeeded / Failed / Skipped / Total] 97 / 158 / 23 / 278:  98%|█████████▊| 98/100 [41:52<00:51, 25.64s/it]\u001b[A\n",
            "[Succeeded / Failed / Skipped / Total] 98 / 158 / 23 / 279:  98%|█████████▊| 98/100 [41:53<00:51, 25.64s/it]\u001b[A\n",
            "[Succeeded / Failed / Skipped / Total] 98 / 158 / 23 / 279:  99%|█████████▉| 99/100 [41:59<00:25, 25.45s/it]\u001b[A\n",
            "[Succeeded / Failed / Skipped / Total] 99 / 158 / 23 / 280:  99%|█████████▉| 99/100 [41:59<00:25, 25.45s/it]\u001b[A\n",
            "[Succeeded / Failed / Skipped / Total] 99 / 158 / 23 / 280: 100%|██████████| 100/100 [42:10<00:00, 25.31s/it]\u001b[A\n",
            "[Succeeded / Failed / Skipped / Total] 100 / 158 / 23 / 281: 100%|██████████| 100/100 [42:10<00:00, 25.31s/it]\n",
            "textattack: Total number of attack results: 281\n",
            "textattack: Attack success rate: 38.76% [100 / 258]\n"
          ]
        },
        {
          "output_type": "stream",
          "name": "stdout",
          "text": [
            "\n",
            "\n"
          ]
        },
        {
          "output_type": "stream",
          "name": "stderr",
          "text": [
            "Loss 0.20297: 100%|██████████| 863/863 [13:16<00:00,  1.08it/s]\n",
            "textattack: Train accuracy: 91.49%\n",
            "textattack: Eval accuracy: 79.55%\n",
            "textattack: ==========================================================\n",
            "textattack: Epoch 3\n",
            "textattack: Attacking model to generate new adversarial training set...\n",
            "\n",
            "  0%|          | 0/100 [00:00<?, ?it/s]\u001b[A\n",
            "[Succeeded / Failed / Skipped / Total] 0 / 1 / 0 / 1:   0%|          | 0/100 [00:10<?, ?it/s]\u001b[A\n",
            "[Succeeded / Failed / Skipped / Total] 0 / 2 / 0 / 2:   0%|          | 0/100 [00:23<?, ?it/s]\u001b[A\n",
            "[Succeeded / Failed / Skipped / Total] 0 / 2 / 0 / 2:   1%|          | 1/100 [00:30<49:54, 30.25s/it]\u001b[A\n",
            "[Succeeded / Failed / Skipped / Total] 1 / 2 / 0 / 3:   1%|          | 1/100 [00:30<49:56, 30.27s/it]\u001b[A\n",
            "[Succeeded / Failed / Skipped / Total] 1 / 2 / 0 / 3:   2%|▏         | 2/100 [00:42<34:25, 21.07s/it]\u001b[A\n",
            "[Succeeded / Failed / Skipped / Total] 2 / 2 / 0 / 4:   2%|▏         | 2/100 [00:42<34:26, 21.08s/it]\u001b[A\n",
            "[Succeeded / Failed / Skipped / Total] 2 / 3 / 0 / 5:   2%|▏         | 2/100 [00:52<42:57, 26.30s/it]\u001b[A\n",
            "[Succeeded / Failed / Skipped / Total] 2 / 4 / 0 / 6:   2%|▏         | 2/100 [01:07<55:03, 33.71s/it]\u001b[A\n",
            "[Succeeded / Failed / Skipped / Total] 2 / 5 / 0 / 7:   2%|▏         | 2/100 [01:17<1:02:56, 38.54s/it]\u001b[A\n",
            "[Succeeded / Failed / Skipped / Total] 2 / 6 / 0 / 8:   2%|▏         | 2/100 [01:25<1:09:44, 42.70s/it]\u001b[A\n",
            "[Succeeded / Failed / Skipped / Total] 2 / 7 / 0 / 9:   2%|▏         | 2/100 [01:33<1:16:08, 46.62s/it]\u001b[A\n",
            "[Succeeded / Failed / Skipped / Total] 2 / 8 / 0 / 10:   2%|▏         | 2/100 [01:46<1:26:34, 53.00s/it]\u001b[A\n",
            "[Succeeded / Failed / Skipped / Total] 2 / 8 / 0 / 10:   3%|▎         | 3/100 [01:57<1:03:14, 39.12s/it]\u001b[A\n",
            "[Succeeded / Failed / Skipped / Total] 3 / 8 / 0 / 11:   3%|▎         | 3/100 [01:57<1:03:14, 39.12s/it]\u001b[A\n",
            "[Succeeded / Failed / Skipped / Total] 3 / 9 / 0 / 12:   3%|▎         | 3/100 [02:08<1:09:01, 42.70s/it]\u001b[A\n",
            "[Succeeded / Failed / Skipped / Total] 3 / 10 / 0 / 13:   3%|▎         | 3/100 [02:18<1:14:51, 46.30s/it]\u001b[A\n",
            "[Succeeded / Failed / Skipped / Total] 3 / 10 / 0 / 13:   4%|▍         | 4/100 [02:25<58:01, 36.26s/it]  \u001b[A\n",
            "[Succeeded / Failed / Skipped / Total] 4 / 10 / 0 / 14:   4%|▍         | 4/100 [02:25<58:01, 36.27s/it]\u001b[A\n",
            "[Succeeded / Failed / Skipped / Total] 4 / 11 / 0 / 15:   4%|▍         | 4/100 [02:37<1:03:07, 39.46s/it]\u001b[A\n",
            "[Succeeded / Failed / Skipped / Total] 4 / 11 / 0 / 15:   5%|▌         | 5/100 [02:49<53:40, 33.90s/it]  \u001b[A\n",
            "[Succeeded / Failed / Skipped / Total] 5 / 11 / 0 / 16:   5%|▌         | 5/100 [02:49<53:41, 33.91s/it]\u001b[A\n",
            "[Succeeded / Failed / Skipped / Total] 5 / 12 / 0 / 17:   5%|▌         | 5/100 [03:00<57:11, 36.13s/it]\u001b[A\n",
            "[Succeeded / Failed / Skipped / Total] 5 / 13 / 0 / 18:   5%|▌         | 5/100 [03:09<59:59, 37.89s/it]\u001b[A\n",
            "[Succeeded / Failed / Skipped / Total] 5 / 14 / 0 / 19:   5%|▌         | 5/100 [03:18<1:02:47, 39.66s/it]\u001b[A\n",
            "[Succeeded / Failed / Skipped / Total] 5 / 15 / 0 / 20:   5%|▌         | 5/100 [03:24<1:04:45, 40.90s/it]\u001b[A\n",
            "[Succeeded / Failed / Skipped / Total] 5 / 15 / 0 / 20:   6%|▌         | 6/100 [03:39<57:24, 36.65s/it]  \u001b[A\n",
            "[Succeeded / Failed / Skipped / Total] 6 / 15 / 0 / 21:   6%|▌         | 6/100 [03:39<57:25, 36.65s/it]\u001b[A\n",
            "[Succeeded / Failed / Skipped / Total] 6 / 16 / 0 / 22:   6%|▌         | 6/100 [03:49<59:56, 38.26s/it]\u001b[A\n",
            "[Succeeded / Failed / Skipped / Total] 6 / 16 / 0 / 22:   7%|▋         | 7/100 [03:58<52:50, 34.09s/it]\u001b[A\n",
            "[Succeeded / Failed / Skipped / Total] 7 / 16 / 0 / 23:   7%|▋         | 7/100 [03:58<52:50, 34.09s/it]\u001b[A\n",
            "[Succeeded / Failed / Skipped / Total] 7 / 17 / 0 / 24:   7%|▋         | 7/100 [04:08<54:58, 35.46s/it]\u001b[A\n",
            "[Succeeded / Failed / Skipped / Total] 7 / 17 / 0 / 24:   8%|▊         | 8/100 [04:14<48:46, 31.81s/it]\u001b[A\n",
            "[Succeeded / Failed / Skipped / Total] 8 / 17 / 0 / 25:   8%|▊         | 8/100 [04:14<48:46, 31.81s/it]\u001b[A\n",
            "[Succeeded / Failed / Skipped / Total] 8 / 18 / 0 / 26:   8%|▊         | 8/100 [04:23<50:32, 32.96s/it]\u001b[A\n",
            "[Succeeded / Failed / Skipped / Total] 8 / 18 / 0 / 26:   9%|▉         | 9/100 [04:30<45:33, 30.04s/it]\u001b[A\n",
            "[Succeeded / Failed / Skipped / Total] 9 / 18 / 0 / 27:   9%|▉         | 9/100 [04:30<45:33, 30.04s/it]\u001b[A\n",
            "[Succeeded / Failed / Skipped / Total] 9 / 19 / 0 / 28:   9%|▉         | 9/100 [04:46<48:15, 31.82s/it]\u001b[A\n",
            "[Succeeded / Failed / Skipped / Total] 9 / 19 / 0 / 28:  10%|█         | 10/100 [05:00<45:03, 30.04s/it]\u001b[A\n",
            "[Succeeded / Failed / Skipped / Total] 10 / 19 / 0 / 29:  10%|█         | 10/100 [05:00<45:03, 30.04s/it]\u001b[A\n",
            "[Succeeded / Failed / Skipped / Total] 10 / 20 / 0 / 30:  10%|█         | 10/100 [05:10<46:34, 31.05s/it]\u001b[A\n",
            "[Succeeded / Failed / Skipped / Total] 10 / 21 / 0 / 31:  10%|█         | 10/100 [05:19<47:54, 31.94s/it]\u001b[A\n",
            "[Succeeded / Failed / Skipped / Total] 10 / 21 / 0 / 31:  11%|█         | 11/100 [05:26<44:01, 29.68s/it]\u001b[A\n",
            "[Succeeded / Failed / Skipped / Total] 11 / 21 / 0 / 32:  11%|█         | 11/100 [05:26<44:01, 29.68s/it]\u001b[A\n",
            "[Succeeded / Failed / Skipped / Total] 11 / 21 / 1 / 33:  11%|█         | 11/100 [05:26<44:01, 29.68s/it]\u001b[A\n",
            "[Succeeded / Failed / Skipped / Total] 11 / 21 / 2 / 34:  11%|█         | 11/100 [05:26<44:02, 29.69s/it]\u001b[A\n",
            "[Succeeded / Failed / Skipped / Total] 11 / 21 / 2 / 34:  12%|█▏        | 12/100 [05:32<40:36, 27.69s/it]\u001b[A\n",
            "[Succeeded / Failed / Skipped / Total] 12 / 21 / 2 / 35:  12%|█▏        | 12/100 [05:32<40:36, 27.69s/it]\u001b[A\n",
            "[Succeeded / Failed / Skipped / Total] 12 / 21 / 2 / 35:  13%|█▎        | 13/100 [05:44<38:24, 26.49s/it]\u001b[A\n",
            "[Succeeded / Failed / Skipped / Total] 13 / 21 / 2 / 36:  13%|█▎        | 13/100 [05:44<38:24, 26.49s/it]\u001b[A\n",
            "[Succeeded / Failed / Skipped / Total] 13 / 22 / 2 / 37:  13%|█▎        | 13/100 [05:53<39:27, 27.21s/it]\u001b[A\n",
            "[Succeeded / Failed / Skipped / Total] 13 / 22 / 2 / 37:  14%|█▍        | 14/100 [05:59<36:45, 25.65s/it]\u001b[A\n",
            "[Succeeded / Failed / Skipped / Total] 14 / 22 / 2 / 38:  14%|█▍        | 14/100 [05:59<36:46, 25.65s/it]\u001b[A\n",
            "[Succeeded / Failed / Skipped / Total] 14 / 23 / 2 / 39:  14%|█▍        | 14/100 [06:14<38:18, 26.73s/it]\u001b[A\n",
            "[Succeeded / Failed / Skipped / Total] 14 / 23 / 2 / 39:  15%|█▌        | 15/100 [06:20<35:54, 25.34s/it]\u001b[A\n",
            "[Succeeded / Failed / Skipped / Total] 15 / 23 / 2 / 40:  15%|█▌        | 15/100 [06:20<35:54, 25.34s/it]\u001b[A\n",
            "[Succeeded / Failed / Skipped / Total] 15 / 24 / 2 / 41:  15%|█▌        | 15/100 [06:34<37:15, 26.30s/it]\u001b[A\n",
            "[Succeeded / Failed / Skipped / Total] 15 / 24 / 3 / 42:  15%|█▌        | 15/100 [06:34<37:16, 26.31s/it]\u001b[A\n",
            "[Succeeded / Failed / Skipped / Total] 15 / 24 / 4 / 43:  15%|█▌        | 15/100 [06:34<37:16, 26.31s/it]\u001b[A\n",
            "[Succeeded / Failed / Skipped / Total] 15 / 25 / 4 / 44:  15%|█▌        | 15/100 [06:45<38:20, 27.07s/it]\u001b[A\n",
            "[Succeeded / Failed / Skipped / Total] 15 / 25 / 4 / 44:  16%|█▌        | 16/100 [06:56<36:24, 26.00s/it]\u001b[A\n",
            "[Succeeded / Failed / Skipped / Total] 16 / 25 / 4 / 45:  16%|█▌        | 16/100 [06:56<36:24, 26.00s/it]\u001b[A\n",
            "[Succeeded / Failed / Skipped / Total] 16 / 26 / 4 / 46:  16%|█▌        | 16/100 [07:04<37:10, 26.55s/it]\u001b[A\n",
            "[Succeeded / Failed / Skipped / Total] 16 / 26 / 5 / 47:  16%|█▌        | 16/100 [07:04<37:10, 26.56s/it]\u001b[A\n",
            "[Succeeded / Failed / Skipped / Total] 16 / 27 / 5 / 48:  16%|█▌        | 16/100 [07:17<38:18, 27.36s/it]\u001b[A\n",
            "[Succeeded / Failed / Skipped / Total] 16 / 28 / 5 / 49:  16%|█▌        | 16/100 [07:28<39:16, 28.05s/it]\u001b[A\n",
            "[Succeeded / Failed / Skipped / Total] 16 / 29 / 5 / 50:  16%|█▌        | 16/100 [07:37<39:59, 28.56s/it]\u001b[A\n",
            "[Succeeded / Failed / Skipped / Total] 16 / 29 / 5 / 50:  17%|█▋        | 17/100 [07:43<37:42, 27.26s/it]\u001b[A\n",
            "[Succeeded / Failed / Skipped / Total] 17 / 29 / 5 / 51:  17%|█▋        | 17/100 [07:43<37:42, 27.26s/it]\u001b[A\n",
            "[Succeeded / Failed / Skipped / Total] 17 / 29 / 5 / 51:  18%|█▊        | 18/100 [07:48<35:36, 26.05s/it]\u001b[A\n",
            "[Succeeded / Failed / Skipped / Total] 18 / 29 / 5 / 52:  18%|█▊        | 18/100 [07:48<35:36, 26.05s/it]\u001b[A\n",
            "[Succeeded / Failed / Skipped / Total] 18 / 29 / 5 / 52:  19%|█▉        | 19/100 [08:00<34:09, 25.30s/it]\u001b[A\n",
            "[Succeeded / Failed / Skipped / Total] 19 / 29 / 5 / 53:  19%|█▉        | 19/100 [08:00<34:09, 25.30s/it]\u001b[A\n",
            "[Succeeded / Failed / Skipped / Total] 19 / 30 / 5 / 54:  19%|█▉        | 19/100 [08:10<34:53, 25.84s/it]\u001b[A\n",
            "[Succeeded / Failed / Skipped / Total] 19 / 31 / 5 / 55:  19%|█▉        | 19/100 [08:23<35:44, 26.48s/it]\u001b[A\n",
            "[Succeeded / Failed / Skipped / Total] 19 / 32 / 5 / 56:  19%|█▉        | 19/100 [08:35<36:36, 27.11s/it]\u001b[A\n",
            "[Succeeded / Failed / Skipped / Total] 19 / 33 / 5 / 57:  19%|█▉        | 19/100 [08:43<37:13, 27.57s/it]\u001b[A\n",
            "[Succeeded / Failed / Skipped / Total] 19 / 33 / 5 / 57:  20%|██        | 20/100 [08:56<35:47, 26.84s/it]\u001b[A\n",
            "[Succeeded / Failed / Skipped / Total] 20 / 33 / 5 / 58:  20%|██        | 20/100 [08:56<35:47, 26.84s/it]\u001b[A\n",
            "[Succeeded / Failed / Skipped / Total] 20 / 33 / 5 / 58:  21%|██        | 21/100 [09:08<34:22, 26.11s/it]\u001b[A\n",
            "[Succeeded / Failed / Skipped / Total] 21 / 33 / 5 / 59:  21%|██        | 21/100 [09:08<34:22, 26.11s/it]\u001b[A\n",
            "[Succeeded / Failed / Skipped / Total] 21 / 34 / 5 / 60:  21%|██        | 21/100 [09:15<34:49, 26.45s/it]\u001b[A\n",
            "[Succeeded / Failed / Skipped / Total] 21 / 35 / 5 / 61:  21%|██        | 21/100 [09:23<35:18, 26.81s/it]\u001b[A\n",
            "[Succeeded / Failed / Skipped / Total] 21 / 35 / 6 / 62:  21%|██        | 21/100 [09:23<35:18, 26.81s/it]\u001b[A\n",
            "[Succeeded / Failed / Skipped / Total] 21 / 35 / 6 / 62:  22%|██▏       | 22/100 [09:38<34:12, 26.32s/it]\u001b[A\n",
            "[Succeeded / Failed / Skipped / Total] 22 / 35 / 6 / 63:  22%|██▏       | 22/100 [09:38<34:12, 26.32s/it]\u001b[A\n",
            "[Succeeded / Failed / Skipped / Total] 22 / 36 / 6 / 64:  22%|██▏       | 22/100 [09:47<34:43, 26.71s/it]\u001b[A\n",
            "[Succeeded / Failed / Skipped / Total] 22 / 37 / 6 / 65:  22%|██▏       | 22/100 [09:55<35:09, 27.05s/it]\u001b[A\n",
            "[Succeeded / Failed / Skipped / Total] 22 / 37 / 6 / 65:  23%|██▎       | 23/100 [10:05<33:48, 26.35s/it]\u001b[A\n",
            "[Succeeded / Failed / Skipped / Total] 23 / 37 / 6 / 66:  23%|██▎       | 23/100 [10:06<33:48, 26.35s/it]\u001b[A\n",
            "[Succeeded / Failed / Skipped / Total] 23 / 37 / 6 / 66:  24%|██▍       | 24/100 [10:12<32:20, 25.53s/it]\u001b[A\n",
            "[Succeeded / Failed / Skipped / Total] 24 / 37 / 6 / 67:  24%|██▍       | 24/100 [10:12<32:20, 25.53s/it]\u001b[A\n",
            "[Succeeded / Failed / Skipped / Total] 24 / 38 / 6 / 68:  24%|██▍       | 24/100 [10:19<32:40, 25.80s/it]\u001b[A\n",
            "[Succeeded / Failed / Skipped / Total] 24 / 39 / 6 / 69:  24%|██▍       | 24/100 [10:27<33:07, 26.15s/it]\u001b[A\n",
            "[Succeeded / Failed / Skipped / Total] 24 / 39 / 6 / 69:  25%|██▌       | 25/100 [10:37<31:51, 25.48s/it]\u001b[A\n",
            "[Succeeded / Failed / Skipped / Total] 25 / 39 / 6 / 70:  25%|██▌       | 25/100 [10:37<31:51, 25.48s/it]\u001b[A\n",
            "[Succeeded / Failed / Skipped / Total] 25 / 40 / 6 / 71:  25%|██▌       | 25/100 [10:45<32:15, 25.80s/it]\u001b[A\n",
            "[Succeeded / Failed / Skipped / Total] 25 / 41 / 6 / 72:  25%|██▌       | 25/100 [10:55<32:45, 26.21s/it]\u001b[A\n",
            "[Succeeded / Failed / Skipped / Total] 25 / 41 / 6 / 72:  26%|██▌       | 26/100 [11:05<31:32, 25.58s/it]\u001b[A\n",
            "[Succeeded / Failed / Skipped / Total] 26 / 41 / 6 / 73:  26%|██▌       | 26/100 [11:05<31:32, 25.58s/it]\u001b[A\n",
            "[Succeeded / Failed / Skipped / Total] 26 / 41 / 6 / 73:  27%|██▋       | 27/100 [11:13<30:21, 24.95s/it]\u001b[A\n",
            "[Succeeded / Failed / Skipped / Total] 27 / 41 / 6 / 74:  27%|██▋       | 27/100 [11:13<30:21, 24.95s/it]\u001b[A\n",
            "[Succeeded / Failed / Skipped / Total] 27 / 42 / 6 / 75:  27%|██▋       | 27/100 [11:26<30:56, 25.42s/it]\u001b[A\n",
            "[Succeeded / Failed / Skipped / Total] 27 / 43 / 6 / 76:  27%|██▋       | 27/100 [11:35<31:19, 25.75s/it]\u001b[A\n",
            "[Succeeded / Failed / Skipped / Total] 27 / 44 / 6 / 77:  27%|██▋       | 27/100 [11:46<31:49, 26.15s/it]\u001b[A\n",
            "[Succeeded / Failed / Skipped / Total] 27 / 44 / 6 / 77:  28%|██▊       | 28/100 [11:52<30:31, 25.44s/it]\u001b[A\n",
            "[Succeeded / Failed / Skipped / Total] 28 / 44 / 6 / 78:  28%|██▊       | 28/100 [11:52<30:31, 25.44s/it]\u001b[A\n",
            "[Succeeded / Failed / Skipped / Total] 28 / 44 / 6 / 78:  29%|██▉       | 29/100 [11:58<29:19, 24.78s/it]\u001b[A\n",
            "[Succeeded / Failed / Skipped / Total] 29 / 44 / 6 / 79:  29%|██▉       | 29/100 [11:58<29:19, 24.78s/it]\u001b[A\n",
            "[Succeeded / Failed / Skipped / Total] 29 / 44 / 6 / 79:  30%|███       | 30/100 [12:07<28:17, 24.25s/it]\u001b[A\n",
            "[Succeeded / Failed / Skipped / Total] 30 / 44 / 6 / 80:  30%|███       | 30/100 [12:07<28:17, 24.25s/it]\u001b[A\n",
            "[Succeeded / Failed / Skipped / Total] 30 / 45 / 6 / 81:  30%|███       | 30/100 [12:13<28:32, 24.46s/it]\u001b[A\n",
            "[Succeeded / Failed / Skipped / Total] 30 / 45 / 6 / 81:  31%|███       | 31/100 [12:23<27:33, 23.97s/it]\u001b[A\n",
            "[Succeeded / Failed / Skipped / Total] 31 / 45 / 6 / 82:  31%|███       | 31/100 [12:23<27:33, 23.97s/it]\u001b[A\n",
            "[Succeeded / Failed / Skipped / Total] 31 / 46 / 6 / 83:  31%|███       | 31/100 [12:31<27:53, 24.26s/it]\u001b[A\n",
            "[Succeeded / Failed / Skipped / Total] 31 / 46 / 7 / 84:  31%|███       | 31/100 [12:31<27:53, 24.26s/it]\u001b[A\n",
            "[Succeeded / Failed / Skipped / Total] 31 / 47 / 7 / 85:  31%|███       | 31/100 [12:39<28:10, 24.51s/it]\u001b[A\n",
            "[Succeeded / Failed / Skipped / Total] 31 / 47 / 7 / 85:  32%|███▏      | 32/100 [12:46<27:08, 23.94s/it]\u001b[A\n",
            "[Succeeded / Failed / Skipped / Total] 32 / 47 / 7 / 86:  32%|███▏      | 32/100 [12:46<27:08, 23.94s/it]\u001b[A\n",
            "[Succeeded / Failed / Skipped / Total] 32 / 48 / 7 / 87:  32%|███▏      | 32/100 [12:52<27:21, 24.14s/it]\u001b[A\n",
            "[Succeeded / Failed / Skipped / Total] 32 / 49 / 7 / 88:  32%|███▏      | 32/100 [12:59<27:35, 24.35s/it]\u001b[A\n",
            "[Succeeded / Failed / Skipped / Total] 32 / 50 / 7 / 89:  32%|███▏      | 32/100 [13:09<27:56, 24.66s/it]\u001b[A\n",
            "[Succeeded / Failed / Skipped / Total] 32 / 51 / 7 / 90:  32%|███▏      | 32/100 [13:15<28:10, 24.86s/it]\u001b[A\n",
            "[Succeeded / Failed / Skipped / Total] 32 / 51 / 7 / 90:  33%|███▎      | 33/100 [13:24<27:12, 24.37s/it]\u001b[A\n",
            "[Succeeded / Failed / Skipped / Total] 33 / 51 / 7 / 91:  33%|███▎      | 33/100 [13:24<27:12, 24.37s/it]\u001b[A\n",
            "[Succeeded / Failed / Skipped / Total] 33 / 51 / 8 / 92:  33%|███▎      | 33/100 [13:24<27:13, 24.37s/it]\u001b[A\n",
            "[Succeeded / Failed / Skipped / Total] 33 / 52 / 8 / 93:  33%|███▎      | 33/100 [13:35<27:35, 24.71s/it]\u001b[A\n",
            "[Succeeded / Failed / Skipped / Total] 33 / 53 / 8 / 94:  33%|███▎      | 33/100 [13:45<27:56, 25.03s/it]\u001b[A\n",
            "[Succeeded / Failed / Skipped / Total] 33 / 53 / 8 / 94:  34%|███▍      | 34/100 [13:58<27:07, 24.66s/it]\u001b[A\n",
            "[Succeeded / Failed / Skipped / Total] 34 / 53 / 8 / 95:  34%|███▍      | 34/100 [13:58<27:07, 24.66s/it]\u001b[A\n",
            "[Succeeded / Failed / Skipped / Total] 34 / 54 / 8 / 96:  34%|███▍      | 34/100 [14:08<27:27, 24.97s/it]\u001b[A\n",
            "[Succeeded / Failed / Skipped / Total] 34 / 55 / 8 / 97:  34%|███▍      | 34/100 [14:14<27:39, 25.14s/it]\u001b[A\n",
            "[Succeeded / Failed / Skipped / Total] 34 / 55 / 8 / 97:  35%|███▌      | 35/100 [14:21<26:39, 24.61s/it]\u001b[A\n",
            "[Succeeded / Failed / Skipped / Total] 35 / 55 / 8 / 98:  35%|███▌      | 35/100 [14:21<26:39, 24.61s/it]\u001b[A\n",
            "[Succeeded / Failed / Skipped / Total] 35 / 56 / 8 / 99:  35%|███▌      | 35/100 [14:28<26:53, 24.83s/it]\u001b[A\n",
            "[Succeeded / Failed / Skipped / Total] 35 / 57 / 8 / 100:  35%|███▌      | 35/100 [14:44<27:22, 25.27s/it]\u001b[A\n",
            "[Succeeded / Failed / Skipped / Total] 35 / 58 / 8 / 101:  35%|███▌      | 35/100 [14:59<27:49, 25.69s/it]\u001b[A\n",
            "[Succeeded / Failed / Skipped / Total] 35 / 59 / 8 / 102:  35%|███▌      | 35/100 [15:11<28:13, 26.05s/it]\u001b[A\n",
            "[Succeeded / Failed / Skipped / Total] 35 / 60 / 8 / 103:  35%|███▌      | 35/100 [15:22<28:33, 26.36s/it]\u001b[A\n",
            "[Succeeded / Failed / Skipped / Total] 35 / 61 / 8 / 104:  35%|███▌      | 35/100 [15:30<28:47, 26.58s/it]\u001b[A\n",
            "[Succeeded / Failed / Skipped / Total] 35 / 61 / 9 / 105:  35%|███▌      | 35/100 [15:30<28:47, 26.58s/it]\u001b[A\n",
            "[Succeeded / Failed / Skipped / Total] 35 / 61 / 9 / 105:  36%|███▌      | 36/100 [15:37<27:46, 26.04s/it]\u001b[A\n",
            "[Succeeded / Failed / Skipped / Total] 36 / 61 / 9 / 106:  36%|███▌      | 36/100 [15:37<27:46, 26.04s/it]\u001b[A\n",
            "[Succeeded / Failed / Skipped / Total] 36 / 61 / 9 / 106:  37%|███▋      | 37/100 [15:47<26:52, 25.60s/it]\u001b[A\n",
            "[Succeeded / Failed / Skipped / Total] 37 / 61 / 9 / 107:  37%|███▋      | 37/100 [15:47<26:53, 25.60s/it]\u001b[A\n",
            "[Succeeded / Failed / Skipped / Total] 37 / 61 / 9 / 107:  38%|███▊      | 38/100 [15:55<25:59, 25.15s/it]\u001b[A\n",
            "[Succeeded / Failed / Skipped / Total] 38 / 61 / 9 / 108:  38%|███▊      | 38/100 [15:55<25:59, 25.15s/it]\u001b[A\n",
            "[Succeeded / Failed / Skipped / Total] 38 / 62 / 9 / 109:  38%|███▊      | 38/100 [16:05<26:14, 25.40s/it]\u001b[A\n",
            "[Succeeded / Failed / Skipped / Total] 38 / 62 / 9 / 109:  39%|███▉      | 39/100 [16:17<25:28, 25.06s/it]\u001b[A\n",
            "[Succeeded / Failed / Skipped / Total] 39 / 62 / 9 / 110:  39%|███▉      | 39/100 [16:17<25:28, 25.06s/it]\u001b[A\n",
            "[Succeeded / Failed / Skipped / Total] 39 / 62 / 10 / 111:  39%|███▉      | 39/100 [16:17<25:28, 25.06s/it]\u001b[A\n",
            "[Succeeded / Failed / Skipped / Total] 39 / 63 / 10 / 112:  39%|███▉      | 39/100 [16:30<25:49, 25.40s/it]\u001b[A\n",
            "[Succeeded / Failed / Skipped / Total] 39 / 64 / 10 / 113:  39%|███▉      | 39/100 [16:37<25:59, 25.57s/it]\u001b[A\n",
            "[Succeeded / Failed / Skipped / Total] 39 / 64 / 10 / 113:  40%|████      | 40/100 [16:47<25:11, 25.19s/it]\u001b[A\n",
            "[Succeeded / Failed / Skipped / Total] 40 / 64 / 10 / 114:  40%|████      | 40/100 [16:47<25:11, 25.19s/it]\u001b[A\n",
            "[Succeeded / Failed / Skipped / Total] 40 / 65 / 10 / 115:  40%|████      | 40/100 [16:57<25:25, 25.43s/it]\u001b[A\n",
            "[Succeeded / Failed / Skipped / Total] 40 / 65 / 10 / 115:  41%|████      | 41/100 [17:06<24:37, 25.04s/it]\u001b[A\n",
            "[Succeeded / Failed / Skipped / Total] 41 / 65 / 10 / 116:  41%|████      | 41/100 [17:06<24:37, 25.04s/it]\u001b[A\n",
            "[Succeeded / Failed / Skipped / Total] 41 / 65 / 10 / 116:  42%|████▏     | 42/100 [17:19<23:55, 24.74s/it]\u001b[A\n",
            "[Succeeded / Failed / Skipped / Total] 42 / 65 / 10 / 117:  42%|████▏     | 42/100 [17:19<23:55, 24.74s/it]\u001b[A\n",
            "[Succeeded / Failed / Skipped / Total] 42 / 66 / 10 / 118:  42%|████▏     | 42/100 [17:28<24:07, 24.96s/it]\u001b[A\n",
            "[Succeeded / Failed / Skipped / Total] 42 / 66 / 10 / 118:  43%|████▎     | 43/100 [17:33<23:16, 24.50s/it]\u001b[A\n",
            "[Succeeded / Failed / Skipped / Total] 43 / 66 / 10 / 119:  43%|████▎     | 43/100 [17:33<23:16, 24.50s/it]\u001b[A\n",
            "[Succeeded / Failed / Skipped / Total] 43 / 67 / 10 / 120:  43%|████▎     | 43/100 [17:43<23:29, 24.73s/it]\u001b[A\n",
            "[Succeeded / Failed / Skipped / Total] 43 / 67 / 10 / 120:  44%|████▍     | 44/100 [17:51<22:43, 24.35s/it]\u001b[A\n",
            "[Succeeded / Failed / Skipped / Total] 44 / 67 / 10 / 121:  44%|████▍     | 44/100 [17:51<22:43, 24.35s/it]\u001b[A\n",
            "[Succeeded / Failed / Skipped / Total] 44 / 68 / 10 / 122:  44%|████▍     | 44/100 [18:00<22:54, 24.55s/it]\u001b[A\n",
            "[Succeeded / Failed / Skipped / Total] 44 / 69 / 10 / 123:  44%|████▍     | 44/100 [18:07<23:04, 24.72s/it]\u001b[A\n",
            "[Succeeded / Failed / Skipped / Total] 44 / 70 / 10 / 124:  44%|████▍     | 44/100 [18:21<23:21, 25.03s/it]\u001b[A\n",
            "[Succeeded / Failed / Skipped / Total] 44 / 71 / 10 / 125:  44%|████▍     | 44/100 [18:33<23:37, 25.32s/it]\u001b[A\n",
            "[Succeeded / Failed / Skipped / Total] 44 / 72 / 10 / 126:  44%|████▍     | 44/100 [18:44<23:50, 25.55s/it]\u001b[A\n",
            "[Succeeded / Failed / Skipped / Total] 44 / 73 / 10 / 127:  44%|████▍     | 44/100 [18:53<24:03, 25.77s/it]\u001b[A\n",
            "[Succeeded / Failed / Skipped / Total] 44 / 73 / 11 / 128:  44%|████▍     | 44/100 [18:54<24:03, 25.77s/it]\u001b[A\n",
            "[Succeeded / Failed / Skipped / Total] 44 / 74 / 11 / 129:  44%|████▍     | 44/100 [19:04<24:16, 26.01s/it]\u001b[A\n",
            "[Succeeded / Failed / Skipped / Total] 44 / 75 / 11 / 130:  44%|████▍     | 44/100 [19:20<24:37, 26.38s/it]\u001b[A\n",
            "[Succeeded / Failed / Skipped / Total] 44 / 75 / 12 / 131:  44%|████▍     | 44/100 [19:20<24:37, 26.38s/it]\u001b[A\n",
            "[Succeeded / Failed / Skipped / Total] 44 / 76 / 12 / 132:  44%|████▍     | 44/100 [19:30<24:50, 26.61s/it]\u001b[A\n",
            "[Succeeded / Failed / Skipped / Total] 44 / 77 / 12 / 133:  44%|████▍     | 44/100 [19:38<25:00, 26.79s/it]\u001b[A\n",
            "[Succeeded / Failed / Skipped / Total] 44 / 78 / 12 / 134:  44%|████▍     | 44/100 [19:46<25:09, 26.96s/it]\u001b[A\n",
            "[Succeeded / Failed / Skipped / Total] 44 / 79 / 12 / 135:  44%|████▍     | 44/100 [19:56<25:22, 27.19s/it]\u001b[A\n",
            "[Succeeded / Failed / Skipped / Total] 44 / 79 / 13 / 136:  44%|████▍     | 44/100 [19:56<25:22, 27.19s/it]\u001b[A\n",
            "[Succeeded / Failed / Skipped / Total] 44 / 80 / 13 / 137:  44%|████▍     | 44/100 [20:10<25:40, 27.50s/it]\u001b[A\n",
            "[Succeeded / Failed / Skipped / Total] 44 / 81 / 13 / 138:  44%|████▍     | 44/100 [20:16<25:48, 27.64s/it]\u001b[A\n",
            "[Succeeded / Failed / Skipped / Total] 44 / 81 / 13 / 138:  45%|████▌     | 45/100 [20:21<24:52, 27.14s/it]\u001b[A\n",
            "[Succeeded / Failed / Skipped / Total] 45 / 81 / 13 / 139:  45%|████▌     | 45/100 [20:21<24:52, 27.14s/it]\u001b[A\n",
            "[Succeeded / Failed / Skipped / Total] 45 / 82 / 13 / 140:  45%|████▌     | 45/100 [20:31<25:05, 27.37s/it]\u001b[A\n",
            "[Succeeded / Failed / Skipped / Total] 45 / 83 / 13 / 141:  45%|████▌     | 45/100 [20:39<25:14, 27.54s/it]\u001b[A\n",
            "[Succeeded / Failed / Skipped / Total] 45 / 84 / 13 / 142:  45%|████▌     | 45/100 [20:48<25:26, 27.75s/it]\u001b[A\n",
            "[Succeeded / Failed / Skipped / Total] 45 / 84 / 13 / 142:  46%|████▌     | 46/100 [20:54<24:32, 27.27s/it]\u001b[A\n",
            "[Succeeded / Failed / Skipped / Total] 46 / 84 / 13 / 143:  46%|████▌     | 46/100 [20:54<24:32, 27.28s/it]\u001b[A\n",
            "[Succeeded / Failed / Skipped / Total] 46 / 84 / 13 / 143:  47%|████▋     | 47/100 [21:06<23:48, 26.95s/it]\u001b[A\n",
            "[Succeeded / Failed / Skipped / Total] 47 / 84 / 13 / 144:  47%|████▋     | 47/100 [21:06<23:48, 26.95s/it]\u001b[A\n",
            "[Succeeded / Failed / Skipped / Total] 47 / 85 / 13 / 145:  47%|████▋     | 47/100 [21:17<24:00, 27.18s/it]\u001b[A\n",
            "[Succeeded / Failed / Skipped / Total] 47 / 85 / 13 / 145:  48%|████▊     | 48/100 [21:32<23:20, 26.94s/it]\u001b[A\n",
            "[Succeeded / Failed / Skipped / Total] 48 / 85 / 13 / 146:  48%|████▊     | 48/100 [21:32<23:20, 26.94s/it]\u001b[A\n",
            "[Succeeded / Failed / Skipped / Total] 48 / 85 / 13 / 146:  49%|████▉     | 49/100 [21:50<22:43, 26.74s/it]\u001b[A\n",
            "[Succeeded / Failed / Skipped / Total] 49 / 85 / 13 / 147:  49%|████▉     | 49/100 [21:50<22:43, 26.74s/it]\u001b[A\n",
            "[Succeeded / Failed / Skipped / Total] 49 / 85 / 13 / 147:  50%|█████     | 50/100 [21:57<21:57, 26.35s/it]\u001b[A\n",
            "[Succeeded / Failed / Skipped / Total] 50 / 85 / 13 / 148:  50%|█████     | 50/100 [21:57<21:57, 26.35s/it]\u001b[A\n",
            "[Succeeded / Failed / Skipped / Total] 50 / 86 / 13 / 149:  50%|█████     | 50/100 [22:08<22:08, 26.57s/it]\u001b[A\n",
            "[Succeeded / Failed / Skipped / Total] 50 / 87 / 13 / 150:  50%|█████     | 50/100 [22:20<22:20, 26.82s/it]\u001b[A\n",
            "[Succeeded / Failed / Skipped / Total] 50 / 87 / 13 / 150:  51%|█████     | 51/100 [22:29<21:36, 26.47s/it]\u001b[A\n",
            "[Succeeded / Failed / Skipped / Total] 51 / 87 / 13 / 151:  51%|█████     | 51/100 [22:29<21:36, 26.47s/it]\u001b[A\n",
            "[Succeeded / Failed / Skipped / Total] 51 / 87 / 13 / 151:  52%|█████▏    | 52/100 [22:40<20:55, 26.16s/it]\u001b[A\n",
            "[Succeeded / Failed / Skipped / Total] 52 / 87 / 13 / 152:  52%|█████▏    | 52/100 [22:40<20:55, 26.16s/it]\u001b[A\n",
            "[Succeeded / Failed / Skipped / Total] 52 / 88 / 13 / 153:  52%|█████▏    | 52/100 [22:49<21:03, 26.33s/it]\u001b[A\n",
            "[Succeeded / Failed / Skipped / Total] 52 / 89 / 13 / 154:  52%|█████▏    | 52/100 [23:00<21:14, 26.55s/it]\u001b[A\n",
            "[Succeeded / Failed / Skipped / Total] 52 / 90 / 13 / 155:  52%|█████▏    | 52/100 [23:09<21:22, 26.72s/it]\u001b[A\n",
            "[Succeeded / Failed / Skipped / Total] 52 / 90 / 13 / 155:  53%|█████▎    | 53/100 [23:14<20:36, 26.31s/it]\u001b[A\n",
            "[Succeeded / Failed / Skipped / Total] 53 / 90 / 13 / 156:  53%|█████▎    | 53/100 [23:14<20:36, 26.31s/it]\u001b[A\n",
            "[Succeeded / Failed / Skipped / Total] 53 / 91 / 13 / 157:  53%|█████▎    | 53/100 [23:25<20:46, 26.52s/it]\u001b[A\n",
            "[Succeeded / Failed / Skipped / Total] 53 / 91 / 13 / 157:  54%|█████▍    | 54/100 [23:41<20:10, 26.32s/it]\u001b[A\n",
            "[Succeeded / Failed / Skipped / Total] 54 / 91 / 13 / 158:  54%|█████▍    | 54/100 [23:41<20:10, 26.32s/it]\u001b[A\n",
            "[Succeeded / Failed / Skipped / Total] 54 / 92 / 13 / 159:  54%|█████▍    | 54/100 [23:51<20:19, 26.51s/it]\u001b[A\n",
            "[Succeeded / Failed / Skipped / Total] 54 / 93 / 13 / 160:  54%|█████▍    | 54/100 [24:03<20:30, 26.74s/it]\u001b[A\n",
            "[Succeeded / Failed / Skipped / Total] 54 / 94 / 13 / 161:  54%|█████▍    | 54/100 [24:12<20:37, 26.90s/it]\u001b[A\n",
            "[Succeeded / Failed / Skipped / Total] 54 / 95 / 13 / 162:  54%|█████▍    | 54/100 [24:21<20:44, 27.06s/it]\u001b[A\n",
            "[Succeeded / Failed / Skipped / Total] 54 / 95 / 13 / 162:  55%|█████▌    | 55/100 [24:26<19:59, 26.66s/it]\u001b[A\n",
            "[Succeeded / Failed / Skipped / Total] 55 / 95 / 13 / 163:  55%|█████▌    | 55/100 [24:26<19:59, 26.66s/it]\u001b[A\n",
            "[Succeeded / Failed / Skipped / Total] 55 / 96 / 13 / 164:  55%|█████▌    | 55/100 [24:40<20:11, 26.92s/it]\u001b[A\n",
            "[Succeeded / Failed / Skipped / Total] 55 / 97 / 13 / 165:  55%|█████▌    | 55/100 [24:50<20:19, 27.10s/it]\u001b[A\n",
            "[Succeeded / Failed / Skipped / Total] 55 / 97 / 14 / 166:  55%|█████▌    | 55/100 [24:50<20:19, 27.10s/it]\u001b[A\n",
            "[Succeeded / Failed / Skipped / Total] 55 / 98 / 14 / 167:  55%|█████▌    | 55/100 [25:00<20:27, 27.28s/it]\u001b[A\n",
            "[Succeeded / Failed / Skipped / Total] 55 / 98 / 14 / 167:  56%|█████▌    | 56/100 [25:07<19:44, 26.91s/it]\u001b[A\n",
            "[Succeeded / Failed / Skipped / Total] 56 / 98 / 14 / 168:  56%|█████▌    | 56/100 [25:07<19:44, 26.91s/it]\u001b[A\n",
            "[Succeeded / Failed / Skipped / Total] 56 / 98 / 15 / 169:  56%|█████▌    | 56/100 [25:07<19:44, 26.91s/it]\u001b[A\n",
            "[Succeeded / Failed / Skipped / Total] 56 / 99 / 15 / 170:  56%|█████▌    | 56/100 [25:16<19:51, 27.09s/it]\u001b[A\n",
            "[Succeeded / Failed / Skipped / Total] 56 / 100 / 15 / 171:  56%|█████▌    | 56/100 [25:24<19:58, 27.23s/it]\u001b[A\n",
            "[Succeeded / Failed / Skipped / Total] 56 / 101 / 15 / 172:  56%|█████▌    | 56/100 [25:35<20:06, 27.43s/it]\u001b[A\n",
            "[Succeeded / Failed / Skipped / Total] 56 / 101 / 15 / 172:  57%|█████▋    | 57/100 [25:45<19:26, 27.12s/it]\u001b[A\n",
            "[Succeeded / Failed / Skipped / Total] 57 / 101 / 15 / 173:  57%|█████▋    | 57/100 [25:46<19:26, 27.12s/it]\u001b[A\n",
            "[Succeeded / Failed / Skipped / Total] 57 / 101 / 15 / 173:  58%|█████▊    | 58/100 [26:01<18:50, 26.92s/it]\u001b[A\n",
            "[Succeeded / Failed / Skipped / Total] 58 / 101 / 15 / 174:  58%|█████▊    | 58/100 [26:01<18:50, 26.92s/it]\u001b[A\n",
            "[Succeeded / Failed / Skipped / Total] 58 / 102 / 15 / 175:  58%|█████▊    | 58/100 [26:13<18:59, 27.13s/it]\u001b[A\n",
            "[Succeeded / Failed / Skipped / Total] 58 / 102 / 15 / 175:  59%|█████▉    | 59/100 [26:22<18:19, 26.83s/it]\u001b[A\n",
            "[Succeeded / Failed / Skipped / Total] 59 / 102 / 15 / 176:  59%|█████▉    | 59/100 [26:22<18:19, 26.83s/it]\u001b[A\n",
            "[Succeeded / Failed / Skipped / Total] 59 / 102 / 16 / 177:  59%|█████▉    | 59/100 [26:22<18:19, 26.83s/it]\u001b[A\n",
            "[Succeeded / Failed / Skipped / Total] 59 / 103 / 16 / 178:  59%|█████▉    | 59/100 [26:31<18:25, 26.97s/it]\u001b[A\n",
            "[Succeeded / Failed / Skipped / Total] 59 / 103 / 16 / 178:  60%|██████    | 60/100 [26:38<17:45, 26.65s/it]\u001b[A\n",
            "[Succeeded / Failed / Skipped / Total] 60 / 103 / 16 / 179:  60%|██████    | 60/100 [26:38<17:45, 26.65s/it]\u001b[A\n",
            "[Succeeded / Failed / Skipped / Total] 60 / 104 / 16 / 180:  60%|██████    | 60/100 [26:53<17:55, 26.89s/it]\u001b[A\n",
            "[Succeeded / Failed / Skipped / Total] 60 / 105 / 16 / 181:  60%|██████    | 60/100 [27:01<18:01, 27.03s/it]\u001b[A\n",
            "[Succeeded / Failed / Skipped / Total] 60 / 105 / 16 / 181:  61%|██████    | 61/100 [27:16<17:26, 26.82s/it]\u001b[A\n",
            "[Succeeded / Failed / Skipped / Total] 61 / 105 / 16 / 182:  61%|██████    | 61/100 [27:16<17:26, 26.82s/it]\u001b[A\n",
            "[Succeeded / Failed / Skipped / Total] 61 / 106 / 16 / 183:  61%|██████    | 61/100 [27:31<17:35, 27.07s/it]\u001b[A\n",
            "[Succeeded / Failed / Skipped / Total] 61 / 107 / 16 / 184:  61%|██████    | 61/100 [27:39<17:41, 27.21s/it]\u001b[A\n",
            "[Succeeded / Failed / Skipped / Total] 61 / 107 / 16 / 184:  62%|██████▏   | 62/100 [27:46<17:01, 26.88s/it]\u001b[A\n",
            "[Succeeded / Failed / Skipped / Total] 62 / 107 / 16 / 185:  62%|██████▏   | 62/100 [27:46<17:01, 26.88s/it]\u001b[A\n",
            "[Succeeded / Failed / Skipped / Total] 62 / 108 / 16 / 186:  62%|██████▏   | 62/100 [27:58<17:08, 27.08s/it]\u001b[A\n",
            "[Succeeded / Failed / Skipped / Total] 62 / 108 / 16 / 186:  63%|██████▎   | 63/100 [28:06<16:30, 26.77s/it]\u001b[A\n",
            "[Succeeded / Failed / Skipped / Total] 63 / 108 / 16 / 187:  63%|██████▎   | 63/100 [28:06<16:30, 26.77s/it]\u001b[A\n",
            "[Succeeded / Failed / Skipped / Total] 63 / 108 / 16 / 187:  64%|██████▍   | 64/100 [28:25<15:59, 26.64s/it]\u001b[A\n",
            "[Succeeded / Failed / Skipped / Total] 64 / 108 / 16 / 188:  64%|██████▍   | 64/100 [28:25<15:59, 26.64s/it]\u001b[A\n",
            "[Succeeded / Failed / Skipped / Total] 64 / 109 / 16 / 189:  64%|██████▍   | 64/100 [28:35<16:04, 26.80s/it]\u001b[A\n",
            "[Succeeded / Failed / Skipped / Total] 64 / 110 / 16 / 190:  64%|██████▍   | 64/100 [28:40<16:08, 26.89s/it]\u001b[A\n",
            "[Succeeded / Failed / Skipped / Total] 64 / 111 / 16 / 191:  64%|██████▍   | 64/100 [28:51<16:13, 27.05s/it]\u001b[A\n",
            "[Succeeded / Failed / Skipped / Total] 64 / 111 / 16 / 191:  65%|██████▌   | 65/100 [28:57<15:35, 26.73s/it]\u001b[A\n",
            "[Succeeded / Failed / Skipped / Total] 65 / 111 / 16 / 192:  65%|██████▌   | 65/100 [28:57<15:35, 26.73s/it]\u001b[A\n",
            "[Succeeded / Failed / Skipped / Total] 65 / 111 / 17 / 193:  65%|██████▌   | 65/100 [28:57<15:35, 26.73s/it]\u001b[A\n",
            "[Succeeded / Failed / Skipped / Total] 65 / 112 / 17 / 194:  65%|██████▌   | 65/100 [29:06<15:40, 26.87s/it]\u001b[A\n",
            "[Succeeded / Failed / Skipped / Total] 65 / 113 / 17 / 195:  65%|██████▌   | 65/100 [29:19<15:47, 27.07s/it]\u001b[A\n",
            "[Succeeded / Failed / Skipped / Total] 65 / 113 / 17 / 195:  66%|██████▌   | 66/100 [29:25<15:09, 26.75s/it]\u001b[A\n",
            "[Succeeded / Failed / Skipped / Total] 66 / 113 / 17 / 196:  66%|██████▌   | 66/100 [29:25<15:09, 26.75s/it]\u001b[A\n",
            "[Succeeded / Failed / Skipped / Total] 66 / 113 / 17 / 196:  67%|██████▋   | 67/100 [29:36<14:35, 26.52s/it]\u001b[A\n",
            "[Succeeded / Failed / Skipped / Total] 67 / 113 / 17 / 197:  67%|██████▋   | 67/100 [29:36<14:35, 26.52s/it]\u001b[A\n",
            "[Succeeded / Failed / Skipped / Total] 67 / 114 / 17 / 198:  67%|██████▋   | 67/100 [29:46<14:39, 26.66s/it]\u001b[A\n",
            "[Succeeded / Failed / Skipped / Total] 67 / 114 / 17 / 198:  68%|██████▊   | 68/100 [29:54<14:04, 26.39s/it]\u001b[A\n",
            "[Succeeded / Failed / Skipped / Total] 68 / 114 / 17 / 199:  68%|██████▊   | 68/100 [29:54<14:04, 26.39s/it]\u001b[A\n",
            "[Succeeded / Failed / Skipped / Total] 68 / 115 / 17 / 200:  68%|██████▊   | 68/100 [30:09<14:11, 26.61s/it]\u001b[A\n",
            "[Succeeded / Failed / Skipped / Total] 68 / 116 / 17 / 201:  68%|██████▊   | 68/100 [30:20<14:16, 26.77s/it]\u001b[A\n",
            "[Succeeded / Failed / Skipped / Total] 68 / 117 / 17 / 202:  68%|██████▊   | 68/100 [30:33<14:22, 26.96s/it]\u001b[A\n",
            "[Succeeded / Failed / Skipped / Total] 68 / 118 / 17 / 203:  68%|██████▊   | 68/100 [30:42<14:27, 27.10s/it]\u001b[A\n",
            "[Succeeded / Failed / Skipped / Total] 68 / 118 / 18 / 204:  68%|██████▊   | 68/100 [30:42<14:27, 27.10s/it]\u001b[A\n",
            "[Succeeded / Failed / Skipped / Total] 68 / 118 / 18 / 204:  69%|██████▉   | 69/100 [30:47<13:50, 26.78s/it]\u001b[A\n",
            "[Succeeded / Failed / Skipped / Total] 69 / 118 / 18 / 205:  69%|██████▉   | 69/100 [30:47<13:50, 26.78s/it]\u001b[A\n",
            "[Succeeded / Failed / Skipped / Total] 69 / 118 / 18 / 205:  70%|███████   | 70/100 [30:57<13:16, 26.54s/it]\u001b[A\n",
            "[Succeeded / Failed / Skipped / Total] 70 / 118 / 18 / 206:  70%|███████   | 70/100 [30:57<13:16, 26.54s/it]\u001b[A\n",
            "[Succeeded / Failed / Skipped / Total] 70 / 119 / 18 / 207:  70%|███████   | 70/100 [31:03<13:18, 26.61s/it]\u001b[A\n",
            "[Succeeded / Failed / Skipped / Total] 70 / 119 / 18 / 207:  71%|███████   | 71/100 [31:13<12:45, 26.38s/it]\u001b[A\n",
            "[Succeeded / Failed / Skipped / Total] 71 / 119 / 18 / 208:  71%|███████   | 71/100 [31:13<12:45, 26.38s/it]\u001b[A\n",
            "[Succeeded / Failed / Skipped / Total] 71 / 119 / 18 / 208:  72%|███████▏  | 72/100 [31:20<12:11, 26.12s/it]\u001b[A\n",
            "[Succeeded / Failed / Skipped / Total] 72 / 119 / 18 / 209:  72%|███████▏  | 72/100 [31:20<12:11, 26.12s/it]\u001b[A\n",
            "[Succeeded / Failed / Skipped / Total] 72 / 119 / 19 / 210:  72%|███████▏  | 72/100 [31:20<12:11, 26.12s/it]\u001b[A\n",
            "[Succeeded / Failed / Skipped / Total] 72 / 120 / 19 / 211:  72%|███████▏  | 72/100 [31:32<12:16, 26.29s/it]\u001b[A\n",
            "[Succeeded / Failed / Skipped / Total] 72 / 121 / 19 / 212:  72%|███████▏  | 72/100 [31:38<12:18, 26.37s/it]\u001b[A\n",
            "[Succeeded / Failed / Skipped / Total] 72 / 121 / 19 / 212:  73%|███████▎  | 73/100 [31:48<11:45, 26.14s/it]\u001b[A\n",
            "[Succeeded / Failed / Skipped / Total] 73 / 121 / 19 / 213:  73%|███████▎  | 73/100 [31:48<11:45, 26.14s/it]\u001b[A\n",
            "[Succeeded / Failed / Skipped / Total] 73 / 122 / 19 / 214:  73%|███████▎  | 73/100 [31:58<11:49, 26.28s/it]\u001b[A\n",
            "[Succeeded / Failed / Skipped / Total] 73 / 123 / 19 / 215:  73%|███████▎  | 73/100 [32:11<11:54, 26.46s/it]\u001b[A\n",
            "[Succeeded / Failed / Skipped / Total] 73 / 124 / 19 / 216:  73%|███████▎  | 73/100 [32:20<11:57, 26.59s/it]\u001b[A\n",
            "[Succeeded / Failed / Skipped / Total] 73 / 125 / 19 / 217:  73%|███████▎  | 73/100 [32:31<12:01, 26.73s/it]\u001b[A\n",
            "[Succeeded / Failed / Skipped / Total] 73 / 126 / 19 / 218:  73%|███████▎  | 73/100 [32:42<12:05, 26.88s/it]\u001b[A\n",
            "[Succeeded / Failed / Skipped / Total] 73 / 127 / 19 / 219:  73%|███████▎  | 73/100 [32:48<12:07, 26.96s/it]\u001b[A\n",
            "[Succeeded / Failed / Skipped / Total] 73 / 127 / 20 / 220:  73%|███████▎  | 73/100 [32:48<12:07, 26.96s/it]\u001b[A\n",
            "[Succeeded / Failed / Skipped / Total] 73 / 127 / 20 / 220:  74%|███████▍  | 74/100 [32:57<11:34, 26.72s/it]\u001b[A\n",
            "[Succeeded / Failed / Skipped / Total] 74 / 127 / 20 / 221:  74%|███████▍  | 74/100 [32:57<11:34, 26.72s/it]\u001b[A\n",
            "[Succeeded / Failed / Skipped / Total] 74 / 128 / 20 / 222:  74%|███████▍  | 74/100 [33:04<11:37, 26.82s/it]\u001b[A\n",
            "[Succeeded / Failed / Skipped / Total] 74 / 128 / 20 / 222:  75%|███████▌  | 75/100 [33:13<11:04, 26.58s/it]\u001b[A\n",
            "[Succeeded / Failed / Skipped / Total] 75 / 128 / 20 / 223:  75%|███████▌  | 75/100 [33:13<11:04, 26.58s/it]\u001b[A\n",
            "[Succeeded / Failed / Skipped / Total] 75 / 129 / 20 / 224:  75%|███████▌  | 75/100 [33:26<11:08, 26.75s/it]\u001b[A\n",
            "[Succeeded / Failed / Skipped / Total] 75 / 129 / 20 / 224:  76%|███████▌  | 76/100 [33:35<10:36, 26.52s/it]\u001b[A\n",
            "[Succeeded / Failed / Skipped / Total] 76 / 129 / 20 / 225:  76%|███████▌  | 76/100 [33:35<10:36, 26.52s/it]\u001b[A\n",
            "[Succeeded / Failed / Skipped / Total] 76 / 130 / 20 / 226:  76%|███████▌  | 76/100 [33:49<10:40, 26.70s/it]\u001b[A\n",
            "[Succeeded / Failed / Skipped / Total] 76 / 130 / 20 / 226:  77%|███████▋  | 77/100 [33:58<10:08, 26.47s/it]\u001b[A\n",
            "[Succeeded / Failed / Skipped / Total] 77 / 130 / 20 / 227:  77%|███████▋  | 77/100 [33:58<10:08, 26.47s/it]\u001b[A\n",
            "[Succeeded / Failed / Skipped / Total] 77 / 130 / 20 / 227:  78%|███████▊  | 78/100 [34:04<09:36, 26.21s/it]\u001b[A\n",
            "[Succeeded / Failed / Skipped / Total] 78 / 130 / 20 / 228:  78%|███████▊  | 78/100 [34:04<09:36, 26.21s/it]\u001b[A\n",
            "[Succeeded / Failed / Skipped / Total] 78 / 131 / 20 / 229:  78%|███████▊  | 78/100 [34:12<09:38, 26.31s/it]\u001b[A\n",
            "[Succeeded / Failed / Skipped / Total] 78 / 132 / 20 / 230:  78%|███████▊  | 78/100 [34:28<09:43, 26.51s/it]\u001b[A\n",
            "[Succeeded / Failed / Skipped / Total] 78 / 133 / 20 / 231:  78%|███████▊  | 78/100 [34:40<09:46, 26.67s/it]\u001b[A\n",
            "[Succeeded / Failed / Skipped / Total] 78 / 134 / 20 / 232:  78%|███████▊  | 78/100 [34:46<09:48, 26.75s/it]\u001b[A\n",
            "[Succeeded / Failed / Skipped / Total] 78 / 135 / 20 / 233:  78%|███████▊  | 78/100 [34:57<09:51, 26.89s/it]\u001b[A\n",
            "[Succeeded / Failed / Skipped / Total] 78 / 136 / 20 / 234:  78%|███████▊  | 78/100 [35:03<09:53, 26.97s/it]\u001b[A\n",
            "[Succeeded / Failed / Skipped / Total] 78 / 136 / 20 / 234:  79%|███████▉  | 79/100 [35:12<09:21, 26.74s/it]\u001b[A\n",
            "[Succeeded / Failed / Skipped / Total] 79 / 136 / 20 / 235:  79%|███████▉  | 79/100 [35:12<09:21, 26.74s/it]\u001b[A\n",
            "[Succeeded / Failed / Skipped / Total] 79 / 137 / 20 / 236:  79%|███████▉  | 79/100 [35:24<09:24, 26.90s/it]\u001b[A\n",
            "[Succeeded / Failed / Skipped / Total] 79 / 138 / 20 / 237:  79%|███████▉  | 79/100 [35:35<09:27, 27.03s/it]\u001b[A\n",
            "[Succeeded / Failed / Skipped / Total] 79 / 139 / 20 / 238:  79%|███████▉  | 79/100 [35:49<09:31, 27.21s/it]\u001b[A\n",
            "[Succeeded / Failed / Skipped / Total] 79 / 140 / 20 / 239:  79%|███████▉  | 79/100 [36:01<09:34, 27.36s/it]\u001b[A\n",
            "[Succeeded / Failed / Skipped / Total] 79 / 140 / 20 / 239:  80%|████████  | 80/100 [36:10<09:02, 27.13s/it]\u001b[A\n",
            "[Succeeded / Failed / Skipped / Total] 80 / 140 / 20 / 240:  80%|████████  | 80/100 [36:10<09:02, 27.13s/it]\u001b[A\n",
            "[Succeeded / Failed / Skipped / Total] 80 / 141 / 20 / 241:  80%|████████  | 80/100 [36:19<09:04, 27.24s/it]\u001b[A\n",
            "[Succeeded / Failed / Skipped / Total] 80 / 141 / 20 / 241:  81%|████████  | 81/100 [36:24<08:32, 26.97s/it]\u001b[A\n",
            "[Succeeded / Failed / Skipped / Total] 81 / 141 / 20 / 242:  81%|████████  | 81/100 [36:24<08:32, 26.97s/it]\u001b[A\n",
            "[Succeeded / Failed / Skipped / Total] 81 / 141 / 20 / 242:  82%|████████▏ | 82/100 [36:29<08:00, 26.70s/it]\u001b[A\n",
            "[Succeeded / Failed / Skipped / Total] 82 / 141 / 20 / 243:  82%|████████▏ | 82/100 [36:29<08:00, 26.70s/it]\u001b[A\n",
            "[Succeeded / Failed / Skipped / Total] 82 / 141 / 20 / 243:  83%|████████▎ | 83/100 [36:37<07:30, 26.47s/it]\u001b[A\n",
            "[Succeeded / Failed / Skipped / Total] 83 / 141 / 20 / 244:  83%|████████▎ | 83/100 [36:37<07:30, 26.47s/it]\u001b[A\n",
            "[Succeeded / Failed / Skipped / Total] 83 / 142 / 20 / 245:  83%|████████▎ | 83/100 [36:48<07:32, 26.61s/it]\u001b[A\n",
            "[Succeeded / Failed / Skipped / Total] 83 / 142 / 20 / 245:  84%|████████▍ | 84/100 [36:57<07:02, 26.40s/it]\u001b[A\n",
            "[Succeeded / Failed / Skipped / Total] 84 / 142 / 20 / 246:  84%|████████▍ | 84/100 [36:57<07:02, 26.40s/it]\u001b[A\n",
            "[Succeeded / Failed / Skipped / Total] 84 / 143 / 20 / 247:  84%|████████▍ | 84/100 [37:10<07:04, 26.55s/it]\u001b[A\n",
            "[Succeeded / Failed / Skipped / Total] 84 / 143 / 20 / 247:  85%|████████▌ | 85/100 [37:22<06:35, 26.38s/it]\u001b[A\n",
            "[Succeeded / Failed / Skipped / Total] 85 / 143 / 20 / 248:  85%|████████▌ | 85/100 [37:22<06:35, 26.38s/it]\u001b[A\n",
            "[Succeeded / Failed / Skipped / Total] 85 / 143 / 20 / 248:  86%|████████▌ | 86/100 [37:30<06:06, 26.17s/it]\u001b[A\n",
            "[Succeeded / Failed / Skipped / Total] 86 / 143 / 20 / 249:  86%|████████▌ | 86/100 [37:30<06:06, 26.17s/it]\u001b[A\n",
            "[Succeeded / Failed / Skipped / Total] 86 / 143 / 21 / 250:  86%|████████▌ | 86/100 [37:30<06:06, 26.17s/it]\u001b[A\n",
            "[Succeeded / Failed / Skipped / Total] 86 / 144 / 21 / 251:  86%|████████▌ | 86/100 [37:39<06:07, 26.27s/it]\u001b[A\n",
            "[Succeeded / Failed / Skipped / Total] 86 / 145 / 21 / 252:  86%|████████▌ | 86/100 [37:53<06:10, 26.43s/it]\u001b[A\n",
            "[Succeeded / Failed / Skipped / Total] 86 / 145 / 21 / 252:  87%|████████▋ | 87/100 [38:04<05:41, 26.26s/it]\u001b[A\n",
            "[Succeeded / Failed / Skipped / Total] 87 / 145 / 21 / 253:  87%|████████▋ | 87/100 [38:04<05:41, 26.26s/it]\u001b[A\n",
            "[Succeeded / Failed / Skipped / Total] 87 / 146 / 21 / 254:  87%|████████▋ | 87/100 [38:13<05:42, 26.36s/it]\u001b[A\n",
            "[Succeeded / Failed / Skipped / Total] 87 / 147 / 21 / 255:  87%|████████▋ | 87/100 [38:20<05:43, 26.45s/it]\u001b[A\n",
            "[Succeeded / Failed / Skipped / Total] 87 / 148 / 21 / 256:  87%|████████▋ | 87/100 [38:31<05:45, 26.57s/it]\u001b[A\n",
            "[Succeeded / Failed / Skipped / Total] 87 / 148 / 21 / 256:  88%|████████▊ | 88/100 [38:38<05:16, 26.35s/it]\u001b[A\n",
            "[Succeeded / Failed / Skipped / Total] 88 / 148 / 21 / 257:  88%|████████▊ | 88/100 [38:38<05:16, 26.35s/it]\u001b[A\n",
            "[Succeeded / Failed / Skipped / Total] 88 / 148 / 21 / 257:  89%|████████▉ | 89/100 [38:45<04:47, 26.13s/it]\u001b[A\n",
            "[Succeeded / Failed / Skipped / Total] 89 / 148 / 21 / 258:  89%|████████▉ | 89/100 [38:45<04:47, 26.13s/it]\u001b[A\n",
            "[Succeeded / Failed / Skipped / Total] 89 / 149 / 21 / 259:  89%|████████▉ | 89/100 [38:55<04:48, 26.24s/it]\u001b[A\n",
            "[Succeeded / Failed / Skipped / Total] 89 / 149 / 21 / 259:  90%|█████████ | 90/100 [39:01<04:20, 26.01s/it]\u001b[A\n",
            "[Succeeded / Failed / Skipped / Total] 90 / 149 / 21 / 260:  90%|█████████ | 90/100 [39:01<04:20, 26.01s/it]\u001b[A\n",
            "[Succeeded / Failed / Skipped / Total] 90 / 150 / 21 / 261:  90%|█████████ | 90/100 [39:13<04:21, 26.15s/it]\u001b[A\n",
            "[Succeeded / Failed / Skipped / Total] 90 / 151 / 21 / 262:  90%|█████████ | 90/100 [39:23<04:22, 26.27s/it]\u001b[A\n",
            "[Succeeded / Failed / Skipped / Total] 90 / 152 / 21 / 263:  90%|█████████ | 90/100 [39:35<04:23, 26.39s/it]\u001b[A\n",
            "[Succeeded / Failed / Skipped / Total] 90 / 153 / 21 / 264:  90%|█████████ | 90/100 [39:46<04:25, 26.52s/it]\u001b[A\n",
            "[Succeeded / Failed / Skipped / Total] 90 / 153 / 22 / 265:  90%|█████████ | 90/100 [39:46<04:25, 26.52s/it]\u001b[A\n",
            "[Succeeded / Failed / Skipped / Total] 90 / 153 / 23 / 266:  90%|█████████ | 90/100 [39:46<04:25, 26.52s/it]\u001b[A\n",
            "[Succeeded / Failed / Skipped / Total] 90 / 154 / 23 / 267:  90%|█████████ | 90/100 [39:55<04:26, 26.62s/it]\u001b[A\n",
            "[Succeeded / Failed / Skipped / Total] 90 / 154 / 23 / 267:  91%|█████████ | 91/100 [40:02<03:57, 26.40s/it]\u001b[A\n",
            "[Succeeded / Failed / Skipped / Total] 91 / 154 / 23 / 268:  91%|█████████ | 91/100 [40:02<03:57, 26.40s/it]\u001b[A\n",
            "[Succeeded / Failed / Skipped / Total] 91 / 154 / 23 / 268:  92%|█████████▏| 92/100 [40:17<03:30, 26.28s/it]\u001b[A\n",
            "[Succeeded / Failed / Skipped / Total] 92 / 154 / 23 / 269:  92%|█████████▏| 92/100 [40:17<03:30, 26.28s/it]\u001b[A\n",
            "[Succeeded / Failed / Skipped / Total] 92 / 155 / 23 / 270:  92%|█████████▏| 92/100 [40:26<03:30, 26.37s/it]\u001b[A\n",
            "[Succeeded / Failed / Skipped / Total] 92 / 156 / 23 / 271:  92%|█████████▏| 92/100 [40:32<03:31, 26.44s/it]\u001b[A\n",
            "[Succeeded / Failed / Skipped / Total] 92 / 157 / 23 / 272:  92%|█████████▏| 92/100 [40:41<03:32, 26.54s/it]\u001b[A\n",
            "[Succeeded / Failed / Skipped / Total] 92 / 158 / 23 / 273:  92%|█████████▏| 92/100 [40:52<03:33, 26.66s/it]\u001b[A\n",
            "[Succeeded / Failed / Skipped / Total] 92 / 159 / 23 / 274:  92%|█████████▏| 92/100 [41:00<03:33, 26.75s/it]\u001b[A\n",
            "[Succeeded / Failed / Skipped / Total] 92 / 159 / 23 / 274:  93%|█████████▎| 93/100 [41:09<03:05, 26.55s/it]\u001b[A\n",
            "[Succeeded / Failed / Skipped / Total] 93 / 159 / 23 / 275:  93%|█████████▎| 93/100 [41:09<03:05, 26.55s/it]\u001b[A\n",
            "[Succeeded / Failed / Skipped / Total] 93 / 159 / 23 / 275:  94%|█████████▍| 94/100 [41:16<02:38, 26.34s/it]\u001b[A\n",
            "[Succeeded / Failed / Skipped / Total] 94 / 159 / 23 / 276:  94%|█████████▍| 94/100 [41:16<02:38, 26.34s/it]\u001b[A\n",
            "[Succeeded / Failed / Skipped / Total] 94 / 159 / 24 / 277:  94%|█████████▍| 94/100 [41:16<02:38, 26.34s/it]\u001b[A\n",
            "[Succeeded / Failed / Skipped / Total] 94 / 160 / 24 / 278:  94%|█████████▍| 94/100 [41:26<02:38, 26.45s/it]\u001b[A\n",
            "[Succeeded / Failed / Skipped / Total] 94 / 160 / 24 / 278:  95%|█████████▌| 95/100 [41:38<02:11, 26.30s/it]\u001b[A\n",
            "[Succeeded / Failed / Skipped / Total] 95 / 160 / 24 / 279:  95%|█████████▌| 95/100 [41:38<02:11, 26.30s/it]\u001b[A\n",
            "[Succeeded / Failed / Skipped / Total] 95 / 160 / 24 / 279:  96%|█████████▌| 96/100 [41:45<01:44, 26.09s/it]\u001b[A\n",
            "[Succeeded / Failed / Skipped / Total] 96 / 160 / 24 / 280:  96%|█████████▌| 96/100 [41:45<01:44, 26.09s/it]\u001b[A\n",
            "[Succeeded / Failed / Skipped / Total] 96 / 161 / 24 / 281:  96%|█████████▌| 96/100 [41:56<01:44, 26.22s/it]\u001b[A\n",
            "[Succeeded / Failed / Skipped / Total] 96 / 162 / 24 / 282:  96%|█████████▌| 96/100 [42:11<01:45, 26.37s/it]\u001b[A\n",
            "[Succeeded / Failed / Skipped / Total] 96 / 163 / 24 / 283:  96%|█████████▌| 96/100 [42:19<01:45, 26.45s/it]\u001b[A\n",
            "[Succeeded / Failed / Skipped / Total] 96 / 164 / 24 / 284:  96%|█████████▌| 96/100 [42:29<01:46, 26.56s/it]\u001b[A\n",
            "[Succeeded / Failed / Skipped / Total] 96 / 165 / 24 / 285:  96%|█████████▌| 96/100 [42:35<01:46, 26.62s/it]\u001b[A\n",
            "[Succeeded / Failed / Skipped / Total] 96 / 166 / 24 / 286:  96%|█████████▌| 96/100 [42:48<01:47, 26.75s/it]\u001b[A\n",
            "[Succeeded / Failed / Skipped / Total] 96 / 167 / 24 / 287:  96%|█████████▌| 96/100 [42:57<01:47, 26.85s/it]\u001b[A\n",
            "[Succeeded / Failed / Skipped / Total] 96 / 167 / 24 / 287:  97%|█████████▋| 97/100 [43:10<01:20, 26.70s/it]\u001b[A\n",
            "[Succeeded / Failed / Skipped / Total] 97 / 167 / 24 / 288:  97%|█████████▋| 97/100 [43:10<01:20, 26.70s/it]\u001b[A\n",
            "[Succeeded / Failed / Skipped / Total] 97 / 167 / 24 / 288:  98%|█████████▊| 98/100 [43:21<00:53, 26.54s/it]\u001b[A\n",
            "[Succeeded / Failed / Skipped / Total] 98 / 167 / 24 / 289:  98%|█████████▊| 98/100 [43:21<00:53, 26.54s/it]\u001b[A\n",
            "[Succeeded / Failed / Skipped / Total] 98 / 167 / 24 / 289:  99%|█████████▉| 99/100 [43:29<00:26, 26.35s/it]\u001b[A\n",
            "[Succeeded / Failed / Skipped / Total] 99 / 167 / 24 / 290:  99%|█████████▉| 99/100 [43:29<00:26, 26.35s/it]\u001b[A\n",
            "[Succeeded / Failed / Skipped / Total] 99 / 167 / 24 / 290: 100%|██████████| 100/100 [43:40<00:00, 26.21s/it]\u001b[A\n",
            "[Succeeded / Failed / Skipped / Total] 100 / 167 / 24 / 291: 100%|██████████| 100/100 [43:41<00:00, 26.21s/it]\n",
            "textattack: Total number of attack results: 291\n",
            "textattack: Attack success rate: 37.45% [100 / 267]\n"
          ]
        },
        {
          "output_type": "stream",
          "name": "stdout",
          "text": [
            "\n",
            "\n"
          ]
        },
        {
          "output_type": "stream",
          "name": "stderr",
          "text": [
            "Loss 0.20169: 100%|██████████| 863/863 [13:15<00:00,  1.09it/s]\n",
            "textattack: Train accuracy: 92.64%\n",
            "textattack: Eval accuracy: 83.58%\n",
            "textattack: Wrote README to ./outputs/2023-12-15-20-49-30-197990/README.md.\n"
          ]
        }
      ]
    },
    {
      "cell_type": "code",
      "source": [
        "# import the CheckListAugmenter\n",
        "from textattack.augmentation import CLAREAugmenter\n",
        "\n",
        "# Alter default values if desired\n",
        "augmenter = CLAREAugmenter(pct_words_to_swap=0.2, transformations_per_example=5)\n",
        "s = \"I'd love to go to Japan but the tickets are 500 dollars\"\n",
        "# Augment\n",
        "augmenter.augment(s)"
      ],
      "metadata": {
        "colab": {
          "base_uri": "https://localhost:8080/"
        },
        "id": "K0bi8WOHydMj",
        "outputId": "7e612df8-6b76-42a8-9b4c-95eb36f114fb"
      },
      "execution_count": null,
      "outputs": [
        {
          "output_type": "stream",
          "name": "stderr",
          "text": [
            "If you want to use `RobertaLMHeadModel` as a standalone, add `is_decoder=True.`\n",
            "[Succeeded / Failed / Skipped / Total] 1 / 0 / 0 / 1:  10%|█         | 1/10 [4:11:32<37:43:49, 15092.13s/it]\n"
          ]
        },
        {
          "output_type": "execute_result",
          "data": {
            "text/plain": [
              "[\"I'd kinda love to go to Japan but the tickets are 500 dollars\",\n",
              " \"I'd love to go to Japan but the exact tickets are 500 dollars\",\n",
              " \"I'd love to go to Japan but the tourist tickets are 500 dollars\",\n",
              " \"I'd prefer to go to Japan but mainly the tickets are 500 dollars\",\n",
              " \"I'd really love to go to Australia but the tickets are 500 dollars\"]"
            ]
          },
          "metadata": {},
          "execution_count": 16
        }
      ]
    },
    {
      "cell_type": "code",
      "source": [
        "attackedModel = transformers.AutoModelForSequenceClassification.from_pretrained(\"./outputs/2023-12-15-20-49-30-197990/best_model/\")\n",
        "attackedTokenizer = transformers.AutoTokenizer.from_pretrained(\"./outputs/2023-12-15-20-49-30-197990/best_model/\")\n",
        "attacked_model_wrapper = textattack.models.wrappers.HuggingFaceModelWrapper(model, tokenizer)"
      ],
      "metadata": {
        "id": "bgfjJRcB0YQ4"
      },
      "execution_count": null,
      "outputs": []
    },
    {
      "cell_type": "code",
      "source": [
        "attackTrainedModel = textattack.attack_recipes.CLARE2020.build(attacked_model_wrapper)\n"
      ],
      "metadata": {
        "colab": {
          "base_uri": "https://localhost:8080/"
        },
        "id": "jshmSV-9rqEu",
        "outputId": "565bfa19-eb7d-44cc-a274-21bcd6717a8d"
      },
      "execution_count": null,
      "outputs": [
        {
          "output_type": "stream",
          "name": "stderr",
          "text": [
            "If you want to use `RobertaLMHeadModel` as a standalone, add `is_decoder=True.`\n",
            "textattack: Unknown if model of class <class 'transformers.models.albert.modeling_albert.AlbertForSequenceClassification'> compatible with goal function <class 'textattack.goal_functions.classification.untargeted_classification.UntargetedClassification'>.\n"
          ]
        }
      ]
    },
    {
      "cell_type": "code",
      "source": [
        "attack_args = textattack.AttackArgs(\n",
        "    num_examples=100,\n",
        "    checkpoint_interval=5,\n",
        "    checkpoint_dir=\"checkpoints\"\n",
        ")"
      ],
      "metadata": {
        "id": "FEKrWF7CrI6v"
      },
      "execution_count": null,
      "outputs": []
    },
    {
      "cell_type": "code",
      "source": [
        "attackerOnTrained = textattack.Attacker(attackTrainedModel, dataset, attack_args)\n",
        "\n",
        "trainedResults = attackerOnTrained.attack_dataset()\n",
        "trainedPPL = textattack.metrics.quality_metrics.Perplexity().calculate(results)\n",
        "usemTrained = textattack.metrics.quality_metrics.USEMetric().calculate(results)"
      ],
      "metadata": {
        "id": "Ihrc6ek5r3ce",
        "colab": {
          "base_uri": "https://localhost:8080/"
        },
        "outputId": "b3cfa0ee-b610-442c-f741-389b6f0f5030"
      },
      "execution_count": null,
      "outputs": [
        {
          "output_type": "stream",
          "name": "stdout",
          "text": [
            "Attack(\n",
            "  (search_method): GreedySearch\n",
            "  (goal_function):  UntargetedClassification\n",
            "  (transformation):  CompositeTransformation(\n",
            "    (0): WordSwapMaskedLM(\n",
            "        (method):  bae\n",
            "        (masked_lm_name):  RobertaForCausalLM\n",
            "        (max_length):  512\n",
            "        (max_candidates):  50\n",
            "        (min_confidence):  0.0005\n",
            "      )\n",
            "    (1): WordInsertionMaskedLM(\n",
            "        (masked_lm_name):  RobertaForCausalLM\n",
            "        (max_length):  512\n",
            "        (max_candidates):  50\n",
            "        (min_confidence):  0.0\n",
            "      )\n",
            "    (2): WordMergeMaskedLM(\n",
            "        (masked_lm_name):  RobertaForCausalLM\n",
            "        (max_length):  512\n",
            "        (max_candidates):  50\n",
            "        (min_confidence):  0.005\n",
            "      )\n",
            "    )\n",
            "  (constraints): \n",
            "    (0): UniversalSentenceEncoder(\n",
            "        (metric):  cosine\n",
            "        (threshold):  0.7\n",
            "        (window_size):  15\n",
            "        (skip_text_shorter_than_window):  True\n",
            "        (compare_against_original):  True\n",
            "      )\n",
            "    (1): RepeatModification\n",
            "    (2): StopwordModification\n",
            "  (is_black_box):  True\n",
            ") \n",
            "\n"
          ]
        },
        {
          "output_type": "stream",
          "name": "stderr",
          "text": [
            "[Succeeded / Failed / Skipped / Total] 1 / 0 / 0 / 1:   1%|          | 1/100 [01:27<2:23:47, 87.15s/it]"
          ]
        },
        {
          "output_type": "stream",
          "name": "stdout",
          "text": [
            "--------------------------------------------- Result 1 ---------------------------------------------\n",
            "[[Positive (90%)]] --> [[Negative (89%)]]\n",
            "\n",
            "the rock is destined to be the 21st century's new \" conan \" and that he's going to make a splash even [[greater]] than arnold schwarzenegger , jean-claud van damme or steven segal .\n",
            "\n",
            "the rock is destined to be the 21st century's new \" conan \" and that he's going to make a splash even [[worse]] than arnold schwarzenegger , jean-claud van damme or steven segal .\n",
            "\n",
            "\n"
          ]
        },
        {
          "output_type": "stream",
          "name": "stderr",
          "text": [
            "[Succeeded / Failed / Skipped / Total] 2 / 0 / 0 / 2:   2%|▏         | 2/100 [03:06<2:32:34, 93.42s/it]"
          ]
        },
        {
          "output_type": "stream",
          "name": "stdout",
          "text": [
            "--------------------------------------------- Result 2 ---------------------------------------------\n",
            "[[Positive (92%)]] --> [[Negative (69%)]]\n",
            "\n",
            "the [[gorgeously]] elaborate continuation of \" the lord of the rings \" trilogy is so huge that a column of words cannot adequately describe co-writer/director peter jackson's expanded vision of j . r . r . tolkien's middle-earth .\n",
            "\n",
            "the [[overly]] elaborate continuation of \" the lord of the rings \" trilogy is so huge that a column of words cannot adequately describe co-writer/director peter jackson's expanded vision of j . r . r . tolkien's middle-earth .\n",
            "\n",
            "\n"
          ]
        },
        {
          "output_type": "stream",
          "name": "stderr",
          "text": [
            "[Succeeded / Failed / Skipped / Total] 3 / 0 / 0 / 3:   3%|▎         | 3/100 [03:17<1:46:23, 65.80s/it]"
          ]
        },
        {
          "output_type": "stream",
          "name": "stdout",
          "text": [
            "--------------------------------------------- Result 3 ---------------------------------------------\n",
            "[[Positive (82%)]] --> [[Negative (88%)]]\n",
            "\n",
            "effective but too-tepid [[biopic]]\n",
            "\n",
            "effective but too-tepid [[exercise]]\n",
            "\n",
            "\n"
          ]
        },
        {
          "output_type": "stream",
          "name": "stderr",
          "text": [
            "[Succeeded / Failed / Skipped / Total] 4 / 0 / 0 / 4:   4%|▍         | 4/100 [04:02<1:36:58, 60.61s/it]"
          ]
        },
        {
          "output_type": "stream",
          "name": "stdout",
          "text": [
            "--------------------------------------------- Result 4 ---------------------------------------------\n",
            "[[Positive (86%)]] --> [[Negative (96%)]]\n",
            "\n",
            "if you sometimes like to go to the movies to have fun , wasabi is a good place to start .\n",
            "\n",
            "if you sometimes like to go to the movies to have fun , wasabi is [[NOT]] a good place to start .\n",
            "\n",
            "\n"
          ]
        },
        {
          "output_type": "stream",
          "name": "stderr",
          "text": [
            "[Succeeded / Failed / Skipped / Total] 5 / 0 / 0 / 5:   5%|▌         | 5/100 [04:59<1:34:41, 59.81s/it]textattack: Saving checkpoint under \"checkpoints/1702683923839.ta.chkpt\" at 2023-12-15 23:45:23 after 5 attacks.\n"
          ]
        },
        {
          "output_type": "stream",
          "name": "stdout",
          "text": [
            "--------------------------------------------- Result 5 ---------------------------------------------\n",
            "[[Positive (95%)]] --> [[Negative (93%)]]\n",
            "\n",
            "emerges as something rare , an issue movie that's so honest and keenly observed that it doesn't [[feel]] [[like]] one .\n",
            "\n",
            "emerges as something rare , an issue movie that's so honest and keenly observed that it doesn't [[attract]] one .\n",
            "\n",
            "\n",
            "\n",
            "\n",
            "=============================================================================================================================\n",
            "=============================================================================================================================\n",
            "\n"
          ]
        },
        {
          "output_type": "stream",
          "name": "stderr",
          "text": [
            "[Succeeded / Failed / Skipped / Total] 6 / 0 / 0 / 6:   6%|▌         | 6/100 [06:05<1:35:22, 60.88s/it]"
          ]
        },
        {
          "output_type": "stream",
          "name": "stdout",
          "text": [
            "--------------------------------------------- Result 6 ---------------------------------------------\n",
            "[[Positive (96%)]] --> [[Negative (81%)]]\n",
            "\n",
            "the film provides some great insight into the neurotic mindset of all comics -- even those who have reached the absolute top of the game .\n",
            "\n",
            "the film provides [[only]] some great insight into the neurotic mindset of all comics -- even those who have reached the absolute top of the game .\n",
            "\n",
            "\n"
          ]
        },
        {
          "output_type": "stream",
          "name": "stderr",
          "text": [
            "[Succeeded / Failed / Skipped / Total] 7 / 0 / 0 / 7:   7%|▋         | 7/100 [06:28<1:26:06, 55.55s/it]"
          ]
        },
        {
          "output_type": "stream",
          "name": "stdout",
          "text": [
            "--------------------------------------------- Result 7 ---------------------------------------------\n",
            "[[Positive (98%)]] --> [[Negative (91%)]]\n",
            "\n",
            "offers that rare combination of entertainment and education .\n",
            "\n",
            "offers that rare combination [[instead]] of entertainment and education .\n",
            "\n",
            "\n"
          ]
        },
        {
          "output_type": "stream",
          "name": "stderr",
          "text": [
            "[Succeeded / Failed / Skipped / Total] 8 / 0 / 1 / 9:   9%|▉         | 9/100 [07:24<1:14:52, 49.37s/it]"
          ]
        },
        {
          "output_type": "stream",
          "name": "stdout",
          "text": [
            "--------------------------------------------- Result 8 ---------------------------------------------\n",
            "[[Positive (61%)]] --> [[Negative (95%)]]\n",
            "\n",
            "perhaps no picture ever made has more literally showed that the road to hell is paved with [[good]] intentions .\n",
            "\n",
            "perhaps no picture ever made has more literally showed that the road to hell is paved with [[questionable]] intentions .\n",
            "\n",
            "\n",
            "--------------------------------------------- Result 9 ---------------------------------------------\n",
            "[[Negative (84%)]] --> [[[SKIPPED]]]\n",
            "\n",
            "steers turns in a snappy screenplay that curls at the edges ; it's so clever you want to hate it . but he somehow pulls it off .\n",
            "\n",
            "\n"
          ]
        },
        {
          "output_type": "stream",
          "name": "stderr",
          "text": [
            "[Succeeded / Failed / Skipped / Total] 9 / 0 / 1 / 10:  10%|█         | 10/100 [08:37<1:17:40, 51.79s/it]textattack: Saving checkpoint under \"checkpoints/1702684142670.ta.chkpt\" at 2023-12-15 23:49:02 after 10 attacks.\n"
          ]
        },
        {
          "output_type": "stream",
          "name": "stdout",
          "text": [
            "--------------------------------------------- Result 10 ---------------------------------------------\n",
            "[[Positive (99%)]] --> [[Negative (86%)]]\n",
            "\n",
            "take care of my cat offers a refreshingly [[different]] slice of asian cinema .\n",
            "\n",
            "take care of my cat offers [[only]] a refreshingly [[dull]] slice of asian cinema .\n",
            "\n",
            "\n",
            "\n",
            "\n",
            "=============================================================================================================================\n",
            "=============================================================================================================================\n",
            "\n"
          ]
        },
        {
          "output_type": "stream",
          "name": "stderr",
          "text": [
            "[Succeeded / Failed / Skipped / Total] 10 / 0 / 1 / 11:  11%|█         | 11/100 [09:14<1:14:46, 50.41s/it]"
          ]
        },
        {
          "output_type": "stream",
          "name": "stdout",
          "text": [
            "--------------------------------------------- Result 11 ---------------------------------------------\n",
            "[[Positive (97%)]] --> [[Negative (96%)]]\n",
            "\n",
            "this is a film well worth seeing , talking and singing heads and all .\n",
            "\n",
            "this is [[NOT]] a film well worth seeing , talking and singing heads and all .\n",
            "\n",
            "\n"
          ]
        },
        {
          "output_type": "stream",
          "name": "stderr",
          "text": [
            "[Succeeded / Failed / Skipped / Total] 11 / 0 / 1 / 12:  12%|█▏        | 12/100 [09:50<1:12:11, 49.23s/it]"
          ]
        },
        {
          "output_type": "stream",
          "name": "stdout",
          "text": [
            "--------------------------------------------- Result 12 ---------------------------------------------\n",
            "[[Positive (99%)]] --> [[Negative (96%)]]\n",
            "\n",
            "what really surprises about wisegirls is its low-key quality and genuine tenderness .\n",
            "\n",
            "what really surprises about wisegirls is its low-key quality and [[lacks]] genuine tenderness .\n",
            "\n",
            "\n"
          ]
        },
        {
          "output_type": "stream",
          "name": "stderr",
          "text": [
            "[Succeeded / Failed / Skipped / Total] 12 / 0 / 1 / 13:  13%|█▎        | 13/100 [10:35<1:10:56, 48.92s/it]"
          ]
        },
        {
          "output_type": "stream",
          "name": "stdout",
          "text": [
            "--------------------------------------------- Result 13 ---------------------------------------------\n",
            "[[Positive (97%)]] --> [[Negative (69%)]]\n",
            "\n",
            "( wendigo is ) why we go to the cinema : to be fed through the eye , the heart , the mind .\n",
            "\n",
            "( wendigo is ) why we go to the cinema : to be fed [[only]] through the eye , the heart , the mind .\n",
            "\n",
            "\n"
          ]
        },
        {
          "output_type": "stream",
          "name": "stderr",
          "text": [
            "[Succeeded / Failed / Skipped / Total] 13 / 0 / 1 / 14:  14%|█▍        | 14/100 [11:01<1:07:41, 47.22s/it]"
          ]
        },
        {
          "output_type": "stream",
          "name": "stdout",
          "text": [
            "--------------------------------------------- Result 14 ---------------------------------------------\n",
            "[[Positive (98%)]] --> [[Negative (97%)]]\n",
            "\n",
            "one of the [[greatest]] family-oriented , fantasy-adventure movies ever .\n",
            "\n",
            "one of the [[worst]] family-oriented , fantasy-adventure movies ever .\n",
            "\n",
            "\n"
          ]
        },
        {
          "output_type": "stream",
          "name": "stderr",
          "text": [
            "[Succeeded / Failed / Skipped / Total] 14 / 0 / 1 / 15:  15%|█▌        | 15/100 [11:32<1:05:22, 46.14s/it]textattack: Saving checkpoint under \"checkpoints/1702684316960.ta.chkpt\" at 2023-12-15 23:51:56 after 15 attacks.\n"
          ]
        },
        {
          "output_type": "stream",
          "name": "stdout",
          "text": [
            "--------------------------------------------- Result 15 ---------------------------------------------\n",
            "[[Positive (90%)]] --> [[Negative (96%)]]\n",
            "\n",
            "ultimately , it ponders the reasons we need stories so much .\n",
            "\n",
            "ultimately , it ponders the [[wrong]] reasons we need stories so much .\n",
            "\n",
            "\n",
            "\n",
            "\n",
            "=============================================================================================================================\n",
            "=============================================================================================================================\n",
            "\n"
          ]
        },
        {
          "output_type": "stream",
          "name": "stderr",
          "text": [
            "[Succeeded / Failed / Skipped / Total] 15 / 0 / 1 / 16:  16%|█▌        | 16/100 [12:32<1:05:53, 47.06s/it]"
          ]
        },
        {
          "output_type": "stream",
          "name": "stdout",
          "text": [
            "--------------------------------------------- Result 16 ---------------------------------------------\n",
            "[[Positive (75%)]] --> [[Negative (97%)]]\n",
            "\n",
            "an utterly [[compelling]] 'who wrote it' in which the reputation of the most famous author who ever lived comes into question .\n",
            "\n",
            "an utterly [[meaningless]] 'who wrote it' in which the reputation of the most famous author who ever lived comes into question .\n",
            "\n",
            "\n"
          ]
        },
        {
          "output_type": "stream",
          "name": "stderr",
          "text": [
            "[Succeeded / Failed / Skipped / Total] 16 / 0 / 1 / 17:  17%|█▋        | 17/100 [12:48<1:02:29, 45.18s/it]"
          ]
        },
        {
          "output_type": "stream",
          "name": "stdout",
          "text": [
            "--------------------------------------------- Result 17 ---------------------------------------------\n",
            "[[Positive (92%)]] --> [[Negative (92%)]]\n",
            "\n",
            "[[illuminating]] if overly talky documentary .\n",
            "\n",
            "[[A]] if overly talky documentary .\n",
            "\n",
            "\n"
          ]
        },
        {
          "output_type": "stream",
          "name": "stderr",
          "text": [
            "[Succeeded / Failed / Skipped / Total] 17 / 0 / 1 / 18:  18%|█▊        | 18/100 [13:06<59:42, 43.69s/it]"
          ]
        },
        {
          "output_type": "stream",
          "name": "stdout",
          "text": [
            "--------------------------------------------- Result 18 ---------------------------------------------\n",
            "[[Positive (94%)]] --> [[Negative (97%)]]\n",
            "\n",
            "a masterpiece four years in the making .\n",
            "\n",
            "a masterpiece four years [[late]] in the making .\n",
            "\n",
            "\n"
          ]
        },
        {
          "output_type": "stream",
          "name": "stderr",
          "text": [
            "[Succeeded / Failed / Skipped / Total] 18 / 0 / 1 / 19:  19%|█▉        | 19/100 [13:50<59:02, 43.73s/it]"
          ]
        },
        {
          "output_type": "stream",
          "name": "stdout",
          "text": [
            "--------------------------------------------- Result 19 ---------------------------------------------\n",
            "[[Positive (98%)]] --> [[Negative (60%)]]\n",
            "\n",
            "the movie's ripe , enrapturing beauty will tempt those willing to probe its inscrutable mysteries .\n",
            "\n",
            "the movie's ripe , enrapturing beauty will tempt [[away]] those willing to probe its inscrutable mysteries .\n",
            "\n",
            "\n"
          ]
        },
        {
          "output_type": "stream",
          "name": "stderr",
          "text": [
            "[Succeeded / Failed / Skipped / Total] 19 / 0 / 1 / 20:  20%|██        | 20/100 [14:19<57:16, 42.95s/it]textattack: Saving checkpoint under \"checkpoints/1702684483871.ta.chkpt\" at 2023-12-15 23:54:43 after 20 attacks.\n"
          ]
        },
        {
          "output_type": "stream",
          "name": "stdout",
          "text": [
            "--------------------------------------------- Result 20 ---------------------------------------------\n",
            "[[Positive (99%)]] --> [[Negative (96%)]]\n",
            "\n",
            "offers a breath of the fresh air of true sophistication .\n",
            "\n",
            "offers a breath [[less]] of the fresh air of true sophistication .\n",
            "\n",
            "\n",
            "\n",
            "\n",
            "=============================================================================================================================\n",
            "=============================================================================================================================\n",
            "\n"
          ]
        },
        {
          "output_type": "stream",
          "name": "stderr",
          "text": [
            "[Succeeded / Failed / Skipped / Total] 20 / 0 / 1 / 21:  21%|██        | 21/100 [14:54<56:06, 42.61s/it]"
          ]
        },
        {
          "output_type": "stream",
          "name": "stdout",
          "text": [
            "--------------------------------------------- Result 21 ---------------------------------------------\n",
            "[[Positive (99%)]] --> [[Negative (93%)]]\n",
            "\n",
            "a thoughtful , provocative , insistently [[humanizing]] film .\n",
            "\n",
            "a thoughtful , provocative , [[otherwise]] insistently [[depressing]] film .\n",
            "\n",
            "\n"
          ]
        },
        {
          "output_type": "stream",
          "name": "stderr",
          "text": [
            "[Succeeded / Failed / Skipped / Total] 21 / 0 / 1 / 22:  22%|██▏       | 22/100 [16:31<58:36, 45.08s/it]"
          ]
        },
        {
          "output_type": "stream",
          "name": "stdout",
          "text": [
            "--------------------------------------------- Result 22 ---------------------------------------------\n",
            "[[Positive (96%)]] --> [[Negative (95%)]]\n",
            "\n",
            "with a cast that includes some of the top actors working in independent film , lovely & amazing involves us because it is so incisive , so bleakly amusing about how we go about our lives .\n",
            "\n",
            "with a cast that includes some of the top actors working in independent film , lovely & amazing involves us because it is so incisive , [[not]] so bleakly amusing about how we go about our lives .\n",
            "\n",
            "\n"
          ]
        },
        {
          "output_type": "stream",
          "name": "stderr",
          "text": [
            "[Succeeded / Failed / Skipped / Total] 22 / 0 / 1 / 23:  23%|██▎       | 23/100 [18:04<1:00:29, 47.14s/it]"
          ]
        },
        {
          "output_type": "stream",
          "name": "stdout",
          "text": [
            "--------------------------------------------- Result 23 ---------------------------------------------\n",
            "[[Positive (99%)]] --> [[Negative (73%)]]\n",
            "\n",
            "a [[disturbing]] and frighteningly [[evocative]] assembly of imagery and hypnotic music composed by philip glass .\n",
            "\n",
            "a [[disgusting]] and frighteningly [[grotesque]] assembly of imagery and hypnotic music composed by philip glass .\n",
            "\n",
            "\n"
          ]
        },
        {
          "output_type": "stream",
          "name": "stderr",
          "text": [
            "[Succeeded / Failed / Skipped / Total] 23 / 0 / 1 / 24:  24%|██▍       | 24/100 [18:52<59:44, 47.17s/it]"
          ]
        },
        {
          "output_type": "stream",
          "name": "stdout",
          "text": [
            "--------------------------------------------- Result 24 ---------------------------------------------\n",
            "[[Positive (98%)]] --> [[Negative (96%)]]\n",
            "\n",
            "not for everyone , but for those with whom it will connect , it's a nice departure from standard moviegoing fare .\n",
            "\n",
            "not for everyone , but for those with whom it will connect , it's [[not]] a nice departure from standard moviegoing fare .\n",
            "\n",
            "\n"
          ]
        },
        {
          "output_type": "stream",
          "name": "stderr",
          "text": [
            "[Succeeded / Failed / Skipped / Total] 24 / 0 / 1 / 25:  25%|██▌       | 25/100 [19:31<58:35, 46.88s/it]textattack: Saving checkpoint under \"checkpoints/1702684796799.ta.chkpt\" at 2023-12-15 23:59:56 after 25 attacks.\n"
          ]
        },
        {
          "output_type": "stream",
          "name": "stdout",
          "text": [
            "--------------------------------------------- Result 25 ---------------------------------------------\n",
            "[[Positive (98%)]] --> [[Negative (87%)]]\n",
            "\n",
            "scores a few points for doing what it does with a dedicated and good-hearted professionalism .\n",
            "\n",
            "scores a few points for doing what it does with [[only]] a dedicated and good-hearted professionalism .\n",
            "\n",
            "\n",
            "\n",
            "\n",
            "=============================================================================================================================\n",
            "=============================================================================================================================\n",
            "\n"
          ]
        },
        {
          "output_type": "stream",
          "name": "stderr",
          "text": [
            "[Succeeded / Failed / Skipped / Total] 25 / 0 / 1 / 26:  26%|██▌       | 26/100 [19:50<56:29, 45.80s/it]"
          ]
        },
        {
          "output_type": "stream",
          "name": "stdout",
          "text": [
            "--------------------------------------------- Result 26 ---------------------------------------------\n",
            "[[Positive (98%)]] --> [[Negative (98%)]]\n",
            "\n",
            "occasionally melodramatic , it's also extremely [[effective]] .\n",
            "\n",
            "occasionally melodramatic , it's also extremely [[boring]] .\n",
            "\n",
            "\n"
          ]
        },
        {
          "output_type": "stream",
          "name": "stderr",
          "text": [
            "[Succeeded / Failed / Skipped / Total] 26 / 0 / 1 / 27:  27%|██▋       | 27/100 [19:56<53:56, 44.33s/it]"
          ]
        },
        {
          "output_type": "stream",
          "name": "stdout",
          "text": [
            "--------------------------------------------- Result 27 ---------------------------------------------\n",
            "[[Positive (84%)]] --> [[Negative (81%)]]\n",
            "\n",
            "[[spiderman]] rocks\n",
            "\n",
            "[[No]] rocks\n",
            "\n",
            "\n"
          ]
        },
        {
          "output_type": "stream",
          "name": "stderr",
          "text": [
            "[Succeeded / Failed / Skipped / Total] 27 / 0 / 1 / 28:  28%|██▊       | 28/100 [20:36<52:59, 44.16s/it]"
          ]
        },
        {
          "output_type": "stream",
          "name": "stdout",
          "text": [
            "--------------------------------------------- Result 28 ---------------------------------------------\n",
            "[[Positive (98%)]] --> [[Negative (88%)]]\n",
            "\n",
            "an idealistic love story that brings out the latent 15-year-old romantic in everyone .\n",
            "\n",
            "an idealistic love story that brings out [[only]] the latent 15-year-old romantic in everyone .\n",
            "\n",
            "\n"
          ]
        },
        {
          "output_type": "stream",
          "name": "stderr",
          "text": [
            "[Succeeded / Failed / Skipped / Total] 28 / 0 / 1 / 29:  29%|██▉       | 29/100 [22:27<55:00, 46.48s/it]"
          ]
        },
        {
          "output_type": "stream",
          "name": "stdout",
          "text": [
            "--------------------------------------------- Result 29 ---------------------------------------------\n",
            "[[Positive (52%)]] --> [[Negative (91%)]]\n",
            "\n",
            "at about 95 minutes , treasure planet maintains a brisk pace as it races through the familiar story . [[however]] , it lacks grandeur and that epic quality often associated with stevenson's tale as well as with earlier disney efforts .\n",
            "\n",
            "at about 95 minutes , treasure planet maintains a brisk pace as it races through the familiar story . [[And]] , it lacks grandeur and that epic quality often associated with stevenson's tale as well as with earlier disney efforts .\n",
            "\n",
            "\n"
          ]
        },
        {
          "output_type": "stream",
          "name": "stderr",
          "text": [
            "[Succeeded / Failed / Skipped / Total] 29 / 0 / 1 / 30:  30%|███       | 30/100 [23:30<54:51, 47.02s/it]textattack: Saving checkpoint under \"checkpoints/1702685035403.ta.chkpt\" at 2023-12-16 00:03:55 after 30 attacks.\n"
          ]
        },
        {
          "output_type": "stream",
          "name": "stdout",
          "text": [
            "--------------------------------------------- Result 30 ---------------------------------------------\n",
            "[[Positive (87%)]] --> [[Negative (94%)]]\n",
            "\n",
            "it [[helps]] that lil bow wow . . . tones down his pint-sized gangsta act to play someone who resembles a real kid .\n",
            "\n",
            "it [[sucks]] that lil bow wow . . . tones down his pint-sized gangsta act to play someone who resembles a real kid .\n",
            "\n",
            "\n",
            "\n",
            "\n",
            "=============================================================================================================================\n",
            "=============================================================================================================================\n",
            "\n"
          ]
        },
        {
          "output_type": "stream",
          "name": "stderr",
          "text": [
            "[Succeeded / Failed / Skipped / Total] 30 / 0 / 1 / 31:  31%|███       | 31/100 [24:05<53:37, 46.63s/it]"
          ]
        },
        {
          "output_type": "stream",
          "name": "stdout",
          "text": [
            "--------------------------------------------- Result 31 ---------------------------------------------\n",
            "[[Positive (90%)]] --> [[Negative (97%)]]\n",
            "\n",
            "guaranteed to move anyone who ever shook , rattled , or rolled .\n",
            "\n",
            "guaranteed [[nothing]] to move anyone who ever shook , rattled , or rolled .\n",
            "\n",
            "\n"
          ]
        },
        {
          "output_type": "stream",
          "name": "stderr",
          "text": [
            "[Succeeded / Failed / Skipped / Total] 31 / 0 / 1 / 32:  32%|███▏      | 32/100 [25:45<54:44, 48.30s/it]"
          ]
        },
        {
          "output_type": "stream",
          "name": "stdout",
          "text": [
            "--------------------------------------------- Result 32 ---------------------------------------------\n",
            "[[Positive (99%)]] --> [[Negative (85%)]]\n",
            "\n",
            "a masterful film from a master filmmaker , unique in its deceptive grimness , [[compelling]] in its fatalist worldview .\n",
            "\n",
            "a masterful film from a master filmmaker , unique [[persuasive]] in its deceptive grimness , [[nor]] in its fatalist worldview .\n",
            "\n",
            "\n"
          ]
        },
        {
          "output_type": "stream",
          "name": "stderr",
          "text": [
            "[Succeeded / Failed / Skipped / Total] 32 / 0 / 1 / 33:  33%|███▎      | 33/100 [25:57<52:41, 47.19s/it]"
          ]
        },
        {
          "output_type": "stream",
          "name": "stdout",
          "text": [
            "--------------------------------------------- Result 33 ---------------------------------------------\n",
            "[[Positive (98%)]] --> [[Negative (97%)]]\n",
            "\n",
            "light , [[cute]] and forgettable .\n",
            "\n",
            "light , [[lazy]] and forgettable .\n",
            "\n",
            "\n"
          ]
        },
        {
          "output_type": "stream",
          "name": "stderr",
          "text": [
            "[Succeeded / Failed / Skipped / Total] 33 / 0 / 1 / 34:  34%|███▍      | 34/100 [27:03<52:30, 47.74s/it]"
          ]
        },
        {
          "output_type": "stream",
          "name": "stdout",
          "text": [
            "--------------------------------------------- Result 34 ---------------------------------------------\n",
            "[[Positive (80%)]] --> [[Negative (91%)]]\n",
            "\n",
            "if there's a way to effectively teach kids about the dangers of drugs , i think it's in projects like the ( unfortunately r-rated ) paid .\n",
            "\n",
            "if there's a way to effectively teach kids about the dangers of drugs , i think it's [[lacking]] in projects like the ( unfortunately r-rated ) paid .\n",
            "\n",
            "\n"
          ]
        },
        {
          "output_type": "stream",
          "name": "stderr",
          "text": [
            "[Succeeded / Failed / Skipped / Total] 34 / 0 / 1 / 35:  35%|███▌      | 35/100 [28:30<52:56, 48.87s/it]textattack: Saving checkpoint under \"checkpoints/1702685335349.ta.chkpt\" at 2023-12-16 00:08:55 after 35 attacks.\n"
          ]
        },
        {
          "output_type": "stream",
          "name": "stdout",
          "text": [
            "--------------------------------------------- Result 35 ---------------------------------------------\n",
            "[[Positive (93%)]] --> [[Negative (95%)]]\n",
            "\n",
            "while it would be easy to give crush the new title of two weddings and a funeral , it's a far more thoughtful film than any slice of hugh grant whimsy .\n",
            "\n",
            "while it would be easy to give crush the new title of two weddings and a funeral , it's a far [[no]] more thoughtful film than any slice of hugh grant whimsy .\n",
            "\n",
            "\n",
            "\n",
            "\n",
            "=============================================================================================================================\n",
            "=============================================================================================================================\n",
            "\n"
          ]
        },
        {
          "output_type": "stream",
          "name": "stderr",
          "text": [
            "\r[Succeeded / Failed / Skipped / Total] 34 / 0 / 2 / 36:  36%|███▌      | 36/100 [28:30<50:41, 47.52s/it]"
          ]
        },
        {
          "output_type": "stream",
          "name": "stdout",
          "text": [
            "--------------------------------------------- Result 36 ---------------------------------------------\n",
            "[[Negative (95%)]] --> [[[SKIPPED]]]\n",
            "\n",
            "though everything might be literate and smart , it never took off and always seemed static .\n",
            "\n",
            "\n"
          ]
        },
        {
          "output_type": "stream",
          "name": "stderr",
          "text": [
            "[Succeeded / Failed / Skipped / Total] 35 / 0 / 2 / 37:  37%|███▋      | 37/100 [30:16<51:32, 49.08s/it]"
          ]
        },
        {
          "output_type": "stream",
          "name": "stdout",
          "text": [
            "--------------------------------------------- Result 37 ---------------------------------------------\n",
            "[[Positive (97%)]] --> [[Negative (95%)]]\n",
            "\n",
            "cantet perfectly [[captures]] the hotel lobbies , two-lane highways , and roadside cafes that permeate [[vincent's]] days\n",
            "\n",
            "cantet perfectly [[with]] the hotel lobbies , two-lane highways , and roadside cafes that permeate [[spa]] days\n",
            "\n",
            "\n"
          ]
        },
        {
          "output_type": "stream",
          "name": "stderr",
          "text": [
            "[Succeeded / Failed / Skipped / Total] 36 / 0 / 2 / 38:  38%|███▊      | 38/100 [30:51<50:20, 48.72s/it]"
          ]
        },
        {
          "output_type": "stream",
          "name": "stdout",
          "text": [
            "--------------------------------------------- Result 38 ---------------------------------------------\n",
            "[[Positive (87%)]] --> [[Negative (91%)]]\n",
            "\n",
            "ms . fulford-wierzbicki is almost [[spooky]] in her sulky , calculating lolita turn .\n",
            "\n",
            "ms . fulford-wierzbicki is almost [[useless]] in her sulky , calculating lolita turn .\n",
            "\n",
            "\n"
          ]
        },
        {
          "output_type": "stream",
          "name": "stderr",
          "text": [
            "[Succeeded / Failed / Skipped / Total] 37 / 0 / 3 / 40:  40%|████      | 40/100 [34:22<51:34, 51.57s/it]textattack: Saving checkpoint under \"checkpoints/1702685687587.ta.chkpt\" at 2023-12-16 00:14:47 after 40 attacks.\n"
          ]
        },
        {
          "output_type": "stream",
          "name": "stdout",
          "text": [
            "--------------------------------------------- Result 39 ---------------------------------------------\n",
            "[[Positive (99%)]] --> [[Negative (81%)]]\n",
            "\n",
            "though it is by no means his best work , laissez-passer is a distinguished and distinctive effort by a bona-fide master , a fascinating film replete with rewards to be had by [[all]] [[willing]] to make the effort to reap them .\n",
            "\n",
            "though it is by no means his best work , laissez-passer is [[hardly]] a distinguished and distinctive effort by a bona-fide master , a fascinating film replete with rewards to be had by [[failing]] to make the effort to reap them .\n",
            "\n",
            "\n",
            "--------------------------------------------- Result 40 ---------------------------------------------\n",
            "[[Negative (88%)]] --> [[[SKIPPED]]]\n",
            "\n",
            "like most bond outings in recent years , some of the stunts are so outlandish that they border on being cartoonlike . a heavy reliance on cgi technology is beginning to creep into the series .\n",
            "\n",
            "\n",
            "\n",
            "\n",
            "=============================================================================================================================\n",
            "=============================================================================================================================\n",
            "\n"
          ]
        },
        {
          "output_type": "stream",
          "name": "stderr",
          "text": [
            "[Succeeded / Failed / Skipped / Total] 38 / 0 / 3 / 41:  41%|████      | 41/100 [35:17<50:47, 51.65s/it]"
          ]
        },
        {
          "output_type": "stream",
          "name": "stdout",
          "text": [
            "--------------------------------------------- Result 41 ---------------------------------------------\n",
            "[[Positive (93%)]] --> [[Negative (60%)]]\n",
            "\n",
            "newton draws our attention like a magnet , and acts [[circles]] around her better known co-star , mark wahlberg .\n",
            "\n",
            "newton draws our attention like a magnet , and acts [[awkwardly]] around her better known co-star , mark wahlberg .\n",
            "\n",
            "\n"
          ]
        },
        {
          "output_type": "stream",
          "name": "stderr",
          "text": [
            "[Succeeded / Failed / Skipped / Total] 39 / 0 / 3 / 42:  42%|████▏     | 42/100 [36:48<50:49, 52.57s/it]"
          ]
        },
        {
          "output_type": "stream",
          "name": "stdout",
          "text": [
            "--------------------------------------------- Result 42 ---------------------------------------------\n",
            "[[Positive (92%)]] --> [[Negative (93%)]]\n",
            "\n",
            "the story loses its bite in a last-minute happy ending that's even less plausible than the rest of the picture . much of the way , though , this is a refreshingly [[novel]] ride .\n",
            "\n",
            "the story loses its bite in a last-minute happy ending that's even less plausible than the rest of the picture . much of the way , though , this is a refreshingly [[dull]] ride .\n",
            "\n",
            "\n"
          ]
        },
        {
          "output_type": "stream",
          "name": "stderr",
          "text": [
            "[Succeeded / Failed / Skipped / Total] 40 / 0 / 3 / 43:  43%|████▎     | 43/100 [37:36<49:50, 52.47s/it]"
          ]
        },
        {
          "output_type": "stream",
          "name": "stdout",
          "text": [
            "--------------------------------------------- Result 43 ---------------------------------------------\n",
            "[[Positive (98%)]] --> [[Negative (86%)]]\n",
            "\n",
            "fuller would surely have called this gutsy and at times exhilarating movie a [[great]] yarn .\n",
            "\n",
            "fuller would surely have called this gutsy and at times exhilarating movie a [[tired]] yarn .\n",
            "\n",
            "\n"
          ]
        },
        {
          "output_type": "stream",
          "name": "stderr",
          "text": [
            "[Succeeded / Failed / Skipped / Total] 41 / 0 / 3 / 44:  44%|████▍     | 44/100 [39:56<50:50, 54.47s/it]"
          ]
        },
        {
          "output_type": "stream",
          "name": "stdout",
          "text": [
            "--------------------------------------------- Result 44 ---------------------------------------------\n",
            "[[Positive (84%)]] --> [[Negative (59%)]]\n",
            "\n",
            "'compleja e intelectualmente retadora , el ladrón de orquídeas es uno de esos filmes que vale la [[pena]] ver precisamente por su originalidad . '\n",
            "\n",
            "'compleja e intelectualmente retadora , el ladrón de orquídeas es uno de esos filmes que vale la [[favor]] ver precisamente [[y]] por su originalidad . '\n",
            "\n",
            "\n"
          ]
        },
        {
          "output_type": "stream",
          "name": "stderr",
          "text": [
            "[Succeeded / Failed / Skipped / Total] 42 / 0 / 3 / 45:  45%|████▌     | 45/100 [40:44<49:48, 54.33s/it]textattack: Saving checkpoint under \"checkpoints/1702686069589.ta.chkpt\" at 2023-12-16 00:21:09 after 45 attacks.\n"
          ]
        },
        {
          "output_type": "stream",
          "name": "stdout",
          "text": [
            "--------------------------------------------- Result 45 ---------------------------------------------\n",
            "[[Positive (99%)]] --> [[Negative (80%)]]\n",
            "\n",
            "the film makes a strong case for the importance of the musicians in creating the motown sound .\n",
            "\n",
            "the film makes a strong case for [[diminishing]] the importance of the musicians in creating the motown sound .\n",
            "\n",
            "\n",
            "\n",
            "\n",
            "=============================================================================================================================\n",
            "=============================================================================================================================\n",
            "\n"
          ]
        },
        {
          "output_type": "stream",
          "name": "stderr",
          "text": [
            "\r[Succeeded / Failed / Skipped / Total] 42 / 0 / 4 / 46:  46%|████▌     | 46/100 [40:44<47:50, 53.15s/it]"
          ]
        },
        {
          "output_type": "stream",
          "name": "stdout",
          "text": [
            "--------------------------------------------- Result 46 ---------------------------------------------\n",
            "[[Negative (71%)]] --> [[[SKIPPED]]]\n",
            "\n",
            "karmen moves like rhythm itself , her lips chanting to the beat , her long , braided hair doing little to wipe away the jeweled beads of sweat .\n",
            "\n",
            "\n"
          ]
        },
        {
          "output_type": "stream",
          "name": "stderr",
          "text": [
            "[Succeeded / Failed / Skipped / Total] 43 / 0 / 4 / 47:  47%|████▋     | 47/100 [41:53<47:14, 53.47s/it]"
          ]
        },
        {
          "output_type": "stream",
          "name": "stdout",
          "text": [
            "--------------------------------------------- Result 47 ---------------------------------------------\n",
            "[[Positive (97%)]] --> [[Negative (87%)]]\n",
            "\n",
            "gosling provides an [[amazing]] performance that dwarfs everything else in the film .\n",
            "\n",
            "gosling provides an [[absurd]] performance that dwarfs everything else in [[ruining]] the film .\n",
            "\n",
            "\n"
          ]
        },
        {
          "output_type": "stream",
          "name": "stderr",
          "text": [
            "[Succeeded / Failed / Skipped / Total] 44 / 0 / 4 / 48:  48%|████▊     | 48/100 [42:45<46:19, 53.45s/it]"
          ]
        },
        {
          "output_type": "stream",
          "name": "stdout",
          "text": [
            "--------------------------------------------- Result 48 ---------------------------------------------\n",
            "[[Positive (99%)]] --> [[Negative (86%)]]\n",
            "\n",
            "a real movie , about real people , that gives us a rare glimpse into a culture most of us don't know .\n",
            "\n",
            "a real movie , about real people , that gives [[only]] us a rare glimpse into a culture most of us don't know .\n",
            "\n",
            "\n"
          ]
        },
        {
          "output_type": "stream",
          "name": "stderr",
          "text": [
            "[Succeeded / Failed / Skipped / Total] 45 / 0 / 4 / 49:  49%|████▉     | 49/100 [43:07<44:53, 52.81s/it]"
          ]
        },
        {
          "output_type": "stream",
          "name": "stdout",
          "text": [
            "--------------------------------------------- Result 49 ---------------------------------------------\n",
            "[[Positive (99%)]] --> [[Negative (89%)]]\n",
            "\n",
            "tender yet lacerating and darkly funny fable .\n",
            "\n",
            "tender yet lacerating and darkly [[depressing]] funny fable .\n",
            "\n",
            "\n"
          ]
        },
        {
          "output_type": "stream",
          "name": "stderr",
          "text": [
            "[Succeeded / Failed / Skipped / Total] 46 / 0 / 4 / 50:  50%|█████     | 50/100 [44:34<44:34, 53.50s/it]textattack: Saving checkpoint under \"checkpoints/1702686299627.ta.chkpt\" at 2023-12-16 00:24:59 after 50 attacks.\n"
          ]
        },
        {
          "output_type": "stream",
          "name": "stdout",
          "text": [
            "--------------------------------------------- Result 50 ---------------------------------------------\n",
            "[[Positive (95%)]] --> [[Negative (59%)]]\n",
            "\n",
            "may be spoofing an easy target -- those old '50's giant creature features -- but . . . it acknowledges and celebrates their cheesiness as the reason why people get a kick out of watching them today .\n",
            "\n",
            "may be spoofing an easy target -- those old '50's giant creature features -- but . . . it acknowledges and celebrates their cheesiness [[only]] as the reason why people get a kick out of watching them today .\n",
            "\n",
            "\n",
            "\n",
            "\n",
            "=============================================================================================================================\n",
            "=============================================================================================================================\n",
            "\n"
          ]
        },
        {
          "output_type": "stream",
          "name": "stderr",
          "text": [
            "[Succeeded / Failed / Skipped / Total] 47 / 0 / 4 / 51:  51%|█████     | 51/100 [44:55<43:09, 52.86s/it]"
          ]
        },
        {
          "output_type": "stream",
          "name": "stdout",
          "text": [
            "--------------------------------------------- Result 51 ---------------------------------------------\n",
            "[[Positive (99%)]] --> [[Negative (92%)]]\n",
            "\n",
            "an [[engaging]] overview of johnson's eccentric career .\n",
            "\n",
            "an [[incomplete]] overview of johnson's eccentric career .\n",
            "\n",
            "\n"
          ]
        },
        {
          "output_type": "stream",
          "name": "stderr",
          "text": [
            "[Succeeded / Failed / Skipped / Total] 48 / 0 / 4 / 52:  52%|█████▏    | 52/100 [45:25<41:55, 52.41s/it]"
          ]
        },
        {
          "output_type": "stream",
          "name": "stdout",
          "text": [
            "--------------------------------------------- Result 52 ---------------------------------------------\n",
            "[[Positive (95%)]] --> [[Negative (98%)]]\n",
            "\n",
            "in its ragged , cheap and unassuming way , the movie works .\n",
            "\n",
            "in its ragged , cheap and unassuming way , the movie [[hardly]] works .\n",
            "\n",
            "\n"
          ]
        },
        {
          "output_type": "stream",
          "name": "stderr",
          "text": [
            "[Succeeded / Failed / Skipped / Total] 49 / 0 / 4 / 53:  53%|█████▎    | 53/100 [46:47<41:29, 52.97s/it]"
          ]
        },
        {
          "output_type": "stream",
          "name": "stdout",
          "text": [
            "--------------------------------------------- Result 53 ---------------------------------------------\n",
            "[[Positive (96%)]] --> [[Negative (96%)]]\n",
            "\n",
            "some actors have so much charisma that you'd be happy to listen to them reading the phone book . hugh grant and sandra bullock are [[two]] such likeable actors .\n",
            "\n",
            "some actors have so much charisma that you'd be happy to listen to them reading the phone book . hugh grant and sandra bullock are [[never]] such likeable actors .\n",
            "\n",
            "\n"
          ]
        },
        {
          "output_type": "stream",
          "name": "stderr",
          "text": [
            "[Succeeded / Failed / Skipped / Total] 50 / 0 / 4 / 54:  54%|█████▍    | 54/100 [48:44<41:31, 54.16s/it]"
          ]
        },
        {
          "output_type": "stream",
          "name": "stdout",
          "text": [
            "--------------------------------------------- Result 54 ---------------------------------------------\n",
            "[[Positive (99%)]] --> [[Negative (95%)]]\n",
            "\n",
            "sandra nettelbeck [[beautifully]] [[orchestrates]] the transformation of the chilly , neurotic , and self-absorbed martha as her heart begins to open .\n",
            "\n",
            "sandra nettelbeck [[inadvertently]] [[prevents]] the transformation of the chilly , neurotic , and self-absorbed martha as her heart begins to open .\n",
            "\n",
            "\n"
          ]
        },
        {
          "output_type": "stream",
          "name": "stderr",
          "text": [
            "[Succeeded / Failed / Skipped / Total] 51 / 0 / 4 / 55:  55%|█████▌    | 55/100 [49:48<40:45, 54.34s/it]textattack: Saving checkpoint under \"checkpoints/1702686613682.ta.chkpt\" at 2023-12-16 00:30:13 after 55 attacks.\n"
          ]
        },
        {
          "output_type": "stream",
          "name": "stdout",
          "text": [
            "--------------------------------------------- Result 55 ---------------------------------------------\n",
            "[[Positive (97%)]] --> [[Negative (95%)]]\n",
            "\n",
            "behind the snow games and lovable siberian huskies ( plus one sheep dog ) , the picture hosts a parka-wrapped dose of heart .\n",
            "\n",
            "behind the snow games and lovable siberian huskies ( plus one sheep dog ) , the picture hosts a parka-wrapped dose [[devoid]] of heart .\n",
            "\n",
            "\n",
            "\n",
            "\n",
            "=============================================================================================================================\n",
            "=============================================================================================================================\n",
            "\n"
          ]
        },
        {
          "output_type": "stream",
          "name": "stderr",
          "text": [
            "[Succeeded / Failed / Skipped / Total] 52 / 0 / 4 / 56:  56%|█████▌    | 56/100 [50:42<39:50, 54.33s/it]"
          ]
        },
        {
          "output_type": "stream",
          "name": "stdout",
          "text": [
            "--------------------------------------------- Result 56 ---------------------------------------------\n",
            "[[Positive (97%)]] --> [[Negative (97%)]]\n",
            "\n",
            "everytime you think undercover brother has run out of steam , it finds a new way to surprise and amuse .\n",
            "\n",
            "everytime you think undercover brother has run out of steam , it [[never]] finds a new way to surprise and amuse .\n",
            "\n",
            "\n"
          ]
        },
        {
          "output_type": "stream",
          "name": "stderr",
          "text": [
            "[Succeeded / Failed / Skipped / Total] 53 / 0 / 4 / 57:  57%|█████▋    | 57/100 [51:16<38:40, 53.97s/it]"
          ]
        },
        {
          "output_type": "stream",
          "name": "stdout",
          "text": [
            "--------------------------------------------- Result 57 ---------------------------------------------\n",
            "[[Positive (81%)]] --> [[Negative (97%)]]\n",
            "\n",
            "manages to be original , even though it rips off many of its ideas .\n",
            "\n",
            "manages to be original , even [[worse]] though it rips off many of its ideas .\n",
            "\n",
            "\n"
          ]
        },
        {
          "output_type": "stream",
          "name": "stderr",
          "text": [
            "[Succeeded / Failed / Skipped / Total] 54 / 0 / 4 / 58:  58%|█████▊    | 58/100 [53:00<38:22, 54.83s/it]"
          ]
        },
        {
          "output_type": "stream",
          "name": "stdout",
          "text": [
            "--------------------------------------------- Result 58 ---------------------------------------------\n",
            "[[Positive (97%)]] --> [[Negative (97%)]]\n",
            "\n",
            "singer/composer bryan adams contributes a slew of songs  a few potential hits , a few more simply intrusive to the story  but the whole package certainly captures the intended , er , spirit of the piece .\n",
            "\n",
            "singer/composer bryan adams contributes a slew of songs  a few potential hits , a few more simply intrusive to the story  but the whole package [[never]] certainly captures the intended , er , spirit of the piece .\n",
            "\n",
            "\n"
          ]
        },
        {
          "output_type": "stream",
          "name": "stderr",
          "text": [
            "[Succeeded / Failed / Skipped / Total] 55 / 0 / 4 / 59:  59%|█████▉    | 59/100 [54:13<37:40, 55.14s/it]"
          ]
        },
        {
          "output_type": "stream",
          "name": "stdout",
          "text": [
            "--------------------------------------------- Result 59 ---------------------------------------------\n",
            "[[Positive (98%)]] --> [[Negative (94%)]]\n",
            "\n",
            "you'd think by now america would have had enough of plucky british eccentrics with hearts of gold . yet the act is still [[charming]] here .\n",
            "\n",
            "you'd think by now america would have had enough of plucky british eccentrics with hearts of gold . yet the act is still [[dead]] here .\n",
            "\n",
            "\n"
          ]
        },
        {
          "output_type": "stream",
          "name": "stderr",
          "text": [
            "[Succeeded / Failed / Skipped / Total] 56 / 0 / 4 / 60:  60%|██████    | 60/100 [56:10<37:27, 56.18s/it]textattack: Saving checkpoint under \"checkpoints/1702686995311.ta.chkpt\" at 2023-12-16 00:36:35 after 60 attacks.\n"
          ]
        },
        {
          "output_type": "stream",
          "name": "stdout",
          "text": [
            "--------------------------------------------- Result 60 ---------------------------------------------\n",
            "[[Positive (99%)]] --> [[Negative (84%)]]\n",
            "\n",
            "whether or not you're enlightened by any of derrida's lectures on \" the other \" and \" the self , \" derrida is an [[undeniably]] fascinating and playful fellow .\n",
            "\n",
            "whether or not you're enlightened by any of derrida's lectures on \" the other \" and \" the self , \" derrida is [[ruining]] an [[otherwise]] fascinating and playful fellow .\n",
            "\n",
            "\n",
            "\n",
            "\n",
            "=============================================================================================================================\n",
            "=============================================================================================================================\n",
            "\n"
          ]
        },
        {
          "output_type": "stream",
          "name": "stderr",
          "text": [
            "[Succeeded / Failed / Skipped / Total] 57 / 0 / 4 / 61:  61%|██████    | 61/100 [56:46<36:17, 55.84s/it]"
          ]
        },
        {
          "output_type": "stream",
          "name": "stdout",
          "text": [
            "--------------------------------------------- Result 61 ---------------------------------------------\n",
            "[[Positive (97%)]] --> [[Negative (94%)]]\n",
            "\n",
            "a pleasant enough movie , held together by skilled ensemble actors .\n",
            "\n",
            "a pleasant [[boring]] enough movie , held together by skilled ensemble actors .\n",
            "\n",
            "\n"
          ]
        },
        {
          "output_type": "stream",
          "name": "stderr",
          "text": [
            "[Succeeded / Failed / Skipped / Total] 58 / 0 / 4 / 62:  62%|██████▏   | 62/100 [57:22<35:09, 55.52s/it]"
          ]
        },
        {
          "output_type": "stream",
          "name": "stdout",
          "text": [
            "--------------------------------------------- Result 62 ---------------------------------------------\n",
            "[[Positive (96%)]] --> [[Negative (97%)]]\n",
            "\n",
            "this is the [[best]] american movie about troubled teens since 1998's whatever .\n",
            "\n",
            "this is the [[worst]] american movie about troubled teens since 1998's whatever .\n",
            "\n",
            "\n"
          ]
        },
        {
          "output_type": "stream",
          "name": "stderr",
          "text": [
            "[Succeeded / Failed / Skipped / Total] 59 / 0 / 4 / 63:  63%|██████▎   | 63/100 [58:23<34:17, 55.60s/it]"
          ]
        },
        {
          "output_type": "stream",
          "name": "stdout",
          "text": [
            "--------------------------------------------- Result 63 ---------------------------------------------\n",
            "[[Positive (93%)]] --> [[Negative (94%)]]\n",
            "\n",
            "disney has always been hit-or-miss when bringing beloved kids' books to the screen . . . tuck everlasting is a little of both .\n",
            "\n",
            "disney has always been hit-or-miss when bringing beloved kids' books to the screen . . . tuck everlasting is a little of [[boring]] both .\n",
            "\n",
            "\n"
          ]
        },
        {
          "output_type": "stream",
          "name": "stderr",
          "text": [
            "[Succeeded / Failed / Skipped / Total] 60 / 0 / 4 / 64:  64%|██████▍   | 64/100 [59:21<33:23, 55.65s/it]"
          ]
        },
        {
          "output_type": "stream",
          "name": "stdout",
          "text": [
            "--------------------------------------------- Result 64 ---------------------------------------------\n",
            "[[Positive (93%)]] --> [[Negative (97%)]]\n",
            "\n",
            "just the labour involved in creating the layered richness of the imagery in this chiaroscuro of madness and light is [[astonishing]] .\n",
            "\n",
            "just the labour involved in creating the layered richness of the imagery in this chiaroscuro of madness and light is [[unreal]] .\n",
            "\n",
            "\n"
          ]
        },
        {
          "output_type": "stream",
          "name": "stderr",
          "text": [
            "[Succeeded / Failed / Skipped / Total] 61 / 0 / 4 / 65:  65%|██████▌   | 65/100 [1:00:13<32:25, 55.60s/it]textattack: Saving checkpoint under \"checkpoints/1702687238479.ta.chkpt\" at 2023-12-16 00:40:38 after 65 attacks.\n"
          ]
        },
        {
          "output_type": "stream",
          "name": "stdout",
          "text": [
            "--------------------------------------------- Result 65 ---------------------------------------------\n",
            "[[Positive (99%)]] --> [[Negative (80%)]]\n",
            "\n",
            "the animated subplot keenly depicts the inner struggles of our adolescent heroes - insecure , uncontrolled , and intense .\n",
            "\n",
            "the animated subplot keenly depicts the inner struggles of our adolescent heroes - insecure , uncontrolled , and [[overly]] intense .\n",
            "\n",
            "\n",
            "\n",
            "\n",
            "=============================================================================================================================\n",
            "=============================================================================================================================\n",
            "\n"
          ]
        },
        {
          "output_type": "stream",
          "name": "stderr",
          "text": [
            "[Succeeded / Failed / Skipped / Total] 62 / 0 / 4 / 66:  66%|██████▌   | 66/100 [1:00:46<31:18, 55.25s/it]"
          ]
        },
        {
          "output_type": "stream",
          "name": "stdout",
          "text": [
            "--------------------------------------------- Result 66 ---------------------------------------------\n",
            "[[Positive (96%)]] --> [[Negative (91%)]]\n",
            "\n",
            "the invincible werner herzog is alive and well and living in la\n",
            "\n",
            "the invincible werner herzog is alive and well and living in [[vain]] la\n",
            "\n",
            "\n"
          ]
        },
        {
          "output_type": "stream",
          "name": "stderr",
          "text": [
            "[Succeeded / Failed / Skipped / Total] 63 / 0 / 4 / 67:  67%|██████▋   | 67/100 [1:01:59<30:31, 55.51s/it]"
          ]
        },
        {
          "output_type": "stream",
          "name": "stdout",
          "text": [
            "--------------------------------------------- Result 67 ---------------------------------------------\n",
            "[[Positive (72%)]] --> [[Negative (83%)]]\n",
            "\n",
            "morton is a great actress portraying a complex character , but morvern callar grows less compelling the farther it meanders from its [[shocking]] start .\n",
            "\n",
            "morton is a great actress portraying a complex character , but morvern callar grows less compelling the farther it meanders from its [[mediocre]] start .\n",
            "\n",
            "\n"
          ]
        },
        {
          "output_type": "stream",
          "name": "stderr",
          "text": [
            "[Succeeded / Failed / Skipped / Total] 64 / 0 / 4 / 68:  68%|██████▊   | 68/100 [1:03:29<29:52, 56.01s/it]"
          ]
        },
        {
          "output_type": "stream",
          "name": "stdout",
          "text": [
            "--------------------------------------------- Result 68 ---------------------------------------------\n",
            "[[Positive (99%)]] --> [[Negative (90%)]]\n",
            "\n",
            "part of the charm of satin rouge is that it avoids the obvious with humour and lightness .\n",
            "\n",
            "part of the charm of satin rouge is [[only]] that it avoids the obvious with humour and [[unintentional]] lightness .\n",
            "\n",
            "\n"
          ]
        },
        {
          "output_type": "stream",
          "name": "stderr",
          "text": [
            "[Succeeded / Failed / Skipped / Total] 65 / 0 / 4 / 69:  69%|██████▉   | 69/100 [1:04:31<28:59, 56.10s/it]"
          ]
        },
        {
          "output_type": "stream",
          "name": "stdout",
          "text": [
            "--------------------------------------------- Result 69 ---------------------------------------------\n",
            "[[Positive (94%)]] --> [[Negative (96%)]]\n",
            "\n",
            "son of the bride may be a good half-hour too long but comes replete with a flattering sense of mystery and quietness .\n",
            "\n",
            "son of the bride may be a good half-hour too long but comes replete with [[only]] a flattering sense of mystery and quietness .\n",
            "\n",
            "\n"
          ]
        },
        {
          "output_type": "stream",
          "name": "stderr",
          "text": [
            "[Succeeded / Failed / Skipped / Total] 66 / 0 / 4 / 70:  70%|███████   | 70/100 [1:05:37<28:07, 56.25s/it]textattack: Saving checkpoint under \"checkpoints/1702687562444.ta.chkpt\" at 2023-12-16 00:46:02 after 70 attacks.\n"
          ]
        },
        {
          "output_type": "stream",
          "name": "stdout",
          "text": [
            "--------------------------------------------- Result 70 ---------------------------------------------\n",
            "[[Positive (98%)]] --> [[Negative (93%)]]\n",
            "\n",
            "a simmering psychological drama in which the bursts of sudden violence are all the more [[startling]] for the slow buildup that has preceded them .\n",
            "\n",
            "a simmering psychological drama in which the bursts of sudden violence are all the more [[embarrassing]] for the slow buildup that has preceded them .\n",
            "\n",
            "\n",
            "\n",
            "\n",
            "=============================================================================================================================\n",
            "=============================================================================================================================\n",
            "\n"
          ]
        },
        {
          "output_type": "stream",
          "name": "stderr",
          "text": [
            "[Succeeded / Failed / Skipped / Total] 67 / 0 / 4 / 71:  71%|███████   | 71/100 [1:06:04<26:59, 55.84s/it]"
          ]
        },
        {
          "output_type": "stream",
          "name": "stdout",
          "text": [
            "--------------------------------------------- Result 71 ---------------------------------------------\n",
            "[[Positive (98%)]] --> [[Negative (96%)]]\n",
            "\n",
            "a [[taut]] , intelligent psychological drama .\n",
            "\n",
            "a [[fictitious]] , [[artificially]] intelligent psychological drama .\n",
            "\n",
            "\n"
          ]
        },
        {
          "output_type": "stream",
          "name": "stderr",
          "text": [
            "[Succeeded / Failed / Skipped / Total] 68 / 0 / 4 / 72:  72%|███████▏  | 72/100 [1:12:26<28:10, 60.37s/it]"
          ]
        },
        {
          "output_type": "stream",
          "name": "stdout",
          "text": [
            "--------------------------------------------- Result 72 ---------------------------------------------\n",
            "[[Positive (99%)]] --> [[Negative (76%)]]\n",
            "\n",
            "a [[compelling]] coming-of-age drama about the arduous journey of a sensitive young girl through a series of foster homes and a [[fierce]] struggle to pull free from her dangerous and domineering mother's hold over her .\n",
            "\n",
            "a [[dystopian]] coming-of-age drama [[ostensibly]] about the arduous journey of a sensitive young girl through a series of foster homes and a [[futile]] struggle to pull free from her dangerous and domineering [[homophobic]] mother's hold over her .\n",
            "\n",
            "\n"
          ]
        },
        {
          "output_type": "stream",
          "name": "stderr",
          "text": [
            "[Succeeded / Failed / Skipped / Total] 69 / 0 / 4 / 73:  73%|███████▎  | 73/100 [1:15:32<27:56, 62.09s/it]"
          ]
        },
        {
          "output_type": "stream",
          "name": "stdout",
          "text": [
            "--------------------------------------------- Result 73 ---------------------------------------------\n",
            "[[Positive (99%)]] --> [[Negative (66%)]]\n",
            "\n",
            "a [[truly]] [[moving]] experience , and a perfect example of how art -- when done right -- can help heal , clarify , and comfort .\n",
            "\n",
            "a [[more]] [[fluid]] experience , and a perfect example of how [[wearable]] art -- when done right -- can [[only]] help heal , clarify , and comfort .\n",
            "\n",
            "\n"
          ]
        },
        {
          "output_type": "stream",
          "name": "stderr",
          "text": [
            "[Succeeded / Failed / Skipped / Total] 70 / 0 / 4 / 74:  74%|███████▍  | 74/100 [1:16:22<26:50, 61.93s/it]"
          ]
        },
        {
          "output_type": "stream",
          "name": "stdout",
          "text": [
            "--------------------------------------------- Result 74 ---------------------------------------------\n",
            "[[Positive (99%)]] --> [[Negative (93%)]]\n",
            "\n",
            "this delicately observed story , deeply felt and masterfully stylized , is a triumph for its maverick director .\n",
            "\n",
            "this delicately observed story , deeply felt and masterfully stylized , is [[hardly]] a triumph for its maverick director .\n",
            "\n",
            "\n"
          ]
        },
        {
          "output_type": "stream",
          "name": "stderr",
          "text": [
            "[Succeeded / Failed / Skipped / Total] 71 / 0 / 4 / 75:  75%|███████▌  | 75/100 [1:17:21<25:47, 61.88s/it]textattack: Saving checkpoint under \"checkpoints/1702688265837.ta.chkpt\" at 2023-12-16 00:57:45 after 75 attacks.\n"
          ]
        },
        {
          "output_type": "stream",
          "name": "stdout",
          "text": [
            "--------------------------------------------- Result 75 ---------------------------------------------\n",
            "[[Positive (71%)]] --> [[Negative (94%)]]\n",
            "\n",
            "at heart the movie is a [[deftly]] wrought suspense yarn whose richer shadings work as coloring rather than substance .\n",
            "\n",
            "at heart the movie is a [[poorly]] wrought suspense yarn whose richer shadings work as coloring rather than substance .\n",
            "\n",
            "\n",
            "\n",
            "\n",
            "=============================================================================================================================\n",
            "=============================================================================================================================\n",
            "\n"
          ]
        },
        {
          "output_type": "stream",
          "name": "stderr",
          "text": [
            "[Succeeded / Failed / Skipped / Total] 72 / 0 / 4 / 76:  76%|███████▌  | 76/100 [1:19:54<25:13, 63.08s/it]"
          ]
        },
        {
          "output_type": "stream",
          "name": "stdout",
          "text": [
            "--------------------------------------------- Result 76 ---------------------------------------------\n",
            "[[Positive (99%)]] --> [[Negative (91%)]]\n",
            "\n",
            "the appearance of treebeard and gollum's expanded role will either have you loving what you're seeing , or rolling your eyes . i loved it ! gollum's 'performance' is [[incredible]] !\n",
            "\n",
            "the appearance of treebeard and gollum's expanded role will either have you loving what you're seeing , or rolling your eyes . i [[never]] loved it ! gollum's 'performance' is [[unreal]] !\n",
            "\n",
            "\n"
          ]
        },
        {
          "output_type": "stream",
          "name": "stderr",
          "text": [
            "[Succeeded / Failed / Skipped / Total] 73 / 0 / 4 / 77:  77%|███████▋  | 77/100 [1:20:15<23:58, 62.53s/it]"
          ]
        },
        {
          "output_type": "stream",
          "name": "stdout",
          "text": [
            "--------------------------------------------- Result 77 ---------------------------------------------\n",
            "[[Positive (72%)]] --> [[Negative (93%)]]\n",
            "\n",
            "a screenplay more ingeniously constructed than \" memento \"\n",
            "\n",
            "a screenplay more ingeniously [[poorly]] constructed than \" memento \"\n",
            "\n",
            "\n"
          ]
        },
        {
          "output_type": "stream",
          "name": "stderr",
          "text": [
            "[Succeeded / Failed / Skipped / Total] 74 / 0 / 4 / 78:  78%|███████▊  | 78/100 [1:20:59<22:50, 62.31s/it]"
          ]
        },
        {
          "output_type": "stream",
          "name": "stdout",
          "text": [
            "--------------------------------------------- Result 78 ---------------------------------------------\n",
            "[[Positive (92%)]] --> [[Negative (80%)]]\n",
            "\n",
            "if this movie were a book , it would be a page-turner , you [[can't]] wait to see what happens next .\n",
            "\n",
            "if this movie were a book , it would be a page-turner , you [[just]] wait to see what happens next .\n",
            "\n",
            "\n"
          ]
        },
        {
          "output_type": "stream",
          "name": "stderr",
          "text": [
            "[Succeeded / Failed / Skipped / Total] 75 / 0 / 4 / 79:  79%|███████▉  | 79/100 [1:21:32<21:40, 61.93s/it]"
          ]
        },
        {
          "output_type": "stream",
          "name": "stdout",
          "text": [
            "--------------------------------------------- Result 79 ---------------------------------------------\n",
            "[[Positive (98%)]] --> [[Negative (60%)]]\n",
            "\n",
            "haneke challenges us to confront the reality of sexual aberration .\n",
            "\n",
            "haneke challenges us to confront [[only]] the reality of sexual aberration .\n",
            "\n",
            "\n"
          ]
        },
        {
          "output_type": "stream",
          "name": "stderr",
          "text": [
            "[Succeeded / Failed / Skipped / Total] 76 / 0 / 4 / 80:  80%|████████  | 80/100 [1:22:28<20:37, 61.85s/it]textattack: Saving checkpoint under \"checkpoints/1702688572911.ta.chkpt\" at 2023-12-16 01:02:52 after 80 attacks.\n"
          ]
        },
        {
          "output_type": "stream",
          "name": "stdout",
          "text": [
            "--------------------------------------------- Result 80 ---------------------------------------------\n",
            "[[Positive (85%)]] --> [[Negative (93%)]]\n",
            "\n",
            "[[absorbing]] and disturbing -- perhaps more disturbing than originally intended -- but a little clarity would have gone a long way .\n",
            "\n",
            "[[graphic]] and disturbing -- perhaps more disturbing than originally intended -- but a little clarity would have gone a long way .\n",
            "\n",
            "\n",
            "\n",
            "\n",
            "=============================================================================================================================\n",
            "=============================================================================================================================\n",
            "\n"
          ]
        },
        {
          "output_type": "stream",
          "name": "stderr",
          "text": [
            "[Succeeded / Failed / Skipped / Total] 77 / 0 / 4 / 81:  81%|████████  | 81/100 [1:23:19<19:32, 61.72s/it]"
          ]
        },
        {
          "output_type": "stream",
          "name": "stdout",
          "text": [
            "--------------------------------------------- Result 81 ---------------------------------------------\n",
            "[[Positive (91%)]] --> [[Negative (96%)]]\n",
            "\n",
            "it's the [[best]] film of the year so far , the benchmark against which all other best picture contenders should be measured .\n",
            "\n",
            "it's the [[worst]] film of the year so far , the benchmark against which all other best picture contenders should be measured .\n",
            "\n",
            "\n"
          ]
        },
        {
          "output_type": "stream",
          "name": "stderr",
          "text": [
            "[Succeeded / Failed / Skipped / Total] 78 / 0 / 4 / 82:  82%|████████▏ | 82/100 [1:25:27<18:45, 62.53s/it]"
          ]
        },
        {
          "output_type": "stream",
          "name": "stdout",
          "text": [
            "--------------------------------------------- Result 82 ---------------------------------------------\n",
            "[[Positive (99%)]] --> [[Negative (93%)]]\n",
            "\n",
            "painful to watch , but viewers willing to take a chance will be rewarded with two of the year's most accomplished and riveting film performances .\n",
            "\n",
            "painful to watch , but viewers [[initially]] willing to take a chance will be rewarded with [[only]] two of the year's most accomplished and riveting film performances .\n",
            "\n",
            "\n"
          ]
        },
        {
          "output_type": "stream",
          "name": "stderr",
          "text": [
            "[Succeeded / Failed / Skipped / Total] 79 / 0 / 5 / 84:  84%|████████▍ | 84/100 [1:27:32<16:40, 62.53s/it]"
          ]
        },
        {
          "output_type": "stream",
          "name": "stdout",
          "text": [
            "--------------------------------------------- Result 83 ---------------------------------------------\n",
            "[[Positive (99%)]] --> [[Negative (97%)]]\n",
            "\n",
            "this is a [[startling]] film that gives you a fascinating , albeit depressing view of iranian rural life close to the iraqi border .\n",
            "\n",
            "this is a [[mediocre]] film that [[only]] gives you a fascinating , albeit depressing view of iranian rural life close to the iraqi border .\n",
            "\n",
            "\n",
            "--------------------------------------------- Result 84 ---------------------------------------------\n",
            "[[Negative (52%)]] --> [[[SKIPPED]]]\n",
            "\n",
            "an imaginative comedy/thriller .\n",
            "\n",
            "\n"
          ]
        },
        {
          "output_type": "stream",
          "name": "stderr",
          "text": [
            "[Succeeded / Failed / Skipped / Total] 80 / 0 / 5 / 85:  85%|████████▌ | 85/100 [1:28:17<15:34, 62.32s/it]textattack: Saving checkpoint under \"checkpoints/1702688921835.ta.chkpt\" at 2023-12-16 01:08:41 after 85 attacks.\n"
          ]
        },
        {
          "output_type": "stream",
          "name": "stdout",
          "text": [
            "--------------------------------------------- Result 85 ---------------------------------------------\n",
            "[[Positive (70%)]] --> [[Negative (97%)]]\n",
            "\n",
            "a few artsy flourishes aside , narc is as [[gritty]] as a movie gets these days .\n",
            "\n",
            "a few artsy flourishes aside , narc is as [[lame]] as a movie gets these days .\n",
            "\n",
            "\n",
            "\n",
            "\n",
            "=============================================================================================================================\n",
            "=============================================================================================================================\n",
            "\n"
          ]
        },
        {
          "output_type": "stream",
          "name": "stderr",
          "text": [
            "[Succeeded / Failed / Skipped / Total] 81 / 0 / 5 / 86:  86%|████████▌ | 86/100 [1:29:04<14:29, 62.14s/it]"
          ]
        },
        {
          "output_type": "stream",
          "name": "stdout",
          "text": [
            "--------------------------------------------- Result 86 ---------------------------------------------\n",
            "[[Positive (98%)]] --> [[Negative (85%)]]\n",
            "\n",
            "while the isle is both preposterous and thoroughly misogynistic , its vistas are incredibly [[beautiful]] to look at .\n",
            "\n",
            "while the isle is both preposterous and thoroughly misogynistic , its vistas are incredibly [[depressing]] to look at .\n",
            "\n",
            "\n"
          ]
        },
        {
          "output_type": "stream",
          "name": "stderr",
          "text": [
            "[Succeeded / Failed / Skipped / Total] 82 / 0 / 5 / 87:  87%|████████▋ | 87/100 [1:31:51<13:43, 63.35s/it]"
          ]
        },
        {
          "output_type": "stream",
          "name": "stdout",
          "text": [
            "--------------------------------------------- Result 87 ---------------------------------------------\n",
            "[[Positive (99%)]] --> [[Negative (68%)]]\n",
            "\n",
            "together , tok and o orchestrate a buoyant , darkly funny dance of death . in the [[process]] , they demonstrate that there's still a lot of life in hong kong cinema .\n",
            "\n",
            "together , tok and o orchestrate a buoyant , darkly funny dance of death . in the [[meanwhile]] , they demonstrate that there's [[not]] still a lot of life in hong kong cinema .\n",
            "\n",
            "\n"
          ]
        },
        {
          "output_type": "stream",
          "name": "stderr",
          "text": [
            "[Succeeded / Failed / Skipped / Total] 83 / 0 / 5 / 88:  88%|████████▊ | 88/100 [1:33:11<12:42, 63.54s/it]"
          ]
        },
        {
          "output_type": "stream",
          "name": "stdout",
          "text": [
            "--------------------------------------------- Result 88 ---------------------------------------------\n",
            "[[Positive (86%)]] --> [[Negative (97%)]]\n",
            "\n",
            "director kapur is a filmmaker with a real flair for epic landscapes and adventure , and this is a [[better]] film than his earlier english-language movie , the overpraised elizabeth .\n",
            "\n",
            "director kapur is a filmmaker with a real flair for epic landscapes and adventure , and this is a [[worse]] film than his earlier english-language movie , the overpraised elizabeth .\n",
            "\n",
            "\n"
          ]
        },
        {
          "output_type": "stream",
          "name": "stderr",
          "text": [
            "[Succeeded / Failed / Skipped / Total] 84 / 0 / 5 / 89:  89%|████████▉ | 89/100 [1:35:11<11:45, 64.18s/it]"
          ]
        },
        {
          "output_type": "stream",
          "name": "stdout",
          "text": [
            "--------------------------------------------- Result 89 ---------------------------------------------\n",
            "[[Positive (99%)]] --> [[Negative (54%)]]\n",
            "\n",
            "the movie is a blast of educational energy , as bouncy animation and catchy songs escort you through the entire 85 minutes .\n",
            "\n",
            "the movie [[though]] is a blast of educational energy , [[much]] as bouncy animation and catchy songs escort you through the entire 85 minutes .\n",
            "\n",
            "\n"
          ]
        },
        {
          "output_type": "stream",
          "name": "stderr",
          "text": [
            "[Succeeded / Failed / Skipped / Total] 85 / 0 / 5 / 90:  90%|█████████ | 90/100 [1:36:00<10:40, 64.01s/it]textattack: Saving checkpoint under \"checkpoints/1702689385778.ta.chkpt\" at 2023-12-16 01:16:25 after 90 attacks.\n"
          ]
        },
        {
          "output_type": "stream",
          "name": "stdout",
          "text": [
            "--------------------------------------------- Result 90 ---------------------------------------------\n",
            "[[Positive (98%)]] --> [[Negative (88%)]]\n",
            "\n",
            "a sports movie with action that's exciting on the field and a story you care about off it .\n",
            "\n",
            "a sports movie with action that's exciting on the field and a story you care about [[running]] off it .\n",
            "\n",
            "\n",
            "\n",
            "\n",
            "=============================================================================================================================\n",
            "=============================================================================================================================\n",
            "\n"
          ]
        },
        {
          "output_type": "stream",
          "name": "stderr",
          "text": [
            "[Succeeded / Failed / Skipped / Total] 86 / 0 / 5 / 91:  91%|█████████ | 91/100 [1:39:27<09:50, 65.58s/it]"
          ]
        },
        {
          "output_type": "stream",
          "name": "stdout",
          "text": [
            "--------------------------------------------- Result 91 ---------------------------------------------\n",
            "[[Positive (99%)]] --> [[Negative (80%)]]\n",
            "\n",
            "doug liman , the director of bourne , directs the traffic well , gets a nice wintry look from his locations , absorbs us with the movie's spycraft and uses damon's ability to be focused and sincere .\n",
            "\n",
            "doug liman , the director of bourne , directs the traffic well , gets a nice wintry look from his locations , absorbs us with [[only]] the movie's spycraft and uses damon's ability to be [[overly]] focused and sincere .\n",
            "\n",
            "\n"
          ]
        },
        {
          "output_type": "stream",
          "name": "stderr",
          "text": [
            "[Succeeded / Failed / Skipped / Total] 87 / 0 / 5 / 92:  92%|█████████▏| 92/100 [1:39:49<08:40, 65.11s/it]"
          ]
        },
        {
          "output_type": "stream",
          "name": "stdout",
          "text": [
            "--------------------------------------------- Result 92 ---------------------------------------------\n",
            "[[Positive (97%)]] --> [[Negative (97%)]]\n",
            "\n",
            "the tenderness of the piece is [[still]] intact .\n",
            "\n",
            "the tenderness of the piece is [[barely]] intact .\n",
            "\n",
            "\n"
          ]
        },
        {
          "output_type": "stream",
          "name": "stderr",
          "text": [
            "[Succeeded / Failed / Skipped / Total] 88 / 0 / 5 / 93:  93%|█████████▎| 93/100 [1:43:14<07:46, 66.60s/it]"
          ]
        },
        {
          "output_type": "stream",
          "name": "stdout",
          "text": [
            "--------------------------------------------- Result 93 ---------------------------------------------\n",
            "[[Positive (98%)]] --> [[Negative (73%)]]\n",
            "\n",
            "katz uses archival footage , horrifying documents of lynchings , still photographs and charming old reel-to-reel recordings of meeropol entertaining his children to create his song history , but most [[powerful]] of all is the song itself\n",
            "\n",
            "katz uses archival footage , horrifying documents of lynchings , still photographs and charming old reel-to-reel recordings of meeropol entertaining his children to create his song history , but most [[troubling]] of all is the song [[parody]] itself\n",
            "\n",
            "\n"
          ]
        },
        {
          "output_type": "stream",
          "name": "stderr",
          "text": [
            "[Succeeded / Failed / Skipped / Total] 89 / 0 / 5 / 94:  94%|█████████▍| 94/100 [1:44:02<06:38, 66.41s/it]"
          ]
        },
        {
          "output_type": "stream",
          "name": "stdout",
          "text": [
            "--------------------------------------------- Result 94 ---------------------------------------------\n",
            "[[Positive (97%)]] --> [[Negative (97%)]]\n",
            "\n",
            "like the film's almost anthropologically detailed realization of early-'80s suburbia , it's significant without being [[overstated]] .\n",
            "\n",
            "like the film's almost anthropologically detailed realization of early-'80s suburbia , it's significant without being [[significant]] .\n",
            "\n",
            "\n"
          ]
        },
        {
          "output_type": "stream",
          "name": "stderr",
          "text": [
            "[Succeeded / Failed / Skipped / Total] 90 / 0 / 5 / 95:  95%|█████████▌| 95/100 [1:45:20<05:32, 66.53s/it]textattack: Saving checkpoint under \"checkpoints/1702689945236.ta.chkpt\" at 2023-12-16 01:25:45 after 95 attacks.\n"
          ]
        },
        {
          "output_type": "stream",
          "name": "stdout",
          "text": [
            "--------------------------------------------- Result 95 ---------------------------------------------\n",
            "[[Positive (77%)]] --> [[Negative (76%)]]\n",
            "\n",
            "while mcfarlane's animation lifts the film firmly above the level of other coming-of-age films . . . it's also so jarring that it's hard to get back into the boys' story .\n",
            "\n",
            "while mcfarlane's animation lifts the film firmly above the level of other coming-of-age films . . . it's also so [[relentlessly]] jarring that it's hard to get back into the boys' story .\n",
            "\n",
            "\n",
            "\n",
            "\n",
            "=============================================================================================================================\n",
            "=============================================================================================================================\n",
            "\n"
          ]
        },
        {
          "output_type": "stream",
          "name": "stderr",
          "text": [
            "[Succeeded / Failed / Skipped / Total] 91 / 0 / 5 / 96:  96%|█████████▌| 96/100 [1:45:59<04:24, 66.24s/it]"
          ]
        },
        {
          "output_type": "stream",
          "name": "stdout",
          "text": [
            "--------------------------------------------- Result 96 ---------------------------------------------\n",
            "[[Positive (96%)]] --> [[Negative (59%)]]\n",
            "\n",
            "if nothing else , this movie introduces a promising , unusual kind of psychological horror .\n",
            "\n",
            "if nothing else , this movie introduces [[only]] a promising , unusual kind of psychological horror .\n",
            "\n",
            "\n"
          ]
        },
        {
          "output_type": "stream",
          "name": "stderr",
          "text": [
            "[Succeeded / Failed / Skipped / Total] 92 / 0 / 5 / 97:  97%|█████████▋| 97/100 [1:47:51<03:20, 66.72s/it]"
          ]
        },
        {
          "output_type": "stream",
          "name": "stdout",
          "text": [
            "--------------------------------------------- Result 97 ---------------------------------------------\n",
            "[[Positive (91%)]] --> [[Negative (84%)]]\n",
            "\n",
            "in a normal screen process , these bromides would be barely enough to sustain an interstitial program on the discovery channel . but in imax 3-d , the clichés disappear into the vertiginous perspectives opened up by the photography .\n",
            "\n",
            "in a normal screen process , these bromides would be barely enough to sustain an interstitial program on the discovery channel . but in imax 3-d , the clichés [[barely]] disappear into the vertiginous perspectives opened up by the photography .\n",
            "\n",
            "\n"
          ]
        },
        {
          "output_type": "stream",
          "name": "stderr",
          "text": [
            "[Succeeded / Failed / Skipped / Total] 93 / 0 / 5 / 98:  98%|█████████▊| 98/100 [1:48:58<02:13, 66.72s/it]"
          ]
        },
        {
          "output_type": "stream",
          "name": "stdout",
          "text": [
            "--------------------------------------------- Result 98 ---------------------------------------------\n",
            "[[Positive (92%)]] --> [[Negative (75%)]]\n",
            "\n",
            "writer-director burger imaginatively fans the embers of a dormant national grief and curiosity that has calcified into chronic cynicism and fear .\n",
            "\n",
            "writer-director burger imaginatively fans [[addle]] the embers of a dormant national grief and curiosity that has calcified into chronic cynicism and fear .\n",
            "\n",
            "\n"
          ]
        },
        {
          "output_type": "stream",
          "name": "stderr",
          "text": [
            "[Succeeded / Failed / Skipped / Total] 94 / 0 / 6 / 100: 100%|██████████| 100/100 [1:49:14<00:00, 65.55s/it]textattack: Saving checkpoint under \"checkpoints/1702690179494.ta.chkpt\" at 2023-12-16 01:29:39 after 100 attacks.\n"
          ]
        },
        {
          "output_type": "stream",
          "name": "stdout",
          "text": [
            "--------------------------------------------- Result 99 ---------------------------------------------\n",
            "[[Positive (94%)]] --> [[Negative (71%)]]\n",
            "\n",
            ". . . a roller-coaster ride of a movie\n",
            "\n",
            ". . . a roller-coaster ride of a [[bad]] movie\n",
            "\n",
            "\n",
            "--------------------------------------------- Result 100 ---------------------------------------------\n",
            "[[Negative (92%)]] --> [[[SKIPPED]]]\n",
            "\n",
            "i enjoyed time of favor while i was watching it , but i was surprised at how quickly it faded from my memory .\n",
            "\n",
            "\n",
            "\n",
            "\n",
            "=============================================================================================================================\n",
            "=============================================================================================================================\n",
            "\n"
          ]
        },
        {
          "output_type": "stream",
          "name": "stderr",
          "text": [
            "\r[Succeeded / Failed / Skipped / Total] 94 / 0 / 6 / 100: 100%|██████████| 100/100 [1:49:14<00:00, 65.55s/it]"
          ]
        },
        {
          "output_type": "stream",
          "name": "stdout",
          "text": [
            "\n",
            "+-------------------------------+---------+\n",
            "| Attack Results                |         |\n",
            "+-------------------------------+---------+\n",
            "| Number of successful attacks: | 94      |\n",
            "| Number of failed attacks:     | 0       |\n",
            "| Number of skipped attacks:    | 6       |\n",
            "| Original accuracy:            | 94.0%   |\n",
            "| Accuracy under attack:        | 0.0%    |\n",
            "| Attack success rate:          | 100.0%  |\n",
            "| Average perturbed word %:     | 30.98%  |\n",
            "| Average num. words per input: | 18.4    |\n",
            "| Avg num queries:              | 1695.05 |\n",
            "+-------------------------------+---------+"
          ]
        },
        {
          "output_type": "stream",
          "name": "stderr",
          "text": [
            "\n"
          ]
        },
        {
          "output_type": "stream",
          "name": "stdout",
          "text": [
            "\n"
          ]
        },
        {
          "output_type": "stream",
          "name": "stderr",
          "text": [
            "Token indices sequence length is longer than the specified maximum sequence length for this model (2171 > 1024). Running this sequence through the model will result in indexing errors\n"
          ]
        }
      ]
    },
    {
      "cell_type": "code",
      "source": [
        "print(trainedPPL)"
      ],
      "metadata": {
        "id": "HzkzcFN9wn9r",
        "colab": {
          "base_uri": "https://localhost:8080/"
        },
        "outputId": "d3263d94-ac6f-45d1-aee1-713cc8265d4b"
      },
      "execution_count": null,
      "outputs": [
        {
          "output_type": "stream",
          "name": "stdout",
          "text": [
            "{'avg_original_perplexity': 71.4, 'avg_attack_perplexity': 88.35}\n"
          ]
        }
      ]
    },
    {
      "cell_type": "code",
      "source": [
        "print(usemTrained)"
      ],
      "metadata": {
        "id": "hpDyVUsRUBpi",
        "colab": {
          "base_uri": "https://localhost:8080/"
        },
        "outputId": "51ba820a-7c93-42ed-edcc-c0add31cf941"
      },
      "execution_count": null,
      "outputs": [
        {
          "output_type": "stream",
          "name": "stdout",
          "text": [
            "{'avg_attack_use_score': 0.9}\n"
          ]
        }
      ]
    }
  ]
}